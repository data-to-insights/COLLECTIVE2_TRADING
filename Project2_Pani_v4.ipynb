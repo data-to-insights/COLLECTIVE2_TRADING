{
  "nbformat": 4,
  "nbformat_minor": 0,
  "metadata": {
    "colab": {
      "name": "Project2-Pani-v4.ipynb",
      "provenance": [],
      "collapsed_sections": [],
      "authorship_tag": "ABX9TyMwuK/R7dyoS10yCDcbd2nA",
      "include_colab_link": true
    },
    "kernelspec": {
      "name": "python3",
      "display_name": "Python 3"
    }
  },
  "cells": [
    {
      "cell_type": "markdown",
      "metadata": {
        "id": "view-in-github",
        "colab_type": "text"
      },
      "source": [
        "<a href=\"https://colab.research.google.com/github/data-to-insights/COLLECTIVE2_TRADING/blob/master/Project2_Pani_v4.ipynb\" target=\"_parent\"><img src=\"https://colab.research.google.com/assets/colab-badge.svg\" alt=\"Open In Colab\"/></a>"
      ]
    },
    {
      "cell_type": "markdown",
      "metadata": {
        "id": "xSHSAic1bxgN",
        "colab_type": "text"
      },
      "source": [
        "[PORTFOLIO OPTIMIZATION](https://drive.google.com/file/d/1uwvayQteaFW_wd-2GjyAtFC_tGy8UkAd/view?usp=sharing)"
      ]
    },
    {
      "cell_type": "code",
      "metadata": {
        "id": "gQKGNo-5IWSB",
        "colab_type": "code",
        "colab": {}
      },
      "source": [
        "!pip install simfin"
      ],
      "execution_count": null,
      "outputs": []
    },
    {
      "cell_type": "code",
      "metadata": {
        "id": "AiNc7B6yMkDu",
        "colab_type": "code",
        "colab": {}
      },
      "source": [
        "!set -ex\n",
        "!pip uninstall -y cupy-cuda100\n",
        "!pip install cupy-cuda100 --no-cache-dir"
      ],
      "execution_count": null,
      "outputs": []
    },
    {
      "cell_type": "code",
      "metadata": {
        "id": "cfTvNe_zML2h",
        "colab_type": "code",
        "colab": {}
      },
      "source": [
        "!pip install scipy"
      ],
      "execution_count": null,
      "outputs": []
    },
    {
      "cell_type": "code",
      "metadata": {
        "id": "jsbw15bu69ia",
        "colab_type": "code",
        "colab": {}
      },
      "source": [
        "! pip install pandas_datareader"
      ],
      "execution_count": null,
      "outputs": []
    },
    {
      "cell_type": "code",
      "metadata": {
        "id": "-xnukcw84Tto",
        "colab_type": "code",
        "colab": {
          "base_uri": "https://localhost:8080/",
          "height": 72
        },
        "outputId": "d3dd1dc9-c1c5-4741-864c-4b179d2bd9e3"
      },
      "source": [
        "# General Imports\n",
        "import pandas as pd\n",
        "import numpy as np\n",
        "import os\n",
        "import datetime as dt\n",
        "import random\n",
        "import time\n",
        "import pandas_datareader.data as web\n",
        "\n",
        "# Import the main functionality from the SimFin Python API.\n",
        "import simfin as sf\n",
        "from simfin.names import *\n",
        "\n",
        "# Import scipy libraries\n",
        "import scipy.optimize as optimize\n",
        "import scipy.interpolate as sci\n",
        "\n",
        "# Import Path\n",
        "from pathlib import Path\n",
        "\n",
        "# Imports for matplot Visualizations\n",
        "%matplotlib inline\n",
        "import matplotlib.pyplot as plt\n",
        "from matplotlib import pylab\n",
        "\n",
        "# Imports for plotly visualizations\n",
        "from plotly.subplots import make_subplots\n",
        "import plotly.graph_objects as go\n",
        "import plotly.express as px\n",
        "\n",
        "# Imports for google colab visualizations\n",
        "from google.colab import widgets\n",
        "from google.colab import output\n",
        "from matplotlib import pylab\n",
        "from six.moves import zip\n",
        "from __future__ import print_function\n"
      ],
      "execution_count": 5,
      "outputs": [
        {
          "output_type": "stream",
          "text": [
            "/usr/local/lib/python3.6/dist-packages/pandas_datareader/compat/__init__.py:7: FutureWarning: pandas.util.testing is deprecated. Use the functions in the public API at pandas.testing instead.\n",
            "  from pandas.util.testing import assert_frame_equal\n"
          ],
          "name": "stderr"
        }
      ]
    },
    {
      "cell_type": "code",
      "metadata": {
        "id": "CaOlTdl26Xro",
        "colab_type": "code",
        "colab": {}
      },
      "source": [
        "%load_ext google.colab.data_table"
      ],
      "execution_count": 6,
      "outputs": []
    },
    {
      "cell_type": "code",
      "metadata": {
        "id": "PpJ4SWamJBbZ",
        "colab_type": "code",
        "colab": {}
      },
      "source": [
        "sf.set_data_dir('~/simfin_data/')"
      ],
      "execution_count": 7,
      "outputs": []
    },
    {
      "cell_type": "code",
      "metadata": {
        "id": "uPfW-2ii31WS",
        "colab_type": "code",
        "colab": {
          "base_uri": "https://localhost:8080/",
          "height": 143
        },
        "outputId": "5bda7458-4ec9-4732-f4cb-15da59ef3429"
      },
      "source": [
        "from google.colab import drive\n",
        "drive.mount('/gdrive')\n",
        "%cd /gdrive"
      ],
      "execution_count": 8,
      "outputs": [
        {
          "output_type": "stream",
          "text": [
            "Go to this URL in a browser: https://accounts.google.com/o/oauth2/auth?client_id=947318989803-6bn6qk8qdgf4n4g3pfee6491hc0brc4i.apps.googleusercontent.com&redirect_uri=urn%3aietf%3awg%3aoauth%3a2.0%3aoob&response_type=code&scope=email%20https%3a%2f%2fwww.googleapis.com%2fauth%2fdocs.test%20https%3a%2f%2fwww.googleapis.com%2fauth%2fdrive%20https%3a%2f%2fwww.googleapis.com%2fauth%2fdrive.photos.readonly%20https%3a%2f%2fwww.googleapis.com%2fauth%2fpeopleapi.readonly\n",
            "\n",
            "Enter your authorization code:\n",
            "··········\n",
            "Mounted at /gdrive\n",
            "/gdrive\n"
          ],
          "name": "stdout"
        }
      ]
    },
    {
      "cell_type": "code",
      "metadata": {
        "id": "KnnhS50O4Iw4",
        "colab_type": "code",
        "colab": {}
      },
      "source": [
        "# Use the Pathlib libary to set the path to the CSV\n",
        "csvpath = Path(\"My Drive/Colab Notebooks/PROJECT 2/Data Sets/SNP500-Symbols.csv\")"
      ],
      "execution_count": 9,
      "outputs": []
    },
    {
      "cell_type": "code",
      "metadata": {
        "id": "dOaGnr464AYF",
        "colab_type": "code",
        "colab": {}
      },
      "source": [
        "# Data frame for S&P500 Symbols\n",
        "sp = pd.read_csv(csvpath)"
      ],
      "execution_count": 10,
      "outputs": []
    },
    {
      "cell_type": "code",
      "metadata": {
        "id": "mL6WniQh-Ykn",
        "colab_type": "code",
        "colab": {}
      },
      "source": [
        "sp.drop(['Unnamed: 0'], axis= 1, inplace=True)"
      ],
      "execution_count": 11,
      "outputs": []
    },
    {
      "cell_type": "code",
      "metadata": {
        "id": "-pnloQkw-L5W",
        "colab_type": "code",
        "colab": {
          "base_uri": "https://localhost:8080/",
          "height": 197
        },
        "outputId": "124f793b-ed0d-4d14-e63e-e6d7192cb199"
      },
      "source": [
        "sp.head()"
      ],
      "execution_count": 12,
      "outputs": [
        {
          "output_type": "execute_result",
          "data": {
            "application/vnd.google.colaboratory.module+javascript": "\n      import \"https://ssl.gstatic.com/colaboratory/data_table/a6224c040fa35dcf/data_table.js\";\n\n      window.createDataTable({\n        data: [[{\n            'v': 0,\n            'f': \"0\",\n        },\n\"MMM\"],\n [{\n            'v': 1,\n            'f': \"1\",\n        },\n\"ABT\"],\n [{\n            'v': 2,\n            'f': \"2\",\n        },\n\"ABBV\"],\n [{\n            'v': 3,\n            'f': \"3\",\n        },\n\"ABMD\"],\n [{\n            'v': 4,\n            'f': \"4\",\n        },\n\"ACN\"]],\n        columns: [[\"number\", \"index\"], [\"string\", \"Symbol\"]],\n        columnOptions: [{\"width\": \"1px\", \"className\": \"index_column\"}],\n        rowsPerPage: 25,\n        helpUrl: \"https://colab.research.google.com/notebooks/data_table.ipynb\",\n        suppressOutputScrolling: true,\n        minimumWidth: undefined,\n      });\n    ",
            "text/html": [
              "<div>\n",
              "<style scoped>\n",
              "    .dataframe tbody tr th:only-of-type {\n",
              "        vertical-align: middle;\n",
              "    }\n",
              "\n",
              "    .dataframe tbody tr th {\n",
              "        vertical-align: top;\n",
              "    }\n",
              "\n",
              "    .dataframe thead th {\n",
              "        text-align: right;\n",
              "    }\n",
              "</style>\n",
              "<table border=\"1\" class=\"dataframe\">\n",
              "  <thead>\n",
              "    <tr style=\"text-align: right;\">\n",
              "      <th></th>\n",
              "      <th>Symbol</th>\n",
              "    </tr>\n",
              "  </thead>\n",
              "  <tbody>\n",
              "    <tr>\n",
              "      <th>0</th>\n",
              "      <td>MMM</td>\n",
              "    </tr>\n",
              "    <tr>\n",
              "      <th>1</th>\n",
              "      <td>ABT</td>\n",
              "    </tr>\n",
              "    <tr>\n",
              "      <th>2</th>\n",
              "      <td>ABBV</td>\n",
              "    </tr>\n",
              "    <tr>\n",
              "      <th>3</th>\n",
              "      <td>ABMD</td>\n",
              "    </tr>\n",
              "    <tr>\n",
              "      <th>4</th>\n",
              "      <td>ACN</td>\n",
              "    </tr>\n",
              "  </tbody>\n",
              "</table>\n",
              "</div>"
            ],
            "text/plain": [
              "  Symbol\n",
              "0    MMM\n",
              "1    ABT\n",
              "2   ABBV\n",
              "3   ABMD\n",
              "4    ACN"
            ]
          },
          "metadata": {
            "tags": []
          },
          "execution_count": 12
        }
      ]
    },
    {
      "cell_type": "code",
      "metadata": {
        "id": "CdEkhhukG_hk",
        "colab_type": "code",
        "colab": {}
      },
      "source": [
        "sp_list = sp['Symbol'].values.tolist()"
      ],
      "execution_count": 13,
      "outputs": []
    },
    {
      "cell_type": "code",
      "metadata": {
        "id": "92NR1S2PIq2p",
        "colab_type": "code",
        "colab": {
          "base_uri": "https://localhost:8080/",
          "height": 123
        },
        "outputId": "e6ac7488-669b-4198-8587-170615a14836"
      },
      "source": [
        "%%time\n",
        "df_prices = sf.load_shareprices(variant='daily', market='us')"
      ],
      "execution_count": 14,
      "outputs": [
        {
          "output_type": "stream",
          "text": [
            "Dataset \"us-shareprices-daily\" not on disk.\n",
            "- Downloading ... 100.0%\n",
            "- Extracting zip-file ... Done!\n",
            "- Loading from disk ... Done!\n",
            "CPU times: user 23.6 s, sys: 3.48 s, total: 27.1 s\n",
            "Wall time: 33.3 s\n"
          ],
          "name": "stdout"
        }
      ]
    },
    {
      "cell_type": "code",
      "metadata": {
        "id": "ERLOuUK9JOcH",
        "colab_type": "code",
        "colab": {
          "base_uri": "https://localhost:8080/",
          "height": 197
        },
        "outputId": "a2c0836b-8aab-4c83-82dc-196f31833767"
      },
      "source": [
        "# all the s&p500 stock daily values\n",
        "df_snp500shares = df_prices\n",
        "df_snp500shares.reset_index(inplace=True)\n",
        "df_snp500shares.head()"
      ],
      "execution_count": 15,
      "outputs": [
        {
          "output_type": "execute_result",
          "data": {
            "application/vnd.google.colaboratory.module+javascript": "\n      import \"https://ssl.gstatic.com/colaboratory/data_table/a6224c040fa35dcf/data_table.js\";\n\n      window.createDataTable({\n        data: [[{\n            'v': 0,\n            'f': \"0\",\n        },\n\"A\",\n\"2007-01-03 00:00:00\",\n{\n            'v': 45846,\n            'f': \"45846\",\n        },\n{\n            'v': 34.99,\n            'f': \"34.99\",\n        },\n{\n            'v': 34.05,\n            'f': \"34.05\",\n        },\n{\n            'v': 35.48,\n            'f': \"35.48\",\n        },\n{\n            'v': 34.3,\n            'f': \"34.3\",\n        },\n{\n            'v': 22.8,\n            'f': \"22.8\",\n        },\n{\n            'v': NaN,\n            'f': \"NaN\",\n        },\n{\n            'v': 2574600,\n            'f': \"2574600\",\n        },\n{\n            'v': NaN,\n            'f': \"NaN\",\n        }],\n [{\n            'v': 1,\n            'f': \"1\",\n        },\n\"A\",\n\"2007-01-04 00:00:00\",\n{\n            'v': 45846,\n            'f': \"45846\",\n        },\n{\n            'v': 34.3,\n            'f': \"34.3\",\n        },\n{\n            'v': 33.46,\n            'f': \"33.46\",\n        },\n{\n            'v': 34.6,\n            'f': \"34.6\",\n        },\n{\n            'v': 34.41,\n            'f': \"34.41\",\n        },\n{\n            'v': 22.87,\n            'f': \"22.87\",\n        },\n{\n            'v': NaN,\n            'f': \"NaN\",\n        },\n{\n            'v': 2073700,\n            'f': \"2073700\",\n        },\n{\n            'v': NaN,\n            'f': \"NaN\",\n        }],\n [{\n            'v': 2,\n            'f': \"2\",\n        },\n\"A\",\n\"2007-01-05 00:00:00\",\n{\n            'v': 45846,\n            'f': \"45846\",\n        },\n{\n            'v': 34.3,\n            'f': \"34.3\",\n        },\n{\n            'v': 34.0,\n            'f': \"34.0\",\n        },\n{\n            'v': 34.4,\n            'f': \"34.4\",\n        },\n{\n            'v': 34.09,\n            'f': \"34.09\",\n        },\n{\n            'v': 22.66,\n            'f': \"22.66\",\n        },\n{\n            'v': NaN,\n            'f': \"NaN\",\n        },\n{\n            'v': 2676600,\n            'f': \"2676600\",\n        },\n{\n            'v': NaN,\n            'f': \"NaN\",\n        }],\n [{\n            'v': 3,\n            'f': \"3\",\n        },\n\"A\",\n\"2007-01-08 00:00:00\",\n{\n            'v': 45846,\n            'f': \"45846\",\n        },\n{\n            'v': 33.98,\n            'f': \"33.98\",\n        },\n{\n            'v': 33.68,\n            'f': \"33.68\",\n        },\n{\n            'v': 34.08,\n            'f': \"34.08\",\n        },\n{\n            'v': 33.97,\n            'f': \"33.97\",\n        },\n{\n            'v': 22.58,\n            'f': \"22.58\",\n        },\n{\n            'v': NaN,\n            'f': \"NaN\",\n        },\n{\n            'v': 1557200,\n            'f': \"1557200\",\n        },\n{\n            'v': NaN,\n            'f': \"NaN\",\n        }],\n [{\n            'v': 4,\n            'f': \"4\",\n        },\n\"A\",\n\"2007-01-09 00:00:00\",\n{\n            'v': 45846,\n            'f': \"45846\",\n        },\n{\n            'v': 34.08,\n            'f': \"34.08\",\n        },\n{\n            'v': 33.63,\n            'f': \"33.63\",\n        },\n{\n            'v': 34.32,\n            'f': \"34.32\",\n        },\n{\n            'v': 34.01,\n            'f': \"34.01\",\n        },\n{\n            'v': 22.61,\n            'f': \"22.61\",\n        },\n{\n            'v': NaN,\n            'f': \"NaN\",\n        },\n{\n            'v': 1386200,\n            'f': \"1386200\",\n        },\n{\n            'v': NaN,\n            'f': \"NaN\",\n        }]],\n        columns: [[\"number\", \"index\"], [\"string\", \"Ticker\"], [\"string\", \"Date\"], [\"number\", \"SimFinId\"], [\"number\", \"Open\"], [\"number\", \"Low\"], [\"number\", \"High\"], [\"number\", \"Close\"], [\"number\", \"Adj. Close\"], [\"number\", \"Dividend\"], [\"number\", \"Volume\"], [\"number\", \"Shares Outstanding\"]],\n        columnOptions: [{\"width\": \"1px\", \"className\": \"index_column\"}],\n        rowsPerPage: 25,\n        helpUrl: \"https://colab.research.google.com/notebooks/data_table.ipynb\",\n        suppressOutputScrolling: true,\n        minimumWidth: undefined,\n      });\n    ",
            "text/html": [
              "<div>\n",
              "<style scoped>\n",
              "    .dataframe tbody tr th:only-of-type {\n",
              "        vertical-align: middle;\n",
              "    }\n",
              "\n",
              "    .dataframe tbody tr th {\n",
              "        vertical-align: top;\n",
              "    }\n",
              "\n",
              "    .dataframe thead th {\n",
              "        text-align: right;\n",
              "    }\n",
              "</style>\n",
              "<table border=\"1\" class=\"dataframe\">\n",
              "  <thead>\n",
              "    <tr style=\"text-align: right;\">\n",
              "      <th></th>\n",
              "      <th>Ticker</th>\n",
              "      <th>Date</th>\n",
              "      <th>SimFinId</th>\n",
              "      <th>Open</th>\n",
              "      <th>Low</th>\n",
              "      <th>High</th>\n",
              "      <th>Close</th>\n",
              "      <th>Adj. Close</th>\n",
              "      <th>Dividend</th>\n",
              "      <th>Volume</th>\n",
              "      <th>Shares Outstanding</th>\n",
              "    </tr>\n",
              "  </thead>\n",
              "  <tbody>\n",
              "    <tr>\n",
              "      <th>0</th>\n",
              "      <td>A</td>\n",
              "      <td>2007-01-03</td>\n",
              "      <td>45846</td>\n",
              "      <td>34.99</td>\n",
              "      <td>34.05</td>\n",
              "      <td>35.48</td>\n",
              "      <td>34.30</td>\n",
              "      <td>22.80</td>\n",
              "      <td>NaN</td>\n",
              "      <td>2574600</td>\n",
              "      <td>NaN</td>\n",
              "    </tr>\n",
              "    <tr>\n",
              "      <th>1</th>\n",
              "      <td>A</td>\n",
              "      <td>2007-01-04</td>\n",
              "      <td>45846</td>\n",
              "      <td>34.30</td>\n",
              "      <td>33.46</td>\n",
              "      <td>34.60</td>\n",
              "      <td>34.41</td>\n",
              "      <td>22.87</td>\n",
              "      <td>NaN</td>\n",
              "      <td>2073700</td>\n",
              "      <td>NaN</td>\n",
              "    </tr>\n",
              "    <tr>\n",
              "      <th>2</th>\n",
              "      <td>A</td>\n",
              "      <td>2007-01-05</td>\n",
              "      <td>45846</td>\n",
              "      <td>34.30</td>\n",
              "      <td>34.00</td>\n",
              "      <td>34.40</td>\n",
              "      <td>34.09</td>\n",
              "      <td>22.66</td>\n",
              "      <td>NaN</td>\n",
              "      <td>2676600</td>\n",
              "      <td>NaN</td>\n",
              "    </tr>\n",
              "    <tr>\n",
              "      <th>3</th>\n",
              "      <td>A</td>\n",
              "      <td>2007-01-08</td>\n",
              "      <td>45846</td>\n",
              "      <td>33.98</td>\n",
              "      <td>33.68</td>\n",
              "      <td>34.08</td>\n",
              "      <td>33.97</td>\n",
              "      <td>22.58</td>\n",
              "      <td>NaN</td>\n",
              "      <td>1557200</td>\n",
              "      <td>NaN</td>\n",
              "    </tr>\n",
              "    <tr>\n",
              "      <th>4</th>\n",
              "      <td>A</td>\n",
              "      <td>2007-01-09</td>\n",
              "      <td>45846</td>\n",
              "      <td>34.08</td>\n",
              "      <td>33.63</td>\n",
              "      <td>34.32</td>\n",
              "      <td>34.01</td>\n",
              "      <td>22.61</td>\n",
              "      <td>NaN</td>\n",
              "      <td>1386200</td>\n",
              "      <td>NaN</td>\n",
              "    </tr>\n",
              "  </tbody>\n",
              "</table>\n",
              "</div>"
            ],
            "text/plain": [
              "  Ticker       Date  SimFinId  ...  Dividend   Volume  Shares Outstanding\n",
              "0      A 2007-01-03     45846  ...       NaN  2574600                 NaN\n",
              "1      A 2007-01-04     45846  ...       NaN  2073700                 NaN\n",
              "2      A 2007-01-05     45846  ...       NaN  2676600                 NaN\n",
              "3      A 2007-01-08     45846  ...       NaN  1557200                 NaN\n",
              "4      A 2007-01-09     45846  ...       NaN  1386200                 NaN\n",
              "\n",
              "[5 rows x 11 columns]"
            ]
          },
          "metadata": {
            "tags": []
          },
          "execution_count": 15
        }
      ]
    },
    {
      "cell_type": "code",
      "metadata": {
        "id": "LYVWKcPXKDQY",
        "colab_type": "code",
        "colab": {
          "base_uri": "https://localhost:8080/",
          "height": 197
        },
        "outputId": "d57b6fed-8948-4032-ff33-3d792bfd54fd"
      },
      "source": [
        "df_snp500shares['SNP500'] = np.where(df_snp500shares['Ticker'].isin(sp_list), 1, 0)\n",
        "df_snp500shares.head()"
      ],
      "execution_count": 16,
      "outputs": [
        {
          "output_type": "execute_result",
          "data": {
            "application/vnd.google.colaboratory.module+javascript": "\n      import \"https://ssl.gstatic.com/colaboratory/data_table/a6224c040fa35dcf/data_table.js\";\n\n      window.createDataTable({\n        data: [[{\n            'v': 0,\n            'f': \"0\",\n        },\n\"A\",\n\"2007-01-03 00:00:00\",\n{\n            'v': 45846,\n            'f': \"45846\",\n        },\n{\n            'v': 34.99,\n            'f': \"34.99\",\n        },\n{\n            'v': 34.05,\n            'f': \"34.05\",\n        },\n{\n            'v': 35.48,\n            'f': \"35.48\",\n        },\n{\n            'v': 34.3,\n            'f': \"34.3\",\n        },\n{\n            'v': 22.8,\n            'f': \"22.8\",\n        },\n{\n            'v': NaN,\n            'f': \"NaN\",\n        },\n{\n            'v': 2574600,\n            'f': \"2574600\",\n        },\n{\n            'v': NaN,\n            'f': \"NaN\",\n        },\n{\n            'v': 1,\n            'f': \"1\",\n        }],\n [{\n            'v': 1,\n            'f': \"1\",\n        },\n\"A\",\n\"2007-01-04 00:00:00\",\n{\n            'v': 45846,\n            'f': \"45846\",\n        },\n{\n            'v': 34.3,\n            'f': \"34.3\",\n        },\n{\n            'v': 33.46,\n            'f': \"33.46\",\n        },\n{\n            'v': 34.6,\n            'f': \"34.6\",\n        },\n{\n            'v': 34.41,\n            'f': \"34.41\",\n        },\n{\n            'v': 22.87,\n            'f': \"22.87\",\n        },\n{\n            'v': NaN,\n            'f': \"NaN\",\n        },\n{\n            'v': 2073700,\n            'f': \"2073700\",\n        },\n{\n            'v': NaN,\n            'f': \"NaN\",\n        },\n{\n            'v': 1,\n            'f': \"1\",\n        }],\n [{\n            'v': 2,\n            'f': \"2\",\n        },\n\"A\",\n\"2007-01-05 00:00:00\",\n{\n            'v': 45846,\n            'f': \"45846\",\n        },\n{\n            'v': 34.3,\n            'f': \"34.3\",\n        },\n{\n            'v': 34.0,\n            'f': \"34.0\",\n        },\n{\n            'v': 34.4,\n            'f': \"34.4\",\n        },\n{\n            'v': 34.09,\n            'f': \"34.09\",\n        },\n{\n            'v': 22.66,\n            'f': \"22.66\",\n        },\n{\n            'v': NaN,\n            'f': \"NaN\",\n        },\n{\n            'v': 2676600,\n            'f': \"2676600\",\n        },\n{\n            'v': NaN,\n            'f': \"NaN\",\n        },\n{\n            'v': 1,\n            'f': \"1\",\n        }],\n [{\n            'v': 3,\n            'f': \"3\",\n        },\n\"A\",\n\"2007-01-08 00:00:00\",\n{\n            'v': 45846,\n            'f': \"45846\",\n        },\n{\n            'v': 33.98,\n            'f': \"33.98\",\n        },\n{\n            'v': 33.68,\n            'f': \"33.68\",\n        },\n{\n            'v': 34.08,\n            'f': \"34.08\",\n        },\n{\n            'v': 33.97,\n            'f': \"33.97\",\n        },\n{\n            'v': 22.58,\n            'f': \"22.58\",\n        },\n{\n            'v': NaN,\n            'f': \"NaN\",\n        },\n{\n            'v': 1557200,\n            'f': \"1557200\",\n        },\n{\n            'v': NaN,\n            'f': \"NaN\",\n        },\n{\n            'v': 1,\n            'f': \"1\",\n        }],\n [{\n            'v': 4,\n            'f': \"4\",\n        },\n\"A\",\n\"2007-01-09 00:00:00\",\n{\n            'v': 45846,\n            'f': \"45846\",\n        },\n{\n            'v': 34.08,\n            'f': \"34.08\",\n        },\n{\n            'v': 33.63,\n            'f': \"33.63\",\n        },\n{\n            'v': 34.32,\n            'f': \"34.32\",\n        },\n{\n            'v': 34.01,\n            'f': \"34.01\",\n        },\n{\n            'v': 22.61,\n            'f': \"22.61\",\n        },\n{\n            'v': NaN,\n            'f': \"NaN\",\n        },\n{\n            'v': 1386200,\n            'f': \"1386200\",\n        },\n{\n            'v': NaN,\n            'f': \"NaN\",\n        },\n{\n            'v': 1,\n            'f': \"1\",\n        }]],\n        columns: [[\"number\", \"index\"], [\"string\", \"Ticker\"], [\"string\", \"Date\"], [\"number\", \"SimFinId\"], [\"number\", \"Open\"], [\"number\", \"Low\"], [\"number\", \"High\"], [\"number\", \"Close\"], [\"number\", \"Adj. Close\"], [\"number\", \"Dividend\"], [\"number\", \"Volume\"], [\"number\", \"Shares Outstanding\"], [\"number\", \"SNP500\"]],\n        columnOptions: [{\"width\": \"1px\", \"className\": \"index_column\"}],\n        rowsPerPage: 25,\n        helpUrl: \"https://colab.research.google.com/notebooks/data_table.ipynb\",\n        suppressOutputScrolling: true,\n        minimumWidth: undefined,\n      });\n    ",
            "text/html": [
              "<div>\n",
              "<style scoped>\n",
              "    .dataframe tbody tr th:only-of-type {\n",
              "        vertical-align: middle;\n",
              "    }\n",
              "\n",
              "    .dataframe tbody tr th {\n",
              "        vertical-align: top;\n",
              "    }\n",
              "\n",
              "    .dataframe thead th {\n",
              "        text-align: right;\n",
              "    }\n",
              "</style>\n",
              "<table border=\"1\" class=\"dataframe\">\n",
              "  <thead>\n",
              "    <tr style=\"text-align: right;\">\n",
              "      <th></th>\n",
              "      <th>Ticker</th>\n",
              "      <th>Date</th>\n",
              "      <th>SimFinId</th>\n",
              "      <th>Open</th>\n",
              "      <th>Low</th>\n",
              "      <th>High</th>\n",
              "      <th>Close</th>\n",
              "      <th>Adj. Close</th>\n",
              "      <th>Dividend</th>\n",
              "      <th>Volume</th>\n",
              "      <th>Shares Outstanding</th>\n",
              "      <th>SNP500</th>\n",
              "    </tr>\n",
              "  </thead>\n",
              "  <tbody>\n",
              "    <tr>\n",
              "      <th>0</th>\n",
              "      <td>A</td>\n",
              "      <td>2007-01-03</td>\n",
              "      <td>45846</td>\n",
              "      <td>34.99</td>\n",
              "      <td>34.05</td>\n",
              "      <td>35.48</td>\n",
              "      <td>34.30</td>\n",
              "      <td>22.80</td>\n",
              "      <td>NaN</td>\n",
              "      <td>2574600</td>\n",
              "      <td>NaN</td>\n",
              "      <td>1</td>\n",
              "    </tr>\n",
              "    <tr>\n",
              "      <th>1</th>\n",
              "      <td>A</td>\n",
              "      <td>2007-01-04</td>\n",
              "      <td>45846</td>\n",
              "      <td>34.30</td>\n",
              "      <td>33.46</td>\n",
              "      <td>34.60</td>\n",
              "      <td>34.41</td>\n",
              "      <td>22.87</td>\n",
              "      <td>NaN</td>\n",
              "      <td>2073700</td>\n",
              "      <td>NaN</td>\n",
              "      <td>1</td>\n",
              "    </tr>\n",
              "    <tr>\n",
              "      <th>2</th>\n",
              "      <td>A</td>\n",
              "      <td>2007-01-05</td>\n",
              "      <td>45846</td>\n",
              "      <td>34.30</td>\n",
              "      <td>34.00</td>\n",
              "      <td>34.40</td>\n",
              "      <td>34.09</td>\n",
              "      <td>22.66</td>\n",
              "      <td>NaN</td>\n",
              "      <td>2676600</td>\n",
              "      <td>NaN</td>\n",
              "      <td>1</td>\n",
              "    </tr>\n",
              "    <tr>\n",
              "      <th>3</th>\n",
              "      <td>A</td>\n",
              "      <td>2007-01-08</td>\n",
              "      <td>45846</td>\n",
              "      <td>33.98</td>\n",
              "      <td>33.68</td>\n",
              "      <td>34.08</td>\n",
              "      <td>33.97</td>\n",
              "      <td>22.58</td>\n",
              "      <td>NaN</td>\n",
              "      <td>1557200</td>\n",
              "      <td>NaN</td>\n",
              "      <td>1</td>\n",
              "    </tr>\n",
              "    <tr>\n",
              "      <th>4</th>\n",
              "      <td>A</td>\n",
              "      <td>2007-01-09</td>\n",
              "      <td>45846</td>\n",
              "      <td>34.08</td>\n",
              "      <td>33.63</td>\n",
              "      <td>34.32</td>\n",
              "      <td>34.01</td>\n",
              "      <td>22.61</td>\n",
              "      <td>NaN</td>\n",
              "      <td>1386200</td>\n",
              "      <td>NaN</td>\n",
              "      <td>1</td>\n",
              "    </tr>\n",
              "  </tbody>\n",
              "</table>\n",
              "</div>"
            ],
            "text/plain": [
              "  Ticker       Date  SimFinId  ...   Volume  Shares Outstanding  SNP500\n",
              "0      A 2007-01-03     45846  ...  2574600                 NaN       1\n",
              "1      A 2007-01-04     45846  ...  2073700                 NaN       1\n",
              "2      A 2007-01-05     45846  ...  2676600                 NaN       1\n",
              "3      A 2007-01-08     45846  ...  1557200                 NaN       1\n",
              "4      A 2007-01-09     45846  ...  1386200                 NaN       1\n",
              "\n",
              "[5 rows x 12 columns]"
            ]
          },
          "metadata": {
            "tags": []
          },
          "execution_count": 16
        }
      ]
    },
    {
      "cell_type": "code",
      "metadata": {
        "id": "G19OEAPuKyFQ",
        "colab_type": "code",
        "colab": {
          "base_uri": "https://localhost:8080/",
          "height": 35
        },
        "outputId": "c282cd64-73ef-4207-ce09-d8952903e8f0"
      },
      "source": [
        "df_snp500shares.shape"
      ],
      "execution_count": 17,
      "outputs": [
        {
          "output_type": "execute_result",
          "data": {
            "text/plain": [
              "(5318092, 12)"
            ]
          },
          "metadata": {
            "tags": []
          },
          "execution_count": 17
        }
      ]
    },
    {
      "cell_type": "code",
      "metadata": {
        "id": "69gHlEq7LcY6",
        "colab_type": "code",
        "colab": {}
      },
      "source": [
        "df_snp500shares.set_index(['SNP500'], inplace=True)"
      ],
      "execution_count": 18,
      "outputs": []
    },
    {
      "cell_type": "code",
      "metadata": {
        "id": "jQuV0FHPMMKC",
        "colab_type": "code",
        "colab": {
          "base_uri": "https://localhost:8080/",
          "height": 197
        },
        "outputId": "05d2a3a4-28b0-4ee2-ee25-9b7fb43db9b0"
      },
      "source": [
        "df_snp500shares.head()"
      ],
      "execution_count": 19,
      "outputs": [
        {
          "output_type": "execute_result",
          "data": {
            "application/vnd.google.colaboratory.module+javascript": "\n      import \"https://ssl.gstatic.com/colaboratory/data_table/a6224c040fa35dcf/data_table.js\";\n\n      window.createDataTable({\n        data: [[{\n            'v': 1,\n            'f': \"1\",\n        },\n\"A\",\n\"2007-01-03 00:00:00\",\n{\n            'v': 45846,\n            'f': \"45846\",\n        },\n{\n            'v': 34.99,\n            'f': \"34.99\",\n        },\n{\n            'v': 34.05,\n            'f': \"34.05\",\n        },\n{\n            'v': 35.48,\n            'f': \"35.48\",\n        },\n{\n            'v': 34.3,\n            'f': \"34.3\",\n        },\n{\n            'v': 22.8,\n            'f': \"22.8\",\n        },\n{\n            'v': NaN,\n            'f': \"NaN\",\n        },\n{\n            'v': 2574600,\n            'f': \"2574600\",\n        },\n{\n            'v': NaN,\n            'f': \"NaN\",\n        }],\n [{\n            'v': 1,\n            'f': \"1\",\n        },\n\"A\",\n\"2007-01-04 00:00:00\",\n{\n            'v': 45846,\n            'f': \"45846\",\n        },\n{\n            'v': 34.3,\n            'f': \"34.3\",\n        },\n{\n            'v': 33.46,\n            'f': \"33.46\",\n        },\n{\n            'v': 34.6,\n            'f': \"34.6\",\n        },\n{\n            'v': 34.41,\n            'f': \"34.41\",\n        },\n{\n            'v': 22.87,\n            'f': \"22.87\",\n        },\n{\n            'v': NaN,\n            'f': \"NaN\",\n        },\n{\n            'v': 2073700,\n            'f': \"2073700\",\n        },\n{\n            'v': NaN,\n            'f': \"NaN\",\n        }],\n [{\n            'v': 1,\n            'f': \"1\",\n        },\n\"A\",\n\"2007-01-05 00:00:00\",\n{\n            'v': 45846,\n            'f': \"45846\",\n        },\n{\n            'v': 34.3,\n            'f': \"34.3\",\n        },\n{\n            'v': 34.0,\n            'f': \"34.0\",\n        },\n{\n            'v': 34.4,\n            'f': \"34.4\",\n        },\n{\n            'v': 34.09,\n            'f': \"34.09\",\n        },\n{\n            'v': 22.66,\n            'f': \"22.66\",\n        },\n{\n            'v': NaN,\n            'f': \"NaN\",\n        },\n{\n            'v': 2676600,\n            'f': \"2676600\",\n        },\n{\n            'v': NaN,\n            'f': \"NaN\",\n        }],\n [{\n            'v': 1,\n            'f': \"1\",\n        },\n\"A\",\n\"2007-01-08 00:00:00\",\n{\n            'v': 45846,\n            'f': \"45846\",\n        },\n{\n            'v': 33.98,\n            'f': \"33.98\",\n        },\n{\n            'v': 33.68,\n            'f': \"33.68\",\n        },\n{\n            'v': 34.08,\n            'f': \"34.08\",\n        },\n{\n            'v': 33.97,\n            'f': \"33.97\",\n        },\n{\n            'v': 22.58,\n            'f': \"22.58\",\n        },\n{\n            'v': NaN,\n            'f': \"NaN\",\n        },\n{\n            'v': 1557200,\n            'f': \"1557200\",\n        },\n{\n            'v': NaN,\n            'f': \"NaN\",\n        }],\n [{\n            'v': 1,\n            'f': \"1\",\n        },\n\"A\",\n\"2007-01-09 00:00:00\",\n{\n            'v': 45846,\n            'f': \"45846\",\n        },\n{\n            'v': 34.08,\n            'f': \"34.08\",\n        },\n{\n            'v': 33.63,\n            'f': \"33.63\",\n        },\n{\n            'v': 34.32,\n            'f': \"34.32\",\n        },\n{\n            'v': 34.01,\n            'f': \"34.01\",\n        },\n{\n            'v': 22.61,\n            'f': \"22.61\",\n        },\n{\n            'v': NaN,\n            'f': \"NaN\",\n        },\n{\n            'v': 1386200,\n            'f': \"1386200\",\n        },\n{\n            'v': NaN,\n            'f': \"NaN\",\n        }]],\n        columns: [[\"number\", \"SNP500\"], [\"string\", \"Ticker\"], [\"string\", \"Date\"], [\"number\", \"SimFinId\"], [\"number\", \"Open\"], [\"number\", \"Low\"], [\"number\", \"High\"], [\"number\", \"Close\"], [\"number\", \"Adj. Close\"], [\"number\", \"Dividend\"], [\"number\", \"Volume\"], [\"number\", \"Shares Outstanding\"]],\n        columnOptions: [{\"width\": \"1px\", \"className\": \"index_column\"}],\n        rowsPerPage: 25,\n        helpUrl: \"https://colab.research.google.com/notebooks/data_table.ipynb\",\n        suppressOutputScrolling: true,\n        minimumWidth: undefined,\n      });\n    ",
            "text/html": [
              "<div>\n",
              "<style scoped>\n",
              "    .dataframe tbody tr th:only-of-type {\n",
              "        vertical-align: middle;\n",
              "    }\n",
              "\n",
              "    .dataframe tbody tr th {\n",
              "        vertical-align: top;\n",
              "    }\n",
              "\n",
              "    .dataframe thead th {\n",
              "        text-align: right;\n",
              "    }\n",
              "</style>\n",
              "<table border=\"1\" class=\"dataframe\">\n",
              "  <thead>\n",
              "    <tr style=\"text-align: right;\">\n",
              "      <th></th>\n",
              "      <th>Ticker</th>\n",
              "      <th>Date</th>\n",
              "      <th>SimFinId</th>\n",
              "      <th>Open</th>\n",
              "      <th>Low</th>\n",
              "      <th>High</th>\n",
              "      <th>Close</th>\n",
              "      <th>Adj. Close</th>\n",
              "      <th>Dividend</th>\n",
              "      <th>Volume</th>\n",
              "      <th>Shares Outstanding</th>\n",
              "    </tr>\n",
              "    <tr>\n",
              "      <th>SNP500</th>\n",
              "      <th></th>\n",
              "      <th></th>\n",
              "      <th></th>\n",
              "      <th></th>\n",
              "      <th></th>\n",
              "      <th></th>\n",
              "      <th></th>\n",
              "      <th></th>\n",
              "      <th></th>\n",
              "      <th></th>\n",
              "      <th></th>\n",
              "    </tr>\n",
              "  </thead>\n",
              "  <tbody>\n",
              "    <tr>\n",
              "      <th>1</th>\n",
              "      <td>A</td>\n",
              "      <td>2007-01-03</td>\n",
              "      <td>45846</td>\n",
              "      <td>34.99</td>\n",
              "      <td>34.05</td>\n",
              "      <td>35.48</td>\n",
              "      <td>34.30</td>\n",
              "      <td>22.80</td>\n",
              "      <td>NaN</td>\n",
              "      <td>2574600</td>\n",
              "      <td>NaN</td>\n",
              "    </tr>\n",
              "    <tr>\n",
              "      <th>1</th>\n",
              "      <td>A</td>\n",
              "      <td>2007-01-04</td>\n",
              "      <td>45846</td>\n",
              "      <td>34.30</td>\n",
              "      <td>33.46</td>\n",
              "      <td>34.60</td>\n",
              "      <td>34.41</td>\n",
              "      <td>22.87</td>\n",
              "      <td>NaN</td>\n",
              "      <td>2073700</td>\n",
              "      <td>NaN</td>\n",
              "    </tr>\n",
              "    <tr>\n",
              "      <th>1</th>\n",
              "      <td>A</td>\n",
              "      <td>2007-01-05</td>\n",
              "      <td>45846</td>\n",
              "      <td>34.30</td>\n",
              "      <td>34.00</td>\n",
              "      <td>34.40</td>\n",
              "      <td>34.09</td>\n",
              "      <td>22.66</td>\n",
              "      <td>NaN</td>\n",
              "      <td>2676600</td>\n",
              "      <td>NaN</td>\n",
              "    </tr>\n",
              "    <tr>\n",
              "      <th>1</th>\n",
              "      <td>A</td>\n",
              "      <td>2007-01-08</td>\n",
              "      <td>45846</td>\n",
              "      <td>33.98</td>\n",
              "      <td>33.68</td>\n",
              "      <td>34.08</td>\n",
              "      <td>33.97</td>\n",
              "      <td>22.58</td>\n",
              "      <td>NaN</td>\n",
              "      <td>1557200</td>\n",
              "      <td>NaN</td>\n",
              "    </tr>\n",
              "    <tr>\n",
              "      <th>1</th>\n",
              "      <td>A</td>\n",
              "      <td>2007-01-09</td>\n",
              "      <td>45846</td>\n",
              "      <td>34.08</td>\n",
              "      <td>33.63</td>\n",
              "      <td>34.32</td>\n",
              "      <td>34.01</td>\n",
              "      <td>22.61</td>\n",
              "      <td>NaN</td>\n",
              "      <td>1386200</td>\n",
              "      <td>NaN</td>\n",
              "    </tr>\n",
              "  </tbody>\n",
              "</table>\n",
              "</div>"
            ],
            "text/plain": [
              "       Ticker       Date  SimFinId  ...  Dividend   Volume  Shares Outstanding\n",
              "SNP500                              ...                                       \n",
              "1           A 2007-01-03     45846  ...       NaN  2574600                 NaN\n",
              "1           A 2007-01-04     45846  ...       NaN  2073700                 NaN\n",
              "1           A 2007-01-05     45846  ...       NaN  2676600                 NaN\n",
              "1           A 2007-01-08     45846  ...       NaN  1557200                 NaN\n",
              "1           A 2007-01-09     45846  ...       NaN  1386200                 NaN\n",
              "\n",
              "[5 rows x 11 columns]"
            ]
          },
          "metadata": {
            "tags": []
          },
          "execution_count": 19
        }
      ]
    },
    {
      "cell_type": "code",
      "metadata": {
        "id": "2E2gqmMaLA5g",
        "colab_type": "code",
        "colab": {}
      },
      "source": [
        "df_snp500shares = df_snp500shares.loc[1]"
      ],
      "execution_count": 20,
      "outputs": []
    },
    {
      "cell_type": "code",
      "metadata": {
        "id": "2mTVROJRMYe7",
        "colab_type": "code",
        "colab": {
          "base_uri": "https://localhost:8080/",
          "height": 35
        },
        "outputId": "a4f4eb65-ebdf-4fd5-91ce-a8454ea736a5"
      },
      "source": [
        "# FINAL SNP500 STOCK SHARES DATAFRAME\n",
        "df_snp500shares.shape"
      ],
      "execution_count": 21,
      "outputs": [
        {
          "output_type": "execute_result",
          "data": {
            "text/plain": [
              "(1355448, 11)"
            ]
          },
          "metadata": {
            "tags": []
          },
          "execution_count": 21
        }
      ]
    },
    {
      "cell_type": "code",
      "metadata": {
        "id": "-9B04Ws58IkP",
        "colab_type": "code",
        "colab": {
          "base_uri": "https://localhost:8080/",
          "height": 197
        },
        "outputId": "d87e75ae-1060-4ddd-9784-d9efbab59b0a"
      },
      "source": [
        "# These are the 505 stocks within SNP500\n",
        "df_snp500shares.head()"
      ],
      "execution_count": 22,
      "outputs": [
        {
          "output_type": "execute_result",
          "data": {
            "application/vnd.google.colaboratory.module+javascript": "\n      import \"https://ssl.gstatic.com/colaboratory/data_table/a6224c040fa35dcf/data_table.js\";\n\n      window.createDataTable({\n        data: [[{\n            'v': 1,\n            'f': \"1\",\n        },\n\"A\",\n\"2007-01-03 00:00:00\",\n{\n            'v': 45846,\n            'f': \"45846\",\n        },\n{\n            'v': 34.99,\n            'f': \"34.99\",\n        },\n{\n            'v': 34.05,\n            'f': \"34.05\",\n        },\n{\n            'v': 35.48,\n            'f': \"35.48\",\n        },\n{\n            'v': 34.3,\n            'f': \"34.3\",\n        },\n{\n            'v': 22.8,\n            'f': \"22.8\",\n        },\n{\n            'v': NaN,\n            'f': \"NaN\",\n        },\n{\n            'v': 2574600,\n            'f': \"2574600\",\n        },\n{\n            'v': NaN,\n            'f': \"NaN\",\n        }],\n [{\n            'v': 1,\n            'f': \"1\",\n        },\n\"A\",\n\"2007-01-04 00:00:00\",\n{\n            'v': 45846,\n            'f': \"45846\",\n        },\n{\n            'v': 34.3,\n            'f': \"34.3\",\n        },\n{\n            'v': 33.46,\n            'f': \"33.46\",\n        },\n{\n            'v': 34.6,\n            'f': \"34.6\",\n        },\n{\n            'v': 34.41,\n            'f': \"34.41\",\n        },\n{\n            'v': 22.87,\n            'f': \"22.87\",\n        },\n{\n            'v': NaN,\n            'f': \"NaN\",\n        },\n{\n            'v': 2073700,\n            'f': \"2073700\",\n        },\n{\n            'v': NaN,\n            'f': \"NaN\",\n        }],\n [{\n            'v': 1,\n            'f': \"1\",\n        },\n\"A\",\n\"2007-01-05 00:00:00\",\n{\n            'v': 45846,\n            'f': \"45846\",\n        },\n{\n            'v': 34.3,\n            'f': \"34.3\",\n        },\n{\n            'v': 34.0,\n            'f': \"34.0\",\n        },\n{\n            'v': 34.4,\n            'f': \"34.4\",\n        },\n{\n            'v': 34.09,\n            'f': \"34.09\",\n        },\n{\n            'v': 22.66,\n            'f': \"22.66\",\n        },\n{\n            'v': NaN,\n            'f': \"NaN\",\n        },\n{\n            'v': 2676600,\n            'f': \"2676600\",\n        },\n{\n            'v': NaN,\n            'f': \"NaN\",\n        }],\n [{\n            'v': 1,\n            'f': \"1\",\n        },\n\"A\",\n\"2007-01-08 00:00:00\",\n{\n            'v': 45846,\n            'f': \"45846\",\n        },\n{\n            'v': 33.98,\n            'f': \"33.98\",\n        },\n{\n            'v': 33.68,\n            'f': \"33.68\",\n        },\n{\n            'v': 34.08,\n            'f': \"34.08\",\n        },\n{\n            'v': 33.97,\n            'f': \"33.97\",\n        },\n{\n            'v': 22.58,\n            'f': \"22.58\",\n        },\n{\n            'v': NaN,\n            'f': \"NaN\",\n        },\n{\n            'v': 1557200,\n            'f': \"1557200\",\n        },\n{\n            'v': NaN,\n            'f': \"NaN\",\n        }],\n [{\n            'v': 1,\n            'f': \"1\",\n        },\n\"A\",\n\"2007-01-09 00:00:00\",\n{\n            'v': 45846,\n            'f': \"45846\",\n        },\n{\n            'v': 34.08,\n            'f': \"34.08\",\n        },\n{\n            'v': 33.63,\n            'f': \"33.63\",\n        },\n{\n            'v': 34.32,\n            'f': \"34.32\",\n        },\n{\n            'v': 34.01,\n            'f': \"34.01\",\n        },\n{\n            'v': 22.61,\n            'f': \"22.61\",\n        },\n{\n            'v': NaN,\n            'f': \"NaN\",\n        },\n{\n            'v': 1386200,\n            'f': \"1386200\",\n        },\n{\n            'v': NaN,\n            'f': \"NaN\",\n        }]],\n        columns: [[\"number\", \"SNP500\"], [\"string\", \"Ticker\"], [\"string\", \"Date\"], [\"number\", \"SimFinId\"], [\"number\", \"Open\"], [\"number\", \"Low\"], [\"number\", \"High\"], [\"number\", \"Close\"], [\"number\", \"Adj. Close\"], [\"number\", \"Dividend\"], [\"number\", \"Volume\"], [\"number\", \"Shares Outstanding\"]],\n        columnOptions: [{\"width\": \"1px\", \"className\": \"index_column\"}],\n        rowsPerPage: 25,\n        helpUrl: \"https://colab.research.google.com/notebooks/data_table.ipynb\",\n        suppressOutputScrolling: true,\n        minimumWidth: undefined,\n      });\n    ",
            "text/html": [
              "<div>\n",
              "<style scoped>\n",
              "    .dataframe tbody tr th:only-of-type {\n",
              "        vertical-align: middle;\n",
              "    }\n",
              "\n",
              "    .dataframe tbody tr th {\n",
              "        vertical-align: top;\n",
              "    }\n",
              "\n",
              "    .dataframe thead th {\n",
              "        text-align: right;\n",
              "    }\n",
              "</style>\n",
              "<table border=\"1\" class=\"dataframe\">\n",
              "  <thead>\n",
              "    <tr style=\"text-align: right;\">\n",
              "      <th></th>\n",
              "      <th>Ticker</th>\n",
              "      <th>Date</th>\n",
              "      <th>SimFinId</th>\n",
              "      <th>Open</th>\n",
              "      <th>Low</th>\n",
              "      <th>High</th>\n",
              "      <th>Close</th>\n",
              "      <th>Adj. Close</th>\n",
              "      <th>Dividend</th>\n",
              "      <th>Volume</th>\n",
              "      <th>Shares Outstanding</th>\n",
              "    </tr>\n",
              "    <tr>\n",
              "      <th>SNP500</th>\n",
              "      <th></th>\n",
              "      <th></th>\n",
              "      <th></th>\n",
              "      <th></th>\n",
              "      <th></th>\n",
              "      <th></th>\n",
              "      <th></th>\n",
              "      <th></th>\n",
              "      <th></th>\n",
              "      <th></th>\n",
              "      <th></th>\n",
              "    </tr>\n",
              "  </thead>\n",
              "  <tbody>\n",
              "    <tr>\n",
              "      <th>1</th>\n",
              "      <td>A</td>\n",
              "      <td>2007-01-03</td>\n",
              "      <td>45846</td>\n",
              "      <td>34.99</td>\n",
              "      <td>34.05</td>\n",
              "      <td>35.48</td>\n",
              "      <td>34.30</td>\n",
              "      <td>22.80</td>\n",
              "      <td>NaN</td>\n",
              "      <td>2574600</td>\n",
              "      <td>NaN</td>\n",
              "    </tr>\n",
              "    <tr>\n",
              "      <th>1</th>\n",
              "      <td>A</td>\n",
              "      <td>2007-01-04</td>\n",
              "      <td>45846</td>\n",
              "      <td>34.30</td>\n",
              "      <td>33.46</td>\n",
              "      <td>34.60</td>\n",
              "      <td>34.41</td>\n",
              "      <td>22.87</td>\n",
              "      <td>NaN</td>\n",
              "      <td>2073700</td>\n",
              "      <td>NaN</td>\n",
              "    </tr>\n",
              "    <tr>\n",
              "      <th>1</th>\n",
              "      <td>A</td>\n",
              "      <td>2007-01-05</td>\n",
              "      <td>45846</td>\n",
              "      <td>34.30</td>\n",
              "      <td>34.00</td>\n",
              "      <td>34.40</td>\n",
              "      <td>34.09</td>\n",
              "      <td>22.66</td>\n",
              "      <td>NaN</td>\n",
              "      <td>2676600</td>\n",
              "      <td>NaN</td>\n",
              "    </tr>\n",
              "    <tr>\n",
              "      <th>1</th>\n",
              "      <td>A</td>\n",
              "      <td>2007-01-08</td>\n",
              "      <td>45846</td>\n",
              "      <td>33.98</td>\n",
              "      <td>33.68</td>\n",
              "      <td>34.08</td>\n",
              "      <td>33.97</td>\n",
              "      <td>22.58</td>\n",
              "      <td>NaN</td>\n",
              "      <td>1557200</td>\n",
              "      <td>NaN</td>\n",
              "    </tr>\n",
              "    <tr>\n",
              "      <th>1</th>\n",
              "      <td>A</td>\n",
              "      <td>2007-01-09</td>\n",
              "      <td>45846</td>\n",
              "      <td>34.08</td>\n",
              "      <td>33.63</td>\n",
              "      <td>34.32</td>\n",
              "      <td>34.01</td>\n",
              "      <td>22.61</td>\n",
              "      <td>NaN</td>\n",
              "      <td>1386200</td>\n",
              "      <td>NaN</td>\n",
              "    </tr>\n",
              "  </tbody>\n",
              "</table>\n",
              "</div>"
            ],
            "text/plain": [
              "       Ticker       Date  SimFinId  ...  Dividend   Volume  Shares Outstanding\n",
              "SNP500                              ...                                       \n",
              "1           A 2007-01-03     45846  ...       NaN  2574600                 NaN\n",
              "1           A 2007-01-04     45846  ...       NaN  2073700                 NaN\n",
              "1           A 2007-01-05     45846  ...       NaN  2676600                 NaN\n",
              "1           A 2007-01-08     45846  ...       NaN  1557200                 NaN\n",
              "1           A 2007-01-09     45846  ...       NaN  1386200                 NaN\n",
              "\n",
              "[5 rows x 11 columns]"
            ]
          },
          "metadata": {
            "tags": []
          },
          "execution_count": 22
        }
      ]
    },
    {
      "cell_type": "code",
      "metadata": {
        "id": "Xb1F8x9Ys_hc",
        "colab_type": "code",
        "colab": {}
      },
      "source": [
        "df_snp500shares.reset_index(inplace=True)\n",
        "df_snp500shares = df_snp500shares.drop(columns=['SNP500'])"
      ],
      "execution_count": 23,
      "outputs": []
    },
    {
      "cell_type": "code",
      "metadata": {
        "id": "CgWp4JDctHRc",
        "colab_type": "code",
        "colab": {
          "base_uri": "https://localhost:8080/",
          "height": 197
        },
        "outputId": "ea3e5071-d9f8-4db0-ab0f-3ea4f6f9e8c5"
      },
      "source": [
        "df_snp500shares.head()"
      ],
      "execution_count": 24,
      "outputs": [
        {
          "output_type": "execute_result",
          "data": {
            "application/vnd.google.colaboratory.module+javascript": "\n      import \"https://ssl.gstatic.com/colaboratory/data_table/a6224c040fa35dcf/data_table.js\";\n\n      window.createDataTable({\n        data: [[{\n            'v': 0,\n            'f': \"0\",\n        },\n\"A\",\n\"2007-01-03 00:00:00\",\n{\n            'v': 45846,\n            'f': \"45846\",\n        },\n{\n            'v': 34.99,\n            'f': \"34.99\",\n        },\n{\n            'v': 34.05,\n            'f': \"34.05\",\n        },\n{\n            'v': 35.48,\n            'f': \"35.48\",\n        },\n{\n            'v': 34.3,\n            'f': \"34.3\",\n        },\n{\n            'v': 22.8,\n            'f': \"22.8\",\n        },\n{\n            'v': NaN,\n            'f': \"NaN\",\n        },\n{\n            'v': 2574600,\n            'f': \"2574600\",\n        },\n{\n            'v': NaN,\n            'f': \"NaN\",\n        }],\n [{\n            'v': 1,\n            'f': \"1\",\n        },\n\"A\",\n\"2007-01-04 00:00:00\",\n{\n            'v': 45846,\n            'f': \"45846\",\n        },\n{\n            'v': 34.3,\n            'f': \"34.3\",\n        },\n{\n            'v': 33.46,\n            'f': \"33.46\",\n        },\n{\n            'v': 34.6,\n            'f': \"34.6\",\n        },\n{\n            'v': 34.41,\n            'f': \"34.41\",\n        },\n{\n            'v': 22.87,\n            'f': \"22.87\",\n        },\n{\n            'v': NaN,\n            'f': \"NaN\",\n        },\n{\n            'v': 2073700,\n            'f': \"2073700\",\n        },\n{\n            'v': NaN,\n            'f': \"NaN\",\n        }],\n [{\n            'v': 2,\n            'f': \"2\",\n        },\n\"A\",\n\"2007-01-05 00:00:00\",\n{\n            'v': 45846,\n            'f': \"45846\",\n        },\n{\n            'v': 34.3,\n            'f': \"34.3\",\n        },\n{\n            'v': 34.0,\n            'f': \"34.0\",\n        },\n{\n            'v': 34.4,\n            'f': \"34.4\",\n        },\n{\n            'v': 34.09,\n            'f': \"34.09\",\n        },\n{\n            'v': 22.66,\n            'f': \"22.66\",\n        },\n{\n            'v': NaN,\n            'f': \"NaN\",\n        },\n{\n            'v': 2676600,\n            'f': \"2676600\",\n        },\n{\n            'v': NaN,\n            'f': \"NaN\",\n        }],\n [{\n            'v': 3,\n            'f': \"3\",\n        },\n\"A\",\n\"2007-01-08 00:00:00\",\n{\n            'v': 45846,\n            'f': \"45846\",\n        },\n{\n            'v': 33.98,\n            'f': \"33.98\",\n        },\n{\n            'v': 33.68,\n            'f': \"33.68\",\n        },\n{\n            'v': 34.08,\n            'f': \"34.08\",\n        },\n{\n            'v': 33.97,\n            'f': \"33.97\",\n        },\n{\n            'v': 22.58,\n            'f': \"22.58\",\n        },\n{\n            'v': NaN,\n            'f': \"NaN\",\n        },\n{\n            'v': 1557200,\n            'f': \"1557200\",\n        },\n{\n            'v': NaN,\n            'f': \"NaN\",\n        }],\n [{\n            'v': 4,\n            'f': \"4\",\n        },\n\"A\",\n\"2007-01-09 00:00:00\",\n{\n            'v': 45846,\n            'f': \"45846\",\n        },\n{\n            'v': 34.08,\n            'f': \"34.08\",\n        },\n{\n            'v': 33.63,\n            'f': \"33.63\",\n        },\n{\n            'v': 34.32,\n            'f': \"34.32\",\n        },\n{\n            'v': 34.01,\n            'f': \"34.01\",\n        },\n{\n            'v': 22.61,\n            'f': \"22.61\",\n        },\n{\n            'v': NaN,\n            'f': \"NaN\",\n        },\n{\n            'v': 1386200,\n            'f': \"1386200\",\n        },\n{\n            'v': NaN,\n            'f': \"NaN\",\n        }]],\n        columns: [[\"number\", \"index\"], [\"string\", \"Ticker\"], [\"string\", \"Date\"], [\"number\", \"SimFinId\"], [\"number\", \"Open\"], [\"number\", \"Low\"], [\"number\", \"High\"], [\"number\", \"Close\"], [\"number\", \"Adj. Close\"], [\"number\", \"Dividend\"], [\"number\", \"Volume\"], [\"number\", \"Shares Outstanding\"]],\n        columnOptions: [{\"width\": \"1px\", \"className\": \"index_column\"}],\n        rowsPerPage: 25,\n        helpUrl: \"https://colab.research.google.com/notebooks/data_table.ipynb\",\n        suppressOutputScrolling: true,\n        minimumWidth: undefined,\n      });\n    ",
            "text/html": [
              "<div>\n",
              "<style scoped>\n",
              "    .dataframe tbody tr th:only-of-type {\n",
              "        vertical-align: middle;\n",
              "    }\n",
              "\n",
              "    .dataframe tbody tr th {\n",
              "        vertical-align: top;\n",
              "    }\n",
              "\n",
              "    .dataframe thead th {\n",
              "        text-align: right;\n",
              "    }\n",
              "</style>\n",
              "<table border=\"1\" class=\"dataframe\">\n",
              "  <thead>\n",
              "    <tr style=\"text-align: right;\">\n",
              "      <th></th>\n",
              "      <th>Ticker</th>\n",
              "      <th>Date</th>\n",
              "      <th>SimFinId</th>\n",
              "      <th>Open</th>\n",
              "      <th>Low</th>\n",
              "      <th>High</th>\n",
              "      <th>Close</th>\n",
              "      <th>Adj. Close</th>\n",
              "      <th>Dividend</th>\n",
              "      <th>Volume</th>\n",
              "      <th>Shares Outstanding</th>\n",
              "    </tr>\n",
              "  </thead>\n",
              "  <tbody>\n",
              "    <tr>\n",
              "      <th>0</th>\n",
              "      <td>A</td>\n",
              "      <td>2007-01-03</td>\n",
              "      <td>45846</td>\n",
              "      <td>34.99</td>\n",
              "      <td>34.05</td>\n",
              "      <td>35.48</td>\n",
              "      <td>34.30</td>\n",
              "      <td>22.80</td>\n",
              "      <td>NaN</td>\n",
              "      <td>2574600</td>\n",
              "      <td>NaN</td>\n",
              "    </tr>\n",
              "    <tr>\n",
              "      <th>1</th>\n",
              "      <td>A</td>\n",
              "      <td>2007-01-04</td>\n",
              "      <td>45846</td>\n",
              "      <td>34.30</td>\n",
              "      <td>33.46</td>\n",
              "      <td>34.60</td>\n",
              "      <td>34.41</td>\n",
              "      <td>22.87</td>\n",
              "      <td>NaN</td>\n",
              "      <td>2073700</td>\n",
              "      <td>NaN</td>\n",
              "    </tr>\n",
              "    <tr>\n",
              "      <th>2</th>\n",
              "      <td>A</td>\n",
              "      <td>2007-01-05</td>\n",
              "      <td>45846</td>\n",
              "      <td>34.30</td>\n",
              "      <td>34.00</td>\n",
              "      <td>34.40</td>\n",
              "      <td>34.09</td>\n",
              "      <td>22.66</td>\n",
              "      <td>NaN</td>\n",
              "      <td>2676600</td>\n",
              "      <td>NaN</td>\n",
              "    </tr>\n",
              "    <tr>\n",
              "      <th>3</th>\n",
              "      <td>A</td>\n",
              "      <td>2007-01-08</td>\n",
              "      <td>45846</td>\n",
              "      <td>33.98</td>\n",
              "      <td>33.68</td>\n",
              "      <td>34.08</td>\n",
              "      <td>33.97</td>\n",
              "      <td>22.58</td>\n",
              "      <td>NaN</td>\n",
              "      <td>1557200</td>\n",
              "      <td>NaN</td>\n",
              "    </tr>\n",
              "    <tr>\n",
              "      <th>4</th>\n",
              "      <td>A</td>\n",
              "      <td>2007-01-09</td>\n",
              "      <td>45846</td>\n",
              "      <td>34.08</td>\n",
              "      <td>33.63</td>\n",
              "      <td>34.32</td>\n",
              "      <td>34.01</td>\n",
              "      <td>22.61</td>\n",
              "      <td>NaN</td>\n",
              "      <td>1386200</td>\n",
              "      <td>NaN</td>\n",
              "    </tr>\n",
              "  </tbody>\n",
              "</table>\n",
              "</div>"
            ],
            "text/plain": [
              "  Ticker       Date  SimFinId  ...  Dividend   Volume  Shares Outstanding\n",
              "0      A 2007-01-03     45846  ...       NaN  2574600                 NaN\n",
              "1      A 2007-01-04     45846  ...       NaN  2073700                 NaN\n",
              "2      A 2007-01-05     45846  ...       NaN  2676600                 NaN\n",
              "3      A 2007-01-08     45846  ...       NaN  1557200                 NaN\n",
              "4      A 2007-01-09     45846  ...       NaN  1386200                 NaN\n",
              "\n",
              "[5 rows x 11 columns]"
            ]
          },
          "metadata": {
            "tags": []
          },
          "execution_count": 24
        }
      ]
    },
    {
      "cell_type": "code",
      "metadata": {
        "id": "2PbZ8vP4tiMj",
        "colab_type": "code",
        "colab": {
          "base_uri": "https://localhost:8080/",
          "height": 197
        },
        "outputId": "417348a4-dadb-4f8c-a3ab-6c1abc92a99d"
      },
      "source": [
        "df_snp500shares.set_index('Ticker', inplace=True)\n",
        "df_snp500shares.head()"
      ],
      "execution_count": 25,
      "outputs": [
        {
          "output_type": "execute_result",
          "data": {
            "application/vnd.google.colaboratory.module+javascript": "\n      import \"https://ssl.gstatic.com/colaboratory/data_table/a6224c040fa35dcf/data_table.js\";\n\n      window.createDataTable({\n        data: [[\"A\",\n\"2007-01-03 00:00:00\",\n{\n            'v': 45846,\n            'f': \"45846\",\n        },\n{\n            'v': 34.99,\n            'f': \"34.99\",\n        },\n{\n            'v': 34.05,\n            'f': \"34.05\",\n        },\n{\n            'v': 35.48,\n            'f': \"35.48\",\n        },\n{\n            'v': 34.3,\n            'f': \"34.3\",\n        },\n{\n            'v': 22.8,\n            'f': \"22.8\",\n        },\n{\n            'v': NaN,\n            'f': \"NaN\",\n        },\n{\n            'v': 2574600,\n            'f': \"2574600\",\n        },\n{\n            'v': NaN,\n            'f': \"NaN\",\n        }],\n [\"A\",\n\"2007-01-04 00:00:00\",\n{\n            'v': 45846,\n            'f': \"45846\",\n        },\n{\n            'v': 34.3,\n            'f': \"34.3\",\n        },\n{\n            'v': 33.46,\n            'f': \"33.46\",\n        },\n{\n            'v': 34.6,\n            'f': \"34.6\",\n        },\n{\n            'v': 34.41,\n            'f': \"34.41\",\n        },\n{\n            'v': 22.87,\n            'f': \"22.87\",\n        },\n{\n            'v': NaN,\n            'f': \"NaN\",\n        },\n{\n            'v': 2073700,\n            'f': \"2073700\",\n        },\n{\n            'v': NaN,\n            'f': \"NaN\",\n        }],\n [\"A\",\n\"2007-01-05 00:00:00\",\n{\n            'v': 45846,\n            'f': \"45846\",\n        },\n{\n            'v': 34.3,\n            'f': \"34.3\",\n        },\n{\n            'v': 34.0,\n            'f': \"34.0\",\n        },\n{\n            'v': 34.4,\n            'f': \"34.4\",\n        },\n{\n            'v': 34.09,\n            'f': \"34.09\",\n        },\n{\n            'v': 22.66,\n            'f': \"22.66\",\n        },\n{\n            'v': NaN,\n            'f': \"NaN\",\n        },\n{\n            'v': 2676600,\n            'f': \"2676600\",\n        },\n{\n            'v': NaN,\n            'f': \"NaN\",\n        }],\n [\"A\",\n\"2007-01-08 00:00:00\",\n{\n            'v': 45846,\n            'f': \"45846\",\n        },\n{\n            'v': 33.98,\n            'f': \"33.98\",\n        },\n{\n            'v': 33.68,\n            'f': \"33.68\",\n        },\n{\n            'v': 34.08,\n            'f': \"34.08\",\n        },\n{\n            'v': 33.97,\n            'f': \"33.97\",\n        },\n{\n            'v': 22.58,\n            'f': \"22.58\",\n        },\n{\n            'v': NaN,\n            'f': \"NaN\",\n        },\n{\n            'v': 1557200,\n            'f': \"1557200\",\n        },\n{\n            'v': NaN,\n            'f': \"NaN\",\n        }],\n [\"A\",\n\"2007-01-09 00:00:00\",\n{\n            'v': 45846,\n            'f': \"45846\",\n        },\n{\n            'v': 34.08,\n            'f': \"34.08\",\n        },\n{\n            'v': 33.63,\n            'f': \"33.63\",\n        },\n{\n            'v': 34.32,\n            'f': \"34.32\",\n        },\n{\n            'v': 34.01,\n            'f': \"34.01\",\n        },\n{\n            'v': 22.61,\n            'f': \"22.61\",\n        },\n{\n            'v': NaN,\n            'f': \"NaN\",\n        },\n{\n            'v': 1386200,\n            'f': \"1386200\",\n        },\n{\n            'v': NaN,\n            'f': \"NaN\",\n        }]],\n        columns: [[\"string\", \"Ticker\"], [\"string\", \"Date\"], [\"number\", \"SimFinId\"], [\"number\", \"Open\"], [\"number\", \"Low\"], [\"number\", \"High\"], [\"number\", \"Close\"], [\"number\", \"Adj. Close\"], [\"number\", \"Dividend\"], [\"number\", \"Volume\"], [\"number\", \"Shares Outstanding\"]],\n        columnOptions: [{\"width\": \"1px\", \"className\": \"index_column\"}],\n        rowsPerPage: 25,\n        helpUrl: \"https://colab.research.google.com/notebooks/data_table.ipynb\",\n        suppressOutputScrolling: true,\n        minimumWidth: undefined,\n      });\n    ",
            "text/html": [
              "<div>\n",
              "<style scoped>\n",
              "    .dataframe tbody tr th:only-of-type {\n",
              "        vertical-align: middle;\n",
              "    }\n",
              "\n",
              "    .dataframe tbody tr th {\n",
              "        vertical-align: top;\n",
              "    }\n",
              "\n",
              "    .dataframe thead th {\n",
              "        text-align: right;\n",
              "    }\n",
              "</style>\n",
              "<table border=\"1\" class=\"dataframe\">\n",
              "  <thead>\n",
              "    <tr style=\"text-align: right;\">\n",
              "      <th></th>\n",
              "      <th>Date</th>\n",
              "      <th>SimFinId</th>\n",
              "      <th>Open</th>\n",
              "      <th>Low</th>\n",
              "      <th>High</th>\n",
              "      <th>Close</th>\n",
              "      <th>Adj. Close</th>\n",
              "      <th>Dividend</th>\n",
              "      <th>Volume</th>\n",
              "      <th>Shares Outstanding</th>\n",
              "    </tr>\n",
              "    <tr>\n",
              "      <th>Ticker</th>\n",
              "      <th></th>\n",
              "      <th></th>\n",
              "      <th></th>\n",
              "      <th></th>\n",
              "      <th></th>\n",
              "      <th></th>\n",
              "      <th></th>\n",
              "      <th></th>\n",
              "      <th></th>\n",
              "      <th></th>\n",
              "    </tr>\n",
              "  </thead>\n",
              "  <tbody>\n",
              "    <tr>\n",
              "      <th>A</th>\n",
              "      <td>2007-01-03</td>\n",
              "      <td>45846</td>\n",
              "      <td>34.99</td>\n",
              "      <td>34.05</td>\n",
              "      <td>35.48</td>\n",
              "      <td>34.30</td>\n",
              "      <td>22.80</td>\n",
              "      <td>NaN</td>\n",
              "      <td>2574600</td>\n",
              "      <td>NaN</td>\n",
              "    </tr>\n",
              "    <tr>\n",
              "      <th>A</th>\n",
              "      <td>2007-01-04</td>\n",
              "      <td>45846</td>\n",
              "      <td>34.30</td>\n",
              "      <td>33.46</td>\n",
              "      <td>34.60</td>\n",
              "      <td>34.41</td>\n",
              "      <td>22.87</td>\n",
              "      <td>NaN</td>\n",
              "      <td>2073700</td>\n",
              "      <td>NaN</td>\n",
              "    </tr>\n",
              "    <tr>\n",
              "      <th>A</th>\n",
              "      <td>2007-01-05</td>\n",
              "      <td>45846</td>\n",
              "      <td>34.30</td>\n",
              "      <td>34.00</td>\n",
              "      <td>34.40</td>\n",
              "      <td>34.09</td>\n",
              "      <td>22.66</td>\n",
              "      <td>NaN</td>\n",
              "      <td>2676600</td>\n",
              "      <td>NaN</td>\n",
              "    </tr>\n",
              "    <tr>\n",
              "      <th>A</th>\n",
              "      <td>2007-01-08</td>\n",
              "      <td>45846</td>\n",
              "      <td>33.98</td>\n",
              "      <td>33.68</td>\n",
              "      <td>34.08</td>\n",
              "      <td>33.97</td>\n",
              "      <td>22.58</td>\n",
              "      <td>NaN</td>\n",
              "      <td>1557200</td>\n",
              "      <td>NaN</td>\n",
              "    </tr>\n",
              "    <tr>\n",
              "      <th>A</th>\n",
              "      <td>2007-01-09</td>\n",
              "      <td>45846</td>\n",
              "      <td>34.08</td>\n",
              "      <td>33.63</td>\n",
              "      <td>34.32</td>\n",
              "      <td>34.01</td>\n",
              "      <td>22.61</td>\n",
              "      <td>NaN</td>\n",
              "      <td>1386200</td>\n",
              "      <td>NaN</td>\n",
              "    </tr>\n",
              "  </tbody>\n",
              "</table>\n",
              "</div>"
            ],
            "text/plain": [
              "             Date  SimFinId   Open  ...  Dividend   Volume  Shares Outstanding\n",
              "Ticker                              ...                                       \n",
              "A      2007-01-03     45846  34.99  ...       NaN  2574600                 NaN\n",
              "A      2007-01-04     45846  34.30  ...       NaN  2073700                 NaN\n",
              "A      2007-01-05     45846  34.30  ...       NaN  2676600                 NaN\n",
              "A      2007-01-08     45846  33.98  ...       NaN  1557200                 NaN\n",
              "A      2007-01-09     45846  34.08  ...       NaN  1386200                 NaN\n",
              "\n",
              "[5 rows x 10 columns]"
            ]
          },
          "metadata": {
            "tags": []
          },
          "execution_count": 25
        }
      ]
    },
    {
      "cell_type": "code",
      "metadata": {
        "id": "9I8HuTQtuDQQ",
        "colab_type": "code",
        "colab": {}
      },
      "source": [
        "data = df_snp500shares"
      ],
      "execution_count": 26,
      "outputs": []
    },
    {
      "cell_type": "code",
      "metadata": {
        "id": "yclpB_Bhx6PZ",
        "colab_type": "code",
        "colab": {
          "base_uri": "https://localhost:8080/",
          "height": 197
        },
        "outputId": "aeeb3283-2740-4f32-f615-ea1f99cc656e"
      },
      "source": [
        "data.head()"
      ],
      "execution_count": 27,
      "outputs": [
        {
          "output_type": "execute_result",
          "data": {
            "application/vnd.google.colaboratory.module+javascript": "\n      import \"https://ssl.gstatic.com/colaboratory/data_table/a6224c040fa35dcf/data_table.js\";\n\n      window.createDataTable({\n        data: [[\"A\",\n\"2007-01-03 00:00:00\",\n{\n            'v': 45846,\n            'f': \"45846\",\n        },\n{\n            'v': 34.99,\n            'f': \"34.99\",\n        },\n{\n            'v': 34.05,\n            'f': \"34.05\",\n        },\n{\n            'v': 35.48,\n            'f': \"35.48\",\n        },\n{\n            'v': 34.3,\n            'f': \"34.3\",\n        },\n{\n            'v': 22.8,\n            'f': \"22.8\",\n        },\n{\n            'v': NaN,\n            'f': \"NaN\",\n        },\n{\n            'v': 2574600,\n            'f': \"2574600\",\n        },\n{\n            'v': NaN,\n            'f': \"NaN\",\n        }],\n [\"A\",\n\"2007-01-04 00:00:00\",\n{\n            'v': 45846,\n            'f': \"45846\",\n        },\n{\n            'v': 34.3,\n            'f': \"34.3\",\n        },\n{\n            'v': 33.46,\n            'f': \"33.46\",\n        },\n{\n            'v': 34.6,\n            'f': \"34.6\",\n        },\n{\n            'v': 34.41,\n            'f': \"34.41\",\n        },\n{\n            'v': 22.87,\n            'f': \"22.87\",\n        },\n{\n            'v': NaN,\n            'f': \"NaN\",\n        },\n{\n            'v': 2073700,\n            'f': \"2073700\",\n        },\n{\n            'v': NaN,\n            'f': \"NaN\",\n        }],\n [\"A\",\n\"2007-01-05 00:00:00\",\n{\n            'v': 45846,\n            'f': \"45846\",\n        },\n{\n            'v': 34.3,\n            'f': \"34.3\",\n        },\n{\n            'v': 34.0,\n            'f': \"34.0\",\n        },\n{\n            'v': 34.4,\n            'f': \"34.4\",\n        },\n{\n            'v': 34.09,\n            'f': \"34.09\",\n        },\n{\n            'v': 22.66,\n            'f': \"22.66\",\n        },\n{\n            'v': NaN,\n            'f': \"NaN\",\n        },\n{\n            'v': 2676600,\n            'f': \"2676600\",\n        },\n{\n            'v': NaN,\n            'f': \"NaN\",\n        }],\n [\"A\",\n\"2007-01-08 00:00:00\",\n{\n            'v': 45846,\n            'f': \"45846\",\n        },\n{\n            'v': 33.98,\n            'f': \"33.98\",\n        },\n{\n            'v': 33.68,\n            'f': \"33.68\",\n        },\n{\n            'v': 34.08,\n            'f': \"34.08\",\n        },\n{\n            'v': 33.97,\n            'f': \"33.97\",\n        },\n{\n            'v': 22.58,\n            'f': \"22.58\",\n        },\n{\n            'v': NaN,\n            'f': \"NaN\",\n        },\n{\n            'v': 1557200,\n            'f': \"1557200\",\n        },\n{\n            'v': NaN,\n            'f': \"NaN\",\n        }],\n [\"A\",\n\"2007-01-09 00:00:00\",\n{\n            'v': 45846,\n            'f': \"45846\",\n        },\n{\n            'v': 34.08,\n            'f': \"34.08\",\n        },\n{\n            'v': 33.63,\n            'f': \"33.63\",\n        },\n{\n            'v': 34.32,\n            'f': \"34.32\",\n        },\n{\n            'v': 34.01,\n            'f': \"34.01\",\n        },\n{\n            'v': 22.61,\n            'f': \"22.61\",\n        },\n{\n            'v': NaN,\n            'f': \"NaN\",\n        },\n{\n            'v': 1386200,\n            'f': \"1386200\",\n        },\n{\n            'v': NaN,\n            'f': \"NaN\",\n        }]],\n        columns: [[\"string\", \"Ticker\"], [\"string\", \"Date\"], [\"number\", \"SimFinId\"], [\"number\", \"Open\"], [\"number\", \"Low\"], [\"number\", \"High\"], [\"number\", \"Close\"], [\"number\", \"Adj. Close\"], [\"number\", \"Dividend\"], [\"number\", \"Volume\"], [\"number\", \"Shares Outstanding\"]],\n        columnOptions: [{\"width\": \"1px\", \"className\": \"index_column\"}],\n        rowsPerPage: 25,\n        helpUrl: \"https://colab.research.google.com/notebooks/data_table.ipynb\",\n        suppressOutputScrolling: true,\n        minimumWidth: undefined,\n      });\n    ",
            "text/html": [
              "<div>\n",
              "<style scoped>\n",
              "    .dataframe tbody tr th:only-of-type {\n",
              "        vertical-align: middle;\n",
              "    }\n",
              "\n",
              "    .dataframe tbody tr th {\n",
              "        vertical-align: top;\n",
              "    }\n",
              "\n",
              "    .dataframe thead th {\n",
              "        text-align: right;\n",
              "    }\n",
              "</style>\n",
              "<table border=\"1\" class=\"dataframe\">\n",
              "  <thead>\n",
              "    <tr style=\"text-align: right;\">\n",
              "      <th></th>\n",
              "      <th>Date</th>\n",
              "      <th>SimFinId</th>\n",
              "      <th>Open</th>\n",
              "      <th>Low</th>\n",
              "      <th>High</th>\n",
              "      <th>Close</th>\n",
              "      <th>Adj. Close</th>\n",
              "      <th>Dividend</th>\n",
              "      <th>Volume</th>\n",
              "      <th>Shares Outstanding</th>\n",
              "    </tr>\n",
              "    <tr>\n",
              "      <th>Ticker</th>\n",
              "      <th></th>\n",
              "      <th></th>\n",
              "      <th></th>\n",
              "      <th></th>\n",
              "      <th></th>\n",
              "      <th></th>\n",
              "      <th></th>\n",
              "      <th></th>\n",
              "      <th></th>\n",
              "      <th></th>\n",
              "    </tr>\n",
              "  </thead>\n",
              "  <tbody>\n",
              "    <tr>\n",
              "      <th>A</th>\n",
              "      <td>2007-01-03</td>\n",
              "      <td>45846</td>\n",
              "      <td>34.99</td>\n",
              "      <td>34.05</td>\n",
              "      <td>35.48</td>\n",
              "      <td>34.30</td>\n",
              "      <td>22.80</td>\n",
              "      <td>NaN</td>\n",
              "      <td>2574600</td>\n",
              "      <td>NaN</td>\n",
              "    </tr>\n",
              "    <tr>\n",
              "      <th>A</th>\n",
              "      <td>2007-01-04</td>\n",
              "      <td>45846</td>\n",
              "      <td>34.30</td>\n",
              "      <td>33.46</td>\n",
              "      <td>34.60</td>\n",
              "      <td>34.41</td>\n",
              "      <td>22.87</td>\n",
              "      <td>NaN</td>\n",
              "      <td>2073700</td>\n",
              "      <td>NaN</td>\n",
              "    </tr>\n",
              "    <tr>\n",
              "      <th>A</th>\n",
              "      <td>2007-01-05</td>\n",
              "      <td>45846</td>\n",
              "      <td>34.30</td>\n",
              "      <td>34.00</td>\n",
              "      <td>34.40</td>\n",
              "      <td>34.09</td>\n",
              "      <td>22.66</td>\n",
              "      <td>NaN</td>\n",
              "      <td>2676600</td>\n",
              "      <td>NaN</td>\n",
              "    </tr>\n",
              "    <tr>\n",
              "      <th>A</th>\n",
              "      <td>2007-01-08</td>\n",
              "      <td>45846</td>\n",
              "      <td>33.98</td>\n",
              "      <td>33.68</td>\n",
              "      <td>34.08</td>\n",
              "      <td>33.97</td>\n",
              "      <td>22.58</td>\n",
              "      <td>NaN</td>\n",
              "      <td>1557200</td>\n",
              "      <td>NaN</td>\n",
              "    </tr>\n",
              "    <tr>\n",
              "      <th>A</th>\n",
              "      <td>2007-01-09</td>\n",
              "      <td>45846</td>\n",
              "      <td>34.08</td>\n",
              "      <td>33.63</td>\n",
              "      <td>34.32</td>\n",
              "      <td>34.01</td>\n",
              "      <td>22.61</td>\n",
              "      <td>NaN</td>\n",
              "      <td>1386200</td>\n",
              "      <td>NaN</td>\n",
              "    </tr>\n",
              "  </tbody>\n",
              "</table>\n",
              "</div>"
            ],
            "text/plain": [
              "             Date  SimFinId   Open  ...  Dividend   Volume  Shares Outstanding\n",
              "Ticker                              ...                                       \n",
              "A      2007-01-03     45846  34.99  ...       NaN  2574600                 NaN\n",
              "A      2007-01-04     45846  34.30  ...       NaN  2073700                 NaN\n",
              "A      2007-01-05     45846  34.30  ...       NaN  2676600                 NaN\n",
              "A      2007-01-08     45846  33.98  ...       NaN  1557200                 NaN\n",
              "A      2007-01-09     45846  34.08  ...       NaN  1386200                 NaN\n",
              "\n",
              "[5 rows x 10 columns]"
            ]
          },
          "metadata": {
            "tags": []
          },
          "execution_count": 27
        }
      ]
    },
    {
      "cell_type": "code",
      "metadata": {
        "id": "t9s2uf5ey_YV",
        "colab_type": "code",
        "colab": {}
      },
      "source": [
        "data2 = data[['Date','Adj. Close']]"
      ],
      "execution_count": 28,
      "outputs": []
    },
    {
      "cell_type": "code",
      "metadata": {
        "id": "Np_XhTNy1aef",
        "colab_type": "code",
        "colab": {}
      },
      "source": [
        "data3 = data2.reset_index().set_index(['Date','Ticker']).unstack()"
      ],
      "execution_count": 29,
      "outputs": []
    },
    {
      "cell_type": "code",
      "metadata": {
        "id": "nlQMs4gW-NvU",
        "colab_type": "code",
        "colab": {
          "base_uri": "https://localhost:8080/",
          "height": 399
        },
        "outputId": "6a328b9f-9b9c-4395-bea1-6caae004fc78"
      },
      "source": [
        "data3.head()"
      ],
      "execution_count": 30,
      "outputs": [
        {
          "output_type": "execute_result",
          "data": {
            "text/html": [
              "<div>\n",
              "<style scoped>\n",
              "    .dataframe tbody tr th:only-of-type {\n",
              "        vertical-align: middle;\n",
              "    }\n",
              "\n",
              "    .dataframe tbody tr th {\n",
              "        vertical-align: top;\n",
              "    }\n",
              "\n",
              "    .dataframe thead tr th {\n",
              "        text-align: left;\n",
              "    }\n",
              "\n",
              "    .dataframe thead tr:last-of-type th {\n",
              "        text-align: right;\n",
              "    }\n",
              "</style>\n",
              "<table border=\"1\" class=\"dataframe\">\n",
              "  <thead>\n",
              "    <tr>\n",
              "      <th></th>\n",
              "      <th colspan=\"81\" halign=\"left\">Adj. Close</th>\n",
              "    </tr>\n",
              "    <tr>\n",
              "      <th>Ticker</th>\n",
              "      <th>A</th>\n",
              "      <th>AAL</th>\n",
              "      <th>AAP</th>\n",
              "      <th>AAPL</th>\n",
              "      <th>ABBV</th>\n",
              "      <th>ABC</th>\n",
              "      <th>ABMD</th>\n",
              "      <th>ABT</th>\n",
              "      <th>ACN</th>\n",
              "      <th>ADBE</th>\n",
              "      <th>ADI</th>\n",
              "      <th>ADM</th>\n",
              "      <th>ADP</th>\n",
              "      <th>ADS</th>\n",
              "      <th>ADSK</th>\n",
              "      <th>AEE</th>\n",
              "      <th>AEP</th>\n",
              "      <th>AES</th>\n",
              "      <th>AFL</th>\n",
              "      <th>AIG</th>\n",
              "      <th>AIZ</th>\n",
              "      <th>AJG</th>\n",
              "      <th>AKAM</th>\n",
              "      <th>ALB</th>\n",
              "      <th>ALGN</th>\n",
              "      <th>ALK</th>\n",
              "      <th>ALL</th>\n",
              "      <th>ALLE</th>\n",
              "      <th>ALXN</th>\n",
              "      <th>AMAT</th>\n",
              "      <th>AMD</th>\n",
              "      <th>AME</th>\n",
              "      <th>AMGN</th>\n",
              "      <th>AMP</th>\n",
              "      <th>AMT</th>\n",
              "      <th>AMZN</th>\n",
              "      <th>ANET</th>\n",
              "      <th>ANSS</th>\n",
              "      <th>ANTM</th>\n",
              "      <th>AON</th>\n",
              "      <th>...</th>\n",
              "      <th>UPS</th>\n",
              "      <th>URI</th>\n",
              "      <th>USB</th>\n",
              "      <th>V</th>\n",
              "      <th>VAR</th>\n",
              "      <th>VFC</th>\n",
              "      <th>VLO</th>\n",
              "      <th>VMC</th>\n",
              "      <th>VNO</th>\n",
              "      <th>VRSK</th>\n",
              "      <th>VRSN</th>\n",
              "      <th>VRTX</th>\n",
              "      <th>VTR</th>\n",
              "      <th>VZ</th>\n",
              "      <th>WAB</th>\n",
              "      <th>WAT</th>\n",
              "      <th>WBA</th>\n",
              "      <th>WDC</th>\n",
              "      <th>WEC</th>\n",
              "      <th>WELL</th>\n",
              "      <th>WFC</th>\n",
              "      <th>WHR</th>\n",
              "      <th>WLTW</th>\n",
              "      <th>WM</th>\n",
              "      <th>WMB</th>\n",
              "      <th>WMT</th>\n",
              "      <th>WRK</th>\n",
              "      <th>WU</th>\n",
              "      <th>WY</th>\n",
              "      <th>WYNN</th>\n",
              "      <th>XEL</th>\n",
              "      <th>XLNX</th>\n",
              "      <th>XOM</th>\n",
              "      <th>XRAY</th>\n",
              "      <th>XRX</th>\n",
              "      <th>XYL</th>\n",
              "      <th>YUM</th>\n",
              "      <th>ZBH</th>\n",
              "      <th>ZION</th>\n",
              "      <th>ZTS</th>\n",
              "    </tr>\n",
              "    <tr>\n",
              "      <th>Date</th>\n",
              "      <th></th>\n",
              "      <th></th>\n",
              "      <th></th>\n",
              "      <th></th>\n",
              "      <th></th>\n",
              "      <th></th>\n",
              "      <th></th>\n",
              "      <th></th>\n",
              "      <th></th>\n",
              "      <th></th>\n",
              "      <th></th>\n",
              "      <th></th>\n",
              "      <th></th>\n",
              "      <th></th>\n",
              "      <th></th>\n",
              "      <th></th>\n",
              "      <th></th>\n",
              "      <th></th>\n",
              "      <th></th>\n",
              "      <th></th>\n",
              "      <th></th>\n",
              "      <th></th>\n",
              "      <th></th>\n",
              "      <th></th>\n",
              "      <th></th>\n",
              "      <th></th>\n",
              "      <th></th>\n",
              "      <th></th>\n",
              "      <th></th>\n",
              "      <th></th>\n",
              "      <th></th>\n",
              "      <th></th>\n",
              "      <th></th>\n",
              "      <th></th>\n",
              "      <th></th>\n",
              "      <th></th>\n",
              "      <th></th>\n",
              "      <th></th>\n",
              "      <th></th>\n",
              "      <th></th>\n",
              "      <th></th>\n",
              "      <th></th>\n",
              "      <th></th>\n",
              "      <th></th>\n",
              "      <th></th>\n",
              "      <th></th>\n",
              "      <th></th>\n",
              "      <th></th>\n",
              "      <th></th>\n",
              "      <th></th>\n",
              "      <th></th>\n",
              "      <th></th>\n",
              "      <th></th>\n",
              "      <th></th>\n",
              "      <th></th>\n",
              "      <th></th>\n",
              "      <th></th>\n",
              "      <th></th>\n",
              "      <th></th>\n",
              "      <th></th>\n",
              "      <th></th>\n",
              "      <th></th>\n",
              "      <th></th>\n",
              "      <th></th>\n",
              "      <th></th>\n",
              "      <th></th>\n",
              "      <th></th>\n",
              "      <th></th>\n",
              "      <th></th>\n",
              "      <th></th>\n",
              "      <th></th>\n",
              "      <th></th>\n",
              "      <th></th>\n",
              "      <th></th>\n",
              "      <th></th>\n",
              "      <th></th>\n",
              "      <th></th>\n",
              "      <th></th>\n",
              "      <th></th>\n",
              "      <th></th>\n",
              "      <th></th>\n",
              "    </tr>\n",
              "  </thead>\n",
              "  <tbody>\n",
              "    <tr>\n",
              "      <th>2007-01-03</th>\n",
              "      <td>22.80</td>\n",
              "      <td>53.07</td>\n",
              "      <td>33.90</td>\n",
              "      <td>10.36</td>\n",
              "      <td>NaN</td>\n",
              "      <td>18.61</td>\n",
              "      <td>14.05</td>\n",
              "      <td>16.85</td>\n",
              "      <td>27.80</td>\n",
              "      <td>39.92</td>\n",
              "      <td>23.04</td>\n",
              "      <td>23.16</td>\n",
              "      <td>27.02</td>\n",
              "      <td>60.77</td>\n",
              "      <td>40.56</td>\n",
              "      <td>29.40</td>\n",
              "      <td>24.74</td>\n",
              "      <td>15.40</td>\n",
              "      <td>16.71</td>\n",
              "      <td>1018.12</td>\n",
              "      <td>42.70</td>\n",
              "      <td>18.08</td>\n",
              "      <td>52.07</td>\n",
              "      <td>29.15</td>\n",
              "      <td>13.35</td>\n",
              "      <td>9.22</td>\n",
              "      <td>46.99</td>\n",
              "      <td>NaN</td>\n",
              "      <td>10.15</td>\n",
              "      <td>14.24</td>\n",
              "      <td>19.52</td>\n",
              "      <td>12.95</td>\n",
              "      <td>55.30</td>\n",
              "      <td>40.99</td>\n",
              "      <td>32.52</td>\n",
              "      <td>38.70</td>\n",
              "      <td>NaN</td>\n",
              "      <td>22.10</td>\n",
              "      <td>67.36</td>\n",
              "      <td>29.91</td>\n",
              "      <td>...</td>\n",
              "      <td>49.97</td>\n",
              "      <td>25.89</td>\n",
              "      <td>25.12</td>\n",
              "      <td>NaN</td>\n",
              "      <td>41.77</td>\n",
              "      <td>13.64</td>\n",
              "      <td>32.44</td>\n",
              "      <td>75.40</td>\n",
              "      <td>53.18</td>\n",
              "      <td>NaN</td>\n",
              "      <td>20.50</td>\n",
              "      <td>36.90</td>\n",
              "      <td>18.76</td>\n",
              "      <td>18.15</td>\n",
              "      <td>14.37</td>\n",
              "      <td>48.88</td>\n",
              "      <td>34.86</td>\n",
              "      <td>16.38</td>\n",
              "      <td>15.65</td>\n",
              "      <td>20.86</td>\n",
              "      <td>24.12</td>\n",
              "      <td>59.31</td>\n",
              "      <td>NaN</td>\n",
              "      <td>24.29</td>\n",
              "      <td>11.83</td>\n",
              "      <td>34.70</td>\n",
              "      <td>NaN</td>\n",
              "      <td>16.40</td>\n",
              "      <td>17.50</td>\n",
              "      <td>56.92</td>\n",
              "      <td>13.98</td>\n",
              "      <td>17.30</td>\n",
              "      <td>48.81</td>\n",
              "      <td>27.65</td>\n",
              "      <td>33.71</td>\n",
              "      <td>NaN</td>\n",
              "      <td>16.09</td>\n",
              "      <td>71.55</td>\n",
              "      <td>68.77</td>\n",
              "      <td>NaN</td>\n",
              "    </tr>\n",
              "    <tr>\n",
              "      <th>2007-01-04</th>\n",
              "      <td>22.87</td>\n",
              "      <td>55.46</td>\n",
              "      <td>34.12</td>\n",
              "      <td>10.59</td>\n",
              "      <td>NaN</td>\n",
              "      <td>18.68</td>\n",
              "      <td>14.35</td>\n",
              "      <td>17.17</td>\n",
              "      <td>28.42</td>\n",
              "      <td>40.82</td>\n",
              "      <td>23.44</td>\n",
              "      <td>23.03</td>\n",
              "      <td>27.29</td>\n",
              "      <td>61.29</td>\n",
              "      <td>41.33</td>\n",
              "      <td>29.31</td>\n",
              "      <td>24.73</td>\n",
              "      <td>15.41</td>\n",
              "      <td>16.53</td>\n",
              "      <td>1009.09</td>\n",
              "      <td>43.12</td>\n",
              "      <td>18.00</td>\n",
              "      <td>53.30</td>\n",
              "      <td>29.02</td>\n",
              "      <td>13.60</td>\n",
              "      <td>9.40</td>\n",
              "      <td>47.05</td>\n",
              "      <td>NaN</td>\n",
              "      <td>10.18</td>\n",
              "      <td>14.53</td>\n",
              "      <td>19.79</td>\n",
              "      <td>12.87</td>\n",
              "      <td>57.67</td>\n",
              "      <td>41.26</td>\n",
              "      <td>32.39</td>\n",
              "      <td>38.90</td>\n",
              "      <td>NaN</td>\n",
              "      <td>22.08</td>\n",
              "      <td>67.08</td>\n",
              "      <td>30.25</td>\n",
              "      <td>...</td>\n",
              "      <td>50.05</td>\n",
              "      <td>25.46</td>\n",
              "      <td>25.14</td>\n",
              "      <td>NaN</td>\n",
              "      <td>42.72</td>\n",
              "      <td>13.72</td>\n",
              "      <td>31.69</td>\n",
              "      <td>75.18</td>\n",
              "      <td>53.31</td>\n",
              "      <td>NaN</td>\n",
              "      <td>20.93</td>\n",
              "      <td>36.99</td>\n",
              "      <td>18.74</td>\n",
              "      <td>18.26</td>\n",
              "      <td>14.12</td>\n",
              "      <td>49.22</td>\n",
              "      <td>34.92</td>\n",
              "      <td>16.45</td>\n",
              "      <td>15.65</td>\n",
              "      <td>21.10</td>\n",
              "      <td>24.16</td>\n",
              "      <td>59.38</td>\n",
              "      <td>NaN</td>\n",
              "      <td>23.99</td>\n",
              "      <td>11.80</td>\n",
              "      <td>34.87</td>\n",
              "      <td>NaN</td>\n",
              "      <td>16.55</td>\n",
              "      <td>17.32</td>\n",
              "      <td>56.94</td>\n",
              "      <td>13.99</td>\n",
              "      <td>17.71</td>\n",
              "      <td>47.89</td>\n",
              "      <td>27.73</td>\n",
              "      <td>33.69</td>\n",
              "      <td>NaN</td>\n",
              "      <td>16.05</td>\n",
              "      <td>73.15</td>\n",
              "      <td>69.08</td>\n",
              "      <td>NaN</td>\n",
              "    </tr>\n",
              "    <tr>\n",
              "      <th>2007-01-05</th>\n",
              "      <td>22.66</td>\n",
              "      <td>54.94</td>\n",
              "      <td>33.37</td>\n",
              "      <td>10.52</td>\n",
              "      <td>NaN</td>\n",
              "      <td>18.45</td>\n",
              "      <td>14.14</td>\n",
              "      <td>17.17</td>\n",
              "      <td>28.03</td>\n",
              "      <td>40.62</td>\n",
              "      <td>23.17</td>\n",
              "      <td>22.99</td>\n",
              "      <td>27.22</td>\n",
              "      <td>61.34</td>\n",
              "      <td>41.93</td>\n",
              "      <td>28.91</td>\n",
              "      <td>24.27</td>\n",
              "      <td>14.97</td>\n",
              "      <td>16.55</td>\n",
              "      <td>1004.43</td>\n",
              "      <td>42.83</td>\n",
              "      <td>17.76</td>\n",
              "      <td>53.19</td>\n",
              "      <td>28.51</td>\n",
              "      <td>13.64</td>\n",
              "      <td>9.06</td>\n",
              "      <td>46.92</td>\n",
              "      <td>NaN</td>\n",
              "      <td>10.12</td>\n",
              "      <td>14.43</td>\n",
              "      <td>19.71</td>\n",
              "      <td>12.63</td>\n",
              "      <td>57.80</td>\n",
              "      <td>41.20</td>\n",
              "      <td>32.11</td>\n",
              "      <td>38.37</td>\n",
              "      <td>NaN</td>\n",
              "      <td>22.00</td>\n",
              "      <td>67.62</td>\n",
              "      <td>30.07</td>\n",
              "      <td>...</td>\n",
              "      <td>49.42</td>\n",
              "      <td>25.03</td>\n",
              "      <td>24.84</td>\n",
              "      <td>NaN</td>\n",
              "      <td>42.44</td>\n",
              "      <td>13.62</td>\n",
              "      <td>31.99</td>\n",
              "      <td>73.98</td>\n",
              "      <td>52.24</td>\n",
              "      <td>NaN</td>\n",
              "      <td>20.94</td>\n",
              "      <td>35.81</td>\n",
              "      <td>18.51</td>\n",
              "      <td>17.94</td>\n",
              "      <td>13.74</td>\n",
              "      <td>48.67</td>\n",
              "      <td>34.42</td>\n",
              "      <td>15.95</td>\n",
              "      <td>15.33</td>\n",
              "      <td>21.10</td>\n",
              "      <td>24.02</td>\n",
              "      <td>59.36</td>\n",
              "      <td>NaN</td>\n",
              "      <td>23.60</td>\n",
              "      <td>11.87</td>\n",
              "      <td>34.59</td>\n",
              "      <td>NaN</td>\n",
              "      <td>16.13</td>\n",
              "      <td>17.27</td>\n",
              "      <td>57.28</td>\n",
              "      <td>13.71</td>\n",
              "      <td>17.55</td>\n",
              "      <td>48.24</td>\n",
              "      <td>27.73</td>\n",
              "      <td>33.37</td>\n",
              "      <td>NaN</td>\n",
              "      <td>15.91</td>\n",
              "      <td>73.10</td>\n",
              "      <td>68.87</td>\n",
              "      <td>NaN</td>\n",
              "    </tr>\n",
              "    <tr>\n",
              "      <th>2007-01-08</th>\n",
              "      <td>22.58</td>\n",
              "      <td>54.60</td>\n",
              "      <td>33.48</td>\n",
              "      <td>10.57</td>\n",
              "      <td>NaN</td>\n",
              "      <td>18.74</td>\n",
              "      <td>14.11</td>\n",
              "      <td>17.23</td>\n",
              "      <td>28.43</td>\n",
              "      <td>40.45</td>\n",
              "      <td>23.36</td>\n",
              "      <td>23.11</td>\n",
              "      <td>27.23</td>\n",
              "      <td>61.23</td>\n",
              "      <td>41.80</td>\n",
              "      <td>28.94</td>\n",
              "      <td>24.25</td>\n",
              "      <td>14.76</td>\n",
              "      <td>16.56</td>\n",
              "      <td>1009.37</td>\n",
              "      <td>42.86</td>\n",
              "      <td>17.44</td>\n",
              "      <td>53.01</td>\n",
              "      <td>28.37</td>\n",
              "      <td>13.68</td>\n",
              "      <td>9.26</td>\n",
              "      <td>46.99</td>\n",
              "      <td>NaN</td>\n",
              "      <td>9.84</td>\n",
              "      <td>14.60</td>\n",
              "      <td>19.47</td>\n",
              "      <td>12.65</td>\n",
              "      <td>57.34</td>\n",
              "      <td>41.71</td>\n",
              "      <td>33.03</td>\n",
              "      <td>37.50</td>\n",
              "      <td>NaN</td>\n",
              "      <td>22.16</td>\n",
              "      <td>68.02</td>\n",
              "      <td>29.92</td>\n",
              "      <td>...</td>\n",
              "      <td>49.58</td>\n",
              "      <td>24.81</td>\n",
              "      <td>24.76</td>\n",
              "      <td>NaN</td>\n",
              "      <td>42.68</td>\n",
              "      <td>13.59</td>\n",
              "      <td>32.00</td>\n",
              "      <td>74.49</td>\n",
              "      <td>51.62</td>\n",
              "      <td>NaN</td>\n",
              "      <td>20.80</td>\n",
              "      <td>33.55</td>\n",
              "      <td>18.55</td>\n",
              "      <td>17.86</td>\n",
              "      <td>13.90</td>\n",
              "      <td>50.55</td>\n",
              "      <td>34.57</td>\n",
              "      <td>15.96</td>\n",
              "      <td>15.19</td>\n",
              "      <td>21.19</td>\n",
              "      <td>23.95</td>\n",
              "      <td>59.27</td>\n",
              "      <td>NaN</td>\n",
              "      <td>23.66</td>\n",
              "      <td>11.95</td>\n",
              "      <td>34.30</td>\n",
              "      <td>NaN</td>\n",
              "      <td>15.86</td>\n",
              "      <td>17.42</td>\n",
              "      <td>58.36</td>\n",
              "      <td>13.71</td>\n",
              "      <td>17.66</td>\n",
              "      <td>47.85</td>\n",
              "      <td>27.89</td>\n",
              "      <td>33.93</td>\n",
              "      <td>NaN</td>\n",
              "      <td>15.87</td>\n",
              "      <td>72.63</td>\n",
              "      <td>68.99</td>\n",
              "      <td>NaN</td>\n",
              "    </tr>\n",
              "    <tr>\n",
              "      <th>2007-01-09</th>\n",
              "      <td>22.61</td>\n",
              "      <td>54.58</td>\n",
              "      <td>33.77</td>\n",
              "      <td>11.45</td>\n",
              "      <td>NaN</td>\n",
              "      <td>18.68</td>\n",
              "      <td>13.96</td>\n",
              "      <td>17.28</td>\n",
              "      <td>28.36</td>\n",
              "      <td>39.63</td>\n",
              "      <td>23.32</td>\n",
              "      <td>22.54</td>\n",
              "      <td>27.13</td>\n",
              "      <td>62.29</td>\n",
              "      <td>42.32</td>\n",
              "      <td>29.04</td>\n",
              "      <td>24.48</td>\n",
              "      <td>14.15</td>\n",
              "      <td>16.62</td>\n",
              "      <td>1005.98</td>\n",
              "      <td>42.60</td>\n",
              "      <td>17.45</td>\n",
              "      <td>52.67</td>\n",
              "      <td>28.53</td>\n",
              "      <td>13.70</td>\n",
              "      <td>9.33</td>\n",
              "      <td>46.74</td>\n",
              "      <td>NaN</td>\n",
              "      <td>9.76</td>\n",
              "      <td>14.88</td>\n",
              "      <td>19.65</td>\n",
              "      <td>12.65</td>\n",
              "      <td>57.62</td>\n",
              "      <td>41.97</td>\n",
              "      <td>33.51</td>\n",
              "      <td>37.78</td>\n",
              "      <td>NaN</td>\n",
              "      <td>21.77</td>\n",
              "      <td>65.65</td>\n",
              "      <td>29.75</td>\n",
              "      <td>...</td>\n",
              "      <td>49.38</td>\n",
              "      <td>24.96</td>\n",
              "      <td>24.75</td>\n",
              "      <td>NaN</td>\n",
              "      <td>42.91</td>\n",
              "      <td>13.67</td>\n",
              "      <td>31.72</td>\n",
              "      <td>75.23</td>\n",
              "      <td>52.39</td>\n",
              "      <td>NaN</td>\n",
              "      <td>20.80</td>\n",
              "      <td>33.87</td>\n",
              "      <td>18.78</td>\n",
              "      <td>17.94</td>\n",
              "      <td>13.90</td>\n",
              "      <td>51.14</td>\n",
              "      <td>34.75</td>\n",
              "      <td>16.02</td>\n",
              "      <td>15.15</td>\n",
              "      <td>21.30</td>\n",
              "      <td>24.01</td>\n",
              "      <td>59.35</td>\n",
              "      <td>NaN</td>\n",
              "      <td>23.41</td>\n",
              "      <td>11.79</td>\n",
              "      <td>34.59</td>\n",
              "      <td>NaN</td>\n",
              "      <td>16.07</td>\n",
              "      <td>17.33</td>\n",
              "      <td>58.59</td>\n",
              "      <td>13.70</td>\n",
              "      <td>17.58</td>\n",
              "      <td>47.48</td>\n",
              "      <td>27.90</td>\n",
              "      <td>33.83</td>\n",
              "      <td>NaN</td>\n",
              "      <td>15.89</td>\n",
              "      <td>72.67</td>\n",
              "      <td>69.37</td>\n",
              "      <td>NaN</td>\n",
              "    </tr>\n",
              "  </tbody>\n",
              "</table>\n",
              "<p>5 rows × 457 columns</p>\n",
              "</div>"
            ],
            "text/plain": [
              "           Adj. Close                            ...                             \n",
              "Ticker              A    AAL    AAP   AAPL ABBV  ... XYL    YUM    ZBH   ZION ZTS\n",
              "Date                                             ...                             \n",
              "2007-01-03      22.80  53.07  33.90  10.36  NaN  ... NaN  16.09  71.55  68.77 NaN\n",
              "2007-01-04      22.87  55.46  34.12  10.59  NaN  ... NaN  16.05  73.15  69.08 NaN\n",
              "2007-01-05      22.66  54.94  33.37  10.52  NaN  ... NaN  15.91  73.10  68.87 NaN\n",
              "2007-01-08      22.58  54.60  33.48  10.57  NaN  ... NaN  15.87  72.63  68.99 NaN\n",
              "2007-01-09      22.61  54.58  33.77  11.45  NaN  ... NaN  15.89  72.67  69.37 NaN\n",
              "\n",
              "[5 rows x 457 columns]"
            ]
          },
          "metadata": {
            "tags": []
          },
          "execution_count": 30
        }
      ]
    },
    {
      "cell_type": "markdown",
      "metadata": {
        "id": "skhOhxfC4Lez",
        "colab_type": "text"
      },
      "source": [
        "SIMULATION FUNCTION"
      ]
    },
    {
      "cell_type": "code",
      "metadata": {
        "id": "imqBiFUzF01H",
        "colab_type": "code",
        "colab": {}
      },
      "source": [
        "# PORTFOLIO SIMULATION FUNCTION\n",
        "def portfolio_simulation(assets, iterations):\n",
        "    '''\n",
        "    Runs a simulation by randomly selecting portfolio weights a specified\n",
        "    number of times (iterations), returns the list of results and plots \n",
        "    all the portfolios as well.\n",
        "    \n",
        "    Parameters:\n",
        "    -----------  \n",
        "        assets: list\n",
        "            all the assets to use for the model.    \n",
        "        iterations: int \n",
        "            the number of randomly generated portfolios to build.\n",
        "    \n",
        "    Returns:\n",
        "    --------\n",
        "        port_returns: array\n",
        "            array of all the simulated portfolio returns.\n",
        "        port_vols: array\n",
        "            array of all the simulated portfolio volatilities.\n",
        "    '''\n",
        "    \n",
        "    start = time.time()\n",
        "    num_assets = len(assets)\n",
        "    \n",
        "    # Fetch data    \n",
        "    adj_closes = data3['Adj. Close'][assets]\n",
        "    returns = np.log(adj_closes / adj_closes.shift(1))\n",
        "    returns.dropna(inplace=True)\n",
        "    port_returns = []\n",
        "    port_vols = []\n",
        "    \n",
        "    for i in range (iterations):\n",
        "        weights = np.random.dirichlet(np.ones(num_assets),size=1)\n",
        "        weights = weights[0]\n",
        "        port_returns.append(np.sum(returns.mean() * weights) * 252)\n",
        "        port_vols.append(np.sqrt(np.dot(weights.T, np.dot(returns.cov() * 252, weights))))\n",
        "    \n",
        "    # Convert lists to arrays\n",
        "    port_returns = np.array(port_returns)\n",
        "    port_vols = np.array(port_vols)\n",
        " \n",
        "    \n",
        "    # Plot the distribution of portfolio returns and volatilities \n",
        "    plt.figure(figsize = (18,10))\n",
        "    plt.scatter(port_vols,port_returns,c = (port_returns / port_vols), marker='o')\n",
        "    plt.title('MARKOWITZ BULLET')\n",
        "    plt.xlabel('Portfolio Volatility')\n",
        "    plt.ylabel('Portfolio Return')\n",
        "    plt.colorbar(label = 'Sharpe ratio')\n",
        "    \n",
        "    print('Elapsed Time: %.2f seconds' % (time.time() - start))\n",
        "    \n",
        "    return port_returns, port_vols"
      ],
      "execution_count": 31,
      "outputs": []
    },
    {
      "cell_type": "code",
      "metadata": {
        "id": "bYTnjtAsElTL",
        "colab_type": "code",
        "colab": {
          "base_uri": "https://localhost:8080/",
          "height": 639
        },
        "outputId": "c93d4247-a243-4350-f9b1-25c9cbd45488"
      },
      "source": [
        "# Define some assets for portfolio simulations\n",
        "assets = ['AAPL', 'MMM', 'GE', 'PG', 'WMT']\n",
        "port_returns, port_vols = portfolio_simulation(assets, 3000)"
      ],
      "execution_count": 32,
      "outputs": [
        {
          "output_type": "stream",
          "text": [
            "Elapsed Time: 4.77 seconds\n"
          ],
          "name": "stdout"
        },
        {
          "output_type": "display_data",
          "data": {
            "image/png": "[encoded data removed]",
            "text/plain": [
              "<Figure size 1296x720 with 2 Axes>"
            ]
          },
          "metadata": {
            "tags": [],
            "needs_background": "light"
          }
        }
      ]
    },
    {
      "cell_type": "markdown",
      "metadata": {
        "id": "-7NjgW-R9oRc",
        "colab_type": "text"
      },
      "source": [
        "THE OPTIMIZATION PROCESS\n",
        "*   Sharpe Ratio\n",
        "*   Variance (Risk)\n",
        "*   Pure Returns\n",
        "\n",
        "\n",
        "\n",
        "\n"
      ]
    },
    {
      "cell_type": "code",
      "metadata": {
        "id": "rhgNw5sZT6dW",
        "colab_type": "code",
        "colab": {}
      },
      "source": [
        "def portfolio_stats(weights, returns):\n",
        "    \n",
        "    '''\n",
        "    We can gather the portfolio performance metrics for a specific set of weights.\n",
        "    This function will be important because we'll want to pass it to an optmization\n",
        "    function to get the portfolio with the best desired characteristics.\n",
        "    \n",
        "    Paramaters: \n",
        "    -----------\n",
        "        weights: array, \n",
        "            asset weights in the portfolio.\n",
        "        returns: dataframe\n",
        "            a dataframe of returns for each asset in the trial portfolio    \n",
        "    \n",
        "    Returns: \n",
        "    --------\n",
        "        dict of portfolio statistics - mean return, volatility, sharp ratio.\n",
        "    '''\n",
        "\n",
        "    # Convert to array in case list was passed instead.\n",
        "    weights = np.array(weights)\n",
        "    port_return = np.sum(returns.mean() * weights)\n",
        "    port_vol = np.sqrt(np.dot(weights.T, np.dot(returns.cov(), weights)))\n",
        "    sharpe = port_return/port_vol\n",
        "\n",
        "    return {'return': port_return, 'volatility': port_vol, 'sharpe': sharpe}"
      ],
      "execution_count": 33,
      "outputs": []
    },
    {
      "cell_type": "markdown",
      "metadata": {
        "id": "nvtE6kL0KWLr",
        "colab_type": "text"
      },
      "source": [
        "Minimization functions"
      ]
    },
    {
      "cell_type": "code",
      "metadata": {
        "id": "3nZ13fTsKaHE",
        "colab_type": "code",
        "colab": {}
      },
      "source": [
        "# Minimizing (-)ve Sharpe is same as maximizing (+)ve Sharpe\n",
        "def minimize_sharpe(weights, returns):  \n",
        "    return -portfolio_stats(weights, returns)['sharpe'] "
      ],
      "execution_count": 34,
      "outputs": []
    },
    {
      "cell_type": "code",
      "metadata": {
        "id": "_eY1L81TKcKH",
        "colab_type": "code",
        "colab": {}
      },
      "source": [
        "# We want to minimize volatility\n",
        "def minimize_volatility(weights, returns):  \n",
        "    return portfolio_stats(weights)['volatility'] "
      ],
      "execution_count": 57,
      "outputs": []
    },
    {
      "cell_type": "code",
      "metadata": {
        "id": "d2ycSer9KhRX",
        "colab_type": "code",
        "colab": {}
      },
      "source": [
        "# Minimizing (-)ve return is same as maximizing (+)ve return\n",
        "def minimize_return(weights, returns): \n",
        "    return -portfolio_stats(weights, returns)['return']"
      ],
      "execution_count": 36,
      "outputs": []
    },
    {
      "cell_type": "markdown",
      "metadata": {
        "id": "RBe6C5AnK4gS",
        "colab_type": "text"
      },
      "source": [
        "OPTIMIZATION FUNCTION\n",
        "*   CONSTRAINTS\n",
        "*   BOUNDS\n",
        "*   INITIALIZER\n",
        "\n",
        "\n",
        "\n"
      ]
    },
    {
      "cell_type": "code",
      "metadata": {
        "id": "irVqWpABUdIf",
        "colab_type": "code",
        "colab": {}
      },
      "source": [
        "adj_closes = data3['Adj. Close'][assets]"
      ],
      "execution_count": 37,
      "outputs": []
    },
    {
      "cell_type": "code",
      "metadata": {
        "id": "yqyHleZTv0C-",
        "colab_type": "code",
        "colab": {}
      },
      "source": [
        "returns = np.log(adj_closes / adj_closes.shift(1))\n",
        "returns.dropna(inplace=True)"
      ],
      "execution_count": 38,
      "outputs": []
    },
    {
      "cell_type": "code",
      "metadata": {
        "id": "og7eqoilK2kv",
        "colab_type": "code",
        "colab": {
          "base_uri": "https://localhost:8080/",
          "height": 70
        },
        "outputId": "10b534b0-6f6c-4d74-c9ed-35013c782d3a"
      },
      "source": [
        "num_assets = len(assets)\n",
        "constraints = ({'type' : 'eq', 'fun': lambda x: np.sum(x) -1})\n",
        "bounds = tuple((0,1) for x in range(num_assets))\n",
        "initializer = num_assets * [1./num_assets]\n",
        "\n",
        "print (constraints)\n",
        "print (bounds)\n",
        "print (initializer)"
      ],
      "execution_count": 39,
      "outputs": [
        {
          "output_type": "stream",
          "text": [
            "{'type': 'eq', 'fun': <function <lambda> at 0x7f8e38d7fb70>}\n",
            "((0, 1), (0, 1), (0, 1), (0, 1), (0, 1))\n",
            "[0.2, 0.2, 0.2, 0.2, 0.2]\n"
          ],
          "name": "stdout"
        }
      ]
    },
    {
      "cell_type": "code",
      "metadata": {
        "id": "G87zk3SKLLcu",
        "colab_type": "code",
        "colab": {
          "base_uri": "https://localhost:8080/",
          "height": 211
        },
        "outputId": "18575732-00d9-4d9d-dae9-d3f88093524e"
      },
      "source": [
        "optimal_sharpe=optimize.minimize(minimize_sharpe,\n",
        "                                 initializer,\n",
        "                                 args = returns,\n",
        "                                 method = 'SLSQP',\n",
        "                                 bounds = bounds,\n",
        "                                 constraints = constraints)\n",
        "print(optimal_sharpe)"
      ],
      "execution_count": 40,
      "outputs": [
        {
          "output_type": "stream",
          "text": [
            "     fun: -0.05075784548592173\n",
            "     jac: array([-1.14222988e-04,  4.11142176e-03,  6.02804828e-02,  3.68434004e-04,\n",
            "       -4.73260880e-05])\n",
            " message: 'Optimization terminated successfully.'\n",
            "    nfev: 70\n",
            "     nit: 10\n",
            "    njev: 10\n",
            "  status: 0\n",
            " success: True\n",
            "       x: array([5.14916662e-01, 1.67834496e-16, 0.00000000e+00, 1.96682071e-01,\n",
            "       2.88401266e-01])\n"
          ],
          "name": "stdout"
        }
      ]
    },
    {
      "cell_type": "code",
      "metadata": {
        "id": "o1vS58fJw9zQ",
        "colab_type": "code",
        "colab": {
          "base_uri": "https://localhost:8080/",
          "height": 211
        },
        "outputId": "e9fce5f5-1784-4ce0-d775-6636474fd5f5"
      },
      "source": [
        "print(optimal_sharpe)"
      ],
      "execution_count": 51,
      "outputs": [
        {
          "output_type": "stream",
          "text": [
            "     fun: -0.05075784548592173\n",
            "     jac: array([-1.14222988e-04,  4.11142176e-03,  6.02804828e-02,  3.68434004e-04,\n",
            "       -4.73260880e-05])\n",
            " message: 'Optimization terminated successfully.'\n",
            "    nfev: 70\n",
            "     nit: 10\n",
            "    njev: 10\n",
            "  status: 0\n",
            " success: True\n",
            "       x: array([5.14916662e-01, 1.67834496e-16, 0.00000000e+00, 1.96682071e-01,\n",
            "       2.88401266e-01])\n"
          ],
          "name": "stdout"
        }
      ]
    },
    {
      "cell_type": "code",
      "metadata": {
        "id": "RyAh4sDhV1BQ",
        "colab_type": "code",
        "colab": {
          "base_uri": "https://localhost:8080/",
          "height": 35
        },
        "outputId": "3a7acc36-1dbd-4197-d5ab-c3cc05592a8e"
      },
      "source": [
        "# Optimal sharpe with ticker weights\n",
        "optimal_sharpe_weights=optimal_sharpe['x'].round(4)\n",
        "list(zip(assets,list(optimal_sharpe_weights)))"
      ],
      "execution_count": 41,
      "outputs": [
        {
          "output_type": "execute_result",
          "data": {
            "text/plain": [
              "[('AAPL', 0.5149), ('MMM', 0.0), ('GE', 0.0), ('PG', 0.1967), ('WMT', 0.2884)]"
            ]
          },
          "metadata": {
            "tags": []
          },
          "execution_count": 41
        }
      ]
    },
    {
      "cell_type": "code",
      "metadata": {
        "id": "WfUG1apkWczn",
        "colab_type": "code",
        "colab": {
          "base_uri": "https://localhost:8080/",
          "height": 87
        },
        "outputId": "d1e04094-8d94-4f15-c36b-b35484f1f069"
      },
      "source": [
        "optimal_stats = portfolio_stats(optimal_sharpe_weights, returns)\n",
        "print(optimal_stats)\n",
        "\n",
        "print('Optimal Portfolio Return: ', round(optimal_stats['return']*100,2))\n",
        "print('Optimal Portfolio Volatility: ', round(optimal_stats['volatility']*100,2))\n",
        "print('Optimal Portfolio Sharpe Ratio: ', round(optimal_stats['sharpe'],2))"
      ],
      "execution_count": 42,
      "outputs": [
        {
          "output_type": "stream",
          "text": [
            "{'return': 0.0006500288508524273, 'volatility': 0.012806472664317014, 'sharpe': 0.05075783690723977}\n",
            "Optimal Portfolio Return:  0.07\n",
            "Optimal Portfolio Volatility:  1.28\n",
            "Optimal Portfolio Sharpe Ratio:  0.05\n"
          ],
          "name": "stdout"
        }
      ]
    },
    {
      "cell_type": "markdown",
      "metadata": {
        "id": "daxMgFcYXJyq",
        "colab_type": "text"
      },
      "source": [
        "EFFICIENT FRONTIER\n",
        "\n",
        "\n",
        "*   MAXIMIZE RETURN FOR GIVEN LEVEL OF VOLATILITY\n",
        "*   MINIMIZE VOLATILITY\n",
        "\n"
      ]
    },
    {
      "cell_type": "code",
      "metadata": {
        "id": "h2AbwLchXMLi",
        "colab_type": "code",
        "colab": {
          "base_uri": "https://localhost:8080/",
          "height": 349
        },
        "outputId": "284db1ac-0776-49b6-f575-2e83961d6dbf"
      },
      "source": [
        "optimal_variance=optimize.minimize(minimize_volatility,\n",
        "                                   initializer,\n",
        "                                   args = returns,\n",
        "                                   method = 'SLSQP',\n",
        "                                   bounds = bounds,\n",
        "                                   constraints = constraints)\n",
        "\n",
        "print(optimal_variance)\n",
        "optimal_variance_weights=optimal_variance['x'].round(4)\n",
        "list(zip(assets,list(optimal_variance_weights)))"
      ],
      "execution_count": 59,
      "outputs": [
        {
          "output_type": "error",
          "ename": "TypeError",
          "evalue": "ignored",
          "traceback": [
            "\u001b[0;31m---------------------------------------------------------------------------\u001b[0m",
            "\u001b[0;31mTypeError\u001b[0m                                 Traceback (most recent call last)",
            "\u001b[0;32m<ipython-input-59-146a3f47e4ea>\u001b[0m in \u001b[0;36m<module>\u001b[0;34m()\u001b[0m\n\u001b[1;32m      4\u001b[0m                                    \u001b[0mmethod\u001b[0m \u001b[0;34m=\u001b[0m \u001b[0;34m'SLSQP'\u001b[0m\u001b[0;34m,\u001b[0m\u001b[0;34m\u001b[0m\u001b[0;34m\u001b[0m\u001b[0m\n\u001b[1;32m      5\u001b[0m                                    \u001b[0mbounds\u001b[0m \u001b[0;34m=\u001b[0m \u001b[0mbounds\u001b[0m\u001b[0;34m,\u001b[0m\u001b[0;34m\u001b[0m\u001b[0;34m\u001b[0m\u001b[0m\n\u001b[0;32m----> 6\u001b[0;31m                                    constraints = constraints)\n\u001b[0m\u001b[1;32m      7\u001b[0m \u001b[0;34m\u001b[0m\u001b[0m\n\u001b[1;32m      8\u001b[0m \u001b[0mprint\u001b[0m\u001b[0;34m(\u001b[0m\u001b[0moptimal_variance\u001b[0m\u001b[0;34m)\u001b[0m\u001b[0;34m\u001b[0m\u001b[0;34m\u001b[0m\u001b[0m\n",
            "\u001b[0;32m/usr/local/lib/python3.6/dist-packages/scipy/optimize/_minimize.py\u001b[0m in \u001b[0;36mminimize\u001b[0;34m(fun, x0, args, method, jac, hess, hessp, bounds, constraints, tol, callback, options)\u001b[0m\n\u001b[1;32m    616\u001b[0m     \u001b[0;32melif\u001b[0m \u001b[0mmeth\u001b[0m \u001b[0;34m==\u001b[0m \u001b[0;34m'slsqp'\u001b[0m\u001b[0;34m:\u001b[0m\u001b[0;34m\u001b[0m\u001b[0;34m\u001b[0m\u001b[0m\n\u001b[1;32m    617\u001b[0m         return _minimize_slsqp(fun, x0, args, jac, bounds,\n\u001b[0;32m--> 618\u001b[0;31m                                constraints, callback=callback, **options)\n\u001b[0m\u001b[1;32m    619\u001b[0m     \u001b[0;32melif\u001b[0m \u001b[0mmeth\u001b[0m \u001b[0;34m==\u001b[0m \u001b[0;34m'trust-constr'\u001b[0m\u001b[0;34m:\u001b[0m\u001b[0;34m\u001b[0m\u001b[0;34m\u001b[0m\u001b[0m\n\u001b[1;32m    620\u001b[0m         return _minimize_trustregion_constr(fun, x0, args, jac, hess, hessp,\n",
            "\u001b[0;32m/usr/local/lib/python3.6/dist-packages/scipy/optimize/slsqp.py\u001b[0m in \u001b[0;36m_minimize_slsqp\u001b[0;34m(func, x0, args, jac, bounds, constraints, maxiter, ftol, iprint, disp, eps, callback, **unknown_options)\u001b[0m\n\u001b[1;32m    397\u001b[0m \u001b[0;34m\u001b[0m\u001b[0m\n\u001b[1;32m    398\u001b[0m             \u001b[0;31m# Compute objective function\u001b[0m\u001b[0;34m\u001b[0m\u001b[0;34m\u001b[0m\u001b[0;34m\u001b[0m\u001b[0m\n\u001b[0;32m--> 399\u001b[0;31m             \u001b[0mfx\u001b[0m \u001b[0;34m=\u001b[0m \u001b[0mfunc\u001b[0m\u001b[0;34m(\u001b[0m\u001b[0mx\u001b[0m\u001b[0;34m)\u001b[0m\u001b[0;34m\u001b[0m\u001b[0;34m\u001b[0m\u001b[0m\n\u001b[0m\u001b[1;32m    400\u001b[0m             \u001b[0;32mtry\u001b[0m\u001b[0;34m:\u001b[0m\u001b[0;34m\u001b[0m\u001b[0;34m\u001b[0m\u001b[0m\n\u001b[1;32m    401\u001b[0m                 \u001b[0mfx\u001b[0m \u001b[0;34m=\u001b[0m \u001b[0mfloat\u001b[0m\u001b[0;34m(\u001b[0m\u001b[0mnp\u001b[0m\u001b[0;34m.\u001b[0m\u001b[0masarray\u001b[0m\u001b[0;34m(\u001b[0m\u001b[0mfx\u001b[0m\u001b[0;34m)\u001b[0m\u001b[0;34m)\u001b[0m\u001b[0;34m\u001b[0m\u001b[0;34m\u001b[0m\u001b[0m\n",
            "\u001b[0;32m/usr/local/lib/python3.6/dist-packages/scipy/optimize/optimize.py\u001b[0m in \u001b[0;36mfunction_wrapper\u001b[0;34m(*wrapper_args)\u001b[0m\n\u001b[1;32m    325\u001b[0m     \u001b[0;32mdef\u001b[0m \u001b[0mfunction_wrapper\u001b[0m\u001b[0;34m(\u001b[0m\u001b[0;34m*\u001b[0m\u001b[0mwrapper_args\u001b[0m\u001b[0;34m)\u001b[0m\u001b[0;34m:\u001b[0m\u001b[0;34m\u001b[0m\u001b[0;34m\u001b[0m\u001b[0m\n\u001b[1;32m    326\u001b[0m         \u001b[0mncalls\u001b[0m\u001b[0;34m[\u001b[0m\u001b[0;36m0\u001b[0m\u001b[0;34m]\u001b[0m \u001b[0;34m+=\u001b[0m \u001b[0;36m1\u001b[0m\u001b[0;34m\u001b[0m\u001b[0;34m\u001b[0m\u001b[0m\n\u001b[0;32m--> 327\u001b[0;31m         \u001b[0;32mreturn\u001b[0m \u001b[0mfunction\u001b[0m\u001b[0;34m(\u001b[0m\u001b[0;34m*\u001b[0m\u001b[0;34m(\u001b[0m\u001b[0mwrapper_args\u001b[0m \u001b[0;34m+\u001b[0m \u001b[0margs\u001b[0m\u001b[0;34m)\u001b[0m\u001b[0;34m)\u001b[0m\u001b[0;34m\u001b[0m\u001b[0;34m\u001b[0m\u001b[0m\n\u001b[0m\u001b[1;32m    328\u001b[0m \u001b[0;34m\u001b[0m\u001b[0m\n\u001b[1;32m    329\u001b[0m     \u001b[0;32mreturn\u001b[0m \u001b[0mncalls\u001b[0m\u001b[0;34m,\u001b[0m \u001b[0mfunction_wrapper\u001b[0m\u001b[0;34m\u001b[0m\u001b[0;34m\u001b[0m\u001b[0m\n",
            "\u001b[0;32m<ipython-input-57-c5e18e0a517d>\u001b[0m in \u001b[0;36mminimize_volatility\u001b[0;34m(weights, returns)\u001b[0m\n\u001b[1;32m      1\u001b[0m \u001b[0;31m# We want to minimize volatility\u001b[0m\u001b[0;34m\u001b[0m\u001b[0;34m\u001b[0m\u001b[0;34m\u001b[0m\u001b[0m\n\u001b[1;32m      2\u001b[0m \u001b[0;32mdef\u001b[0m \u001b[0mminimize_volatility\u001b[0m\u001b[0;34m(\u001b[0m\u001b[0mweights\u001b[0m\u001b[0;34m,\u001b[0m \u001b[0mreturns\u001b[0m\u001b[0;34m)\u001b[0m\u001b[0;34m:\u001b[0m\u001b[0;34m\u001b[0m\u001b[0;34m\u001b[0m\u001b[0m\n\u001b[0;32m----> 3\u001b[0;31m     \u001b[0;32mreturn\u001b[0m \u001b[0mportfolio_stats\u001b[0m\u001b[0;34m(\u001b[0m\u001b[0mweights\u001b[0m\u001b[0;34m)\u001b[0m\u001b[0;34m[\u001b[0m\u001b[0;34m'volatility'\u001b[0m\u001b[0;34m]\u001b[0m\u001b[0;34m\u001b[0m\u001b[0;34m\u001b[0m\u001b[0m\n\u001b[0m",
            "\u001b[0;31mTypeError\u001b[0m: portfolio_stats() missing 1 required positional argument: 'returns'"
          ]
        }
      ]
    },
    {
      "cell_type": "code",
      "metadata": {
        "id": "SCxj1LYZX5dr",
        "colab_type": "code",
        "colab": {}
      },
      "source": [
        "# Make an array of 50 returns between the minimum return and maximum return\n",
        "# discovered earlier.\n",
        "target_returns = np.linspace(port_returns.min(),port_returns.max(),50)\n",
        "\n",
        "# Initialize optimization parameters\n",
        "minimal_volatilities = []\n",
        "bounds = tuple((0,1) for x in optimal_sharpe_weights)\n",
        "initializer = num_assets * [1./num_assets,]\n",
        "\n",
        "for target_return in target_returns:\n",
        "    \n",
        "    constraints = ({'type':'eq','fun': lambda x: portfolio_stats(x,returns)['return']-target_return},\n",
        "                   {'type':'eq','fun': lambda x: np.sum(x)-1})\n",
        "       \n",
        "    optimal = optimize.minimize(minimize_volatility,\n",
        "                              initializer,\n",
        "                              args = returns,\n",
        "                              method = 'SLSQP',\n",
        "                              bounds = bounds,\n",
        "                              constraints = constraints)\n",
        "    \n",
        "    minimal_volatilities.append(optimal['fun'])\n",
        "\n",
        "minimal_volatilities = np.array(minimal_volatilities)"
      ],
      "execution_count": 44,
      "outputs": []
    },
    {
      "cell_type": "code",
      "metadata": {
        "id": "1Kd7EuFQ2Idf",
        "colab_type": "code",
        "colab": {
          "base_uri": "https://localhost:8080/",
          "height": 246
        },
        "outputId": "a98fafb5-5cf4-4c4f-d84c-c17bb0ff7d6a"
      },
      "source": [
        "target_returns"
      ],
      "execution_count": 45,
      "outputs": [
        {
          "output_type": "execute_result",
          "data": {
            "text/plain": [
              "array([-4.10627009e-02, -3.59282113e-02, -3.07937216e-02, -2.56592319e-02,\n",
              "       -2.05247423e-02, -1.53902526e-02, -1.02557630e-02, -5.12127330e-03,\n",
              "        1.32163643e-05,  5.14770602e-03,  1.02821957e-02,  1.54166853e-02,\n",
              "        2.05511750e-02,  2.56856647e-02,  3.08201543e-02,  3.59546440e-02,\n",
              "        4.10891336e-02,  4.62236233e-02,  5.13581130e-02,  5.64926026e-02,\n",
              "        6.16270923e-02,  6.67615819e-02,  7.18960716e-02,  7.70305613e-02,\n",
              "        8.21650509e-02,  8.72995406e-02,  9.24340303e-02,  9.75685199e-02,\n",
              "        1.02703010e-01,  1.07837499e-01,  1.12971989e-01,  1.18106479e-01,\n",
              "        1.23240968e-01,  1.28375458e-01,  1.33509948e-01,  1.38644437e-01,\n",
              "        1.43778927e-01,  1.48913417e-01,  1.54047906e-01,  1.59182396e-01,\n",
              "        1.64316885e-01,  1.69451375e-01,  1.74585865e-01,  1.79720354e-01,\n",
              "        1.84854844e-01,  1.89989334e-01,  1.95123823e-01,  2.00258313e-01,\n",
              "        2.05392803e-01,  2.10527292e-01])"
            ]
          },
          "metadata": {
            "tags": []
          },
          "execution_count": 45
        }
      ]
    },
    {
      "cell_type": "code",
      "metadata": {
        "id": "VJ-xpOYX1qFn",
        "colab_type": "code",
        "colab": {
          "base_uri": "https://localhost:8080/",
          "height": 193
        },
        "outputId": "5614196b-b153-4991-a681-016ef7fd8135"
      },
      "source": [
        "minimal_volatilities"
      ],
      "execution_count": 46,
      "outputs": [
        {
          "output_type": "execute_result",
          "data": {
            "text/plain": [
              "array([0.02010164, 0.02010164, 0.02010164, 0.02010164, 0.02010164,\n",
              "       0.02010164, 0.02010164, 0.02010164, 0.01330982, 0.01987664,\n",
              "       0.01987664, 0.01987664, 0.01987664, 0.01987664, 0.01987664,\n",
              "       0.01987664, 0.01987664, 0.01987664, 0.01987664, 0.01987664,\n",
              "       0.01987664, 0.01987664, 0.01987664, 0.01987664, 0.01987664,\n",
              "       0.01987664, 0.01987664, 0.01987664, 0.01987664, 0.01987664,\n",
              "       0.01987664, 0.01987664, 0.01987664, 0.01987664, 0.01987664,\n",
              "       0.01987664, 0.01987664, 0.01987664, 0.01987664, 0.01987664,\n",
              "       0.01987664, 0.01987664, 0.01987664, 0.01987664, 0.01987664,\n",
              "       0.01987664, 0.01987664, 0.01987664, 0.01987664, 0.01987664])"
            ]
          },
          "metadata": {
            "tags": []
          },
          "execution_count": 46
        }
      ]
    },
    {
      "cell_type": "code",
      "metadata": {
        "id": "QqP3UvahbJSF",
        "colab_type": "code",
        "colab": {
          "base_uri": "https://localhost:8080/",
          "height": 623
        },
        "outputId": "8f3dbc81-302d-4cf1-8493-f909a9527f98"
      },
      "source": [
        "# initialize figure size\n",
        "plt.figure(figsize=(18,10))\n",
        "\n",
        "plt.scatter(port_vols,\n",
        "            port_returns,\n",
        "            c = (port_returns / port_vols),\n",
        "            marker = 'o')\n",
        "\n",
        "plt.scatter(minimal_volatilities,\n",
        "            target_returns,\n",
        "            c = (target_returns / minimal_volatilities),\n",
        "            marker = 'x')\n",
        "\n",
        "plt.plot(portfolio_stats(optimal_sharpe_weights, returns)['volatility'],\n",
        "         portfolio_stats(optimal_sharpe_weights, returns)['return'],\n",
        "         'r*',\n",
        "         markersize = 25.0)\n",
        "\n",
        "plt.plot(portfolio_stats(optimal_variance_weights, returns)['volatility'],\n",
        "         portfolio_stats(optimal_variance_weights, returns)['return'],\n",
        "         'y*',\n",
        "         markersize = 25.0)\n",
        "\n",
        "plt.xlabel('Portfolio Volatility')\n",
        "plt.ylabel('Portfolio Return')\n",
        "plt.colorbar(label='Sharpe ratio')\n"
      ],
      "execution_count": 47,
      "outputs": [
        {
          "output_type": "execute_result",
          "data": {
            "text/plain": [
              "<matplotlib.colorbar.Colorbar at 0x7f8e2d0f4128>"
            ]
          },
          "metadata": {
            "tags": []
          },
          "execution_count": 47
        },
        {
          "output_type": "display_data",
          "data": {
            "image/png": "[encoded data removed]",
            "text/plain": [
              "<Figure size 1296x720 with 2 Axes>"
            ]
          },
          "metadata": {
            "tags": [],
            "needs_background": "light"
          }
        }
      ]
    },
    {
      "cell_type": "markdown",
      "metadata": {
        "id": "vyCeVst5OaXb",
        "colab_type": "text"
      },
      "source": [
        "THE CAPITAL MARKET LINE"
      ]
    },
    {
      "cell_type": "code",
      "metadata": {
        "id": "j2vp1yRYOeJN",
        "colab_type": "code",
        "colab": {
          "base_uri": "https://localhost:8080/",
          "height": 35
        },
        "outputId": "3deb78ed-1deb-49bf-f071-72c47a1d790d"
      },
      "source": [
        "# interpolate\n",
        "\n",
        "min_index = np.argmin(minimal_volatilities)\n",
        "ex_returns = target_returns[min_index:]\n",
        "ex_volatilities = minimal_volatilities[min_index:]\n",
        "\n",
        "var = sci.splrep(ex_returns, ex_volatilities)\n",
        "\n",
        "def func(x):\n",
        "    # Spline approximation of the efficient frontier\n",
        "    spline_approx = sci.splev(x,var,der=0)  \n",
        "    return spline_approx\n",
        "\n",
        "def d_func(x):\n",
        "    # first derivative of the approximate efficient frontier function\n",
        "    deriv = sci.splev(x,var,der=1)\n",
        "    return deriv\n",
        "\n",
        "def eqs(p, rfr = 0.01):\n",
        "\n",
        "    #rfr = risk free rate\n",
        "    \n",
        "    eq1 = rfr - p[0]\n",
        "    eq2 = rfr + p[1] * p[2] - func(p[2])\n",
        "    eq3=p[1] - d_func(p[2]) \n",
        "    return eq1, eq2, eq3\n",
        "\n",
        "# Initializing the weights can be tricky - I find taking the half-way point between your max return and max\n",
        "# variance typically yields good results.\n",
        "\n",
        "rfr = 0.01\n",
        "m=  port_vols.max() / 2\n",
        "l = port_returns.max() / 2\n",
        "\n",
        "optimal = optimize.fsolve(eqs, [rfr,m,l])\n",
        "print(optimal)"
      ],
      "execution_count": 48,
      "outputs": [
        {
          "output_type": "stream",
          "text": [
            "[1.00000000e-02 3.10917595e-04 4.75459013e+01]\n"
          ],
          "name": "stdout"
        }
      ]
    },
    {
      "cell_type": "code",
      "metadata": {
        "id": "jSBen_8FPYdf",
        "colab_type": "code",
        "colab": {
          "base_uri": "https://localhost:8080/",
          "height": 35
        },
        "outputId": "1d07b96f-19e9-45e6-ce84-2cec98a6cac7"
      },
      "source": [
        "# check to see if the optimization function reduces all three equations to 0\n",
        "np.round(eqs(optimal),4)"
      ],
      "execution_count": 49,
      "outputs": [
        {
          "output_type": "execute_result",
          "data": {
            "text/plain": [
              "array([ 0., -0.,  0.])"
            ]
          },
          "metadata": {
            "tags": []
          },
          "execution_count": 49
        }
      ]
    },
    {
      "cell_type": "markdown",
      "metadata": {
        "id": "r14EFfv5Pp1E",
        "colab_type": "text"
      },
      "source": [
        "FINAL PLOT WITH TANGENT LINE"
      ]
    },
    {
      "cell_type": "code",
      "metadata": {
        "id": "tCURlxzePqPr",
        "colab_type": "code",
        "colab": {
          "base_uri": "https://localhost:8080/",
          "height": 35
        },
        "outputId": "8c40c6ab-8cb5-44e2-f5ff-1cf5a9092d5a"
      },
      "source": [
        "constraints =(\n",
        "    {'type':'eq','fun': lambda x: portfolio_stats(x,returns)['return']-func(optimal[2])},\n",
        "    {'type':'eq','fun': lambda x: np.sum(x)-1},\n",
        "    )\n",
        "\n",
        "result = optimize.minimize(minimize_volatility,\n",
        "                           initializer,\n",
        "                           args = (returns,),\n",
        "                           method = 'SLSQP',\n",
        "                           bounds = bounds,\n",
        "                           constraints = constraints)\n",
        "\n",
        "optimal_weights = result['x'].round(3)\n",
        "\n",
        "portfolio = list(zip(assets, list(optimal_weights)))\n",
        "print(portfolio)"
      ],
      "execution_count": 50,
      "outputs": [
        {
          "output_type": "stream",
          "text": [
            "[('AAPL', 1.0), ('MMM', 0.0), ('GE', 0.0), ('PG', 0.0), ('WMT', 0.0)]\n"
          ],
          "name": "stdout"
        }
      ]
    }
  ]
}