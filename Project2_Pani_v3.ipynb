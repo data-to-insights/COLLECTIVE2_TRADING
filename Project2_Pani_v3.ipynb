{
  "nbformat": 4,
  "nbformat_minor": 0,
  "metadata": {
    "colab": {
      "name": "Project2-Pani-v3.ipynb",
      "provenance": [],
      "collapsed_sections": [],
      "authorship_tag": "ABX9TyPW32og1ngnDY37/+AM3WY6",
      "include_colab_link": true
    },
    "kernelspec": {
      "name": "python3",
      "display_name": "Python 3"
    }
  },
  "cells": [
    {
      "cell_type": "markdown",
      "metadata": {
        "id": "view-in-github",
        "colab_type": "text"
      },
      "source": [
        "<a href=\"https://colab.research.google.com/github/data-to-insights/COLLECTIVE2_TRADING/blob/master/Project2_Pani_v3.ipynb\" target=\"_parent\"><img src=\"https://colab.research.google.com/assets/colab-badge.svg\" alt=\"Open In Colab\"/></a>"
      ]
    },
    {
      "cell_type": "markdown",
      "metadata": {
        "id": "b3MWQrscx_dQ",
        "colab_type": "text"
      },
      "source": [
        "PORTFOLIO OPTIMIZATION"
      ]
    },
    {
      "cell_type": "code",
      "metadata": {
        "id": "gQKGNo-5IWSB",
        "colab_type": "code",
        "colab": {}
      },
      "source": [
        "!pip install simfin"
      ],
      "execution_count": null,
      "outputs": []
    },
    {
      "cell_type": "code",
      "metadata": {
        "id": "jsbw15bu69ia",
        "colab_type": "code",
        "colab": {}
      },
      "source": [
        "! pip install pandas_datareader"
      ],
      "execution_count": null,
      "outputs": []
    },
    {
      "cell_type": "code",
      "metadata": {
        "id": "-xnukcw84Tto",
        "colab_type": "code",
        "colab": {
          "base_uri": "https://localhost:8080/",
          "height": 51
        },
        "outputId": "985460bc-2d40-4415-ab8a-aff837301b2a"
      },
      "source": [
        "# General Imports\n",
        "import pandas as pd\n",
        "import numpy as np\n",
        "import os\n",
        "import datetime as dt\n",
        "import random\n",
        "import time\n",
        "import pandas_datareader.data as web\n",
        "\n",
        "# Import the main functionality from the SimFin Python API.\n",
        "import simfin as sf\n",
        "from simfin.names import *\n",
        "\n",
        "# Import Path\n",
        "from pathlib import Path\n",
        "\n",
        "# Imports for matplot Visualizations\n",
        "%matplotlib inline\n",
        "import matplotlib.pyplot as plt\n",
        "from matplotlib import pylab\n",
        "\n",
        "# Imports for plotly visualizations\n",
        "from plotly.subplots import make_subplots\n",
        "import plotly.graph_objects as go\n",
        "import plotly.express as px\n",
        "\n",
        "# Imports for google colab visualizations\n",
        "from google.colab import widgets\n",
        "from google.colab import output\n",
        "from matplotlib import pylab\n",
        "from six.moves import zip\n",
        "from __future__ import print_function\n"
      ],
      "execution_count": 3,
      "outputs": [
        {
          "output_type": "stream",
          "text": [
            "/usr/local/lib/python3.6/dist-packages/pandas_datareader/compat/__init__.py:7: FutureWarning: pandas.util.testing is deprecated. Use the functions in the public API at pandas.testing instead.\n",
            "  from pandas.util.testing import assert_frame_equal\n"
          ],
          "name": "stderr"
        }
      ]
    },
    {
      "cell_type": "code",
      "metadata": {
        "id": "CaOlTdl26Xro",
        "colab_type": "code",
        "colab": {}
      },
      "source": [
        "%load_ext google.colab.data_table"
      ],
      "execution_count": 4,
      "outputs": []
    },
    {
      "cell_type": "code",
      "metadata": {
        "id": "uPfW-2ii31WS",
        "colab_type": "code",
        "colab": {
          "base_uri": "https://localhost:8080/",
          "height": 140
        },
        "outputId": "48167a0b-eda8-453b-deb1-2ca0c4f2f26f"
      },
      "source": [
        "from google.colab import drive\n",
        "drive.mount('/gdrive')\n",
        "%cd /gdrive"
      ],
      "execution_count": 5,
      "outputs": [
        {
          "output_type": "stream",
          "text": [
            "Go to this URL in a browser: https://accounts.google.com/o/oauth2/auth?client_id=947318989803-6bn6qk8qdgf4n4g3pfee6491hc0brc4i.apps.googleusercontent.com&redirect_uri=urn%3aietf%3awg%3aoauth%3a2.0%3aoob&response_type=code&scope=email%20https%3a%2f%2fwww.googleapis.com%2fauth%2fdocs.test%20https%3a%2f%2fwww.googleapis.com%2fauth%2fdrive%20https%3a%2f%2fwww.googleapis.com%2fauth%2fdrive.photos.readonly%20https%3a%2f%2fwww.googleapis.com%2fauth%2fpeopleapi.readonly\n",
            "\n",
            "Enter your authorization code:\n",
            "··········\n",
            "Mounted at /gdrive\n",
            "/gdrive\n"
          ],
          "name": "stdout"
        }
      ]
    },
    {
      "cell_type": "code",
      "metadata": {
        "id": "8mHGn3XsOUdB",
        "colab_type": "code",
        "colab": {}
      },
      "source": [
        "csvpath2 = Path(\"My Drive/Colab Notebooks/PROJECT 2/Data Sets/snp500-historical.csv\")"
      ],
      "execution_count": 6,
      "outputs": []
    },
    {
      "cell_type": "code",
      "metadata": {
        "id": "S8T_tY1KOglq",
        "colab_type": "code",
        "colab": {}
      },
      "source": [
        "df_snp500 = pd.read_csv(csvpath2, index_col = 'Date', parse_dates = True, infer_datetime_format = True)"
      ],
      "execution_count": 7,
      "outputs": []
    },
    {
      "cell_type": "code",
      "metadata": {
        "id": "R49iQTVUOvuF",
        "colab_type": "code",
        "colab": {
          "base_uri": "https://localhost:8080/",
          "height": 190
        },
        "outputId": "91f7e48c-e9ba-4966-a017-576d79550c9a"
      },
      "source": [
        "df_snp500.head()"
      ],
      "execution_count": 8,
      "outputs": [
        {
          "output_type": "execute_result",
          "data": {
            "application/vnd.google.colaboratory.module+javascript": "\n      import \"https://ssl.gstatic.com/colaboratory/data_table/a6224c040fa35dcf/data_table.js\";\n\n      window.createDataTable({\n        data: [[\"2007-01-03 16:00:00\",\n{\n            'v': 1418.03,\n            'f': \"1418.03\",\n        },\n{\n            'v': 1429.42,\n            'f': \"1429.42\",\n        },\n{\n            'v': 1407.86,\n            'f': \"1407.86\",\n        },\n{\n            'v': 1416.63,\n            'f': \"1416.63\",\n        },\n{\n            'v': 0,\n            'f': \"0\",\n        }],\n [\"2007-01-04 16:00:00\",\n{\n            'v': 1416.6,\n            'f': \"1416.6\",\n        },\n{\n            'v': 1421.84,\n            'f': \"1421.84\",\n        },\n{\n            'v': 1408.22,\n            'f': \"1408.22\",\n        },\n{\n            'v': 1418.34,\n            'f': \"1418.34\",\n        },\n{\n            'v': 0,\n            'f': \"0\",\n        }],\n [\"2007-01-05 16:00:00\",\n{\n            'v': 1418.34,\n            'f': \"1418.34\",\n        },\n{\n            'v': 1418.34,\n            'f': \"1418.34\",\n        },\n{\n            'v': 1405.75,\n            'f': \"1405.75\",\n        },\n{\n            'v': 1409.71,\n            'f': \"1409.71\",\n        },\n{\n            'v': 0,\n            'f': \"0\",\n        }],\n [\"2007-01-08 16:00:00\",\n{\n            'v': 1409.26,\n            'f': \"1409.26\",\n        },\n{\n            'v': 1414.98,\n            'f': \"1414.98\",\n        },\n{\n            'v': 1403.97,\n            'f': \"1403.97\",\n        },\n{\n            'v': 1412.84,\n            'f': \"1412.84\",\n        },\n{\n            'v': 0,\n            'f': \"0\",\n        }],\n [\"2007-01-09 16:00:00\",\n{\n            'v': 1412.84,\n            'f': \"1412.84\",\n        },\n{\n            'v': 1415.61,\n            'f': \"1415.61\",\n        },\n{\n            'v': 1405.42,\n            'f': \"1405.42\",\n        },\n{\n            'v': 1412.11,\n            'f': \"1412.11\",\n        },\n{\n            'v': 0,\n            'f': \"0\",\n        }]],\n        columns: [[\"string\", \"Date\"], [\"number\", \"Open\"], [\"number\", \"High\"], [\"number\", \"Low\"], [\"number\", \"Close\"], [\"number\", \"Volume\"]],\n        columnOptions: [{\"width\": \"1px\", \"className\": \"index_column\"}],\n        rowsPerPage: 25,\n        helpUrl: \"https://colab.research.google.com/notebooks/data_table.ipynb\",\n        suppressOutputScrolling: true,\n        minimumWidth: undefined,\n      });\n    ",
            "text/html": [
              "<div>\n",
              "<style scoped>\n",
              "    .dataframe tbody tr th:only-of-type {\n",
              "        vertical-align: middle;\n",
              "    }\n",
              "\n",
              "    .dataframe tbody tr th {\n",
              "        vertical-align: top;\n",
              "    }\n",
              "\n",
              "    .dataframe thead th {\n",
              "        text-align: right;\n",
              "    }\n",
              "</style>\n",
              "<table border=\"1\" class=\"dataframe\">\n",
              "  <thead>\n",
              "    <tr style=\"text-align: right;\">\n",
              "      <th></th>\n",
              "      <th>Open</th>\n",
              "      <th>High</th>\n",
              "      <th>Low</th>\n",
              "      <th>Close</th>\n",
              "      <th>Volume</th>\n",
              "    </tr>\n",
              "    <tr>\n",
              "      <th>Date</th>\n",
              "      <th></th>\n",
              "      <th></th>\n",
              "      <th></th>\n",
              "      <th></th>\n",
              "      <th></th>\n",
              "    </tr>\n",
              "  </thead>\n",
              "  <tbody>\n",
              "    <tr>\n",
              "      <th>2007-01-03 16:00:00</th>\n",
              "      <td>1418.03</td>\n",
              "      <td>1429.42</td>\n",
              "      <td>1407.86</td>\n",
              "      <td>1416.63</td>\n",
              "      <td>0</td>\n",
              "    </tr>\n",
              "    <tr>\n",
              "      <th>2007-01-04 16:00:00</th>\n",
              "      <td>1416.60</td>\n",
              "      <td>1421.84</td>\n",
              "      <td>1408.22</td>\n",
              "      <td>1418.34</td>\n",
              "      <td>0</td>\n",
              "    </tr>\n",
              "    <tr>\n",
              "      <th>2007-01-05 16:00:00</th>\n",
              "      <td>1418.34</td>\n",
              "      <td>1418.34</td>\n",
              "      <td>1405.75</td>\n",
              "      <td>1409.71</td>\n",
              "      <td>0</td>\n",
              "    </tr>\n",
              "    <tr>\n",
              "      <th>2007-01-08 16:00:00</th>\n",
              "      <td>1409.26</td>\n",
              "      <td>1414.98</td>\n",
              "      <td>1403.97</td>\n",
              "      <td>1412.84</td>\n",
              "      <td>0</td>\n",
              "    </tr>\n",
              "    <tr>\n",
              "      <th>2007-01-09 16:00:00</th>\n",
              "      <td>1412.84</td>\n",
              "      <td>1415.61</td>\n",
              "      <td>1405.42</td>\n",
              "      <td>1412.11</td>\n",
              "      <td>0</td>\n",
              "    </tr>\n",
              "  </tbody>\n",
              "</table>\n",
              "</div>"
            ],
            "text/plain": [
              "                        Open     High      Low    Close  Volume\n",
              "Date                                                           \n",
              "2007-01-03 16:00:00  1418.03  1429.42  1407.86  1416.63       0\n",
              "2007-01-04 16:00:00  1416.60  1421.84  1408.22  1418.34       0\n",
              "2007-01-05 16:00:00  1418.34  1418.34  1405.75  1409.71       0\n",
              "2007-01-08 16:00:00  1409.26  1414.98  1403.97  1412.84       0\n",
              "2007-01-09 16:00:00  1412.84  1415.61  1405.42  1412.11       0"
            ]
          },
          "metadata": {
            "tags": []
          },
          "execution_count": 8
        }
      ]
    },
    {
      "cell_type": "code",
      "metadata": {
        "id": "kC8PDScPUu8V",
        "colab_type": "code",
        "colab": {
          "base_uri": "https://localhost:8080/",
          "height": 190
        },
        "outputId": "417df0d0-3658-4812-f8d7-79285e75b1eb"
      },
      "source": [
        "# this is SNP500 Index\n",
        "df_snp500.head()"
      ],
      "execution_count": 9,
      "outputs": [
        {
          "output_type": "execute_result",
          "data": {
            "application/vnd.google.colaboratory.module+javascript": "\n      import \"https://ssl.gstatic.com/colaboratory/data_table/a6224c040fa35dcf/data_table.js\";\n\n      window.createDataTable({\n        data: [[\"2007-01-03 16:00:00\",\n{\n            'v': 1418.03,\n            'f': \"1418.03\",\n        },\n{\n            'v': 1429.42,\n            'f': \"1429.42\",\n        },\n{\n            'v': 1407.86,\n            'f': \"1407.86\",\n        },\n{\n            'v': 1416.63,\n            'f': \"1416.63\",\n        },\n{\n            'v': 0,\n            'f': \"0\",\n        }],\n [\"2007-01-04 16:00:00\",\n{\n            'v': 1416.6,\n            'f': \"1416.6\",\n        },\n{\n            'v': 1421.84,\n            'f': \"1421.84\",\n        },\n{\n            'v': 1408.22,\n            'f': \"1408.22\",\n        },\n{\n            'v': 1418.34,\n            'f': \"1418.34\",\n        },\n{\n            'v': 0,\n            'f': \"0\",\n        }],\n [\"2007-01-05 16:00:00\",\n{\n            'v': 1418.34,\n            'f': \"1418.34\",\n        },\n{\n            'v': 1418.34,\n            'f': \"1418.34\",\n        },\n{\n            'v': 1405.75,\n            'f': \"1405.75\",\n        },\n{\n            'v': 1409.71,\n            'f': \"1409.71\",\n        },\n{\n            'v': 0,\n            'f': \"0\",\n        }],\n [\"2007-01-08 16:00:00\",\n{\n            'v': 1409.26,\n            'f': \"1409.26\",\n        },\n{\n            'v': 1414.98,\n            'f': \"1414.98\",\n        },\n{\n            'v': 1403.97,\n            'f': \"1403.97\",\n        },\n{\n            'v': 1412.84,\n            'f': \"1412.84\",\n        },\n{\n            'v': 0,\n            'f': \"0\",\n        }],\n [\"2007-01-09 16:00:00\",\n{\n            'v': 1412.84,\n            'f': \"1412.84\",\n        },\n{\n            'v': 1415.61,\n            'f': \"1415.61\",\n        },\n{\n            'v': 1405.42,\n            'f': \"1405.42\",\n        },\n{\n            'v': 1412.11,\n            'f': \"1412.11\",\n        },\n{\n            'v': 0,\n            'f': \"0\",\n        }]],\n        columns: [[\"string\", \"Date\"], [\"number\", \"Open\"], [\"number\", \"High\"], [\"number\", \"Low\"], [\"number\", \"Close\"], [\"number\", \"Volume\"]],\n        columnOptions: [{\"width\": \"1px\", \"className\": \"index_column\"}],\n        rowsPerPage: 25,\n        helpUrl: \"https://colab.research.google.com/notebooks/data_table.ipynb\",\n        suppressOutputScrolling: true,\n        minimumWidth: undefined,\n      });\n    ",
            "text/html": [
              "<div>\n",
              "<style scoped>\n",
              "    .dataframe tbody tr th:only-of-type {\n",
              "        vertical-align: middle;\n",
              "    }\n",
              "\n",
              "    .dataframe tbody tr th {\n",
              "        vertical-align: top;\n",
              "    }\n",
              "\n",
              "    .dataframe thead th {\n",
              "        text-align: right;\n",
              "    }\n",
              "</style>\n",
              "<table border=\"1\" class=\"dataframe\">\n",
              "  <thead>\n",
              "    <tr style=\"text-align: right;\">\n",
              "      <th></th>\n",
              "      <th>Open</th>\n",
              "      <th>High</th>\n",
              "      <th>Low</th>\n",
              "      <th>Close</th>\n",
              "      <th>Volume</th>\n",
              "    </tr>\n",
              "    <tr>\n",
              "      <th>Date</th>\n",
              "      <th></th>\n",
              "      <th></th>\n",
              "      <th></th>\n",
              "      <th></th>\n",
              "      <th></th>\n",
              "    </tr>\n",
              "  </thead>\n",
              "  <tbody>\n",
              "    <tr>\n",
              "      <th>2007-01-03 16:00:00</th>\n",
              "      <td>1418.03</td>\n",
              "      <td>1429.42</td>\n",
              "      <td>1407.86</td>\n",
              "      <td>1416.63</td>\n",
              "      <td>0</td>\n",
              "    </tr>\n",
              "    <tr>\n",
              "      <th>2007-01-04 16:00:00</th>\n",
              "      <td>1416.60</td>\n",
              "      <td>1421.84</td>\n",
              "      <td>1408.22</td>\n",
              "      <td>1418.34</td>\n",
              "      <td>0</td>\n",
              "    </tr>\n",
              "    <tr>\n",
              "      <th>2007-01-05 16:00:00</th>\n",
              "      <td>1418.34</td>\n",
              "      <td>1418.34</td>\n",
              "      <td>1405.75</td>\n",
              "      <td>1409.71</td>\n",
              "      <td>0</td>\n",
              "    </tr>\n",
              "    <tr>\n",
              "      <th>2007-01-08 16:00:00</th>\n",
              "      <td>1409.26</td>\n",
              "      <td>1414.98</td>\n",
              "      <td>1403.97</td>\n",
              "      <td>1412.84</td>\n",
              "      <td>0</td>\n",
              "    </tr>\n",
              "    <tr>\n",
              "      <th>2007-01-09 16:00:00</th>\n",
              "      <td>1412.84</td>\n",
              "      <td>1415.61</td>\n",
              "      <td>1405.42</td>\n",
              "      <td>1412.11</td>\n",
              "      <td>0</td>\n",
              "    </tr>\n",
              "  </tbody>\n",
              "</table>\n",
              "</div>"
            ],
            "text/plain": [
              "                        Open     High      Low    Close  Volume\n",
              "Date                                                           \n",
              "2007-01-03 16:00:00  1418.03  1429.42  1407.86  1416.63       0\n",
              "2007-01-04 16:00:00  1416.60  1421.84  1408.22  1418.34       0\n",
              "2007-01-05 16:00:00  1418.34  1418.34  1405.75  1409.71       0\n",
              "2007-01-08 16:00:00  1409.26  1414.98  1403.97  1412.84       0\n",
              "2007-01-09 16:00:00  1412.84  1415.61  1405.42  1412.11       0"
            ]
          },
          "metadata": {
            "tags": []
          },
          "execution_count": 9
        }
      ]
    },
    {
      "cell_type": "code",
      "metadata": {
        "id": "U6094XKgUEPk",
        "colab_type": "code",
        "colab": {
          "base_uri": "https://localhost:8080/",
          "height": 272
        },
        "outputId": "fbf949a2-235c-4136-cf63-586a69cb09ff"
      },
      "source": [
        "# Plot the closing prices for `snp500 index`\n",
        "df_snp500['Close'].plot(grid=True)\n",
        "\n",
        "# Show the plot\n",
        "plt.show()"
      ],
      "execution_count": 10,
      "outputs": [
        {
          "output_type": "display_data",
          "data": {
            "image/png": "[encoded data removed]",
            "text/plain": [
              "<Figure size 432x288 with 1 Axes>"
            ]
          },
          "metadata": {
            "tags": [],
            "needs_background": "light"
          }
        }
      ]
    },
    {
      "cell_type": "code",
      "metadata": {
        "id": "rIkcFKWdXLqI",
        "colab_type": "code",
        "colab": {
          "base_uri": "https://localhost:8080/",
          "height": 542
        },
        "outputId": "0c2272f4-230e-40bb-908e-f96503e6fd6e"
      },
      "source": [
        "# Plotly graphs\n",
        "px.line(\n",
        "    df_snp500['Close'], x=df_snp500.index, y=df_snp500['Close'], title=\"LONG TERM RETURNS\"\n",
        ")"
      ],
      "execution_count": 11,
      "outputs": [
        {
          "output_type": "display_data",
          "data": {
            "text/html": [
              "<html>\n",
              "<head><meta charset=\"utf-8\" /></head>\n",
              "<body>\n",
              "    <div>\n",
              "            <script src=\"https://cdnjs.cloudflare.com/ajax/libs/mathjax/2.7.5/MathJax.js?config=TeX-AMS-MML_SVG\"></script><script type=\"text/javascript\">if (window.MathJax) {MathJax.Hub.Config({SVG: {font: \"STIX-Web\"}});}</script>\n",
              "                <script type=\"text/javascript\">window.PlotlyConfig = {MathJaxConfig: 'local'};</script>\n",
              "        <script src=\"https://cdn.plot.ly/plotly-latest.min.js\"></script>    \n",
              "            <div id=\"20c1d06c-ffa1-403b-90a7-51636b2a63a0\" class=\"plotly-graph-div\" style=\"height:525px; width:100%;\"></div>\n",
              "            <script type=\"text/javascript\">\n",
              "                \n",
              "                    window.PLOTLYENV=window.PLOTLYENV || {};\n",
              "                    \n",
              "                if (document.getElementById(\"20c1d06c-ffa1-403b-90a7-51636b2a63a0\")) {\n",
              "                    Plotly.newPlot(\n",
              "                        '20c1d06c-ffa1-403b-90a7-51636b2a63a0',\n",
              "                        [{\"hoverlabel\": {\"namelength\": 0}, \"hovertemplate\": \"x=%{x}<br>y=%{y}\", \"legendgroup\": \"\", \"line\": {\"color\": \"#636efa\", \"dash\": \"solid\"}, \"mode\": \"lines\", \"name\": \"\", \"showlegend\": false, \"type\": \"scattergl\", \"x\": [\"2007-01-03T16:00:00\", \"2007-01-04T16:00:00\", \"2007-01-05T16:00:00\", \"2007-01-08T16:00:00\", \"2007-01-09T16:00:00\", \"2007-01-10T16:00:00\", \"2007-01-11T16:00:00\", \"2007-01-12T16:00:00\", \"2007-01-16T16:00:00\", \"2007-01-17T16:00:00\", \"2007-01-18T16:00:00\", \"2007-01-19T16:00:00\", \"2007-01-22T16:00:00\", \"2007-01-23T16:00:00\", \"2007-01-24T16:00:00\", \"2007-01-25T16:00:00\", \"2007-01-26T16:00:00\", \"2007-01-29T16:00:00\", \"2007-01-30T16:00:00\", \"2007-01-31T16:00:00\", \"2007-02-01T16:00:00\", \"2007-02-02T16:00:00\", \"2007-02-05T16:00:00\", \"2007-02-06T16:00:00\", \"2007-02-07T16:00:00\", \"2007-02-08T16:00:00\", \"2007-02-09T16:00:00\", \"2007-02-12T16:00:00\", \"2007-02-13T16:00:00\", \"2007-02-14T16:00:00\", \"2007-02-15T16:00:00\", \"2007-02-16T16:00:00\", \"2007-02-20T16:00:00\", \"2007-02-21T16:00:00\", \"2007-02-22T16:00:00\", \"2007-02-23T16:00:00\", \"2007-02-26T16:00:00\", \"2007-02-27T16:00:00\", \"2007-02-28T16:00:00\", \"2007-03-01T16:00:00\", \"2007-03-02T16:00:00\", \"2007-03-05T16:00:00\", \"2007-03-06T16:00:00\", \"2007-03-07T16:00:00\", \"2007-03-08T16:00:00\", \"2007-03-09T16:00:00\", \"2007-03-12T16:00:00\", \"2007-03-13T16:00:00\", \"2007-03-14T16:00:00\", \"2007-03-15T16:00:00\", \"2007-03-16T16:00:00\", \"2007-03-19T16:00:00\", \"2007-03-20T16:00:00\", \"2007-03-21T16:00:00\", \"2007-03-22T16:00:00\", \"2007-03-23T16:00:00\", \"2007-03-26T16:00:00\", \"2007-03-27T16:00:00\", \"2007-03-28T16:00:00\", \"2007-03-29T16:00:00\", \"2007-03-30T16:00:00\", \"2007-04-02T16:00:00\", \"2007-04-03T16:00:00\", \"2007-04-04T16:00:00\", \"2007-04-05T16:00:00\", \"2007-04-06T16:00:00\", \"2007-04-09T16:00:00\", \"2007-04-10T16:00:00\", \"2007-04-11T16:00:00\", \"2007-04-12T16:00:00\", \"2007-04-13T16:00:00\", \"2007-04-16T16:00:00\", \"2007-04-17T16:00:00\", \"2007-04-18T16:00:00\", \"2007-04-19T16:00:00\", \"2007-04-20T16:00:00\", \"2007-04-23T16:00:00\", \"2007-04-24T16:00:00\", \"2007-04-25T16:00:00\", \"2007-04-26T16:00:00\", \"2007-04-27T16:00:00\", \"2007-04-30T16:00:00\", \"2007-05-01T16:00:00\", \"2007-05-02T16:00:00\", \"2007-05-03T16:00:00\", \"2007-05-04T16:00:00\", \"2007-05-07T16:00:00\", \"2007-05-08T16:00:00\", \"2007-05-09T16:00:00\", \"2007-05-10T16:00:00\", \"2007-05-11T16:00:00\", \"2007-05-14T16:00:00\", \"2007-05-15T16:00:00\", \"2007-05-16T16:00:00\", \"2007-05-17T16:00:00\", \"2007-05-18T16:00:00\", \"2007-05-21T16:00:00\", \"2007-05-22T16:00:00\", \"2007-05-23T16:00:00\", \"2007-05-24T16:00:00\", \"2007-05-25T16:00:00\", \"2007-05-29T16:00:00\", \"2007-05-30T16:00:00\", \"2007-05-31T16:00:00\", \"2007-06-01T16:00:00\", \"2007-06-04T16:00:00\", \"2007-06-05T16:00:00\", \"2007-06-06T16:00:00\", \"2007-06-07T16:00:00\", \"2007-06-08T16:00:00\", \"2007-06-11T16:00:00\", \"2007-06-12T16:00:00\", \"2007-06-13T16:00:00\", \"2007-06-14T16:00:00\", \"2007-06-15T16:00:00\", \"2007-06-18T16:00:00\", \"2007-06-19T16:00:00\", \"2007-06-20T16:00:00\", \"2007-06-21T16:00:00\", \"2007-06-22T16:00:00\", \"2007-06-25T16:00:00\", \"2007-06-26T16:00:00\", \"2007-06-27T16:00:00\", \"2007-06-28T16:00:00\", \"2007-06-29T16:00:00\", \"2007-07-02T16:00:00\", \"2007-07-03T16:00:00\", \"2007-07-05T16:00:00\", \"2007-07-06T16:00:00\", \"2007-07-09T16:00:00\", \"2007-07-10T16:00:00\", \"2007-07-11T16:00:00\", \"2007-07-12T16:00:00\", \"2007-07-13T16:00:00\", \"2007-07-16T16:00:00\", \"2007-07-17T16:00:00\", \"2007-07-18T16:00:00\", \"2007-07-19T16:00:00\", \"2007-07-20T16:00:00\", \"2007-07-23T16:00:00\", \"2007-07-24T16:00:00\", \"2007-07-25T16:00:00\", \"2007-07-26T16:00:00\", \"2007-07-27T16:00:00\", \"2007-07-30T16:00:00\", \"2007-07-31T16:00:00\", \"2007-08-01T16:00:00\", \"2007-08-02T16:00:00\", \"2007-08-03T16:00:00\", \"2007-08-06T16:00:00\", \"2007-08-07T16:00:00\", \"2007-08-08T16:00:00\", \"2007-08-09T16:00:00\", \"2007-08-10T16:00:00\", \"2007-08-13T16:00:00\", \"2007-08-14T16:00:00\", \"2007-08-15T16:00:00\", \"2007-08-16T16:00:00\", \"2007-08-17T16:00:00\", \"2007-08-20T16:00:00\", \"2007-08-21T16:00:00\", \"2007-08-22T16:00:00\", \"2007-08-23T16:00:00\", \"2007-08-24T16:00:00\", \"2007-08-27T16:00:00\", \"2007-08-28T16:00:00\", \"2007-08-29T16:00:00\", \"2007-08-30T16:00:00\", \"2007-08-31T16:00:00\", \"2007-09-04T16:00:00\", \"2007-09-05T16:00:00\", \"2007-09-06T16:00:00\", \"2007-09-07T16:00:00\", \"2007-09-10T16:00:00\", \"2007-09-11T16:00:00\", \"2007-09-12T16:00:00\", \"2007-09-13T16:00:00\", \"2007-09-14T16:00:00\", \"2007-09-17T16:00:00\", \"2007-09-18T16:00:00\", \"2007-09-19T16:00:00\", \"2007-09-20T16:00:00\", \"2007-09-21T16:00:00\", \"2007-09-24T16:00:00\", \"2007-09-25T16:00:00\", \"2007-09-26T16:00:00\", \"2007-09-27T16:00:00\", \"2007-09-28T16:00:00\", \"2007-10-01T16:00:00\", \"2007-10-02T16:00:00\", \"2007-10-03T16:00:00\", \"2007-10-04T16:00:00\", \"2007-10-05T16:00:00\", \"2007-10-08T16:00:00\", \"2007-10-09T16:00:00\", \"2007-10-10T16:00:00\", \"2007-10-11T16:00:00\", \"2007-10-12T16:00:00\", \"2007-10-15T16:00:00\", \"2007-10-16T16:00:00\", \"2007-10-17T16:00:00\", \"2007-10-18T16:00:00\", \"2007-10-19T16:00:00\", \"2007-10-22T16:00:00\", \"2007-10-23T16:00:00\", \"2007-10-24T16:00:00\", \"2007-10-25T16:00:00\", \"2007-10-26T16:00:00\", \"2007-10-29T16:00:00\", \"2007-10-30T16:00:00\", \"2007-10-31T16:00:00\", \"2007-11-01T16:00:00\", \"2007-11-02T16:00:00\", \"2007-11-05T16:00:00\", \"2007-11-06T16:00:00\", \"2007-11-07T16:00:00\", \"2007-11-08T16:00:00\", \"2007-11-09T16:00:00\", \"2007-11-12T16:00:00\", \"2007-11-13T16:00:00\", \"2007-11-14T16:00:00\", \"2007-11-15T16:00:00\", \"2007-11-16T16:00:00\", \"2007-11-19T16:00:00\", \"2007-11-20T16:00:00\", \"2007-11-21T16:00:00\", \"2007-11-23T16:00:00\", \"2007-11-26T16:00:00\", \"2007-11-27T16:00:00\", \"2007-11-28T16:00:00\", \"2007-11-29T16:00:00\", \"2007-11-30T16:00:00\", \"2007-12-03T16:00:00\", \"2007-12-04T16:00:00\", \"2007-12-05T16:00:00\", \"2007-12-06T16:00:00\", \"2007-12-07T16:00:00\", \"2007-12-10T16:00:00\", \"2007-12-11T16:00:00\", \"2007-12-12T16:00:00\", \"2007-12-13T16:00:00\", \"2007-12-14T16:00:00\", \"2007-12-17T16:00:00\", \"2007-12-18T16:00:00\", \"2007-12-19T16:00:00\", \"2007-12-20T16:00:00\", \"2007-12-21T16:00:00\", \"2007-12-24T16:00:00\", \"2007-12-26T16:00:00\", \"2007-12-27T16:00:00\", \"2007-12-28T16:00:00\", \"2007-12-31T16:00:00\", \"2008-01-02T16:00:00\", \"2008-01-03T16:00:00\", \"2008-01-04T16:00:00\", \"2008-01-07T16:00:00\", \"2008-01-08T16:00:00\", \"2008-01-09T16:00:00\", \"2008-01-10T16:00:00\", \"2008-01-11T16:00:00\", \"2008-01-14T16:00:00\", \"2008-01-15T16:00:00\", \"2008-01-16T16:00:00\", \"2008-01-17T16:00:00\", \"2008-01-18T16:00:00\", \"2008-01-22T16:00:00\", \"2008-01-23T16:00:00\", \"2008-01-24T16:00:00\", \"2008-01-25T16:00:00\", \"2008-01-28T16:00:00\", \"2008-01-29T16:00:00\", \"2008-01-30T16:00:00\", \"2008-01-31T16:00:00\", \"2008-02-01T16:00:00\", \"2008-02-04T16:00:00\", \"2008-02-05T16:00:00\", \"2008-02-06T16:00:00\", \"2008-02-07T16:00:00\", \"2008-02-08T16:00:00\", \"2008-02-11T16:00:00\", \"2008-02-12T16:00:00\", \"2008-02-13T16:00:00\", \"2008-02-14T16:00:00\", \"2008-02-15T16:00:00\", \"2008-02-19T16:00:00\", \"2008-02-20T16:00:00\", \"2008-02-21T16:00:00\", \"2008-02-22T16:00:00\", \"2008-02-25T16:00:00\", \"2008-02-26T16:00:00\", \"2008-02-27T16:00:00\", \"2008-02-28T16:00:00\", \"2008-02-29T16:00:00\", \"2008-03-03T16:00:00\", \"2008-03-04T16:00:00\", \"2008-03-05T16:00:00\", \"2008-03-06T16:00:00\", \"2008-03-07T16:00:00\", \"2008-03-10T16:00:00\", \"2008-03-11T16:00:00\", \"2008-03-12T16:00:00\", \"2008-03-13T16:00:00\", \"2008-03-14T16:00:00\", \"2008-03-17T16:00:00\", \"2008-03-18T16:00:00\", \"2008-03-19T16:00:00\", \"2008-03-20T16:00:00\", \"2008-03-24T16:00:00\", \"2008-03-25T16:00:00\", \"2008-03-26T16:00:00\", \"2008-03-27T16:00:00\", \"2008-03-28T16:00:00\", \"2008-03-31T16:00:00\", \"2008-04-01T16:00:00\", \"2008-04-02T16:00:00\", \"2008-04-03T16:00:00\", \"2008-04-04T16:00:00\", \"2008-04-07T16:00:00\", \"2008-04-08T16:00:00\", \"2008-04-09T16:00:00\", \"2008-04-10T16:00:00\", \"2008-04-11T16:00:00\", \"2008-04-14T16:00:00\", \"2008-04-15T16:00:00\", \"2008-04-16T16:00:00\", \"2008-04-17T16:00:00\", \"2008-04-18T16:00:00\", \"2008-04-21T16:00:00\", \"2008-04-22T16:00:00\", \"2008-04-23T16:00:00\", \"2008-04-24T16:00:00\", \"2008-04-25T16:00:00\", \"2008-04-28T16:00:00\", \"2008-04-29T16:00:00\", \"2008-04-30T16:00:00\", \"2008-05-01T16:00:00\", \"2008-05-02T16:00:00\", \"2008-05-05T16:00:00\", \"2008-05-06T16:00:00\", \"2008-05-07T16:00:00\", \"2008-05-08T16:00:00\", \"2008-05-09T16:00:00\", \"2008-05-12T16:00:00\", \"2008-05-13T16:00:00\", \"2008-05-14T16:00:00\", \"2008-05-15T16:00:00\", \"2008-05-16T16:00:00\", \"2008-05-19T16:00:00\", \"2008-05-20T16:00:00\", \"2008-05-21T16:00:00\", \"2008-05-22T16:00:00\", \"2008-05-23T16:00:00\", \"2008-05-27T16:00:00\", \"2008-05-28T16:00:00\", \"2008-05-29T16:00:00\", \"2008-05-30T16:00:00\", \"2008-06-02T16:00:00\", \"2008-06-03T16:00:00\", \"2008-06-04T16:00:00\", \"2008-06-05T16:00:00\", \"2008-06-06T16:00:00\", \"2008-06-09T16:00:00\", \"2008-06-10T16:00:00\", \"2008-06-11T16:00:00\", \"2008-06-12T16:00:00\", \"2008-06-13T16:00:00\", \"2008-06-16T16:00:00\", \"2008-06-17T16:00:00\", \"2008-06-18T16:00:00\", \"2008-06-19T16:00:00\", \"2008-06-20T16:00:00\", \"2008-06-23T16:00:00\", \"2008-06-24T16:00:00\", \"2008-06-25T16:00:00\", \"2008-06-26T16:00:00\", \"2008-06-27T16:00:00\", \"2008-06-30T16:00:00\", \"2008-07-01T16:00:00\", \"2008-07-02T16:00:00\", \"2008-07-03T16:00:00\", \"2008-07-07T16:00:00\", \"2008-07-08T16:00:00\", \"2008-07-09T16:00:00\", \"2008-07-10T16:00:00\", \"2008-07-11T16:00:00\", \"2008-07-14T16:00:00\", \"2008-07-15T16:00:00\", \"2008-07-16T16:00:00\", \"2008-07-17T16:00:00\", \"2008-07-18T16:00:00\", \"2008-07-21T16:00:00\", \"2008-07-22T16:00:00\", \"2008-07-23T16:00:00\", \"2008-07-24T16:00:00\", \"2008-07-25T16:00:00\", \"2008-07-28T16:00:00\", \"2008-07-29T16:00:00\", \"2008-07-30T16:00:00\", \"2008-07-31T16:00:00\", \"2008-08-01T16:00:00\", \"2008-08-04T16:00:00\", \"2008-08-05T16:00:00\", \"2008-08-06T16:00:00\", \"2008-08-07T16:00:00\", \"2008-08-08T16:00:00\", \"2008-08-11T16:00:00\", \"2008-08-12T16:00:00\", \"2008-08-13T16:00:00\", \"2008-08-14T16:00:00\", \"2008-08-15T16:00:00\", \"2008-08-18T16:00:00\", \"2008-08-19T16:00:00\", \"2008-08-20T16:00:00\", \"2008-08-21T16:00:00\", \"2008-08-22T16:00:00\", \"2008-08-25T16:00:00\", \"2008-08-26T16:00:00\", \"2008-08-27T16:00:00\", \"2008-08-28T16:00:00\", \"2008-08-29T16:00:00\", \"2008-09-02T16:00:00\", \"2008-09-03T16:00:00\", \"2008-09-04T16:00:00\", \"2008-09-05T16:00:00\", \"2008-09-08T16:00:00\", \"2008-09-09T16:00:00\", \"2008-09-10T16:00:00\", \"2008-09-11T16:00:00\", \"2008-09-12T16:00:00\", \"2008-09-15T16:00:00\", \"2008-09-16T16:00:00\", \"2008-09-17T16:00:00\", \"2008-09-18T16:00:00\", \"2008-09-19T16:00:00\", \"2008-09-22T16:00:00\", \"2008-09-23T16:00:00\", \"2008-09-24T16:00:00\", \"2008-09-25T16:00:00\", \"2008-09-26T16:00:00\", \"2008-09-29T16:00:00\", \"2008-09-30T16:00:00\", \"2008-10-01T16:00:00\", \"2008-10-02T16:00:00\", \"2008-10-03T16:00:00\", \"2008-10-06T16:00:00\", \"2008-10-07T16:00:00\", \"2008-10-08T16:00:00\", \"2008-10-09T16:00:00\", \"2008-10-10T16:00:00\", \"2008-10-13T16:00:00\", \"2008-10-14T16:00:00\", \"2008-10-15T16:00:00\", \"2008-10-16T16:00:00\", \"2008-10-17T16:00:00\", \"2008-10-20T16:00:00\", \"2008-10-21T16:00:00\", \"2008-10-22T16:00:00\", \"2008-10-23T16:00:00\", \"2008-10-24T16:00:00\", \"2008-10-27T16:00:00\", \"2008-10-28T16:00:00\", \"2008-10-29T16:00:00\", \"2008-10-30T16:00:00\", \"2008-10-31T16:00:00\", \"2008-11-03T16:00:00\", \"2008-11-04T16:00:00\", \"2008-11-05T16:00:00\", \"2008-11-06T16:00:00\", \"2008-11-07T16:00:00\", \"2008-11-10T16:00:00\", \"2008-11-11T16:00:00\", \"2008-11-12T16:00:00\", \"2008-11-13T16:00:00\", \"2008-11-14T16:00:00\", \"2008-11-17T16:00:00\", \"2008-11-18T16:00:00\", \"2008-11-19T16:00:00\", \"2008-11-20T16:00:00\", \"2008-11-21T16:00:00\", \"2008-11-24T16:00:00\", \"2008-11-25T16:00:00\", \"2008-11-26T16:00:00\", \"2008-11-28T16:00:00\", \"2008-12-01T16:00:00\", \"2008-12-02T16:00:00\", \"2008-12-03T16:00:00\", \"2008-12-04T16:00:00\", \"2008-12-05T16:00:00\", \"2008-12-08T16:00:00\", \"2008-12-09T16:00:00\", \"2008-12-10T16:00:00\", \"2008-12-11T16:00:00\", \"2008-12-12T16:00:00\", \"2008-12-15T16:00:00\", \"2008-12-16T16:00:00\", \"2008-12-17T16:00:00\", \"2008-12-18T16:00:00\", \"2008-12-19T16:00:00\", \"2008-12-22T16:00:00\", \"2008-12-23T16:00:00\", \"2008-12-24T16:00:00\", \"2008-12-26T16:00:00\", \"2008-12-29T16:00:00\", \"2008-12-30T16:00:00\", \"2008-12-31T16:00:00\", \"2009-01-02T16:00:00\", \"2009-01-05T16:00:00\", \"2009-01-06T16:00:00\", \"2009-01-07T16:00:00\", \"2009-01-08T16:00:00\", \"2009-01-09T16:00:00\", \"2009-01-12T16:00:00\", \"2009-01-13T16:00:00\", \"2009-01-14T16:00:00\", \"2009-01-15T16:00:00\", \"2009-01-16T16:00:00\", \"2009-01-20T16:00:00\", \"2009-01-21T16:00:00\", \"2009-01-22T16:00:00\", \"2009-01-23T16:00:00\", \"2009-01-26T16:00:00\", \"2009-01-27T16:00:00\", \"2009-01-28T16:00:00\", \"2009-01-29T16:00:00\", \"2009-01-30T16:00:00\", \"2009-02-02T16:00:00\", \"2009-02-03T16:00:00\", \"2009-02-04T16:00:00\", \"2009-02-05T16:00:00\", \"2009-02-06T16:00:00\", \"2009-02-09T16:00:00\", \"2009-02-10T16:00:00\", \"2009-02-11T16:00:00\", \"2009-02-12T16:00:00\", \"2009-02-13T16:00:00\", \"2009-02-17T16:00:00\", \"2009-02-18T16:00:00\", \"2009-02-19T16:00:00\", \"2009-02-20T16:00:00\", \"2009-02-23T16:00:00\", \"2009-02-24T16:00:00\", \"2009-02-25T16:00:00\", \"2009-02-26T16:00:00\", \"2009-02-27T16:00:00\", \"2009-03-02T16:00:00\", \"2009-03-03T16:00:00\", \"2009-03-04T16:00:00\", \"2009-03-05T16:00:00\", \"2009-03-06T16:00:00\", \"2009-03-09T16:00:00\", \"2009-03-10T16:00:00\", \"2009-03-11T16:00:00\", \"2009-03-12T16:00:00\", \"2009-03-13T16:00:00\", \"2009-03-16T16:00:00\", \"2009-03-17T16:00:00\", \"2009-03-18T16:00:00\", \"2009-03-19T16:00:00\", \"2009-03-20T16:00:00\", \"2009-03-23T16:00:00\", \"2009-03-24T16:00:00\", \"2009-03-25T16:00:00\", \"2009-03-26T16:00:00\", \"2009-03-27T16:00:00\", \"2009-03-30T16:00:00\", \"2009-03-31T16:00:00\", \"2009-04-01T16:00:00\", \"2009-04-02T16:00:00\", \"2009-04-03T16:00:00\", \"2009-04-06T16:00:00\", \"2009-04-07T16:00:00\", \"2009-04-08T16:00:00\", \"2009-04-09T16:00:00\", \"2009-04-13T16:00:00\", \"2009-04-14T16:00:00\", \"2009-04-15T16:00:00\", \"2009-04-16T16:00:00\", \"2009-04-17T16:00:00\", \"2009-04-20T16:00:00\", \"2009-04-21T16:00:00\", \"2009-04-22T16:00:00\", \"2009-04-23T16:00:00\", \"2009-04-24T16:00:00\", \"2009-04-27T16:00:00\", \"2009-04-28T16:00:00\", \"2009-04-29T16:00:00\", \"2009-04-30T16:00:00\", \"2009-05-01T16:00:00\", \"2009-05-04T16:00:00\", \"2009-05-05T16:00:00\", \"2009-05-06T16:00:00\", \"2009-05-07T16:00:00\", \"2009-05-08T16:00:00\", \"2009-05-11T16:00:00\", \"2009-05-12T16:00:00\", \"2009-05-13T16:00:00\", \"2009-05-14T16:00:00\", \"2009-05-15T16:00:00\", \"2009-05-18T16:00:00\", \"2009-05-19T16:00:00\", \"2009-05-20T16:00:00\", \"2009-05-21T16:00:00\", \"2009-05-22T16:00:00\", \"2009-05-26T16:00:00\", \"2009-05-27T16:00:00\", \"2009-05-28T16:00:00\", \"2009-05-29T16:00:00\", \"2009-06-01T16:00:00\", \"2009-06-02T16:00:00\", \"2009-06-03T16:00:00\", \"2009-06-04T16:00:00\", \"2009-06-05T16:00:00\", \"2009-06-08T16:00:00\", \"2009-06-09T16:00:00\", \"2009-06-10T16:00:00\", \"2009-06-11T16:00:00\", \"2009-06-12T16:00:00\", \"2009-06-15T16:00:00\", \"2009-06-16T16:00:00\", \"2009-06-17T16:00:00\", \"2009-06-18T16:00:00\", \"2009-06-19T16:00:00\", \"2009-06-22T16:00:00\", \"2009-06-23T16:00:00\", \"2009-06-24T16:00:00\", \"2009-06-25T16:00:00\", \"2009-06-26T16:00:00\", \"2009-06-29T16:00:00\", \"2009-06-30T16:00:00\", \"2009-07-01T16:00:00\", \"2009-07-02T16:00:00\", \"2009-07-06T16:00:00\", \"2009-07-07T16:00:00\", \"2009-07-08T16:00:00\", \"2009-07-09T16:00:00\", \"2009-07-10T16:00:00\", \"2009-07-13T16:00:00\", \"2009-07-14T16:00:00\", \"2009-07-15T16:00:00\", \"2009-07-16T16:00:00\", \"2009-07-17T16:00:00\", \"2009-07-20T16:00:00\", \"2009-07-21T16:00:00\", \"2009-07-22T16:00:00\", \"2009-07-23T16:00:00\", \"2009-07-24T16:00:00\", \"2009-07-27T16:00:00\", \"2009-07-28T16:00:00\", \"2009-07-29T16:00:00\", \"2009-07-30T16:00:00\", \"2009-07-31T16:00:00\", \"2009-08-03T16:00:00\", \"2009-08-04T16:00:00\", \"2009-08-05T16:00:00\", \"2009-08-06T16:00:00\", \"2009-08-07T16:00:00\", \"2009-08-10T16:00:00\", \"2009-08-11T16:00:00\", \"2009-08-12T16:00:00\", \"2009-08-13T16:00:00\", \"2009-08-14T16:00:00\", \"2009-08-17T16:00:00\", \"2009-08-18T16:00:00\", \"2009-08-19T16:00:00\", \"2009-08-20T16:00:00\", \"2009-08-21T16:00:00\", \"2009-08-24T16:00:00\", \"2009-08-25T16:00:00\", \"2009-08-26T16:00:00\", \"2009-08-27T16:00:00\", \"2009-08-28T16:00:00\", \"2009-08-31T16:00:00\", \"2009-09-01T16:00:00\", \"2009-09-02T16:00:00\", \"2009-09-03T16:00:00\", \"2009-09-04T16:00:00\", \"2009-09-08T16:00:00\", \"2009-09-09T16:00:00\", \"2009-09-10T16:00:00\", \"2009-09-11T16:00:00\", \"2009-09-14T16:00:00\", \"2009-09-15T16:00:00\", \"2009-09-16T16:00:00\", \"2009-09-17T16:00:00\", \"2009-09-18T16:00:00\", \"2009-09-21T16:00:00\", \"2009-09-22T16:00:00\", \"2009-09-23T16:00:00\", \"2009-09-24T16:00:00\", \"2009-09-25T16:00:00\", \"2009-09-28T16:00:00\", \"2009-09-29T16:00:00\", \"2009-09-30T16:00:00\", \"2009-10-01T16:00:00\", \"2009-10-02T16:00:00\", \"2009-10-05T16:00:00\", \"2009-10-06T16:00:00\", \"2009-10-07T16:00:00\", \"2009-10-08T16:00:00\", \"2009-10-09T16:00:00\", \"2009-10-12T16:00:00\", \"2009-10-13T16:00:00\", \"2009-10-14T16:00:00\", \"2009-10-15T16:00:00\", \"2009-10-16T16:00:00\", \"2009-10-19T16:00:00\", \"2009-10-20T16:00:00\", \"2009-10-21T16:00:00\", \"2009-10-22T16:00:00\", \"2009-10-23T16:00:00\", \"2009-10-26T16:00:00\", \"2009-10-27T16:00:00\", \"2009-10-28T16:00:00\", \"2009-10-29T16:00:00\", \"2009-10-30T16:00:00\", \"2009-11-02T16:00:00\", \"2009-11-03T16:00:00\", \"2009-11-04T16:00:00\", \"2009-11-05T16:00:00\", \"2009-11-06T16:00:00\", \"2009-11-09T16:00:00\", \"2009-11-10T16:00:00\", \"2009-11-11T16:00:00\", \"2009-11-12T16:00:00\", \"2009-11-13T16:00:00\", \"2009-11-16T16:00:00\", \"2009-11-17T16:00:00\", \"2009-11-18T16:00:00\", \"2009-11-19T16:00:00\", \"2009-11-20T16:00:00\", \"2009-11-23T16:00:00\", \"2009-11-24T16:00:00\", \"2009-11-25T16:00:00\", \"2009-11-27T16:00:00\", \"2009-11-30T16:00:00\", \"2009-12-01T16:00:00\", \"2009-12-02T16:00:00\", \"2009-12-03T16:00:00\", \"2009-12-04T16:00:00\", \"2009-12-07T16:00:00\", \"2009-12-08T16:00:00\", \"2009-12-09T16:00:00\", \"2009-12-10T16:00:00\", \"2009-12-11T16:00:00\", \"2009-12-14T16:00:00\", \"2009-12-15T16:00:00\", \"2009-12-16T16:00:00\", \"2009-12-17T16:00:00\", \"2009-12-18T16:00:00\", \"2009-12-21T16:00:00\", \"2009-12-22T16:00:00\", \"2009-12-23T16:00:00\", \"2009-12-24T16:00:00\", \"2009-12-28T16:00:00\", \"2009-12-29T16:00:00\", \"2009-12-30T16:00:00\", \"2009-12-31T16:00:00\", \"2010-01-04T16:00:00\", \"2010-01-05T16:00:00\", \"2010-01-06T16:00:00\", \"2010-01-07T16:00:00\", \"2010-01-08T16:00:00\", \"2010-01-11T16:00:00\", \"2010-01-12T16:00:00\", \"2010-01-13T16:00:00\", \"2010-01-14T16:00:00\", \"2010-01-15T16:00:00\", \"2010-01-19T16:00:00\", \"2010-01-20T16:00:00\", \"2010-01-21T16:00:00\", \"2010-01-22T16:00:00\", \"2010-01-25T16:00:00\", \"2010-01-26T16:00:00\", \"2010-01-27T16:00:00\", \"2010-01-28T16:00:00\", \"2010-01-29T16:00:00\", \"2010-02-01T16:00:00\", \"2010-02-02T16:00:00\", \"2010-02-03T16:00:00\", \"2010-02-04T16:00:00\", \"2010-02-05T16:00:00\", \"2010-02-08T16:00:00\", \"2010-02-09T16:00:00\", \"2010-02-10T16:00:00\", \"2010-02-11T16:00:00\", \"2010-02-12T16:00:00\", \"2010-02-16T16:00:00\", \"2010-02-17T16:00:00\", \"2010-02-18T16:00:00\", \"2010-02-19T16:00:00\", \"2010-02-22T16:00:00\", \"2010-02-23T16:00:00\", \"2010-02-24T16:00:00\", \"2010-02-25T16:00:00\", \"2010-02-26T16:00:00\", \"2010-03-01T16:00:00\", \"2010-03-02T16:00:00\", \"2010-03-03T16:00:00\", \"2010-03-04T16:00:00\", \"2010-03-05T16:00:00\", \"2010-03-08T16:00:00\", \"2010-03-09T16:00:00\", \"2010-03-10T16:00:00\", \"2010-03-11T16:00:00\", \"2010-03-12T16:00:00\", \"2010-03-15T16:00:00\", \"2010-03-16T16:00:00\", \"2010-03-17T16:00:00\", \"2010-03-18T16:00:00\", \"2010-03-19T16:00:00\", \"2010-03-22T16:00:00\", \"2010-03-23T16:00:00\", \"2010-03-24T16:00:00\", \"2010-03-25T16:00:00\", \"2010-03-26T16:00:00\", \"2010-03-29T16:00:00\", \"2010-03-30T16:00:00\", \"2010-03-31T16:00:00\", \"2010-04-01T16:00:00\", \"2010-04-05T16:00:00\", \"2010-04-06T16:00:00\", \"2010-04-07T16:00:00\", \"2010-04-08T16:00:00\", \"2010-04-09T16:00:00\", \"2010-04-12T16:00:00\", \"2010-04-13T16:00:00\", \"2010-04-14T16:00:00\", \"2010-04-15T16:00:00\", \"2010-04-16T16:00:00\", \"2010-04-19T16:00:00\", \"2010-04-20T16:00:00\", \"2010-04-21T16:00:00\", \"2010-04-22T16:00:00\", \"2010-04-23T16:00:00\", \"2010-04-26T16:00:00\", \"2010-04-27T16:00:00\", \"2010-04-28T16:00:00\", \"2010-04-29T16:00:00\", \"2010-04-30T16:00:00\", \"2010-05-03T16:00:00\", \"2010-05-04T16:00:00\", \"2010-05-05T16:00:00\", \"2010-05-06T16:00:00\", \"2010-05-07T16:00:00\", \"2010-05-10T16:00:00\", \"2010-05-11T16:00:00\", \"2010-05-12T16:00:00\", \"2010-05-13T16:00:00\", \"2010-05-14T16:00:00\", \"2010-05-17T16:00:00\", \"2010-05-18T16:00:00\", \"2010-05-19T16:00:00\", \"2010-05-20T16:00:00\", \"2010-05-21T16:00:00\", \"2010-05-24T16:00:00\", \"2010-05-25T16:00:00\", \"2010-05-26T16:00:00\", \"2010-05-27T16:00:00\", \"2010-05-28T16:00:00\", \"2010-06-01T16:00:00\", \"2010-06-02T16:00:00\", \"2010-06-03T16:00:00\", \"2010-06-04T16:00:00\", \"2010-06-07T16:00:00\", \"2010-06-08T16:00:00\", \"2010-06-09T16:00:00\", \"2010-06-10T16:00:00\", \"2010-06-11T16:00:00\", \"2010-06-14T16:00:00\", \"2010-06-15T16:00:00\", \"2010-06-16T16:00:00\", \"2010-06-17T16:00:00\", \"2010-06-18T16:00:00\", \"2010-06-21T16:00:00\", \"2010-06-22T16:00:00\", \"2010-06-23T16:00:00\", \"2010-06-24T16:00:00\", \"2010-06-25T16:00:00\", \"2010-06-28T16:00:00\", \"2010-06-29T16:00:00\", \"2010-06-30T16:00:00\", \"2010-07-01T16:00:00\", \"2010-07-02T16:00:00\", \"2010-07-06T16:00:00\", \"2010-07-07T16:00:00\", \"2010-07-08T16:00:00\", \"2010-07-09T16:00:00\", \"2010-07-12T16:00:00\", \"2010-07-13T16:00:00\", \"2010-07-14T16:00:00\", \"2010-07-15T16:00:00\", \"2010-07-16T16:00:00\", \"2010-07-19T16:00:00\", \"2010-07-20T16:00:00\", \"2010-07-21T16:00:00\", \"2010-07-22T16:00:00\", \"2010-07-23T16:00:00\", \"2010-07-26T16:00:00\", \"2010-07-27T16:00:00\", \"2010-07-28T16:00:00\", \"2010-07-29T16:00:00\", \"2010-07-30T16:00:00\", \"2010-08-02T16:00:00\", \"2010-08-03T16:00:00\", \"2010-08-04T16:00:00\", \"2010-08-05T16:00:00\", \"2010-08-06T16:00:00\", \"2010-08-09T16:00:00\", \"2010-08-10T16:00:00\", \"2010-08-11T16:00:00\", \"2010-08-12T16:00:00\", \"2010-08-13T16:00:00\", \"2010-08-16T16:00:00\", \"2010-08-17T16:00:00\", \"2010-08-18T16:00:00\", \"2010-08-19T16:00:00\", \"2010-08-20T16:00:00\", \"2010-08-23T16:00:00\", \"2010-08-24T16:00:00\", \"2010-08-25T16:00:00\", \"2010-08-26T16:00:00\", \"2010-08-27T16:00:00\", \"2010-08-30T16:00:00\", \"2010-08-31T16:00:00\", \"2010-09-01T16:00:00\", \"2010-09-02T16:00:00\", \"2010-09-03T16:00:00\", \"2010-09-07T16:00:00\", \"2010-09-08T16:00:00\", \"2010-09-09T16:00:00\", \"2010-09-10T16:00:00\", \"2010-09-13T16:00:00\", \"2010-09-14T16:00:00\", \"2010-09-15T16:00:00\", \"2010-09-16T16:00:00\", \"2010-09-17T16:00:00\", \"2010-09-20T16:00:00\", \"2010-09-21T16:00:00\", \"2010-09-22T16:00:00\", \"2010-09-23T16:00:00\", \"2010-09-24T16:00:00\", \"2010-09-27T16:00:00\", \"2010-09-28T16:00:00\", \"2010-09-29T16:00:00\", \"2010-09-30T16:00:00\", \"2010-10-01T16:00:00\", \"2010-10-04T16:00:00\", \"2010-10-05T16:00:00\", \"2010-10-06T16:00:00\", \"2010-10-07T16:00:00\", \"2010-10-08T16:00:00\", \"2010-10-11T16:00:00\", \"2010-10-12T16:00:00\", \"2010-10-13T16:00:00\", \"2010-10-14T16:00:00\", \"2010-10-15T16:00:00\", \"2010-10-18T16:00:00\", \"2010-10-19T16:00:00\", \"2010-10-20T16:00:00\", \"2010-10-21T16:00:00\", \"2010-10-22T16:00:00\", \"2010-10-25T16:00:00\", \"2010-10-26T16:00:00\", \"2010-10-27T16:00:00\", \"2010-10-28T16:00:00\", \"2010-10-29T16:00:00\", \"2010-11-01T16:00:00\", \"2010-11-02T16:00:00\", \"2010-11-03T16:00:00\", \"2010-11-04T16:00:00\", \"2010-11-05T16:00:00\", \"2010-11-08T16:00:00\", \"2010-11-09T16:00:00\", \"2010-11-10T16:00:00\", \"2010-11-11T16:00:00\", \"2010-11-12T16:00:00\", \"2010-11-15T16:00:00\", \"2010-11-16T16:00:00\", \"2010-11-17T16:00:00\", \"2010-11-18T16:00:00\", \"2010-11-19T16:00:00\", \"2010-11-22T16:00:00\", \"2010-11-23T16:00:00\", \"2010-11-24T16:00:00\", \"2010-11-26T16:00:00\", \"2010-11-29T16:00:00\", \"2010-11-30T16:00:00\", \"2010-12-01T16:00:00\", \"2010-12-02T16:00:00\", \"2010-12-03T16:00:00\", \"2010-12-06T16:00:00\", \"2010-12-07T16:00:00\", \"2010-12-08T16:00:00\", \"2010-12-09T16:00:00\", \"2010-12-10T16:00:00\", \"2010-12-13T16:00:00\", \"2010-12-14T16:00:00\", \"2010-12-15T16:00:00\", \"2010-12-16T16:00:00\", \"2010-12-17T16:00:00\", \"2010-12-20T16:00:00\", \"2010-12-21T16:00:00\", \"2010-12-22T16:00:00\", \"2010-12-23T16:00:00\", \"2010-12-27T16:00:00\", \"2010-12-28T16:00:00\", \"2010-12-29T16:00:00\", \"2010-12-30T16:00:00\", \"2010-12-31T16:00:00\", \"2011-01-03T16:00:00\", \"2011-01-04T16:00:00\", \"2011-01-05T16:00:00\", \"2011-01-06T16:00:00\", \"2011-01-07T16:00:00\", \"2011-01-10T16:00:00\", \"2011-01-11T16:00:00\", \"2011-01-12T16:00:00\", \"2011-01-13T16:00:00\", \"2011-01-14T16:00:00\", \"2011-01-18T16:00:00\", \"2011-01-19T16:00:00\", \"2011-01-20T16:00:00\", \"2011-01-21T16:00:00\", \"2011-01-24T16:00:00\", \"2011-01-25T16:00:00\", \"2011-01-26T16:00:00\", \"2011-01-27T16:00:00\", \"2011-01-28T16:00:00\", \"2011-01-31T16:00:00\", \"2011-02-01T16:00:00\", \"2011-02-02T16:00:00\", \"2011-02-03T16:00:00\", \"2011-02-04T16:00:00\", \"2011-02-07T16:00:00\", \"2011-02-08T16:00:00\", \"2011-02-09T16:00:00\", \"2011-02-10T16:00:00\", \"2011-02-11T16:00:00\", \"2011-02-14T16:00:00\", \"2011-02-15T16:00:00\", \"2011-02-16T16:00:00\", \"2011-02-17T16:00:00\", \"2011-02-18T16:00:00\", \"2011-02-22T16:00:00\", \"2011-02-23T16:00:00\", \"2011-02-24T16:00:00\", \"2011-02-25T16:00:00\", \"2011-02-28T16:00:00\", \"2011-03-01T16:00:00\", \"2011-03-02T16:00:00\", \"2011-03-03T16:00:00\", \"2011-03-04T16:00:00\", \"2011-03-07T16:00:00\", \"2011-03-08T16:00:00\", \"2011-03-09T16:00:00\", \"2011-03-10T16:00:00\", \"2011-03-11T16:00:00\", \"2011-03-14T16:00:00\", \"2011-03-15T16:00:00\", \"2011-03-16T16:00:00\", \"2011-03-17T16:00:00\", \"2011-03-18T16:00:00\", \"2011-03-21T16:00:00\", \"2011-03-22T16:00:00\", \"2011-03-23T16:00:00\", \"2011-03-24T16:00:00\", \"2011-03-25T16:00:00\", \"2011-03-28T16:00:00\", \"2011-03-29T16:00:00\", \"2011-03-30T16:00:00\", \"2011-03-31T16:00:00\", \"2011-04-01T16:00:00\", \"2011-04-04T16:00:00\", \"2011-04-05T16:00:00\", \"2011-04-06T16:00:00\", \"2011-04-07T16:00:00\", \"2011-04-08T16:00:00\", \"2011-04-11T16:00:00\", \"2011-04-12T16:00:00\", \"2011-04-13T16:00:00\", \"2011-04-14T16:00:00\", \"2011-04-15T16:00:00\", \"2011-04-18T16:00:00\", \"2011-04-19T16:00:00\", \"2011-04-20T16:00:00\", \"2011-04-21T16:00:00\", \"2011-04-25T16:00:00\", \"2011-04-26T16:00:00\", \"2011-04-27T16:00:00\", \"2011-04-28T16:00:00\", \"2011-04-29T16:00:00\", \"2011-05-02T16:00:00\", \"2011-05-03T16:00:00\", \"2011-05-04T16:00:00\", \"2011-05-05T16:00:00\", \"2011-05-06T16:00:00\", \"2011-05-09T16:00:00\", \"2011-05-10T16:00:00\", \"2011-05-11T16:00:00\", \"2011-05-12T16:00:00\", \"2011-05-13T16:00:00\", \"2011-05-16T16:00:00\", \"2011-05-17T16:00:00\", \"2011-05-18T16:00:00\", \"2011-05-19T16:00:00\", \"2011-05-20T16:00:00\", \"2011-05-23T16:00:00\", \"2011-05-24T16:00:00\", \"2011-05-25T16:00:00\", \"2011-05-26T16:00:00\", \"2011-05-27T16:00:00\", \"2011-05-31T16:00:00\", \"2011-06-01T16:00:00\", \"2011-06-02T16:00:00\", \"2011-06-03T16:00:00\", \"2011-06-06T16:00:00\", \"2011-06-07T16:00:00\", \"2011-06-08T16:00:00\", \"2011-06-09T16:00:00\", \"2011-06-10T16:00:00\", \"2011-06-13T16:00:00\", \"2011-06-14T16:00:00\", \"2011-06-15T16:00:00\", \"2011-06-16T16:00:00\", \"2011-06-17T16:00:00\", \"2011-06-20T16:00:00\", \"2011-06-21T16:00:00\", \"2011-06-22T16:00:00\", \"2011-06-23T16:00:00\", \"2011-06-24T16:00:00\", \"2011-06-27T16:00:00\", \"2011-06-28T16:00:00\", \"2011-06-29T16:00:00\", \"2011-06-30T16:00:00\", \"2011-07-01T16:00:00\", \"2011-07-05T16:00:00\", \"2011-07-06T16:00:00\", \"2011-07-07T16:00:00\", \"2011-07-08T16:00:00\", \"2011-07-11T16:00:00\", \"2011-07-12T16:00:00\", \"2011-07-13T16:00:00\", \"2011-07-14T16:00:00\", \"2011-07-15T16:00:00\", \"2011-07-18T16:00:00\", \"2011-07-19T16:00:00\", \"2011-07-20T16:00:00\", \"2011-07-21T16:00:00\", \"2011-07-22T16:00:00\", \"2011-07-25T16:00:00\", \"2011-07-26T16:00:00\", \"2011-07-27T16:00:00\", \"2011-07-28T16:00:00\", \"2011-07-29T16:00:00\", \"2011-08-01T16:00:00\", \"2011-08-02T16:00:00\", \"2011-08-03T16:00:00\", \"2011-08-04T16:00:00\", \"2011-08-05T16:00:00\", \"2011-08-08T16:00:00\", \"2011-08-09T16:00:00\", \"2011-08-10T16:00:00\", \"2011-08-11T16:00:00\", \"2011-08-12T16:00:00\", \"2011-08-15T16:00:00\", \"2011-08-16T16:00:00\", \"2011-08-17T16:00:00\", \"2011-08-18T16:00:00\", \"2011-08-19T16:00:00\", \"2011-08-22T16:00:00\", \"2011-08-23T16:00:00\", \"2011-08-24T16:00:00\", \"2011-08-25T16:00:00\", \"2011-08-26T16:00:00\", \"2011-08-29T16:00:00\", \"2011-08-30T16:00:00\", \"2011-08-31T16:00:00\", \"2011-09-01T16:00:00\", \"2011-09-02T16:00:00\", \"2011-09-06T16:00:00\", \"2011-09-07T16:00:00\", \"2011-09-08T16:00:00\", \"2011-09-09T16:00:00\", \"2011-09-12T16:00:00\", \"2011-09-13T16:00:00\", \"2011-09-14T16:00:00\", \"2011-09-15T16:00:00\", \"2011-09-16T16:00:00\", \"2011-09-19T16:00:00\", \"2011-09-20T16:00:00\", \"2011-09-21T16:00:00\", \"2011-09-22T16:00:00\", \"2011-09-23T16:00:00\", \"2011-09-26T16:00:00\", \"2011-09-27T16:00:00\", \"2011-09-28T16:00:00\", \"2011-09-29T16:00:00\", \"2011-09-30T16:00:00\", \"2011-10-03T16:00:00\", \"2011-10-04T16:00:00\", \"2011-10-05T16:00:00\", \"2011-10-06T16:00:00\", \"2011-10-07T16:00:00\", \"2011-10-10T16:00:00\", \"2011-10-11T16:00:00\", \"2011-10-12T16:00:00\", \"2011-10-13T16:00:00\", \"2011-10-14T16:00:00\", \"2011-10-17T16:00:00\", \"2011-10-18T16:00:00\", \"2011-10-19T16:00:00\", \"2011-10-20T16:00:00\", \"2011-10-21T16:00:00\", \"2011-10-24T16:00:00\", \"2011-10-25T16:00:00\", \"2011-10-26T16:00:00\", \"2011-10-27T16:00:00\", \"2011-10-28T16:00:00\", \"2011-10-31T16:00:00\", \"2011-11-01T16:00:00\", \"2011-11-02T16:00:00\", \"2011-11-03T16:00:00\", \"2011-11-04T16:00:00\", \"2011-11-07T16:00:00\", \"2011-11-08T16:00:00\", \"2011-11-09T16:00:00\", \"2011-11-10T16:00:00\", \"2011-11-11T16:00:00\", \"2011-11-14T16:00:00\", \"2011-11-15T16:00:00\", \"2011-11-16T16:00:00\", \"2011-11-17T16:00:00\", \"2011-11-18T16:00:00\", \"2011-11-21T16:00:00\", \"2011-11-22T16:00:00\", \"2011-11-23T16:00:00\", \"2011-11-25T16:00:00\", \"2011-11-28T16:00:00\", \"2011-11-29T16:00:00\", \"2011-11-30T16:00:00\", \"2011-12-01T16:00:00\", \"2011-12-02T16:00:00\", \"2011-12-05T16:00:00\", \"2011-12-06T16:00:00\", \"2011-12-07T16:00:00\", \"2011-12-08T16:00:00\", \"2011-12-09T16:00:00\", \"2011-12-12T16:00:00\", \"2011-12-13T16:00:00\", \"2011-12-14T16:00:00\", \"2011-12-15T16:00:00\", \"2011-12-16T16:00:00\", \"2011-12-19T16:00:00\", \"2011-12-20T16:00:00\", \"2011-12-21T16:00:00\", \"2011-12-22T16:00:00\", \"2011-12-23T16:00:00\", \"2011-12-27T16:00:00\", \"2011-12-28T16:00:00\", \"2011-12-29T16:00:00\", \"2011-12-30T16:00:00\", \"2012-01-03T16:00:00\", \"2012-01-04T16:00:00\", \"2012-01-05T16:00:00\", \"2012-01-06T16:00:00\", \"2012-01-09T16:00:00\", \"2012-01-10T16:00:00\", \"2012-01-11T16:00:00\", \"2012-01-12T16:00:00\", \"2012-01-13T16:00:00\", \"2012-01-17T16:00:00\", \"2012-01-18T16:00:00\", \"2012-01-19T16:00:00\", \"2012-01-20T16:00:00\", \"2012-01-23T16:00:00\", \"2012-01-24T16:00:00\", \"2012-01-25T16:00:00\", \"2012-01-26T16:00:00\", \"2012-01-27T16:00:00\", \"2012-01-30T16:00:00\", \"2012-01-31T16:00:00\", \"2012-02-01T16:00:00\", \"2012-02-02T16:00:00\", \"2012-02-03T16:00:00\", \"2012-02-06T16:00:00\", \"2012-02-07T16:00:00\", \"2012-02-08T16:00:00\", \"2012-02-09T16:00:00\", \"2012-02-10T16:00:00\", \"2012-02-13T16:00:00\", \"2012-02-14T16:00:00\", \"2012-02-15T16:00:00\", \"2012-02-16T16:00:00\", \"2012-02-17T16:00:00\", \"2012-02-21T16:00:00\", \"2012-02-22T16:00:00\", \"2012-02-23T16:00:00\", \"2012-02-24T16:00:00\", \"2012-02-27T16:00:00\", \"2012-02-28T16:00:00\", \"2012-02-29T16:00:00\", \"2012-03-01T16:00:00\", \"2012-03-02T16:00:00\", \"2012-03-05T16:00:00\", \"2012-03-06T16:00:00\", \"2012-03-07T16:00:00\", \"2012-03-08T16:00:00\", \"2012-03-09T16:00:00\", \"2012-03-12T16:00:00\", \"2012-03-13T16:00:00\", \"2012-03-14T16:00:00\", \"2012-03-15T16:00:00\", \"2012-03-16T16:00:00\", \"2012-03-19T16:00:00\", \"2012-03-20T16:00:00\", \"2012-03-21T16:00:00\", \"2012-03-22T16:00:00\", \"2012-03-23T16:00:00\", \"2012-03-26T16:00:00\", \"2012-03-27T16:00:00\", \"2012-03-28T16:00:00\", \"2012-03-29T16:00:00\", \"2012-03-30T16:00:00\", \"2012-04-02T16:00:00\", \"2012-04-03T16:00:00\", \"2012-04-04T16:00:00\", \"2012-04-05T16:00:00\", \"2012-04-09T16:00:00\", \"2012-04-10T16:00:00\", \"2012-04-11T16:00:00\", \"2012-04-12T16:00:00\", \"2012-04-13T16:00:00\", \"2012-04-16T16:00:00\", \"2012-04-17T16:00:00\", \"2012-04-18T16:00:00\", \"2012-04-19T16:00:00\", \"2012-04-20T16:00:00\", \"2012-04-23T16:00:00\", \"2012-04-24T16:00:00\", \"2012-04-25T16:00:00\", \"2012-04-26T16:00:00\", \"2012-04-27T16:00:00\", \"2012-04-30T16:00:00\", \"2012-05-01T16:00:00\", \"2012-05-02T16:00:00\", \"2012-05-03T16:00:00\", \"2012-05-04T16:00:00\", \"2012-05-07T16:00:00\", \"2012-05-08T16:00:00\", \"2012-05-09T16:00:00\", \"2012-05-10T16:00:00\", \"2012-05-11T16:00:00\", \"2012-05-14T16:00:00\", \"2012-05-15T16:00:00\", \"2012-05-16T16:00:00\", \"2012-05-17T16:00:00\", \"2012-05-18T16:00:00\", \"2012-05-21T16:00:00\", \"2012-05-22T16:00:00\", \"2012-05-23T16:00:00\", \"2012-05-24T16:00:00\", \"2012-05-25T16:00:00\", \"2012-05-29T16:00:00\", \"2012-05-30T16:00:00\", \"2012-05-31T16:00:00\", \"2012-06-01T16:00:00\", \"2012-06-04T16:00:00\", \"2012-06-05T16:00:00\", \"2012-06-06T16:00:00\", \"2012-06-07T16:00:00\", \"2012-06-08T16:00:00\", \"2012-06-11T16:00:00\", \"2012-06-12T16:00:00\", \"2012-06-13T16:00:00\", \"2012-06-14T16:00:00\", \"2012-06-15T16:00:00\", \"2012-06-18T16:00:00\", \"2012-06-19T16:00:00\", \"2012-06-20T16:00:00\", \"2012-06-21T16:00:00\", \"2012-06-22T16:00:00\", \"2012-06-25T16:00:00\", \"2012-06-26T16:00:00\", \"2012-06-27T16:00:00\", \"2012-06-28T16:00:00\", \"2012-06-29T16:00:00\", \"2012-07-02T16:00:00\", \"2012-07-03T16:00:00\", \"2012-07-04T16:00:00\", \"2012-07-05T16:00:00\", \"2012-07-06T16:00:00\", \"2012-07-09T16:00:00\", \"2012-07-10T16:00:00\", \"2012-07-11T16:00:00\", \"2012-07-12T16:00:00\", \"2012-07-13T16:00:00\", \"2012-07-16T16:00:00\", \"2012-07-17T16:00:00\", \"2012-07-18T16:00:00\", \"2012-07-19T16:00:00\", \"2012-07-20T16:00:00\", \"2012-07-23T16:00:00\", \"2012-07-24T16:00:00\", \"2012-07-25T16:00:00\", \"2012-07-26T16:00:00\", \"2012-07-27T16:00:00\", \"2012-07-30T16:00:00\", \"2012-07-31T16:00:00\", \"2012-08-01T16:00:00\", \"2012-08-02T16:00:00\", \"2012-08-03T16:00:00\", \"2012-08-06T16:00:00\", \"2012-08-07T16:00:00\", \"2012-08-08T16:00:00\", \"2012-08-09T16:00:00\", \"2012-08-10T16:00:00\", \"2012-08-13T16:00:00\", \"2012-08-14T16:00:00\", \"2012-08-15T16:00:00\", \"2012-08-16T16:00:00\", \"2012-08-17T16:00:00\", \"2012-08-20T16:00:00\", \"2012-08-21T16:00:00\", \"2012-08-22T16:00:00\", \"2012-08-23T16:00:00\", \"2012-08-24T16:00:00\", \"2012-08-27T16:00:00\", \"2012-08-28T16:00:00\", \"2012-08-29T16:00:00\", \"2012-08-30T16:00:00\", \"2012-08-31T16:00:00\", \"2012-09-03T16:00:00\", \"2012-09-04T16:00:00\", \"2012-09-05T16:00:00\", \"2012-09-06T16:00:00\", \"2012-09-07T16:00:00\", \"2012-09-10T16:00:00\", \"2012-09-11T16:00:00\", \"2012-09-12T16:00:00\", \"2012-09-13T16:00:00\", \"2012-09-14T16:00:00\", \"2012-09-17T16:00:00\", \"2012-09-18T16:00:00\", \"2012-09-19T16:00:00\", \"2012-09-20T16:00:00\", \"2012-09-21T16:00:00\", \"2012-09-24T16:00:00\", \"2012-09-25T16:00:00\", \"2012-09-26T16:00:00\", \"2012-09-27T16:00:00\", \"2012-09-28T16:00:00\", \"2012-10-01T16:00:00\", \"2012-10-02T16:00:00\", \"2012-10-03T16:00:00\", \"2012-10-04T16:00:00\", \"2012-10-05T16:00:00\", \"2012-10-08T16:00:00\", \"2012-10-09T16:00:00\", \"2012-10-10T16:00:00\", \"2012-10-11T16:00:00\", \"2012-10-12T16:00:00\", \"2012-10-15T16:00:00\", \"2012-10-16T16:00:00\", \"2012-10-17T16:00:00\", \"2012-10-18T16:00:00\", \"2012-10-19T16:00:00\", \"2012-10-22T16:00:00\", \"2012-10-23T16:00:00\", \"2012-10-24T16:00:00\", \"2012-10-25T16:00:00\", \"2012-10-26T16:00:00\", \"2012-10-29T16:00:00\", \"2012-10-30T16:00:00\", \"2012-10-31T16:00:00\", \"2012-11-01T16:00:00\", \"2012-11-02T16:00:00\", \"2012-11-05T16:00:00\", \"2012-11-06T16:00:00\", \"2012-11-07T16:00:00\", \"2012-11-08T16:00:00\", \"2012-11-09T16:00:00\", \"2012-11-12T16:00:00\", \"2012-11-13T16:00:00\", \"2012-11-14T16:00:00\", \"2012-11-15T16:00:00\", \"2012-11-16T16:00:00\", \"2012-11-19T16:00:00\", \"2012-11-20T16:00:00\", \"2012-11-21T16:00:00\", \"2012-11-22T16:00:00\", \"2012-11-23T16:00:00\", \"2012-11-26T16:00:00\", \"2012-11-27T16:00:00\", \"2012-11-28T16:00:00\", \"2012-11-29T16:00:00\", \"2012-11-30T16:00:00\", \"2012-12-03T16:00:00\", \"2012-12-04T16:00:00\", \"2012-12-05T16:00:00\", \"2012-12-06T16:00:00\", \"2012-12-07T16:00:00\", \"2012-12-10T16:00:00\", \"2012-12-11T16:00:00\", \"2012-12-12T16:00:00\", \"2012-12-13T16:00:00\", \"2012-12-14T16:00:00\", \"2012-12-17T16:00:00\", \"2012-12-18T16:00:00\", \"2012-12-19T16:00:00\", \"2012-12-20T16:00:00\", \"2012-12-21T16:00:00\", \"2012-12-24T16:00:00\", \"2012-12-25T16:00:00\", \"2012-12-26T16:00:00\", \"2012-12-27T16:00:00\", \"2012-12-28T16:00:00\", \"2012-12-31T16:00:00\", \"2013-01-01T16:00:00\", \"2013-01-02T16:00:00\", \"2013-01-03T16:00:00\", \"2013-01-04T16:00:00\", \"2013-01-07T16:00:00\", \"2013-01-08T16:00:00\", \"2013-01-09T16:00:00\", \"2013-01-10T16:00:00\", \"2013-01-11T16:00:00\", \"2013-01-14T16:00:00\", \"2013-01-15T16:00:00\", \"2013-01-16T16:00:00\", \"2013-01-17T16:00:00\", \"2013-01-18T16:00:00\", \"2013-01-21T16:00:00\", \"2013-01-22T16:00:00\", \"2013-01-23T16:00:00\", \"2013-01-24T16:00:00\", \"2013-01-25T16:00:00\", \"2013-01-28T16:00:00\", \"2013-01-29T16:00:00\", \"2013-01-30T16:00:00\", \"2013-01-31T16:00:00\", \"2013-02-01T16:00:00\", \"2013-02-04T16:00:00\", \"2013-02-05T16:00:00\", \"2013-02-06T16:00:00\", \"2013-02-07T16:00:00\", \"2013-02-08T16:00:00\", \"2013-02-11T16:00:00\", \"2013-02-12T16:00:00\", \"2013-02-13T16:00:00\", \"2013-02-14T16:00:00\", \"2013-02-15T16:00:00\", \"2013-02-19T16:00:00\", \"2013-02-20T16:00:00\", \"2013-02-21T16:00:00\", \"2013-02-22T16:00:00\", \"2013-02-25T16:00:00\", \"2013-02-26T16:00:00\", \"2013-02-27T16:00:00\", \"2013-02-28T16:00:00\", \"2013-03-01T16:00:00\", \"2013-03-04T16:00:00\", \"2013-03-05T16:00:00\", \"2013-03-06T16:00:00\", \"2013-03-07T16:00:00\", \"2013-03-08T16:00:00\", \"2013-03-11T16:00:00\", \"2013-03-12T16:00:00\", \"2013-03-13T16:00:00\", \"2013-03-14T16:00:00\", \"2013-03-15T16:00:00\", \"2013-03-18T16:00:00\", \"2013-03-19T16:00:00\", \"2013-03-20T16:00:00\", \"2013-03-21T16:00:00\", \"2013-03-22T16:00:00\", \"2013-03-25T16:00:00\", \"2013-03-26T16:00:00\", \"2013-03-27T16:00:00\", \"2013-03-28T16:00:00\", \"2013-04-01T16:00:00\", \"2013-04-02T16:00:00\", \"2013-04-03T16:00:00\", \"2013-04-04T16:00:00\", \"2013-04-05T16:00:00\", \"2013-04-08T16:00:00\", \"2013-04-09T16:00:00\", \"2013-04-10T16:00:00\", \"2013-04-11T16:00:00\", \"2013-04-12T16:00:00\", \"2013-04-15T16:00:00\", \"2013-04-16T16:00:00\", \"2013-04-17T16:00:00\", \"2013-04-18T16:00:00\", \"2013-04-19T16:00:00\", \"2013-04-22T16:00:00\", \"2013-04-23T16:00:00\", \"2013-04-24T16:00:00\", \"2013-04-25T16:00:00\", \"2013-04-26T16:00:00\", \"2013-04-29T16:00:00\", \"2013-04-30T16:00:00\", \"2013-05-01T16:00:00\", \"2013-05-02T16:00:00\", \"2013-05-03T16:00:00\", \"2013-05-06T16:00:00\", \"2013-05-07T16:00:00\", \"2013-05-08T16:00:00\", \"2013-05-09T16:00:00\", \"2013-05-10T16:00:00\", \"2013-05-13T16:00:00\", \"2013-05-14T16:00:00\", \"2013-05-15T16:00:00\", \"2013-05-16T16:00:00\", \"2013-05-17T16:00:00\", \"2013-05-20T16:00:00\", \"2013-05-21T16:00:00\", \"2013-05-22T16:00:00\", \"2013-05-23T16:00:00\", \"2013-05-24T16:00:00\", \"2013-05-28T16:00:00\", \"2013-05-29T16:00:00\", \"2013-05-30T16:00:00\", \"2013-05-31T16:00:00\", \"2013-06-03T16:00:00\", \"2013-06-04T16:00:00\", \"2013-06-05T16:00:00\", \"2013-06-06T16:00:00\", \"2013-06-07T16:00:00\", \"2013-06-10T16:00:00\", \"2013-06-11T16:00:00\", \"2013-06-12T16:00:00\", \"2013-06-13T16:00:00\", \"2013-06-14T16:00:00\", \"2013-06-17T16:00:00\", \"2013-06-18T16:00:00\", \"2013-06-19T16:00:00\", \"2013-06-20T16:00:00\", \"2013-06-21T16:00:00\", \"2013-06-24T16:00:00\", \"2013-06-25T16:00:00\", \"2013-06-26T16:00:00\", \"2013-06-27T16:00:00\", \"2013-06-28T16:00:00\", \"2013-07-01T16:00:00\", \"2013-07-02T16:00:00\", \"2013-07-03T16:00:00\", \"2013-07-05T16:00:00\", \"2013-07-08T16:00:00\", \"2013-07-09T16:00:00\", \"2013-07-10T16:00:00\", \"2013-07-11T16:00:00\", \"2013-07-12T16:00:00\", \"2013-07-15T16:00:00\", \"2013-07-16T16:00:00\", \"2013-07-17T16:00:00\", \"2013-07-18T16:00:00\", \"2013-07-19T16:00:00\", \"2013-07-22T16:00:00\", \"2013-07-23T16:00:00\", \"2013-07-24T16:00:00\", \"2013-07-25T16:00:00\", \"2013-07-26T16:00:00\", \"2013-07-29T16:00:00\", \"2013-07-30T16:00:00\", \"2013-07-31T16:00:00\", \"2013-08-01T16:00:00\", \"2013-08-02T16:00:00\", \"2013-08-05T16:00:00\", \"2013-08-06T16:00:00\", \"2013-08-07T16:00:00\", \"2013-08-08T16:00:00\", \"2013-08-09T16:00:00\", \"2013-08-12T16:00:00\", \"2013-08-13T16:00:00\", \"2013-08-14T16:00:00\", \"2013-08-15T16:00:00\", \"2013-08-16T16:00:00\", \"2013-08-19T16:00:00\", \"2013-08-20T16:00:00\", \"2013-08-21T16:00:00\", \"2013-08-22T16:00:00\", \"2013-08-23T16:00:00\", \"2013-08-26T16:00:00\", \"2013-08-27T16:00:00\", \"2013-08-28T16:00:00\", \"2013-08-29T16:00:00\", \"2013-08-30T16:00:00\", \"2013-09-03T16:00:00\", \"2013-09-04T16:00:00\", \"2013-09-05T16:00:00\", \"2013-09-06T16:00:00\", \"2013-09-09T16:00:00\", \"2013-09-10T16:00:00\", \"2013-09-11T16:00:00\", \"2013-09-12T16:00:00\", \"2013-09-13T16:00:00\", \"2013-09-16T16:00:00\", \"2013-09-17T16:00:00\", \"2013-09-18T16:00:00\", \"2013-09-19T16:00:00\", \"2013-09-20T16:00:00\", \"2013-09-23T16:00:00\", \"2013-09-24T16:00:00\", \"2013-09-25T16:00:00\", \"2013-09-26T16:00:00\", \"2013-09-27T16:00:00\", \"2013-09-30T16:00:00\", \"2013-10-01T16:00:00\", \"2013-10-02T16:00:00\", \"2013-10-03T16:00:00\", \"2013-10-04T16:00:00\", \"2013-10-07T16:00:00\", \"2013-10-08T16:00:00\", \"2013-10-09T16:00:00\", \"2013-10-10T16:00:00\", \"2013-10-11T16:00:00\", \"2013-10-14T16:00:00\", \"2013-10-15T16:00:00\", \"2013-10-16T16:00:00\", \"2013-10-17T16:00:00\", \"2013-10-18T16:00:00\", \"2013-10-21T16:00:00\", \"2013-10-22T16:00:00\", \"2013-10-23T16:00:00\", \"2013-10-24T16:00:00\", \"2013-10-25T16:00:00\", \"2013-10-28T16:00:00\", \"2013-10-29T16:00:00\", \"2013-10-30T16:00:00\", \"2013-10-31T16:00:00\", \"2013-11-01T16:00:00\", \"2013-11-04T16:00:00\", \"2013-11-05T16:00:00\", \"2013-11-06T16:00:00\", \"2013-11-07T16:00:00\", \"2013-11-08T16:00:00\", \"2013-11-11T16:00:00\", \"2013-11-12T16:00:00\", \"2013-11-13T16:00:00\", \"2013-11-14T16:00:00\", \"2013-11-15T16:00:00\", \"2013-11-18T16:00:00\", \"2013-11-19T16:00:00\", \"2013-11-20T16:00:00\", \"2013-11-21T16:00:00\", \"2013-11-22T16:00:00\", \"2013-11-25T16:00:00\", \"2013-11-26T16:00:00\", \"2013-11-27T16:00:00\", \"2013-11-29T16:00:00\", \"2013-12-02T16:00:00\", \"2013-12-03T16:00:00\", \"2013-12-04T16:00:00\", \"2013-12-05T16:00:00\", \"2013-12-06T16:00:00\", \"2013-12-09T16:00:00\", \"2013-12-10T16:00:00\", \"2013-12-11T16:00:00\", \"2013-12-12T16:00:00\", \"2013-12-13T16:00:00\", \"2013-12-16T16:00:00\", \"2013-12-17T16:00:00\", \"2013-12-18T16:00:00\", \"2013-12-19T16:00:00\", \"2013-12-20T16:00:00\", \"2013-12-23T16:00:00\", \"2013-12-24T16:00:00\", \"2013-12-26T16:00:00\", \"2013-12-27T16:00:00\", \"2013-12-30T16:00:00\", \"2013-12-31T16:00:00\", \"2014-01-02T16:00:00\", \"2014-01-03T16:00:00\", \"2014-01-06T16:00:00\", \"2014-01-07T16:00:00\", \"2014-01-08T16:00:00\", \"2014-01-09T16:00:00\", \"2014-01-10T16:00:00\", \"2014-01-13T16:00:00\", \"2014-01-14T16:00:00\", \"2014-01-15T16:00:00\", \"2014-01-16T16:00:00\", \"2014-01-17T16:00:00\", \"2014-01-21T16:00:00\", \"2014-01-22T16:00:00\", \"2014-01-23T16:00:00\", \"2014-01-24T16:00:00\", \"2014-01-27T16:00:00\", \"2014-01-28T16:00:00\", \"2014-01-29T16:00:00\", \"2014-01-30T16:00:00\", \"2014-01-31T16:00:00\", \"2014-02-03T16:00:00\", \"2014-02-04T16:00:00\", \"2014-02-05T16:00:00\", \"2014-02-06T16:00:00\", \"2014-02-07T16:00:00\", \"2014-02-10T16:00:00\", \"2014-02-11T16:00:00\", \"2014-02-12T16:00:00\", \"2014-02-13T16:00:00\", \"2014-02-14T16:00:00\", \"2014-02-18T16:00:00\", \"2014-02-20T16:00:00\", \"2014-02-21T16:00:00\", \"2014-02-24T16:00:00\", \"2014-02-25T16:00:00\", \"2014-02-26T16:00:00\", \"2014-02-27T16:00:00\", \"2014-02-28T16:00:00\", \"2014-03-03T16:00:00\", \"2014-03-04T16:00:00\", \"2014-03-05T16:00:00\", \"2014-03-06T16:00:00\", \"2014-03-07T16:00:00\", \"2014-03-10T16:00:00\", \"2014-03-11T16:00:00\", \"2014-03-12T16:00:00\", \"2014-03-13T16:00:00\", \"2014-03-14T16:00:00\", \"2014-03-17T16:00:00\", \"2014-03-18T16:00:00\", \"2014-03-19T16:00:00\", \"2014-03-20T16:00:00\", \"2014-03-21T16:00:00\", \"2014-03-24T16:00:00\", \"2014-03-25T16:00:00\", \"2014-03-26T16:00:00\", \"2014-03-27T16:00:00\", \"2014-03-28T16:00:00\", \"2014-03-31T16:00:00\", \"2014-04-01T16:00:00\", \"2014-04-02T16:00:00\", \"2014-04-03T16:00:00\", \"2014-04-04T16:00:00\", \"2014-04-07T16:00:00\", \"2014-04-08T16:00:00\", \"2014-04-09T16:00:00\", \"2014-04-10T16:00:00\", \"2014-04-11T16:00:00\", \"2014-04-14T16:00:00\", \"2014-04-15T16:00:00\", \"2014-04-16T16:00:00\", \"2014-04-17T16:00:00\", \"2014-04-21T16:00:00\", \"2014-04-22T16:00:00\", \"2014-04-23T16:00:00\", \"2014-04-24T16:00:00\", \"2014-04-25T16:00:00\", \"2014-04-28T16:00:00\", \"2014-04-29T16:00:00\", \"2014-04-30T16:00:00\", \"2014-05-01T16:00:00\", \"2014-05-02T16:00:00\", \"2014-05-05T16:00:00\", \"2014-05-06T16:00:00\", \"2014-05-07T16:00:00\", \"2014-05-08T16:00:00\", \"2014-05-09T16:00:00\", \"2014-05-12T16:00:00\", \"2014-05-13T16:00:00\", \"2014-05-14T16:00:00\", \"2014-05-15T16:00:00\", \"2014-05-16T16:00:00\", \"2014-05-19T16:00:00\", \"2014-05-20T16:00:00\", \"2014-05-21T16:00:00\", \"2014-05-22T16:00:00\", \"2014-05-23T16:00:00\", \"2014-05-27T16:00:00\", \"2014-05-28T16:00:00\", \"2014-05-29T16:00:00\", \"2014-05-30T16:00:00\", \"2014-06-02T16:00:00\", \"2014-06-03T16:00:00\", \"2014-06-04T16:00:00\", \"2014-06-05T16:00:00\", \"2014-06-06T16:00:00\", \"2014-06-09T16:00:00\", \"2014-06-10T16:00:00\", \"2014-06-11T16:00:00\", \"2014-06-12T16:00:00\", \"2014-06-13T16:00:00\", \"2014-06-16T16:00:00\", \"2014-06-17T16:00:00\", \"2014-06-18T16:00:00\", \"2014-06-19T16:00:00\", \"2014-06-20T16:00:00\", \"2014-06-23T16:00:00\", \"2014-06-24T16:00:00\", \"2014-06-25T16:00:00\", \"2014-06-26T16:00:00\", \"2014-06-27T16:00:00\", \"2014-06-30T16:00:00\", \"2014-07-01T16:00:00\", \"2014-07-02T16:00:00\", \"2014-07-03T16:00:00\", \"2014-07-07T16:00:00\", \"2014-07-08T16:00:00\", \"2014-07-09T16:00:00\", \"2014-07-10T16:00:00\", \"2014-07-11T16:00:00\", \"2014-07-14T16:00:00\", \"2014-07-15T16:00:00\", \"2014-07-16T16:00:00\", \"2014-07-17T16:00:00\", \"2014-07-18T16:00:00\", \"2014-07-21T16:00:00\", \"2014-07-22T16:00:00\", \"2014-07-23T16:00:00\", \"2014-07-24T16:00:00\", \"2014-07-25T16:00:00\", \"2014-07-28T16:00:00\", \"2014-07-29T16:00:00\", \"2014-07-30T16:00:00\", \"2014-07-31T16:00:00\", \"2014-08-01T16:00:00\", \"2014-08-04T16:00:00\", \"2014-08-05T16:00:00\", \"2014-08-06T16:00:00\", \"2014-08-07T16:00:00\", \"2014-08-08T16:00:00\", \"2014-08-11T16:00:00\", \"2014-08-12T16:00:00\", \"2014-08-13T16:00:00\", \"2014-08-14T16:00:00\", \"2014-08-15T16:00:00\", \"2014-08-18T16:00:00\", \"2014-08-19T16:00:00\", \"2014-08-20T16:00:00\", \"2014-08-21T16:00:00\", \"2014-08-22T16:00:00\", \"2014-08-25T16:00:00\", \"2014-08-26T16:00:00\", \"2014-08-27T16:00:00\", \"2014-08-28T16:00:00\", \"2014-08-29T16:00:00\", \"2014-09-02T16:00:00\", \"2014-09-03T16:00:00\", \"2014-09-04T16:00:00\", \"2014-09-05T16:00:00\", \"2014-09-08T16:00:00\", \"2014-09-09T16:00:00\", \"2014-09-10T16:00:00\", \"2014-09-11T16:00:00\", \"2014-09-12T16:00:00\", \"2014-09-15T16:00:00\", \"2014-09-16T16:00:00\", \"2014-09-17T16:00:00\", \"2014-09-18T16:00:00\", \"2014-09-19T16:00:00\", \"2014-09-22T16:00:00\", \"2014-09-23T16:00:00\", \"2014-09-24T16:00:00\", \"2014-09-25T16:00:00\", \"2014-09-26T16:00:00\", \"2014-09-29T16:00:00\", \"2014-09-30T16:00:00\", \"2014-10-01T16:00:00\", \"2014-10-02T16:00:00\", \"2014-10-03T16:00:00\", \"2014-10-06T16:00:00\", \"2014-10-07T16:00:00\", \"2014-10-08T16:00:00\", \"2014-10-09T16:00:00\", \"2014-10-10T16:00:00\", \"2014-10-13T16:00:00\", \"2014-10-14T16:00:00\", \"2014-10-15T16:00:00\", \"2014-10-16T16:00:00\", \"2014-10-17T16:00:00\", \"2014-10-20T16:00:00\", \"2014-10-21T16:00:00\", \"2014-10-22T16:00:00\", \"2014-10-23T16:00:00\", \"2014-10-24T16:00:00\", \"2014-10-27T16:00:00\", \"2014-10-28T16:00:00\", \"2014-10-29T16:00:00\", \"2014-10-30T16:00:00\", \"2014-10-31T16:00:00\", \"2014-11-03T16:00:00\", \"2014-11-04T16:00:00\", \"2014-11-05T16:00:00\", \"2014-11-06T16:00:00\", \"2014-11-07T16:00:00\", \"2014-11-10T16:00:00\", \"2014-11-11T16:00:00\", \"2014-11-12T16:00:00\", \"2014-11-13T16:00:00\", \"2014-11-14T16:00:00\", \"2014-11-17T16:00:00\", \"2014-11-18T16:00:00\", \"2014-11-19T16:00:00\", \"2014-11-20T16:00:00\", \"2014-11-21T16:00:00\", \"2014-11-24T16:00:00\", \"2014-11-25T16:00:00\", \"2014-11-26T16:00:00\", \"2014-11-28T16:00:00\", \"2014-12-01T16:00:00\", \"2014-12-02T16:00:00\", \"2014-12-03T16:00:00\", \"2014-12-04T16:00:00\", \"2014-12-05T16:00:00\", \"2014-12-08T16:00:00\", \"2014-12-09T16:00:00\", \"2014-12-10T16:00:00\", \"2014-12-11T16:00:00\", \"2014-12-12T16:00:00\", \"2014-12-15T16:00:00\", \"2014-12-16T16:00:00\", \"2014-12-17T16:00:00\", \"2014-12-18T16:00:00\", \"2014-12-19T16:00:00\", \"2014-12-22T16:00:00\", \"2014-12-23T16:00:00\", \"2014-12-24T16:00:00\", \"2014-12-26T16:00:00\", \"2014-12-29T16:00:00\", \"2014-12-30T16:00:00\", \"2014-12-31T16:00:00\", \"2015-01-02T16:00:00\", \"2015-01-05T16:00:00\", \"2015-01-06T16:00:00\", \"2015-01-07T16:00:00\", \"2015-01-08T16:00:00\", \"2015-01-09T16:00:00\", \"2015-01-12T16:00:00\", \"2015-01-13T16:00:00\", \"2015-01-14T16:00:00\", \"2015-01-15T16:00:00\", \"2015-01-16T16:00:00\", \"2015-01-20T16:00:00\", \"2015-01-21T16:00:00\", \"2015-01-22T16:00:00\", \"2015-01-23T16:00:00\", \"2015-01-26T16:00:00\", \"2015-01-27T16:00:00\", \"2015-01-28T16:00:00\", \"2015-01-29T16:00:00\", \"2015-01-30T16:00:00\", \"2015-02-02T16:00:00\", \"2015-02-03T16:00:00\", \"2015-02-04T16:00:00\", \"2015-02-05T16:00:00\", \"2015-02-06T16:00:00\", \"2015-02-09T16:00:00\", \"2015-02-10T16:00:00\", \"2015-02-11T16:00:00\", \"2015-02-12T16:00:00\", \"2015-02-13T16:00:00\", \"2015-02-17T16:00:00\", \"2015-02-18T16:00:00\", \"2015-02-19T16:00:00\", \"2015-02-20T16:00:00\", \"2015-02-23T16:00:00\", \"2015-02-24T16:00:00\", \"2015-02-25T16:00:00\", \"2015-02-26T16:00:00\", \"2015-02-27T16:00:00\", \"2015-03-02T16:00:00\", \"2015-03-03T16:00:00\", \"2015-03-04T16:00:00\", \"2015-03-05T16:00:00\", \"2015-03-06T16:00:00\", \"2015-03-09T16:00:00\", \"2015-03-10T16:00:00\", \"2015-03-11T16:00:00\", \"2015-03-12T16:00:00\", \"2015-03-13T16:00:00\", \"2015-03-16T16:00:00\", \"2015-03-17T16:00:00\", \"2015-03-18T16:00:00\", \"2015-03-19T16:00:00\", \"2015-03-20T16:00:00\", \"2015-03-23T16:00:00\", \"2015-03-24T16:00:00\", \"2015-03-25T16:00:00\", \"2015-03-26T16:00:00\", \"2015-03-27T16:00:00\", \"2015-03-30T16:00:00\", \"2015-03-31T16:00:00\", \"2015-04-01T16:00:00\", \"2015-04-02T16:00:00\", \"2015-04-06T16:00:00\", \"2015-04-07T16:00:00\", \"2015-04-08T16:00:00\", \"2015-04-09T16:00:00\", \"2015-04-10T16:00:00\", \"2015-04-13T16:00:00\", \"2015-04-14T16:00:00\", \"2015-04-15T16:00:00\", \"2015-04-16T16:00:00\", \"2015-04-17T16:00:00\", \"2015-04-20T16:00:00\", \"2015-04-21T16:00:00\", \"2015-04-22T16:00:00\", \"2015-04-23T16:00:00\", \"2015-04-24T16:00:00\", \"2015-04-27T16:00:00\", \"2015-04-28T16:00:00\", \"2015-04-29T16:00:00\", \"2015-04-30T16:00:00\", \"2015-05-01T16:00:00\", \"2015-05-04T16:00:00\", \"2015-05-05T16:00:00\", \"2015-05-06T16:00:00\", \"2015-05-07T16:00:00\", \"2015-05-08T16:00:00\", \"2015-05-11T16:00:00\", \"2015-05-12T16:00:00\", \"2015-05-13T16:00:00\", \"2015-05-14T16:00:00\", \"2015-05-15T16:00:00\", \"2015-05-18T16:00:00\", \"2015-05-19T16:00:00\", \"2015-05-20T16:00:00\", \"2015-05-21T16:00:00\", \"2015-05-22T16:00:00\", \"2015-05-26T16:00:00\", \"2015-05-27T16:00:00\", \"2015-05-28T16:00:00\", \"2015-05-29T16:00:00\", \"2015-06-01T16:00:00\", \"2015-06-02T16:00:00\", \"2015-06-03T16:00:00\", \"2015-06-04T16:00:00\", \"2015-06-05T16:00:00\", \"2015-06-08T16:00:00\", \"2015-06-09T16:00:00\", \"2015-06-10T16:00:00\", \"2015-06-11T16:00:00\", \"2015-06-12T16:00:00\", \"2015-06-15T16:00:00\", \"2015-06-16T16:00:00\", \"2015-06-17T16:00:00\", \"2015-06-18T16:00:00\", \"2015-06-19T16:00:00\", \"2015-06-22T16:00:00\", \"2015-06-23T16:00:00\", \"2015-06-24T16:00:00\", \"2015-06-25T16:00:00\", \"2015-06-26T16:00:00\", \"2015-06-29T16:00:00\", \"2015-06-30T16:00:00\", \"2015-07-01T16:00:00\", \"2015-07-02T16:00:00\", \"2015-07-06T16:00:00\", \"2015-07-07T16:00:00\", \"2015-07-08T16:00:00\", \"2015-07-09T16:00:00\", \"2015-07-10T16:00:00\", \"2015-07-13T16:00:00\", \"2015-07-14T16:00:00\", \"2015-07-15T16:00:00\", \"2015-07-16T16:00:00\", \"2015-07-17T16:00:00\", \"2015-07-20T16:00:00\", \"2015-07-21T16:00:00\", \"2015-07-22T16:00:00\", \"2015-07-23T16:00:00\", \"2015-07-24T16:00:00\", \"2015-07-27T16:00:00\", \"2015-07-28T16:00:00\", \"2015-07-29T16:00:00\", \"2015-07-30T16:00:00\", \"2015-07-31T16:00:00\", \"2015-08-03T16:00:00\", \"2015-08-04T16:00:00\", \"2015-08-05T16:00:00\", \"2015-08-06T16:00:00\", \"2015-08-07T16:00:00\", \"2015-08-10T16:00:00\", \"2015-08-11T16:00:00\", \"2015-08-12T16:00:00\", \"2015-08-13T16:00:00\", \"2015-08-14T16:00:00\", \"2015-08-17T16:00:00\", \"2015-08-18T16:00:00\", \"2015-08-19T16:00:00\", \"2015-08-20T16:00:00\", \"2015-08-21T16:00:00\", \"2015-08-24T16:00:00\", \"2015-08-25T16:00:00\", \"2015-08-26T16:00:00\", \"2015-08-27T16:00:00\", \"2015-08-28T16:00:00\", \"2015-08-31T16:00:00\", \"2015-09-01T16:00:00\", \"2015-09-02T16:00:00\", \"2015-09-03T16:00:00\", \"2015-09-04T16:00:00\", \"2015-09-08T16:00:00\", \"2015-09-09T16:00:00\", \"2015-09-10T16:00:00\", \"2015-09-11T16:00:00\", \"2015-09-14T16:00:00\", \"2015-09-15T16:00:00\", \"2015-09-16T16:00:00\", \"2015-09-17T16:00:00\", \"2015-09-18T16:00:00\", \"2015-09-21T16:00:00\", \"2015-09-22T16:00:00\", \"2015-09-23T16:00:00\", \"2015-09-24T16:00:00\", \"2015-09-25T16:00:00\", \"2015-09-28T16:00:00\", \"2015-09-29T16:00:00\", \"2015-09-30T16:00:00\", \"2015-10-01T16:00:00\", \"2015-10-02T16:00:00\", \"2015-10-05T16:00:00\", \"2015-10-06T16:00:00\", \"2015-10-07T16:00:00\", \"2015-10-08T16:00:00\", \"2015-10-09T16:00:00\", \"2015-10-12T16:00:00\", \"2015-10-13T16:00:00\", \"2015-10-14T16:00:00\", \"2015-10-15T16:00:00\", \"2015-10-16T16:00:00\", \"2015-10-19T16:00:00\", \"2015-10-20T16:00:00\", \"2015-10-21T16:00:00\", \"2015-10-22T16:00:00\", \"2015-10-23T16:00:00\", \"2015-10-26T16:00:00\", \"2015-10-27T16:00:00\", \"2015-10-28T16:00:00\", \"2015-10-29T16:00:00\", \"2015-10-30T16:00:00\", \"2015-11-02T16:00:00\", \"2015-11-03T16:00:00\", \"2015-11-04T16:00:00\", \"2015-11-05T16:00:00\", \"2015-11-06T16:00:00\", \"2015-11-09T16:00:00\", \"2015-11-10T16:00:00\", \"2015-11-11T16:00:00\", \"2015-11-12T16:00:00\", \"2015-11-13T16:00:00\", \"2015-11-16T16:00:00\", \"2015-11-17T16:00:00\", \"2015-11-18T16:00:00\", \"2015-11-19T16:00:00\", \"2015-11-20T16:00:00\", \"2015-11-23T16:00:00\", \"2015-11-24T16:00:00\", \"2015-11-25T16:00:00\", \"2015-11-27T16:00:00\", \"2015-11-30T16:00:00\", \"2015-12-01T16:00:00\", \"2015-12-02T16:00:00\", \"2015-12-03T16:00:00\", \"2015-12-04T16:00:00\", \"2015-12-07T16:00:00\", \"2015-12-08T16:00:00\", \"2015-12-09T16:00:00\", \"2015-12-10T16:00:00\", \"2015-12-11T16:00:00\", \"2015-12-14T16:00:00\", \"2015-12-15T16:00:00\", \"2015-12-16T16:00:00\", \"2015-12-17T16:00:00\", \"2015-12-18T16:00:00\", \"2015-12-21T16:00:00\", \"2015-12-22T16:00:00\", \"2015-12-23T16:00:00\", \"2015-12-24T16:00:00\", \"2015-12-28T16:00:00\", \"2015-12-29T16:00:00\", \"2015-12-30T16:00:00\", \"2015-12-31T16:00:00\", \"2016-01-04T16:00:00\", \"2016-01-05T16:00:00\", \"2016-01-06T16:00:00\", \"2016-01-07T16:00:00\", \"2016-01-08T16:00:00\", \"2016-01-11T16:00:00\", \"2016-01-12T16:00:00\", \"2016-01-13T16:00:00\", \"2016-01-14T16:00:00\", \"2016-01-15T16:00:00\", \"2016-01-19T16:00:00\", \"2016-01-20T16:00:00\", \"2016-01-21T16:00:00\", \"2016-01-22T16:00:00\", \"2016-01-25T16:00:00\", \"2016-01-26T16:00:00\", \"2016-01-27T16:00:00\", \"2016-01-28T16:00:00\", \"2016-01-29T16:00:00\", \"2016-02-01T16:00:00\", \"2016-02-02T16:00:00\", \"2016-02-03T16:00:00\", \"2016-02-04T16:00:00\", \"2016-02-05T16:00:00\", \"2016-02-08T16:00:00\", \"2016-02-09T16:00:00\", \"2016-02-10T16:00:00\", \"2016-02-11T16:00:00\", \"2016-02-12T16:00:00\", \"2016-02-16T16:00:00\", \"2016-02-17T16:00:00\", \"2016-02-18T16:00:00\", \"2016-02-19T16:00:00\", \"2016-02-22T16:00:00\", \"2016-02-23T16:00:00\", \"2016-02-24T16:00:00\", \"2016-02-25T16:00:00\", \"2016-02-26T16:00:00\", \"2016-02-29T16:00:00\", \"2016-03-01T16:00:00\", \"2016-03-02T16:00:00\", \"2016-03-03T16:00:00\", \"2016-03-04T16:00:00\", \"2016-03-07T16:00:00\", \"2016-03-08T16:00:00\", \"2016-03-09T16:00:00\", \"2016-03-10T16:00:00\", \"2016-03-11T16:00:00\", \"2016-03-14T16:00:00\", \"2016-03-15T16:00:00\", \"2016-03-16T16:00:00\", \"2016-03-17T16:00:00\", \"2016-03-18T16:00:00\", \"2016-03-21T16:00:00\", \"2016-03-22T16:00:00\", \"2016-03-23T16:00:00\", \"2016-03-24T16:00:00\", \"2016-03-28T16:00:00\", \"2016-03-29T16:00:00\", \"2016-03-30T16:00:00\", \"2016-03-31T16:00:00\", \"2016-04-01T16:00:00\", \"2016-04-04T16:00:00\", \"2016-04-05T16:00:00\", \"2016-04-06T16:00:00\", \"2016-04-07T16:00:00\", \"2016-04-08T16:00:00\", \"2016-04-11T16:00:00\", \"2016-04-12T16:00:00\", \"2016-04-13T16:00:00\", \"2016-04-14T16:00:00\", \"2016-04-15T16:00:00\", \"2016-04-18T16:00:00\", \"2016-04-19T16:00:00\", \"2016-04-20T16:00:00\", \"2016-04-21T16:00:00\", \"2016-04-22T16:00:00\", \"2016-04-25T16:00:00\", \"2016-04-26T16:00:00\", \"2016-04-27T16:00:00\", \"2016-04-28T16:00:00\", \"2016-04-29T16:00:00\", \"2016-05-02T16:00:00\", \"2016-05-03T16:00:00\", \"2016-05-04T16:00:00\", \"2016-05-05T16:00:00\", \"2016-05-06T16:00:00\", \"2016-05-09T16:00:00\", \"2016-05-10T16:00:00\", \"2016-05-11T16:00:00\", \"2016-05-12T16:00:00\", \"2016-05-13T16:00:00\", \"2016-05-16T16:00:00\", \"2016-05-17T16:00:00\", \"2016-05-18T16:00:00\", \"2016-05-19T16:00:00\", \"2016-05-20T16:00:00\", \"2016-05-23T16:00:00\", \"2016-05-24T16:00:00\", \"2016-05-25T16:00:00\", \"2016-05-26T16:00:00\", \"2016-05-27T16:00:00\", \"2016-05-31T16:00:00\", \"2016-06-01T16:00:00\", \"2016-06-02T16:00:00\", \"2016-06-03T16:00:00\", \"2016-06-06T16:00:00\", \"2016-06-07T16:00:00\", \"2016-06-08T16:00:00\", \"2016-06-09T16:00:00\", \"2016-06-10T16:00:00\", \"2016-06-13T16:00:00\", \"2016-06-14T16:00:00\", \"2016-06-15T16:00:00\", \"2016-06-16T16:00:00\", \"2016-06-17T16:00:00\", \"2016-06-20T16:00:00\", \"2016-06-21T16:00:00\", \"2016-06-22T16:00:00\", \"2016-06-23T16:00:00\", \"2016-06-24T16:00:00\", \"2016-06-27T16:00:00\", \"2016-06-28T16:00:00\", \"2016-06-29T16:00:00\", \"2016-06-30T16:00:00\", \"2016-07-01T16:00:00\", \"2016-07-05T16:00:00\", \"2016-07-06T16:00:00\", \"2016-07-07T16:00:00\", \"2016-07-08T16:00:00\", \"2016-07-11T16:00:00\", \"2016-07-12T16:00:00\", \"2016-07-13T16:00:00\", \"2016-07-14T16:00:00\", \"2016-07-15T16:00:00\", \"2016-07-18T16:00:00\", \"2016-07-19T16:00:00\", \"2016-07-20T16:00:00\", \"2016-07-21T16:00:00\", \"2016-07-22T16:00:00\", \"2016-07-25T16:00:00\", \"2016-07-26T16:00:00\", \"2016-07-27T16:00:00\", \"2016-07-28T16:00:00\", \"2016-07-29T16:00:00\", \"2016-08-01T16:00:00\", \"2016-08-02T16:00:00\", \"2016-08-03T16:00:00\", \"2016-08-04T16:00:00\", \"2016-08-05T16:00:00\", \"2016-08-08T16:00:00\", \"2016-08-09T16:00:00\", \"2016-08-10T16:00:00\", \"2016-08-11T16:00:00\", \"2016-08-12T16:00:00\", \"2016-08-15T16:00:00\", \"2016-08-16T16:00:00\", \"2016-08-17T16:00:00\", \"2016-08-18T16:00:00\", \"2016-08-19T16:00:00\", \"2016-08-22T16:00:00\", \"2016-08-23T16:00:00\", \"2016-08-24T16:00:00\", \"2016-08-25T16:00:00\", \"2016-08-26T16:00:00\", \"2016-08-29T16:00:00\", \"2016-08-30T16:00:00\", \"2016-08-31T16:00:00\", \"2016-09-01T16:00:00\", \"2016-09-02T16:00:00\", \"2016-09-06T16:00:00\", \"2016-09-07T16:00:00\", \"2016-09-08T16:00:00\", \"2016-09-09T16:00:00\", \"2016-09-12T16:00:00\", \"2016-09-13T16:00:00\", \"2016-09-14T16:00:00\", \"2016-09-15T16:00:00\", \"2016-09-16T16:00:00\", \"2016-09-19T16:00:00\", \"2016-09-20T16:00:00\", \"2016-09-21T16:00:00\", \"2016-09-22T16:00:00\", \"2016-09-23T16:00:00\", \"2016-09-26T16:00:00\", \"2016-09-27T16:00:00\", \"2016-09-28T16:00:00\", \"2016-09-29T16:00:00\", \"2016-09-30T16:00:00\", \"2016-10-03T16:00:00\", \"2016-10-04T16:00:00\", \"2016-10-05T16:00:00\", \"2016-10-06T16:00:00\", \"2016-10-07T16:00:00\", \"2016-10-10T16:00:00\", \"2016-10-11T16:00:00\", \"2016-10-12T16:00:00\", \"2016-10-13T16:00:00\", \"2016-10-14T16:00:00\", \"2016-10-17T16:00:00\", \"2016-10-18T16:00:00\", \"2016-10-19T16:00:00\", \"2016-10-20T16:00:00\", \"2016-10-21T16:00:00\", \"2016-10-24T16:00:00\", \"2016-10-25T16:00:00\", \"2016-10-26T16:00:00\", \"2016-10-27T16:00:00\", \"2016-10-28T16:00:00\", \"2016-10-31T16:00:00\", \"2016-11-01T16:00:00\", \"2016-11-02T16:00:00\", \"2016-11-03T16:00:00\", \"2016-11-04T16:00:00\", \"2016-11-07T16:00:00\", \"2016-11-08T16:00:00\", \"2016-11-09T16:00:00\", \"2016-11-10T16:00:00\", \"2016-11-11T16:00:00\", \"2016-11-14T16:00:00\", \"2016-11-15T16:00:00\", \"2016-11-16T16:00:00\", \"2016-11-17T16:00:00\", \"2016-11-18T16:00:00\", \"2016-11-21T16:00:00\", \"2016-11-22T16:00:00\", \"2016-11-23T16:00:00\", \"2016-11-25T16:00:00\", \"2016-11-28T16:00:00\", \"2016-11-29T16:00:00\", \"2016-11-30T16:00:00\", \"2016-12-01T16:00:00\", \"2016-12-02T16:00:00\", \"2016-12-05T16:00:00\", \"2016-12-06T16:00:00\", \"2016-12-07T16:00:00\", \"2016-12-08T16:00:00\", \"2016-12-09T16:00:00\", \"2016-12-12T16:00:00\", \"2016-12-13T16:00:00\", \"2016-12-14T16:00:00\", \"2016-12-15T16:00:00\", \"2016-12-16T16:00:00\", \"2016-12-19T16:00:00\", \"2016-12-20T16:00:00\", \"2016-12-21T16:00:00\", \"2016-12-22T16:00:00\", \"2016-12-23T16:00:00\", \"2016-12-27T16:00:00\", \"2016-12-28T16:00:00\", \"2016-12-29T16:00:00\", \"2016-12-30T16:00:00\", \"2017-01-03T16:00:00\", \"2017-01-04T16:00:00\", \"2017-01-05T16:00:00\", \"2017-01-06T16:00:00\", \"2017-01-09T16:00:00\", \"2017-01-10T16:00:00\", \"2017-01-11T16:00:00\", \"2017-01-12T16:00:00\", \"2017-01-13T16:00:00\", \"2017-01-17T16:00:00\", \"2017-01-18T16:00:00\", \"2017-01-19T16:00:00\", \"2017-01-20T16:00:00\", \"2017-01-23T16:00:00\", \"2017-01-24T16:00:00\", \"2017-01-25T16:00:00\", \"2017-01-26T16:00:00\", \"2017-01-27T16:00:00\", \"2017-01-30T16:00:00\", \"2017-01-31T16:00:00\", \"2017-02-01T16:00:00\", \"2017-02-02T16:00:00\", \"2017-02-03T16:00:00\", \"2017-02-06T16:00:00\", \"2017-02-07T16:00:00\", \"2017-02-08T16:00:00\", \"2017-02-09T16:00:00\", \"2017-02-10T16:00:00\", \"2017-02-13T16:00:00\", \"2017-02-14T16:00:00\", \"2017-02-15T16:00:00\", \"2017-02-16T16:00:00\", \"2017-02-17T16:00:00\", \"2017-02-21T16:00:00\", \"2017-02-22T16:00:00\", \"2017-02-23T16:00:00\", \"2017-02-24T16:00:00\", \"2017-02-27T16:00:00\", \"2017-02-28T16:00:00\", \"2017-03-01T16:00:00\", \"2017-03-02T16:00:00\", \"2017-03-03T16:00:00\", \"2017-03-06T16:00:00\", \"2017-03-07T16:00:00\", \"2017-03-08T16:00:00\", \"2017-03-09T16:00:00\", \"2017-03-10T16:00:00\", \"2017-03-13T16:00:00\", \"2017-03-14T16:00:00\", \"2017-03-15T16:00:00\", \"2017-03-16T16:00:00\", \"2017-03-17T16:00:00\", \"2017-03-20T16:00:00\", \"2017-03-21T16:00:00\", \"2017-03-22T16:00:00\", \"2017-03-23T16:00:00\", \"2017-03-24T16:00:00\", \"2017-03-27T16:00:00\", \"2017-03-28T16:00:00\", \"2017-03-29T16:00:00\", \"2017-03-30T16:00:00\", \"2017-03-31T16:00:00\", \"2017-04-03T16:00:00\", \"2017-04-04T16:00:00\", \"2017-04-05T16:00:00\", \"2017-04-06T16:00:00\", \"2017-04-07T16:00:00\", \"2017-04-10T16:00:00\", \"2017-04-11T16:00:00\", \"2017-04-12T16:00:00\", \"2017-04-13T16:00:00\", \"2017-04-17T16:00:00\", \"2017-04-18T16:00:00\", \"2017-04-19T16:00:00\", \"2017-04-20T16:00:00\", \"2017-04-21T16:00:00\", \"2017-04-24T16:00:00\", \"2017-04-25T16:00:00\", \"2017-04-26T16:00:00\", \"2017-04-27T16:00:00\", \"2017-04-28T16:00:00\", \"2017-05-01T16:00:00\", \"2017-05-02T16:00:00\", \"2017-05-03T16:00:00\", \"2017-05-04T16:00:00\", \"2017-05-05T16:00:00\", \"2017-05-08T16:00:00\", \"2017-05-09T16:00:00\", \"2017-05-10T16:00:00\", \"2017-05-11T16:00:00\", \"2017-05-12T16:00:00\", \"2017-05-15T16:00:00\", \"2017-05-16T16:00:00\", \"2017-05-17T16:00:00\", \"2017-05-18T16:00:00\", \"2017-05-19T16:00:00\", \"2017-05-22T16:00:00\", \"2017-05-23T16:00:00\", \"2017-05-24T16:00:00\", \"2017-05-25T16:00:00\", \"2017-05-26T16:00:00\", \"2017-05-30T16:00:00\", \"2017-05-31T16:00:00\", \"2017-06-01T16:00:00\", \"2017-06-02T16:00:00\", \"2017-06-05T16:00:00\", \"2017-06-06T16:00:00\", \"2017-06-07T16:00:00\", \"2017-06-08T16:00:00\", \"2017-06-09T16:00:00\", \"2017-06-12T16:00:00\", \"2017-06-13T16:00:00\", \"2017-06-14T16:00:00\", \"2017-06-15T16:00:00\", \"2017-06-16T16:00:00\", \"2017-06-19T16:00:00\", \"2017-06-20T16:00:00\", \"2017-06-21T16:00:00\", \"2017-06-22T16:00:00\", \"2017-06-23T16:00:00\", \"2017-06-26T16:00:00\", \"2017-06-27T16:00:00\", \"2017-06-28T16:00:00\", \"2017-06-29T16:00:00\", \"2017-06-30T16:00:00\", \"2017-07-03T16:00:00\", \"2017-07-05T16:00:00\", \"2017-07-06T16:00:00\", \"2017-07-07T16:00:00\", \"2017-07-10T16:00:00\", \"2017-07-11T16:00:00\", \"2017-07-12T16:00:00\", \"2017-07-13T16:00:00\", \"2017-07-14T16:00:00\", \"2017-07-17T16:00:00\", \"2017-07-18T16:00:00\", \"2017-07-19T16:00:00\", \"2017-07-20T16:00:00\", \"2017-07-21T16:00:00\", \"2017-07-24T16:00:00\", \"2017-07-25T16:00:00\", \"2017-07-26T16:00:00\", \"2017-07-27T16:00:00\", \"2017-07-28T16:00:00\", \"2017-07-31T16:00:00\", \"2017-08-01T16:00:00\", \"2017-08-02T16:00:00\", \"2017-08-03T16:00:00\", \"2017-08-04T16:00:00\", \"2017-08-07T16:00:00\", \"2017-08-08T16:00:00\", \"2017-08-09T16:00:00\", \"2017-08-10T16:00:00\", \"2017-08-11T16:00:00\", \"2017-08-14T16:00:00\", \"2017-08-15T16:00:00\", \"2017-08-16T16:00:00\", \"2017-08-17T16:00:00\", \"2017-08-18T16:00:00\", \"2017-08-21T16:00:00\", \"2017-08-22T16:00:00\", \"2017-08-23T16:00:00\", \"2017-08-24T16:00:00\", \"2017-08-25T16:00:00\", \"2017-08-28T16:00:00\", \"2017-08-29T16:00:00\", \"2017-08-30T16:00:00\", \"2017-08-31T16:00:00\", \"2017-09-01T16:00:00\", \"2017-09-05T16:00:00\", \"2017-09-06T16:00:00\", \"2017-09-07T16:00:00\", \"2017-09-08T16:00:00\", \"2017-09-11T16:00:00\", \"2017-09-12T16:00:00\", \"2017-09-13T16:00:00\", \"2017-09-14T16:00:00\", \"2017-09-15T16:00:00\", \"2017-09-18T16:00:00\", \"2017-09-19T16:00:00\", \"2017-09-20T16:00:00\", \"2017-09-21T16:00:00\", \"2017-09-22T16:00:00\", \"2017-09-25T16:00:00\", \"2017-09-26T16:00:00\", \"2017-09-27T16:00:00\", \"2017-09-28T16:00:00\", \"2017-09-29T16:00:00\", \"2017-10-02T16:00:00\", \"2017-10-03T16:00:00\", \"2017-10-04T16:00:00\", \"2017-10-05T16:00:00\", \"2017-10-06T16:00:00\", \"2017-10-09T16:00:00\", \"2017-10-10T16:00:00\", \"2017-10-11T16:00:00\", \"2017-10-12T16:00:00\", \"2017-10-13T16:00:00\", \"2017-10-16T16:00:00\", \"2017-10-17T16:00:00\", \"2017-10-18T16:00:00\", \"2017-10-19T16:00:00\", \"2017-10-20T16:00:00\", \"2017-10-23T16:00:00\", \"2017-10-24T16:00:00\", \"2017-10-25T16:00:00\", \"2017-10-26T16:00:00\", \"2017-10-27T16:00:00\", \"2017-10-30T16:00:00\", \"2017-10-31T16:00:00\", \"2017-11-01T16:00:00\", \"2017-11-02T16:00:00\", \"2017-11-03T16:00:00\", \"2017-11-06T16:00:00\", \"2017-11-07T16:00:00\", \"2017-11-08T16:00:00\", \"2017-11-09T16:00:00\", \"2017-11-10T16:00:00\", \"2017-11-13T16:00:00\", \"2017-11-14T16:00:00\", \"2017-11-15T16:00:00\", \"2017-11-16T16:00:00\", \"2017-11-17T16:00:00\", \"2017-11-20T16:00:00\", \"2017-11-21T16:00:00\", \"2017-11-22T16:00:00\", \"2017-11-24T13:00:00\", \"2017-11-27T16:00:00\", \"2017-11-28T16:00:00\", \"2017-11-29T16:00:00\", \"2017-11-30T16:00:00\", \"2017-12-01T16:00:00\", \"2017-12-04T16:00:00\", \"2017-12-05T16:00:00\", \"2017-12-06T16:00:00\", \"2017-12-07T16:00:00\", \"2017-12-08T16:00:00\", \"2017-12-11T16:00:00\", \"2017-12-12T16:00:00\", \"2017-12-13T16:00:00\", \"2017-12-14T16:00:00\", \"2017-12-15T16:00:00\", \"2017-12-18T16:00:00\", \"2017-12-19T16:00:00\", \"2017-12-20T16:00:00\", \"2017-12-21T16:00:00\", \"2017-12-22T16:00:00\", \"2017-12-26T16:00:00\", \"2017-12-27T16:00:00\", \"2017-12-28T16:00:00\", \"2017-12-29T16:00:00\", \"2018-01-02T16:00:00\", \"2018-01-03T16:00:00\", \"2018-01-04T16:00:00\", \"2018-01-05T16:00:00\", \"2018-01-08T16:00:00\", \"2018-01-09T16:00:00\", \"2018-01-10T16:00:00\", \"2018-01-11T16:00:00\", \"2018-01-12T16:00:00\", \"2018-01-16T16:00:00\", \"2018-01-17T16:00:00\", \"2018-01-18T16:00:00\", \"2018-01-19T16:00:00\", \"2018-01-22T16:00:00\", \"2018-01-23T16:00:00\", \"2018-01-24T16:00:00\", \"2018-01-25T16:00:00\", \"2018-01-26T16:00:00\", \"2018-01-29T16:00:00\", \"2018-01-30T16:00:00\", \"2018-01-31T16:00:00\", \"2018-02-01T16:00:00\", \"2018-02-02T16:00:00\", \"2018-02-05T16:00:00\", \"2018-02-06T16:00:00\", \"2018-02-07T16:00:00\", \"2018-02-08T16:00:00\", \"2018-02-09T16:00:00\", \"2018-02-12T16:00:00\", \"2018-02-13T16:00:00\", \"2018-02-14T16:00:00\", \"2018-02-15T16:00:00\", \"2018-02-16T16:00:00\", \"2018-02-20T16:00:00\", \"2018-02-21T16:00:00\", \"2018-02-22T16:00:00\", \"2018-02-23T16:00:00\", \"2018-02-26T16:00:00\", \"2018-02-27T16:00:00\", \"2018-02-28T16:00:00\", \"2018-03-01T16:00:00\", \"2018-03-02T16:00:00\", \"2018-03-05T16:00:00\", \"2018-03-06T16:00:00\", \"2018-03-07T16:00:00\", \"2018-03-08T16:00:00\", \"2018-03-09T16:00:00\", \"2018-03-12T16:00:00\", \"2018-03-13T16:00:00\", \"2018-03-14T16:00:00\", \"2018-03-15T16:00:00\", \"2018-03-16T16:00:00\", \"2018-03-19T16:00:00\", \"2018-03-20T16:00:00\", \"2018-03-21T16:00:00\", \"2018-03-22T16:00:00\", \"2018-03-23T16:00:00\", \"2018-03-26T16:00:00\", \"2018-03-27T16:00:00\", \"2018-03-28T16:00:00\", \"2018-03-29T16:00:00\", \"2018-04-02T16:00:00\", \"2018-04-03T16:00:00\", \"2018-04-04T16:00:00\", \"2018-04-05T16:00:00\", \"2018-04-06T16:00:00\", \"2018-04-09T16:00:00\", \"2018-04-10T16:00:00\", \"2018-04-11T16:00:00\", \"2018-04-12T16:00:00\", \"2018-04-13T16:00:00\", \"2018-04-16T16:00:00\", \"2018-04-17T16:00:00\", \"2018-04-18T16:00:00\", \"2018-04-19T16:00:00\", \"2018-04-20T16:00:00\", \"2018-04-23T16:00:00\", \"2018-04-24T16:00:00\", \"2018-04-25T16:00:00\", \"2018-04-26T16:00:00\", \"2018-04-27T16:00:00\", \"2018-04-30T16:00:00\", \"2018-05-01T16:00:00\", \"2018-05-02T16:00:00\", \"2018-05-03T16:00:00\", \"2018-05-04T16:00:00\", \"2018-05-07T16:00:00\", \"2018-05-08T16:00:00\", \"2018-05-09T16:00:00\", \"2018-05-10T16:00:00\", \"2018-05-11T16:00:00\", \"2018-05-14T16:00:00\", \"2018-05-15T16:00:00\", \"2018-05-16T16:00:00\", \"2018-05-17T16:00:00\", \"2018-05-18T16:00:00\", \"2018-05-21T16:00:00\", \"2018-05-22T16:00:00\", \"2018-05-23T16:00:00\", \"2018-05-24T16:00:00\", \"2018-05-25T16:00:00\", \"2018-05-29T16:00:00\", \"2018-05-30T16:00:00\", \"2018-05-31T16:00:00\", \"2018-06-01T16:00:00\", \"2018-06-04T16:00:00\", \"2018-06-05T16:00:00\", \"2018-06-06T16:00:00\", \"2018-06-07T16:00:00\", \"2018-06-08T16:00:00\", \"2018-06-11T16:00:00\", \"2018-06-12T16:00:00\", \"2018-06-13T16:00:00\", \"2018-06-14T16:00:00\", \"2018-06-15T16:00:00\", \"2018-06-18T16:00:00\", \"2018-06-19T16:00:00\", \"2018-06-20T16:00:00\", \"2018-06-21T16:00:00\", \"2018-06-22T16:00:00\", \"2018-06-25T16:00:00\", \"2018-06-26T16:00:00\", \"2018-06-27T16:00:00\", \"2018-06-28T16:00:00\", \"2018-06-29T16:00:00\", \"2018-07-02T16:00:00\", \"2018-07-03T13:00:00\", \"2018-07-05T16:00:00\", \"2018-07-06T16:00:00\", \"2018-07-09T16:00:00\", \"2018-07-10T16:00:00\", \"2018-07-11T16:00:00\", \"2018-07-12T16:00:00\", \"2018-07-13T16:00:00\", \"2018-07-16T16:00:00\", \"2018-07-17T16:00:00\", \"2018-07-18T16:00:00\", \"2018-07-19T16:00:00\", \"2018-07-20T16:00:00\", \"2018-07-23T16:00:00\", \"2018-07-24T16:00:00\", \"2018-07-25T16:00:00\", \"2018-07-26T16:00:00\", \"2018-07-27T16:00:00\", \"2018-07-30T16:00:00\", \"2018-07-31T16:00:00\", \"2018-08-01T16:00:00\", \"2018-08-02T16:00:00\", \"2018-08-03T16:00:00\", \"2018-08-06T16:00:00\", \"2018-08-07T16:00:00\", \"2018-08-08T16:00:00\", \"2018-08-09T16:00:00\", \"2018-08-10T16:00:00\", \"2018-08-13T16:00:00\", \"2018-08-14T16:00:00\", \"2018-08-15T16:00:00\", \"2018-08-16T16:00:00\", \"2018-08-17T16:00:00\", \"2018-08-20T16:00:00\", \"2018-08-21T16:00:00\", \"2018-08-22T16:00:00\", \"2018-08-23T16:00:00\", \"2018-08-24T16:00:00\", \"2018-08-27T16:00:00\", \"2018-08-28T16:00:00\", \"2018-08-29T16:00:00\", \"2018-08-30T16:00:00\", \"2018-08-31T16:00:00\", \"2018-09-04T16:00:00\", \"2018-09-05T16:00:00\", \"2018-09-06T16:00:00\", \"2018-09-07T16:00:00\", \"2018-09-10T16:00:00\", \"2018-09-11T16:00:00\", \"2018-09-12T16:00:00\", \"2018-09-13T16:00:00\", \"2018-09-14T16:00:00\", \"2018-09-17T16:00:00\", \"2018-09-18T16:00:00\", \"2018-09-19T16:00:00\", \"2018-09-20T16:00:00\", \"2018-09-21T16:00:00\", \"2018-09-24T16:00:00\", \"2018-09-25T16:00:00\", \"2018-09-26T16:00:00\", \"2018-09-27T16:00:00\", \"2018-09-28T16:00:00\", \"2018-10-01T16:00:00\", \"2018-10-02T16:00:00\", \"2018-10-03T16:00:00\", \"2018-10-04T16:00:00\", \"2018-10-05T16:00:00\", \"2018-10-08T16:00:00\", \"2018-10-09T16:00:00\", \"2018-10-10T16:00:00\", \"2018-10-11T16:00:00\", \"2018-10-12T16:00:00\", \"2018-10-15T16:00:00\", \"2018-10-16T16:00:00\", \"2018-10-17T16:00:00\", \"2018-10-18T16:00:00\", \"2018-10-19T16:00:00\", \"2018-10-22T16:00:00\", \"2018-10-23T16:00:00\", \"2018-10-24T16:00:00\", \"2018-10-25T16:00:00\", \"2018-10-26T16:00:00\", \"2018-10-29T16:00:00\", \"2018-10-30T16:00:00\", \"2018-10-31T16:00:00\", \"2018-11-01T16:00:00\", \"2018-11-02T16:00:00\", \"2018-11-05T16:00:00\", \"2018-11-06T16:00:00\", \"2018-11-07T16:00:00\", \"2018-11-08T16:00:00\", \"2018-11-09T16:00:00\", \"2018-11-12T16:00:00\", \"2018-11-13T16:00:00\", \"2018-11-14T16:00:00\", \"2018-11-15T16:00:00\", \"2018-11-16T16:00:00\", \"2018-11-19T16:00:00\", \"2018-11-20T16:00:00\", \"2018-11-21T16:00:00\", \"2018-11-23T13:00:00\", \"2018-11-26T16:00:00\", \"2018-11-27T16:00:00\", \"2018-11-28T16:00:00\", \"2018-11-29T16:00:00\", \"2018-11-30T16:00:00\", \"2018-12-03T16:00:00\", \"2018-12-04T16:00:00\", \"2018-12-06T16:00:00\", \"2018-12-07T16:00:00\", \"2018-12-10T16:00:00\", \"2018-12-11T16:00:00\", \"2018-12-12T16:00:00\", \"2018-12-13T16:00:00\", \"2018-12-14T16:00:00\", \"2018-12-17T16:00:00\", \"2018-12-18T16:00:00\", \"2018-12-19T16:00:00\", \"2018-12-20T16:00:00\", \"2018-12-21T16:00:00\", \"2018-12-24T13:00:00\", \"2018-12-26T16:00:00\", \"2018-12-27T16:00:00\", \"2018-12-28T16:00:00\", \"2018-12-31T16:00:00\", \"2019-01-02T16:00:00\", \"2019-01-03T16:00:00\", \"2019-01-04T16:00:00\", \"2019-01-07T16:00:00\", \"2019-01-08T16:00:00\", \"2019-01-09T16:00:00\", \"2019-01-10T16:00:00\", \"2019-01-11T16:00:00\", \"2019-01-14T16:00:00\", \"2019-01-15T16:00:00\", \"2019-01-16T16:00:00\", \"2019-01-17T16:00:00\", \"2019-01-18T16:00:00\", \"2019-01-22T16:00:00\", \"2019-01-23T16:00:00\", \"2019-01-24T16:00:00\", \"2019-01-25T16:00:00\", \"2019-01-28T16:00:00\", \"2019-01-29T16:00:00\", \"2019-01-30T16:00:00\", \"2019-01-31T16:00:00\", \"2019-02-01T16:00:00\", \"2019-02-04T16:00:00\", \"2019-02-05T16:00:00\", \"2019-02-06T16:00:00\", \"2019-02-07T16:00:00\", \"2019-02-08T16:00:00\", \"2019-02-11T16:00:00\", \"2019-02-12T16:00:00\", \"2019-02-13T16:00:00\", \"2019-02-14T16:00:00\", \"2019-02-15T16:00:00\", \"2019-02-19T16:00:00\", \"2019-02-20T16:00:00\", \"2019-02-21T16:00:00\", \"2019-02-22T16:00:00\", \"2019-02-25T16:00:00\", \"2019-02-26T16:00:00\", \"2019-02-27T16:00:00\", \"2019-02-28T16:00:00\", \"2019-03-01T16:00:00\", \"2019-03-04T16:00:00\", \"2019-03-05T16:00:00\", \"2019-03-06T16:00:00\", \"2019-03-07T16:00:00\", \"2019-03-08T16:00:00\", \"2019-03-11T16:00:00\", \"2019-03-12T16:00:00\", \"2019-03-13T16:00:00\", \"2019-03-14T16:00:00\", \"2019-03-15T16:00:00\", \"2019-03-18T16:00:00\", \"2019-03-19T16:00:00\", \"2019-03-20T16:00:00\", \"2019-03-21T16:00:00\", \"2019-03-22T16:00:00\", \"2019-03-25T16:00:00\", \"2019-03-26T16:00:00\", \"2019-03-27T16:00:00\", \"2019-03-28T16:00:00\", \"2019-03-29T16:00:00\", \"2019-04-01T16:00:00\", \"2019-04-02T16:00:00\", \"2019-04-03T16:00:00\", \"2019-04-04T16:00:00\", \"2019-04-05T16:00:00\", \"2019-04-08T16:00:00\", \"2019-04-09T16:00:00\", \"2019-04-10T16:00:00\", \"2019-04-11T16:00:00\", \"2019-04-12T16:00:00\", \"2019-04-15T16:00:00\", \"2019-04-16T16:00:00\", \"2019-04-17T16:00:00\", \"2019-04-18T16:00:00\", \"2019-04-22T16:00:00\", \"2019-04-23T16:00:00\", \"2019-04-24T16:00:00\", \"2019-04-25T16:00:00\", \"2019-04-26T16:00:00\", \"2019-04-29T16:00:00\", \"2019-04-30T16:00:00\", \"2019-05-01T16:00:00\", \"2019-05-02T16:00:00\", \"2019-05-03T16:00:00\", \"2019-05-06T16:00:00\", \"2019-05-07T16:00:00\", \"2019-05-08T16:00:00\", \"2019-05-09T16:00:00\", \"2019-05-10T16:00:00\", \"2019-05-13T16:00:00\", \"2019-05-14T16:00:00\", \"2019-05-15T16:00:00\", \"2019-05-16T16:00:00\", \"2019-05-17T16:00:00\", \"2019-05-20T16:00:00\", \"2019-05-21T16:00:00\", \"2019-05-22T16:00:00\", \"2019-05-23T16:00:00\", \"2019-05-24T16:00:00\", \"2019-05-28T16:00:00\", \"2019-05-29T16:00:00\", \"2019-05-30T16:00:00\", \"2019-05-31T16:00:00\", \"2019-06-03T16:00:00\", \"2019-06-04T16:00:00\", \"2019-06-05T16:00:00\", \"2019-06-06T16:00:00\", \"2019-06-07T16:00:00\", \"2019-06-10T16:00:00\", \"2019-06-11T16:00:00\", \"2019-06-12T16:00:00\", \"2019-06-13T16:00:00\", \"2019-06-14T16:00:00\", \"2019-06-17T16:00:00\", \"2019-06-18T16:00:00\", \"2019-06-19T16:00:00\", \"2019-06-20T16:00:00\", \"2019-06-21T16:00:00\", \"2019-06-24T16:00:00\", \"2019-06-25T16:00:00\", \"2019-06-26T16:00:00\", \"2019-06-27T16:00:00\", \"2019-06-28T16:00:00\", \"2019-07-01T16:00:00\", \"2019-07-02T16:00:00\", \"2019-07-03T13:00:00\", \"2019-07-05T16:00:00\", \"2019-07-08T16:00:00\", \"2019-07-09T16:00:00\", \"2019-07-10T16:00:00\", \"2019-07-11T16:00:00\", \"2019-07-12T16:00:00\", \"2019-07-15T16:00:00\", \"2019-07-16T16:00:00\", \"2019-07-17T16:00:00\", \"2019-07-18T16:00:00\", \"2019-07-19T16:00:00\", \"2019-07-22T16:00:00\", \"2019-07-23T16:00:00\", \"2019-07-24T16:00:00\", \"2019-07-25T16:00:00\", \"2019-07-26T16:00:00\", \"2019-07-29T16:00:00\", \"2019-07-30T16:00:00\", \"2019-07-31T16:00:00\", \"2019-08-01T16:00:00\", \"2019-08-02T16:00:00\", \"2019-08-05T16:00:00\", \"2019-08-06T16:00:00\", \"2019-08-07T16:00:00\", \"2019-08-08T16:00:00\", \"2019-08-09T16:00:00\", \"2019-08-12T16:00:00\", \"2019-08-13T16:00:00\", \"2019-08-14T16:00:00\", \"2019-08-15T16:00:00\", \"2019-08-16T16:00:00\", \"2019-08-19T16:00:00\", \"2019-08-20T16:00:00\", \"2019-08-21T16:00:00\", \"2019-08-22T16:00:00\", \"2019-08-23T16:00:00\", \"2019-08-26T16:00:00\", \"2019-08-27T16:00:00\", \"2019-08-28T16:00:00\", \"2019-08-29T16:00:00\", \"2019-08-30T16:00:00\", \"2019-09-03T16:00:00\", \"2019-09-04T16:00:00\", \"2019-09-05T16:00:00\", \"2019-09-06T16:00:00\", \"2019-09-09T16:00:00\", \"2019-09-10T16:00:00\", \"2019-09-11T16:00:00\", \"2019-09-12T16:00:00\", \"2019-09-13T16:00:00\", \"2019-09-16T16:00:00\", \"2019-09-17T16:00:00\", \"2019-09-18T16:00:00\", \"2019-09-19T16:00:00\", \"2019-09-20T16:00:00\", \"2019-09-23T16:00:00\", \"2019-09-24T16:00:00\", \"2019-09-25T16:00:00\", \"2019-09-26T16:00:00\", \"2019-09-27T16:00:00\", \"2019-09-30T16:00:00\", \"2019-10-01T16:00:00\", \"2019-10-02T16:00:00\", \"2019-10-03T16:00:00\", \"2019-10-04T16:00:00\", \"2019-10-07T16:00:00\", \"2019-10-08T16:00:00\", \"2019-10-09T16:00:00\", \"2019-10-10T16:00:00\", \"2019-10-11T16:00:00\", \"2019-10-14T16:00:00\", \"2019-10-15T16:00:00\", \"2019-10-16T16:00:00\", \"2019-10-17T16:00:00\", \"2019-10-18T16:00:00\", \"2019-10-21T16:00:00\", \"2019-10-22T16:00:00\", \"2019-10-23T16:00:00\", \"2019-10-24T16:00:00\", \"2019-10-25T16:00:00\", \"2019-10-28T16:00:00\", \"2019-10-29T16:00:00\", \"2019-10-30T16:00:00\", \"2019-10-31T16:00:00\", \"2019-11-01T16:00:00\", \"2019-11-04T16:00:00\", \"2019-11-05T16:00:00\", \"2019-11-06T16:00:00\", \"2019-11-07T16:00:00\", \"2019-11-08T16:00:00\", \"2019-11-11T16:00:00\", \"2019-11-12T16:00:00\", \"2019-11-13T16:00:00\", \"2019-11-14T16:00:00\", \"2019-11-15T16:00:00\", \"2019-11-18T16:00:00\", \"2019-11-19T16:00:00\", \"2019-11-20T16:00:00\", \"2019-11-21T16:00:00\", \"2019-11-22T16:00:00\", \"2019-11-25T16:00:00\", \"2019-11-26T16:00:00\", \"2019-11-27T16:00:00\", \"2019-11-29T13:00:00\", \"2019-12-02T16:00:00\", \"2019-12-03T16:00:00\", \"2019-12-04T16:00:00\", \"2019-12-05T16:00:00\", \"2019-12-06T16:00:00\", \"2019-12-09T16:00:00\", \"2019-12-10T16:00:00\", \"2019-12-11T16:00:00\", \"2019-12-12T16:00:00\", \"2019-12-13T16:00:00\", \"2019-12-16T16:00:00\", \"2019-12-17T16:00:00\", \"2019-12-18T16:00:00\", \"2019-12-19T16:00:00\", \"2019-12-20T16:00:00\", \"2019-12-23T16:00:00\", \"2019-12-24T13:00:00\", \"2019-12-26T16:00:00\", \"2019-12-27T16:00:00\", \"2019-12-30T16:00:00\", \"2019-12-31T16:00:00\", \"2020-01-02T16:00:00\", \"2020-01-03T16:00:00\", \"2020-01-06T16:00:00\", \"2020-01-07T16:00:00\", \"2020-01-08T16:00:00\", \"2020-01-09T16:00:00\", \"2020-01-10T16:00:00\", \"2020-01-13T16:00:00\", \"2020-01-14T16:00:00\", \"2020-01-15T16:00:00\", \"2020-01-16T16:00:00\", \"2020-01-17T16:00:00\", \"2020-01-21T16:00:00\", \"2020-01-22T16:00:00\", \"2020-01-23T16:00:00\", \"2020-01-24T16:00:00\", \"2020-01-27T16:00:00\", \"2020-01-28T16:00:00\", \"2020-01-29T16:00:00\", \"2020-01-30T16:00:00\", \"2020-01-31T16:00:00\", \"2020-02-03T16:00:00\", \"2020-02-04T16:00:00\", \"2020-02-05T16:00:00\", \"2020-02-06T16:00:00\", \"2020-02-07T16:00:00\", \"2020-02-10T16:00:00\", \"2020-02-11T16:00:00\", \"2020-02-12T16:00:00\", \"2020-02-13T16:00:00\", \"2020-02-14T16:00:00\", \"2020-02-18T16:00:00\", \"2020-02-19T16:00:00\", \"2020-02-20T16:00:00\", \"2020-02-21T16:00:00\", \"2020-02-24T16:00:00\", \"2020-02-25T16:00:00\", \"2020-02-26T16:00:00\", \"2020-02-27T16:00:00\", \"2020-02-28T16:00:00\", \"2020-03-02T16:00:00\", \"2020-03-03T16:00:00\", \"2020-03-04T16:00:00\", \"2020-03-05T16:00:00\", \"2020-03-06T16:00:00\", \"2020-03-09T16:00:00\", \"2020-03-10T16:00:00\", \"2020-03-11T16:00:00\", \"2020-03-12T16:00:00\", \"2020-03-13T16:00:00\", \"2020-03-16T16:00:00\", \"2020-03-17T16:00:00\", \"2020-03-18T16:00:00\", \"2020-03-19T16:00:00\", \"2020-03-20T16:00:00\", \"2020-03-23T16:00:00\", \"2020-03-24T16:00:00\", \"2020-03-25T16:00:00\", \"2020-03-26T16:00:00\", \"2020-03-27T16:00:00\", \"2020-03-30T16:00:00\", \"2020-03-31T16:00:00\", \"2020-04-01T16:00:00\", \"2020-04-02T16:00:00\", \"2020-04-03T16:00:00\", \"2020-04-06T16:00:00\", \"2020-04-07T16:00:00\", \"2020-04-08T16:00:00\", \"2020-04-09T16:00:00\", \"2020-04-13T16:00:00\", \"2020-04-14T16:00:00\", \"2020-04-15T16:00:00\", \"2020-04-16T16:00:00\", \"2020-04-17T16:00:00\", \"2020-04-20T16:00:00\", \"2020-04-21T16:00:00\", \"2020-04-22T16:00:00\", \"2020-04-23T16:00:00\", \"2020-04-24T16:00:00\", \"2020-04-27T16:00:00\", \"2020-04-28T16:00:00\", \"2020-04-29T16:00:00\", \"2020-04-30T16:00:00\", \"2020-05-01T16:00:00\", \"2020-05-04T16:00:00\", \"2020-05-05T16:00:00\", \"2020-05-06T16:00:00\", \"2020-05-07T16:00:00\", \"2020-05-08T16:00:00\", \"2020-05-11T16:00:00\", \"2020-05-12T16:00:00\", \"2020-05-13T16:00:00\", \"2020-05-14T16:00:00\", \"2020-05-15T16:00:00\", \"2020-05-18T16:00:00\", \"2020-05-19T16:00:00\", \"2020-05-20T16:00:00\", \"2020-05-21T16:00:00\", \"2020-05-22T16:00:00\", \"2020-05-26T16:00:00\", \"2020-05-27T16:00:00\", \"2020-05-28T16:00:00\", \"2020-05-29T16:00:00\", \"2020-06-01T16:00:00\", \"2020-06-02T16:00:00\", \"2020-06-03T16:00:00\", \"2020-06-04T16:00:00\", \"2020-06-05T16:00:00\", \"2020-06-08T16:00:00\", \"2020-06-09T16:00:00\", \"2020-06-10T16:00:00\", \"2020-06-11T16:00:00\", \"2020-06-12T16:00:00\", \"2020-06-15T16:00:00\", \"2020-06-16T16:00:00\", \"2020-06-17T16:00:00\", \"2020-06-18T16:00:00\", \"2020-06-19T16:00:00\", \"2020-06-22T16:00:00\", \"2020-06-23T16:00:00\", \"2020-06-24T16:00:00\", \"2020-06-25T16:00:00\", \"2020-06-26T16:00:00\", \"2020-06-29T16:00:00\"], \"xaxis\": \"x\", \"y\": [1416.63, 1418.34, 1409.71, 1412.84, 1412.11, 1414.85, 1423.82, 1430.73, 1431.9, 1430.62, 1426.37, 1430.5, 1422.95, 1427.99, 1440.13, 1423.9, 1422.18, 1420.62, 1428.82, 1438.24, 1445.94, 1448.39, 1446.99, 1448.0, 1450.02, 1448.31, 1438.06, 1433.37, 1444.26, 1455.3, 1456.81, 1455.54, 1459.68, 1457.63, 1456.38, 1451.19, 1449.37, 1399.04, 1406.82, 1403.17, 1387.17, 1374.12, 1395.41, 1391.97, 1401.89, 1402.85, 1406.6, 1377.95, 1387.17, 1392.28, 1386.95, 1402.06, 1410.94, 1435.04, 1434.54, 1436.11, 1437.5, 1428.61, 1417.23, 1422.53, 1420.86, 1424.55, 1437.77, 1439.37, 1443.76, 1437.34, 1444.61, 1448.39, 1438.87, 1447.8, 1452.85, 1468.47, 1471.48, 1472.5, 1470.73, 1484.35, 1480.93, 1480.41, 1495.42, 1494.25, 1494.07, 1482.37, 1486.3, 1495.92, 1502.39, 1505.62, 1509.48, 1507.72, 1512.58, 1491.47, 1505.85, 1503.15, 1501.19, 1514.14, 1512.75, 1522.75, 1525.1, 1524.12, 1522.28, 1507.51, 1515.73, 1518.11, 1530.23, 1530.62, 1536.34, 1539.18, 1530.95, 1517.38, 1490.72, 1507.67, 1509.12, 1493.0, 1515.67, 1522.97, 1532.91, 1531.05, 1533.7, 1512.84, 1522.19, 1502.56, 1497.74, 1492.89, 1506.34, 1505.71, 1503.35, 1519.43, 1524.87, 1525.4, 1530.44, 1531.85, 1510.12, 1518.76, 1547.7, 1552.5, 1549.52, 1549.37, 1546.17, 1553.08, 1534.1, 1541.57, 1511.04, 1518.09, 1482.66, 1458.95, 1473.91, 1455.27, 1465.81, 1472.2, 1433.06, 1467.67, 1476.71, 1497.49, 1453.09, 1453.64, 1452.92, 1426.54, 1406.7, 1411.27, 1445.94, 1445.55, 1447.12, 1464.07, 1462.5, 1479.37, 1466.79, 1432.36, 1463.76, 1457.64, 1473.99, 1489.42, 1472.29, 1478.55, 1453.55, 1451.7, 1471.49, 1471.56, 1483.95, 1484.25, 1476.65, 1519.78, 1529.03, 1518.75, 1525.75, 1517.73, 1517.21, 1525.42, 1531.38, 1526.75, 1547.04, 1546.63, 1539.59, 1542.84, 1557.59, 1552.58, 1565.15, 1562.47, 1554.41, 1561.8, 1548.71, 1538.53, 1541.24, 1540.08, 1500.63, 1506.33, 1519.59, 1515.88, 1514.4, 1535.28, 1540.98, 1531.02, 1549.38, 1508.44, 1509.65, 1502.17, 1520.27, 1475.62, 1474.77, 1453.7, 1439.18, 1481.05, 1470.58, 1451.15, 1458.74, 1433.27, 1439.7, 1416.77, 1440.7, 1407.22, 1428.23, 1469.02, 1469.72, 1481.14, 1472.42, 1462.79, 1485.01, 1507.34, 1504.66, 1515.96, 1477.65, 1486.59, 1488.41, 1467.95, 1445.9, 1454.98, 1453.0, 1460.12, 1484.46, 1496.45, 1497.66, 1476.27, 1478.49, 1468.36, 1447.16, 1447.16, 1411.63, 1416.18, 1390.19, 1409.13, 1420.33, 1401.02, 1416.25, 1380.95, 1373.2, 1333.25, 1325.19, 1310.5, 1338.6, 1352.07, 1330.61, 1353.96, 1362.3, 1355.81, 1378.55, 1395.42, 1380.82, 1336.64, 1326.45, 1336.91, 1331.29, 1339.13, 1348.86, 1367.21, 1348.86, 1349.99, 1348.78, 1360.03, 1342.53, 1353.11, 1371.8, 1381.29, 1380.02, 1367.68, 1330.63, 1331.34, 1326.75, 1333.7, 1304.34, 1293.37, 1273.37, 1320.65, 1308.77, 1315.48, 1288.14, 1276.6, 1330.74, 1298.42, 1329.51, 1349.88, 1352.99, 1341.13, 1325.76, 1315.22, 1322.7, 1370.18, 1367.53, 1369.31, 1370.4, 1372.54, 1365.54, 1354.49, 1360.55, 1332.83, 1328.32, 1334.43, 1364.71, 1365.56, 1390.33, 1388.17, 1375.94, 1379.93, 1388.82, 1397.84, 1396.37, 1390.94, 1385.59, 1409.34, 1413.9, 1407.49, 1418.26, 1392.57, 1397.68, 1388.28, 1403.58, 1403.04, 1408.66, 1423.57, 1425.35, 1426.63, 1413.4, 1390.71, 1394.35, 1375.93, 1385.35, 1390.84, 1398.26, 1400.38, 1385.67, 1377.65, 1377.2, 1404.05, 1360.68, 1361.76, 1358.44, 1335.49, 1339.87, 1360.03, 1360.14, 1350.93, 1337.81, 1342.83, 1317.93, 1318.0, 1314.29, 1321.97, 1283.15, 1278.38, 1280.0, 1284.91, 1261.52, 1262.9, 1252.31, 1273.7, 1244.69, 1253.39, 1239.49, 1228.3, 1214.91, 1245.36, 1260.32, 1260.68, 1260.0, 1277.0, 1282.19, 1252.54, 1257.76, 1234.37, 1263.2, 1284.26, 1267.38, 1260.31, 1249.01, 1284.88, 1289.19, 1266.07, 1296.32, 1305.32, 1289.59, 1285.83, 1292.93, 1298.2, 1278.6, 1266.69, 1274.54, 1277.72, 1292.2, 1266.84, 1271.51, 1281.66, 1300.68, 1282.83, 1277.58, 1274.98, 1236.83, 1242.31, 1267.79, 1224.51, 1232.04, 1249.05, 1251.7, 1192.7, 1213.6, 1156.39, 1206.51, 1255.08, 1207.09, 1188.22, 1185.87, 1209.18, 1213.27, 1106.42, 1164.74, 1161.06, 1114.28, 1099.23, 1056.89, 996.23, 984.94, 909.92, 899.22, 1003.35, 998.01, 907.84, 946.43, 940.55, 985.4, 955.05, 896.78, 908.11, 876.77, 848.92, 940.51, 930.09, 954.09, 968.75, 966.3, 1005.75, 952.77, 904.88, 930.99, 919.21, 898.95, 852.3, 911.29, 873.29, 850.75, 859.12, 806.58, 752.44, 800.03, 851.81, 857.39, 887.68, 896.24, 816.21, 848.81, 870.74, 845.22, 876.07, 909.7, 888.67, 899.24, 873.59, 879.73, 868.57, 913.18, 904.42, 885.28, 887.88, 871.63, 863.16, 868.15, 872.8, 869.42, 890.64, 903.25, 931.8, 927.45, 934.7, 906.65, 909.73, 890.35, 870.26, 871.79, 842.62, 843.74, 850.12, 805.22, 840.24, 827.5, 831.95, 836.57, 845.71, 874.09, 845.14, 825.88, 825.44, 838.51, 832.23, 845.85, 868.6, 869.89, 827.16, 833.74, 835.19, 826.84, 789.17, 788.42, 778.94, 770.05, 743.33, 773.14, 764.9, 752.83, 735.09, 700.82, 696.33, 712.87, 682.55, 683.38, 676.53, 719.6, 721.36, 750.74, 756.55, 753.89, 778.12, 794.35, 784.04, 768.54, 822.92, 806.25, 813.88, 832.86, 815.94, 787.53, 797.87, 811.08, 834.38, 842.5, 835.48, 815.55, 825.16, 856.56, 858.73, 841.5, 852.06, 865.3, 869.6, 832.39, 850.08, 843.55, 851.92, 866.23, 857.51, 855.16, 873.64, 872.81, 877.52, 907.24, 903.8, 919.53, 907.39, 929.23, 909.24, 908.35, 883.92, 893.07, 882.88, 909.71, 908.13, 903.47, 888.33, 887.0, 910.33, 893.06, 906.83, 919.14, 942.87, 944.74, 931.76, 942.46, 940.09, 939.14, 942.43, 939.15, 944.89, 946.21, 923.72, 911.97, 910.71, 918.37, 921.23, 893.04, 895.1, 900.94, 920.26, 918.9, 927.23, 919.32, 923.33, 896.42, 898.72, 881.03, 879.56, 882.68, 879.13, 901.05, 905.84, 932.68, 940.74, 940.38, 951.13, 954.58, 954.07, 976.29, 979.26, 982.18, 979.62, 975.15, 986.75, 987.48, 1002.63, 1005.65, 1002.72, 997.08, 1010.48, 1007.1, 994.35, 1005.81, 1012.73, 1004.09, 979.73, 989.67, 996.46, 1007.37, 1026.13, 1025.57, 1028.0, 1028.12, 1030.98, 1028.93, 1020.62, 998.04, 994.75, 1003.24, 1016.4, 1025.39, 1033.37, 1044.14, 1042.73, 1049.34, 1052.63, 1068.76, 1065.49, 1068.3, 1064.66, 1071.66, 1060.87, 1050.78, 1044.38, 1062.98, 1060.61, 1057.08, 1029.85, 1025.21, 1040.46, 1054.72, 1057.58, 1065.48, 1071.49, 1076.19, 1073.19, 1092.02, 1096.56, 1087.68, 1097.91, 1091.06, 1081.4, 1092.91, 1079.6, 1066.95, 1063.41, 1042.63, 1066.11, 1036.19, 1042.88, 1045.41, 1046.5, 1066.63, 1069.3, 1093.08, 1093.01, 1098.51, 1087.24, 1093.48, 1109.3, 1110.32, 1109.8, 1094.9, 1091.38, 1106.24, 1105.65, 1110.63, 1091.49, 1095.63, 1108.86, 1109.24, 1099.92, 1105.98, 1103.25, 1091.94, 1095.95, 1102.35, 1106.41, 1114.11, 1107.93, 1109.18, 1096.08, 1102.47, 1114.05, 1118.02, 1120.59, 1126.48, 1127.78, 1126.2, 1126.42, 1115.1, 1132.99, 1136.52, 1135.71, 1141.69, 1144.98, 1146.98, 1136.22, 1145.68, 1144.89, 1136.03, 1150.23, 1138.04, 1116.48, 1115.49, 1096.78, 1092.17, 1097.5, 1084.53, 1073.87, 1089.19, 1103.32, 1097.28, 1063.11, 1066.19, 1056.74, 1070.52, 1068.13, 1078.47, 1075.51, 1094.87, 1099.51, 1106.75, 1109.17, 1108.01, 1094.6, 1105.24, 1102.94, 1104.49, 1115.71, 1118.31, 1118.79, 1122.97, 1138.7, 1138.5, 1140.45, 1145.61, 1150.24, 1149.99, 1150.51, 1159.46, 1160.74, 1165.83, 1159.9, 1165.81, 1166.47, 1167.72, 1165.73, 1166.59, 1173.22, 1173.27, 1169.43, 1178.1, 1187.44, 1189.44, 1182.45, 1186.44, 1194.37, 1196.48, 1197.3, 1210.65, 1211.67, 1192.13, 1197.52, 1207.17, 1205.94, 1208.67, 1217.28, 1212.05, 1183.71, 1191.36, 1206.78, 1186.69, 1202.26, 1173.6, 1165.87, 1128.15, 1110.88, 1159.73, 1155.79, 1171.67, 1157.44, 1135.68, 1136.94, 1120.8, 1115.05, 1071.59, 1087.69, 1073.65, 1074.03, 1067.95, 1103.06, 1089.41, 1070.71, 1098.38, 1102.83, 1064.88, 1050.47, 1062.0, 1055.69, 1086.84, 1091.6, 1089.63, 1115.23, 1114.61, 1116.04, 1117.51, 1113.2, 1095.31, 1092.04, 1073.69, 1076.76, 1074.57, 1041.24, 1030.71, 1027.37, 1022.58, 1028.06, 1060.27, 1070.25, 1077.96, 1078.75, 1095.34, 1095.17, 1096.48, 1064.88, 1071.25, 1083.48, 1069.59, 1093.67, 1102.66, 1115.01, 1113.84, 1106.13, 1101.53, 1101.6, 1125.86, 1120.46, 1127.24, 1125.81, 1121.64, 1127.79, 1121.06, 1089.47, 1083.61, 1079.25, 1079.38, 1092.54, 1094.16, 1075.63, 1071.69, 1067.36, 1051.87, 1055.33, 1047.22, 1064.59, 1048.92, 1049.33, 1080.29, 1090.1, 1104.51, 1091.84, 1098.87, 1104.18, 1109.55, 1121.9, 1121.1, 1125.07, 1124.66, 1125.59, 1142.71, 1139.78, 1134.28, 1124.83, 1148.67, 1142.16, 1147.7, 1144.73, 1141.2, 1146.24, 1137.03, 1160.75, 1157.18, 1158.06, 1165.15, 1165.32, 1169.77, 1178.1, 1173.81, 1176.19, 1184.71, 1165.9, 1178.17, 1180.26, 1183.08, 1185.62, 1185.64, 1182.45, 1183.78, 1183.26, 1184.38, 1193.57, 1197.96, 1221.06, 1225.85, 1223.25, 1213.4, 1218.71, 1213.54, 1199.21, 1197.75, 1178.34, 1178.59, 1196.69, 1199.73, 1197.84, 1180.73, 1198.35, 1189.4, 1187.76, 1180.55, 1206.07, 1221.53, 1224.71, 1223.12, 1223.75, 1228.28, 1233.0, 1240.4, 1240.46, 1241.59, 1235.23, 1242.87, 1243.91, 1247.08, 1254.6, 1258.84, 1256.77, 1257.54, 1258.51, 1259.78, 1257.88, 1257.64, 1271.89, 1270.2, 1276.56, 1273.85, 1271.5, 1269.75, 1274.48, 1285.96, 1283.76, 1293.24, 1295.02, 1281.92, 1280.26, 1283.35, 1290.84, 1291.18, 1296.63, 1299.54, 1276.34, 1286.12, 1307.59, 1304.03, 1307.1, 1310.87, 1319.05, 1324.57, 1320.88, 1321.87, 1329.15, 1332.32, 1328.01, 1336.32, 1340.43, 1343.01, 1315.44, 1307.4, 1306.1, 1319.88, 1327.22, 1306.33, 1308.44, 1330.97, 1321.15, 1310.13, 1321.82, 1320.02, 1295.11, 1304.28, 1296.39, 1281.87, 1256.88, 1273.72, 1279.2, 1298.38, 1293.77, 1297.54, 1309.66, 1313.8, 1310.19, 1319.44, 1328.26, 1325.83, 1332.41, 1332.87, 1332.63, 1335.54, 1333.51, 1328.17, 1324.46, 1314.16, 1314.41, 1314.52, 1319.68, 1305.14, 1312.62, 1330.36, 1337.38, 1335.25, 1347.24, 1355.66, 1360.48, 1363.61, 1361.22, 1356.62, 1347.32, 1335.1, 1340.2, 1346.29, 1357.16, 1342.08, 1348.65, 1337.77, 1329.47, 1328.98, 1340.68, 1343.6, 1333.27, 1317.37, 1316.28, 1320.47, 1325.69, 1331.1, 1345.2, 1314.55, 1312.94, 1300.16, 1286.17, 1284.94, 1279.56, 1289.0, 1270.98, 1271.83, 1287.87, 1265.42, 1267.64, 1271.5, 1278.36, 1295.52, 1287.14, 1283.5, 1268.45, 1280.1, 1296.67, 1307.41, 1320.64, 1339.67, 1337.88, 1339.22, 1353.22, 1343.8, 1319.49, 1313.64, 1317.72, 1308.87, 1316.14, 1305.44, 1326.73, 1325.84, 1343.8, 1345.02, 1337.43, 1331.94, 1304.89, 1300.67, 1292.28, 1286.94, 1254.05, 1260.34, 1200.07, 1199.38, 1119.46, 1172.53, 1120.76, 1172.64, 1178.81, 1204.49, 1192.76, 1193.88, 1140.65, 1123.53, 1123.82, 1162.35, 1177.6, 1159.27, 1176.8, 1210.08, 1212.92, 1218.89, 1204.42, 1173.97, 1165.24, 1198.62, 1185.9, 1154.23, 1162.27, 1172.87, 1188.68, 1209.11, 1216.01, 1204.09, 1202.09, 1166.76, 1129.56, 1136.43, 1162.95, 1175.38, 1151.06, 1160.4, 1131.42, 1099.23, 1123.95, 1144.04, 1164.97, 1155.46, 1194.89, 1195.54, 1207.25, 1203.66, 1224.58, 1200.86, 1225.38, 1209.88, 1215.39, 1238.25, 1254.19, 1229.05, 1242.0, 1284.59, 1285.08, 1253.3, 1218.28, 1237.9, 1261.15, 1253.23, 1261.12, 1275.92, 1229.1, 1239.7, 1263.85, 1251.78, 1257.81, 1236.91, 1216.13, 1215.65, 1192.98, 1188.04, 1161.79, 1158.67, 1192.55, 1195.19, 1246.96, 1244.58, 1244.28, 1257.08, 1258.47, 1261.01, 1234.35, 1255.19, 1236.47, 1225.73, 1211.82, 1215.75, 1219.66, 1205.35, 1241.3, 1243.72, 1254.0, 1265.33, 1265.43, 1249.64, 1263.02, 1257.6, 1277.06, 1277.3, 1281.06, 1277.81, 1280.7, 1292.08, 1292.48, 1295.5, 1289.09, 1293.67, 1308.04, 1314.5, 1315.38, 1316.0, 1314.63, 1326.06, 1318.45, 1316.32, 1313.02, 1312.4, 1324.08, 1325.54, 1344.9, 1344.33, 1347.05, 1349.96, 1351.95, 1342.64, 1351.77, 1350.5, 1343.23, 1358.04, 1361.23, 1362.21, 1357.66, 1363.46, 1365.74, 1367.59, 1372.18, 1365.68, 1374.09, 1369.63, 1364.33, 1343.36, 1352.63, 1365.91, 1370.87, 1371.09, 1395.96, 1394.28, 1402.6, 1404.17, 1409.75, 1405.52, 1402.89, 1392.78, 1397.11, 1416.51, 1412.52, 1405.54, 1403.28, 1408.47, 1418.9, 1413.31, 1398.96, 1398.08, 1382.2, 1358.59, 1368.71, 1387.57, 1370.26, 1369.57, 1390.78, 1385.14, 1376.92, 1378.53, 1366.94, 1371.97, 1390.69, 1399.98, 1403.36, 1397.91, 1405.82, 1402.31, 1391.57, 1369.1, 1369.58, 1363.72, 1354.58, 1357.99, 1353.39, 1338.35, 1330.66, 1324.8, 1304.86, 1295.22, 1315.99, 1316.63, 1318.86, 1320.68, 1317.82, 1332.42, 1313.32, 1310.33, 1278.04, 1278.18, 1285.5, 1315.13, 1314.99, 1325.66, 1308.93, 1324.18, 1314.88, 1329.1, 1342.84, 1344.78, 1357.98, 1355.69, 1325.51, 1335.02, 1313.72, 1319.99, 1331.85, 1329.04, 1362.16, 1365.51, 1374.02, 1374.02, 1367.58, 1354.68, 1352.46, 1341.47, 1341.45, 1334.76, 1356.78, 1353.64, 1363.67, 1372.78, 1376.51, 1362.66, 1350.52, 1338.31, 1337.89, 1360.02, 1385.97, 1385.3, 1379.32, 1375.32, 1365.0, 1390.99, 1394.23, 1401.35, 1402.22, 1402.8, 1405.87, 1404.11, 1403.93, 1405.53, 1415.51, 1418.16, 1418.13, 1413.17, 1413.49, 1402.08, 1411.13, 1410.44, 1409.3, 1410.49, 1399.48, 1406.58, 1406.58, 1404.94, 1403.44, 1432.12, 1437.92, 1429.08, 1433.56, 1436.56, 1459.99, 1465.77, 1461.19, 1459.32, 1461.05, 1460.26, 1460.15, 1456.89, 1441.59, 1433.32, 1447.15, 1440.67, 1444.49, 1445.75, 1450.99, 1461.4, 1460.93, 1455.88, 1441.48, 1432.56, 1432.84, 1428.59, 1440.13, 1454.92, 1460.91, 1457.34, 1433.19, 1433.82, 1413.11, 1408.75, 1412.97, 1411.94, 1411.94, 1411.94, 1412.16, 1427.59, 1414.2, 1417.26, 1428.39, 1394.53, 1377.51, 1379.85, 1380.03, 1374.53, 1355.49, 1353.33, 1359.88, 1386.89, 1384.53, 1391.03, 1391.03, 1409.15, 1406.29, 1398.94, 1409.93, 1415.95, 1416.18, 1409.46, 1407.05, 1409.28, 1413.94, 1418.07, 1418.55, 1427.84, 1428.48, 1419.45, 1413.58, 1430.36, 1446.79, 1435.81, 1443.69, 1430.15, 1426.66, 1426.66, 1419.83, 1418.09, 1402.43, 1426.19, 1426.19, 1462.42, 1459.37, 1466.47, 1461.89, 1457.15, 1461.02, 1472.12, 1472.05, 1470.68, 1472.34, 1472.63, 1480.94, 1485.98, 1485.98, 1492.56, 1494.81, 1494.82, 1502.96, 1500.18, 1507.84, 1501.96, 1498.11, 1513.17, 1495.71, 1511.29, 1512.12, 1509.39, 1517.93, 1517.01, 1519.43, 1520.33, 1521.38, 1519.79, 1530.94, 1511.95, 1502.42, 1515.6, 1487.85, 1496.94, 1515.99, 1514.68, 1518.2, 1525.2, 1539.79, 1541.46, 1544.26, 1551.18, 1556.22, 1552.48, 1554.52, 1563.23, 1560.7, 1552.1, 1548.34, 1558.71, 1545.8, 1556.89, 1551.69, 1563.77, 1562.85, 1569.19, 1562.17, 1570.25, 1553.69, 1559.98, 1553.28, 1563.07, 1568.61, 1587.73, 1593.37, 1588.85, 1552.36, 1574.57, 1552.01, 1541.61, 1555.25, 1562.5, 1578.78, 1578.79, 1585.16, 1582.24, 1593.61, 1597.57, 1582.7, 1597.59, 1614.42, 1617.5, 1625.96, 1632.69, 1626.67, 1633.7, 1633.77, 1650.34, 1658.78, 1650.47, 1666.12, 1666.29, 1669.16, 1655.35, 1650.51, 1649.6, 1660.06, 1648.36, 1654.41, 1630.74, 1640.42, 1631.38, 1608.9, 1622.56, 1643.38, 1642.81, 1626.13, 1612.52, 1636.36, 1626.73, 1639.04, 1651.81, 1628.93, 1588.19, 1592.43, 1573.09, 1588.03, 1603.26, 1613.2, 1606.28, 1614.96, 1614.08, 1615.41, 1631.89, 1640.46, 1652.32, 1652.62, 1675.02, 1680.19, 1682.5, 1676.26, 1680.91, 1689.37, 1692.09, 1695.53, 1692.39, 1685.94, 1690.25, 1691.65, 1685.33, 1685.96, 1685.73, 1706.87, 1709.67, 1707.14, 1697.37, 1690.91, 1697.48, 1691.42, 1689.47, 1694.16, 1685.39, 1661.32, 1655.83, 1646.06, 1652.35, 1642.8, 1656.96, 1663.5, 1656.78, 1630.48, 1634.96, 1638.17, 1632.97, 1639.77, 1653.08, 1655.08, 1655.17, 1671.71, 1683.99, 1689.13, 1683.42, 1687.99, 1697.6, 1704.76, 1725.52, 1722.34, 1709.91, 1701.84, 1697.42, 1692.77, 1698.67, 1691.75, 1681.55, 1695.0, 1693.87, 1678.66, 1690.5, 1676.12, 1655.45, 1656.4, 1692.56, 1703.2, 1710.14, 1698.06, 1721.54, 1733.15, 1744.5, 1744.66, 1754.67, 1746.38, 1752.07, 1759.77, 1762.11, 1771.95, 1763.31, 1756.54, 1761.64, 1767.93, 1762.97, 1770.49, 1747.15, 1770.61, 1771.89, 1767.69, 1782.0, 1790.62, 1798.18, 1791.53, 1787.87, 1781.37, 1795.85, 1804.76, 1802.48, 1802.75, 1807.23, 1805.81, 1800.9, 1795.15, 1792.81, 1785.03, 1805.09, 1808.37, 1802.62, 1782.22, 1775.5, 1775.32, 1786.54, 1781.0, 1810.65, 1809.6, 1818.31, 1827.99, 1833.32, 1842.02, 1841.4, 1841.07, 1848.36, 1831.98, 1831.37, 1826.77, 1837.88, 1837.49, 1838.13, 1842.37, 1819.2, 1838.88, 1848.38, 1845.89, 1838.7, 1843.8, 1844.86, 1828.46, 1790.29, 1781.56, 1792.5, 1774.2, 1794.19, 1782.59, 1741.89, 1755.2, 1751.64, 1773.43, 1797.02, 1799.84, 1819.75, 1819.26, 1829.83, 1838.63, 1840.76, 1839.78, 1836.25, 1847.61, 1845.12, 1845.16, 1854.29, 1859.45, 1845.73, 1873.91, 1873.81, 1877.03, 1878.04, 1877.17, 1867.63, 1868.2, 1846.34, 1841.13, 1858.83, 1872.25, 1860.77, 1872.01, 1866.4, 1857.44, 1865.62, 1852.56, 1849.04, 1857.62, 1872.34, 1885.52, 1890.9, 1888.77, 1865.09, 1845.04, 1851.96, 1872.18, 1833.08, 1815.69, 1830.61, 1842.98, 1862.31, 1864.85, 1871.89, 1879.55, 1875.39, 1878.61, 1863.4, 1869.43, 1878.33, 1883.95, 1883.68, 1881.14, 1884.66, 1867.72, 1878.21, 1875.63, 1878.48, 1896.65, 1897.45, 1888.53, 1870.85, 1877.86, 1885.08, 1872.83, 1888.03, 1892.49, 1900.53, 1911.91, 1909.78, 1920.03, 1923.57, 1924.97, 1924.24, 1927.88, 1940.46, 1949.44, 1951.27, 1950.79, 1943.89, 1930.11, 1936.16, 1937.78, 1941.99, 1956.98, 1959.48, 1962.87, 1962.61, 1949.98, 1959.53, 1957.22, 1960.96, 1960.23, 1973.32, 1974.62, 1985.44, 1977.65, 1963.71, 1972.83, 1964.68, 1967.57, 1977.1, 1973.28, 1981.57, 1958.12, 1978.22, 1973.63, 1983.53, 1987.01, 1987.98, 1978.34, 1978.91, 1969.95, 1970.07, 1930.67, 1925.15, 1938.99, 1920.21, 1920.24, 1909.57, 1931.59, 1936.92, 1933.75, 1946.72, 1955.18, 1955.06, 1971.74, 1981.6, 1986.51, 1992.37, 1988.4, 1997.92, 2000.02, 2000.12, 1996.74, 2003.37, 2002.28, 2000.72, 1997.65, 2007.71, 2001.54, 1988.44, 1995.69, 1997.45, 1985.54, 1984.13, 1998.98, 2001.57, 2011.36, 2010.4, 1994.29, 1982.77, 1998.3, 1965.99, 1982.85, 1977.8, 1972.29, 1946.16, 1946.17, 1967.9, 1964.82, 1935.1, 1968.89, 1928.21, 1906.13, 1874.74, 1877.7, 1862.49, 1862.76, 1886.76, 1904.01, 1941.28, 1927.11, 1950.82, 1964.58, 1961.63, 1985.05, 1982.3, 1994.65, 2018.05, 2017.81, 2012.1, 2023.57, 2031.21, 2031.92, 2038.26, 2039.68, 2038.25, 2039.33, 2039.82, 2041.32, 2051.8, 2048.72, 2052.75, 2063.5, 2069.41, 2067.03, 2072.83, 2067.56, 2053.44, 2066.55, 2074.33, 2071.92, 2075.37, 2060.31, 2059.82, 2026.14, 2035.33, 2002.33, 1989.63, 1972.74, 2012.89, 2061.23, 2070.65, 2078.54, 2082.17, 2081.88, 2088.77, 2090.57, 2080.35, 2058.9, 2058.2, 2020.58, 2002.61, 2025.9, 2062.14, 2044.81, 2028.26, 2023.03, 2011.27, 1992.67, 2019.42, 2022.55, 2032.12, 2063.15, 2051.82, 2057.09, 2029.55, 2002.16, 2021.25, 1994.99, 2020.85, 2050.03, 2041.51, 2062.52, 2055.47, 2046.74, 2068.59, 2068.53, 2088.48, 2096.99, 2100.34, 2099.68, 2097.45, 2110.3, 2109.66, 2115.48, 2113.86, 2110.74, 2104.5, 2117.39, 2107.78, 2098.53, 2101.04, 2071.26, 2079.43, 2044.16, 2040.24, 2065.95, 2053.4, 2081.19, 2074.28, 2099.5, 2089.27, 2108.1, 2104.42, 2091.5, 2061.05, 2056.15, 2061.02, 2086.24, 2067.89, 2059.69, 2066.96, 2080.62, 2076.33, 2081.9, 2091.18, 2102.06, 2092.43, 2095.84, 2106.63, 2104.99, 2081.18, 2100.4, 2097.29, 2107.96, 2112.93, 2117.69, 2108.92, 2114.76, 2106.85, 2085.51, 2108.29, 2114.49, 2089.46, 2080.15, 2088.0, 2116.1, 2105.33, 2099.12, 2098.48, 2121.1, 2122.73, 2129.2, 2127.83, 2125.85, 2130.82, 2126.06, 2104.2, 2123.48, 2120.79, 2107.39, 2111.73, 2109.6, 2114.07, 2095.84, 2092.83, 2079.28, 2080.15, 2105.2, 2108.86, 2094.11, 2084.43, 2096.29, 2100.44, 2121.24, 2109.99, 2122.85, 2124.2, 2108.58, 2102.31, 2101.49, 2057.64, 2063.11, 2077.42, 2076.78, 2068.76, 2081.34, 2046.68, 2051.31, 2076.62, 2099.6, 2108.95, 2107.4, 2124.29, 2126.64, 2128.28, 2119.21, 2114.15, 2102.15, 2079.65, 2067.64, 2093.25, 2108.57, 2108.63, 2103.84, 2098.04, 2093.32, 2099.84, 2083.56, 2077.57, 2104.18, 2084.07, 2086.05, 2083.39, 2091.54, 2102.44, 2096.92, 2079.61, 2035.73, 1970.89, 1893.21, 1867.61, 1940.51, 1987.66, 1988.87, 1972.18, 1913.85, 1948.86, 1951.13, 1921.22, 1969.41, 1942.04, 1952.29, 1961.05, 1953.03, 1978.09, 1995.31, 1990.2, 1958.03, 1966.97, 1942.74, 1938.76, 1932.24, 1931.34, 1881.77, 1884.09, 1920.03, 1923.82, 1951.36, 1987.05, 1979.92, 1995.83, 2013.43, 2014.89, 2017.46, 2003.69, 1994.24, 2023.86, 2033.11, 2033.66, 2030.77, 2018.94, 2052.51, 2075.15, 2071.18, 2065.89, 2090.35, 2089.41, 2079.36, 2104.05, 2109.79, 2102.31, 2099.93, 2099.2, 2078.58, 2081.72, 2075.0, 2045.97, 2023.04, 2053.19, 2050.44, 2083.58, 2081.24, 2089.17, 2086.59, 2089.14, 2088.87, 2090.11, 2080.41, 2102.63, 2079.51, 2049.62, 2091.69, 2077.07, 2063.59, 2047.62, 2052.23, 2012.37, 2021.94, 2043.41, 2073.07, 2041.89, 2005.55, 2021.15, 2038.97, 2064.29, 2060.99, 2056.5, 2078.36, 2063.36, 2043.94, 2012.66, 2016.71, 1990.26, 1943.09, 1922.03, 1923.67, 1938.68, 1890.28, 1921.84, 1880.33, 1881.33, 1859.33, 1868.99, 1906.9, 1877.08, 1903.63, 1882.95, 1893.36, 1940.24, 1939.38, 1903.03, 1912.53, 1915.45, 1880.05, 1853.44, 1852.21, 1851.86, 1829.08, 1864.78, 1895.58, 1926.82, 1917.83, 1917.78, 1945.5, 1921.27, 1929.8, 1951.7, 1948.05, 1932.23, 1978.35, 1986.45, 1993.4, 1999.99, 2001.76, 1979.26, 1989.26, 1989.57, 2022.19, 2019.64, 2015.93, 2027.22, 2040.59, 2049.58, 2051.6, 2049.8, 2036.71, 2035.94, 2037.05, 2055.01, 2063.95, 2059.74, 2072.78, 2066.13, 2045.17, 2066.66, 2041.91, 2047.6, 2041.99, 2061.72, 2082.42, 2082.78, 2080.73, 2094.34, 2100.8, 2102.4, 2091.48, 2091.58, 2087.79, 2091.7, 2095.15, 2075.81, 2065.3, 2081.43, 2063.37, 2051.12, 2050.63, 2057.14, 2058.69, 2084.39, 2064.46, 2064.11, 2046.61, 2066.66, 2047.21, 2047.63, 2040.04, 2052.32, 2048.04, 2076.06, 2090.54, 2090.1, 2099.06, 2096.96, 2099.33, 2105.26, 2099.13, 2109.41, 2112.13, 2119.12, 2115.48, 2096.07, 2079.06, 2075.32, 2071.5, 2077.99, 2071.22, 2083.25, 2088.9, 2085.45, 2113.32, 2037.41, 2000.54, 2036.09, 2070.77, 2098.86, 2102.95, 2088.55, 2099.73, 2097.9, 2129.9, 2137.16, 2152.14, 2152.43, 2163.75, 2161.74, 2166.89, 2163.78, 2173.02, 2165.17, 2175.03, 2168.48, 2169.18, 2166.58, 2170.06, 2173.6, 2170.84, 2157.03, 2163.79, 2164.25, 2182.87, 2180.89, 2181.74, 2175.49, 2185.79, 2184.05, 2190.15, 2178.15, 2182.22, 2187.02, 2183.87, 2182.64, 2186.9, 2175.44, 2172.47, 2169.04, 2180.38, 2176.12, 2170.95, 2170.86, 2179.98, 2186.48, 2186.16, 2181.3, 2127.81, 2159.04, 2127.02, 2125.77, 2147.26, 2139.16, 2139.12, 2139.76, 2163.12, 2177.18, 2164.69, 2146.1, 2159.93, 2171.37, 2151.13, 2168.27, 2161.2, 2150.49, 2159.73, 2160.77, 2153.74, 2163.66, 2136.73, 2139.18, 2132.55, 2132.98, 2126.5, 2139.6, 2144.29, 2141.34, 2141.16, 2151.33, 2143.16, 2139.43, 2133.04, 2126.41, 2126.15, 2111.72, 2097.94, 2088.66, 2085.18, 2131.52, 2139.56, 2163.26, 2167.48, 2164.45, 2164.2, 2180.39, 2176.94, 2187.12, 2181.9, 2198.18, 2202.94, 2204.72, 2213.35, 2201.72, 2204.66, 2198.81, 2191.08, 2191.95, 2204.71, 2212.23, 2241.35, 2246.19, 2259.53, 2256.96, 2271.72, 2253.28, 2262.03, 2258.07, 2262.53, 2270.76, 2265.18, 2260.96, 2263.79, 2268.88, 2249.92, 2249.26, 2238.83, 2257.83, 2270.75, 2269.0, 2276.98, 2268.9, 2268.9, 2275.32, 2270.44, 2274.64, 2267.89, 2271.89, 2263.69, 2271.31, 2265.2, 2280.07, 2298.37, 2296.68, 2294.69, 2280.9, 2278.87, 2279.55, 2280.85, 2297.42, 2292.56, 2293.08, 2294.67, 2307.87, 2316.1, 2328.25, 2337.58, 2349.25, 2347.22, 2351.16, 2365.38, 2362.82, 2363.81, 2367.34, 2369.75, 2363.64, 2395.96, 2381.92, 2383.12, 2375.31, 2368.39, 2362.98, 2364.87, 2372.6, 2373.47, 2365.45, 2385.26, 2381.38, 2378.25, 2373.47, 2344.02, 2348.45, 2345.96, 2343.98, 2341.59, 2358.57, 2361.13, 2368.06, 2362.72, 2358.84, 2360.16, 2352.95, 2357.49, 2355.54, 2357.16, 2353.78, 2344.93, 2328.95, 2349.01, 2342.19, 2338.17, 2355.84, 2348.69, 2374.15, 2388.61, 2387.45, 2388.77, 2384.2, 2388.33, 2391.17, 2388.13, 2389.52, 2399.29, 2399.38, 2396.92, 2399.63, 2394.44, 2390.9, 2402.32, 2400.67, 2357.03, 2365.72, 2381.73, 2394.02, 2398.42, 2404.39, 2415.07, 2415.82, 2412.91, 2411.8, 2430.06, 2439.07, 2436.1, 2429.33, 2433.14, 2433.79, 2431.77, 2429.39, 2440.35, 2437.92, 2432.46, 2433.15, 2453.46, 2437.03, 2435.61, 2434.5, 2438.3, 2439.07, 2419.38, 2440.69, 2419.7, 2423.41, 2429.01, 2432.54, 2409.75, 2425.18, 2427.43, 2425.53, 2443.25, 2447.83, 2459.27, 2459.14, 2460.61, 2473.83, 2473.45, 2472.54, 2469.91, 2477.13, 2477.83, 2475.42, 2472.1, 2470.3, 2476.35, 2477.57, 2472.16, 2476.83, 2480.91, 2474.92, 2474.02, 2438.21, 2441.32, 2465.84, 2464.61, 2468.11, 2430.01, 2425.55, 2428.37, 2452.51, 2444.04, 2438.97, 2443.05, 2444.24, 2446.3, 2457.59, 2471.65, 2476.55, 2457.85, 2465.54, 2465.1, 2461.43, 2488.11, 2496.48, 2498.37, 2495.62, 2500.23, 2503.87, 2506.65, 2508.24, 2500.6, 2502.22, 2496.66, 2496.84, 2507.04, 2510.06, 2519.36, 2529.12, 2534.58, 2537.74, 2552.07, 2549.33, 2544.73, 2550.64, 2555.24, 2550.93, 2553.17, 2557.64, 2559.36, 2561.26, 2562.1, 2575.21, 2564.98, 2569.13, 2557.15, 2560.4, 2581.07, 2572.83, 2575.26, 2579.36, 2579.85, 2587.84, 2591.13, 2590.64, 2594.38, 2584.62, 2582.3, 2584.84, 2578.87, 2564.62, 2585.64, 2578.85, 2582.14, 2599.03, 2597.08, 2602.42, 2601.42, 2627.04, 2626.07, 2647.58, 2642.22, 2639.44, 2629.57, 2629.27, 2636.98, 2651.5, 2659.99, 2664.11, 2662.85, 2652.01, 2675.81, 2690.16, 2681.47, 2679.25, 2684.57, 2683.34, 2680.5, 2682.62, 2687.54, 2673.61, 2695.81, 2713.06, 2723.99, 2743.15, 2747.71, 2751.29, 2748.23, 2767.56, 2786.24, 2776.42, 2802.56, 2798.03, 2810.3, 2832.97, 2839.13, 2837.54, 2839.25, 2872.87, 2853.53, 2822.43, 2823.81, 2821.98, 2762.13, 2648.94, 2695.14, 2681.66, 2581.0, 2619.55, 2656.0, 2662.94, 2698.63, 2731.2, 2732.22, 2716.26, 2701.33, 2703.96, 2747.3, 2779.6, 2744.28, 2713.83, 2677.67, 2691.25, 2720.94, 2728.12, 2726.8, 2738.97, 2786.57, 2783.02, 2765.31, 2749.48, 2747.33, 2752.01, 2712.92, 2716.94, 2711.93, 2643.69, 2588.26, 2658.55, 2612.62, 2605.0, 2640.87, 2581.88, 2614.45, 2644.69, 2662.84, 2604.47, 2613.16, 2656.87, 2642.19, 2663.99, 2656.3, 2677.84, 2706.39, 2708.64, 2693.13, 2670.14, 2670.29, 2634.56, 2639.4, 2666.94, 2669.91, 2648.05, 2654.8, 2635.67, 2629.73, 2663.42, 2672.63, 2671.92, 2697.79, 2723.07, 2727.72, 2730.13, 2711.45, 2722.46, 2720.13, 2712.97, 2733.01, 2724.44, 2733.29, 2727.76, 2721.33, 2689.86, 2724.01, 2705.27, 2734.62, 2746.87, 2748.8, 2772.35, 2770.37, 2779.03, 2782.0, 2786.85, 2775.63, 2782.49, 2779.66, 2773.75, 2762.59, 2767.32, 2749.76, 2754.88, 2717.07, 2723.06, 2699.63, 2716.31, 2718.37, 2726.71, 2713.22, 2736.61, 2759.82, 2784.17, 2793.84, 2774.02, 2798.29, 2801.31, 2798.43, 2809.55, 2815.62, 2804.49, 2801.83, 2806.98, 2820.4, 2846.07, 2837.44, 2818.82, 2802.6, 2816.29, 2813.36, 2827.22, 2840.35, 2850.4, 2858.45, 2857.7, 2853.58, 2833.28, 2821.93, 2839.96, 2818.37, 2840.69, 2850.13, 2857.05, 2862.96, 2861.82, 2856.98, 2874.69, 2896.74, 2897.52, 2914.04, 2901.13, 2901.52, 2896.72, 2888.6, 2878.05, 2871.68, 2877.13, 2887.89, 2888.92, 2904.18, 2904.98, 2888.8, 2904.31, 2907.95, 2930.75, 2929.67, 2919.37, 2915.56, 2905.97, 2914.0, 2913.98, 2924.59, 2923.43, 2925.51, 2901.61, 2885.57, 2884.43, 2880.34, 2785.68, 2728.37, 2767.13, 2750.79, 2809.92, 2809.21, 2768.78, 2767.78, 2755.88, 2740.69, 2656.1, 2705.57, 2658.69, 2641.25, 2682.63, 2711.74, 2740.37, 2723.06, 2738.31, 2755.45, 2813.89, 2806.83, 2781.01, 2726.22, 2722.18, 2701.58, 2730.2, 2736.27, 2690.73, 2641.89, 2649.93, 2632.56, 2673.45, 2682.17, 2743.79, 2737.76, 2760.17, 2790.37, 2700.06, 2695.95, 2633.08, 2637.72, 2636.78, 2651.07, 2650.54, 2599.95, 2545.94, 2546.16, 2506.96, 2467.42, 2416.62, 2351.1, 2467.7, 2488.83, 2485.74, 2506.85, 2510.03, 2447.89, 2531.94, 2549.69, 2574.41, 2584.96, 2596.64, 2596.26, 2582.61, 2610.3, 2616.1, 2635.96, 2670.71, 2632.9, 2638.7, 2642.33, 2664.76, 2643.85, 2640.0, 2681.05, 2704.1, 2706.53, 2724.87, 2737.7, 2731.61, 2706.05, 2707.88, 2709.8, 2744.73, 2753.03, 2745.73, 2775.6, 2779.76, 2784.7, 2774.88, 2792.67, 2796.11, 2793.9, 2792.38, 2784.49, 2803.69, 2792.81, 2789.65, 2771.45, 2748.93, 2743.07, 2783.3, 2791.52, 2810.92, 2808.48, 2822.48, 2832.94, 2832.57, 2824.23, 2854.88, 2800.71, 2798.36, 2818.46, 2805.37, 2815.44, 2834.4, 2867.19, 2867.24, 2873.4, 2879.39, 2892.74, 2895.77, 2878.2, 2888.21, 2888.32, 2907.41, 2905.58, 2907.06, 2900.45, 2905.03, 2907.97, 2933.68, 2927.25, 2926.17, 2939.88, 2943.03, 2945.83, 2923.73, 2917.52, 2945.64, 2932.47, 2884.05, 2879.42, 2870.72, 2881.4, 2811.87, 2834.41, 2850.96, 2876.32, 2859.53, 2840.23, 2864.36, 2856.27, 2822.24, 2826.06, 2802.39, 2783.02, 2788.86, 2752.06, 2744.45, 2803.27, 2826.15, 2843.49, 2873.34, 2886.73, 2885.72, 2879.84, 2891.64, 2886.98, 2889.67, 2917.75, 2926.46, 2954.18, 2950.46, 2945.35, 2917.38, 2913.78, 2924.92, 2941.76, 2964.33, 2973.01, 2995.82, 2990.41, 2975.95, 2979.63, 2993.07, 2999.91, 3013.77, 3014.3, 3004.04, 2984.42, 2995.11, 2976.61, 2985.03, 3005.47, 3019.56, 3003.67, 3025.86, 3020.97, 3013.18, 2980.38, 2953.56, 2932.05, 2844.74, 2881.77, 2883.98, 2938.09, 2918.65, 2883.09, 2926.32, 2840.6, 2847.6, 2888.68, 2923.65, 2900.51, 2924.43, 2922.95, 2847.11, 2878.38, 2869.16, 2887.94, 2924.58, 2926.46, 2906.27, 2937.78, 2976.0, 2978.71, 2978.43, 2979.39, 3000.93, 3009.57, 3007.39, 2997.96, 3005.7, 3006.73, 3006.79, 2992.07, 2991.78, 2966.6, 2984.87, 2977.62, 2961.79, 2976.74, 2940.25, 2887.61, 2910.63, 2952.01, 2938.79, 2893.06, 2919.4, 2938.13, 2970.27, 2966.15, 2995.68, 2989.69, 2997.95, 2986.2, 3006.72, 2995.99, 3004.52, 3010.29, 3022.55, 3039.42, 3036.89, 3046.77, 3037.56, 3066.91, 3078.27, 3074.62, 3076.78, 3085.18, 3093.08, 3087.01, 3091.84, 3094.04, 3096.63, 3120.46, 3122.03, 3120.18, 3108.46, 3103.54, 3110.29, 3133.64, 3140.52, 3153.63, 3140.98, 3113.87, 3093.2, 3112.76, 3117.43, 3145.91, 3135.96, 3132.52, 3141.63, 3168.57, 3168.8, 3191.45, 3192.52, 3191.14, 3205.37, 3221.22, 3224.01, 3223.38, 3239.91, 3240.02, 3221.29, 3230.78, 3257.85, 3234.85, 3246.28, 3237.18, 3253.05, 3274.7, 3265.35, 3288.13, 3283.15, 3289.29, 3316.81, 3329.62, 3320.79, 3321.75, 3325.54, 3295.47, 3243.63, 3276.24, 3273.4, 3283.66, 3225.52, 3248.92, 3297.59, 3334.69, 3345.78, 3327.71, 3352.09, 3357.75, 3379.45, 3373.94, 3380.16, 3370.29, 3386.15, 3373.23, 3337.75, 3225.89, 3128.21, 3116.39, 2978.76, 2954.22, 3090.23, 3003.37, 3130.12, 3023.94, 2972.37, 2746.56, 2882.23, 2741.38, 2480.64, 2711.02, 2386.13, 2529.19, 2398.1, 2409.39, 2304.92, 2237.4, 2447.33, 2475.56, 2630.07, 2541.47, 2626.65, 2584.59, 2470.5, 2526.9, 2488.65, 2663.68, 2659.41, 2749.98, 2789.82, 2761.63, 2846.06, 2783.36, 2799.55, 2874.56, 2823.16, 2736.56, 2799.31, 2797.8, 2836.74, 2878.48, 2863.39, 2939.51, 2912.43, 2830.71, 2842.74, 2868.44, 2848.42, 2881.19, 2929.8, 2930.32, 2870.12, 2820.0, 2852.5, 2863.7, 2953.91, 2922.94, 2971.61, 2948.51, 2955.45, 2991.77, 3036.13, 3029.73, 3044.31, 3055.73, 3080.82, 3122.87, 3112.35, 3193.93, 3232.39, 3207.18, 3190.14, 3002.1, 3041.31, 3066.59, 3124.74, 3113.49, 3115.34, 3097.74, 3117.86, 3131.29, 3050.33, 3083.76, 3009.05, 3053.24], \"yaxis\": \"y\"}],\n",
              "                        {\"legend\": {\"tracegroupgap\": 0}, \"template\": {\"data\": {\"bar\": [{\"error_x\": {\"color\": \"#2a3f5f\"}, \"error_y\": {\"color\": \"#2a3f5f\"}, \"marker\": {\"line\": {\"color\": \"#E5ECF6\", \"width\": 0.5}}, \"type\": \"bar\"}], \"barpolar\": [{\"marker\": {\"line\": {\"color\": \"#E5ECF6\", \"width\": 0.5}}, \"type\": \"barpolar\"}], \"carpet\": [{\"aaxis\": {\"endlinecolor\": \"#2a3f5f\", \"gridcolor\": \"white\", \"linecolor\": \"white\", \"minorgridcolor\": \"white\", \"startlinecolor\": \"#2a3f5f\"}, \"baxis\": {\"endlinecolor\": \"#2a3f5f\", \"gridcolor\": \"white\", \"linecolor\": \"white\", \"minorgridcolor\": \"white\", \"startlinecolor\": \"#2a3f5f\"}, \"type\": \"carpet\"}], \"choropleth\": [{\"colorbar\": {\"outlinewidth\": 0, \"ticks\": \"\"}, \"type\": \"choropleth\"}], \"contour\": [{\"colorbar\": {\"outlinewidth\": 0, \"ticks\": \"\"}, \"colorscale\": [[0.0, \"#0d0887\"], [0.1111111111111111, \"#46039f\"], [0.2222222222222222, \"#7201a8\"], [0.3333333333333333, \"#9c179e\"], [0.4444444444444444, \"#bd3786\"], [0.5555555555555556, \"#d8576b\"], [0.6666666666666666, \"#ed7953\"], [0.7777777777777778, \"#fb9f3a\"], [0.8888888888888888, \"#fdca26\"], [1.0, \"#f0f921\"]], \"type\": \"contour\"}], \"contourcarpet\": [{\"colorbar\": {\"outlinewidth\": 0, \"ticks\": \"\"}, \"type\": \"contourcarpet\"}], \"heatmap\": [{\"colorbar\": {\"outlinewidth\": 0, \"ticks\": \"\"}, \"colorscale\": [[0.0, \"#0d0887\"], [0.1111111111111111, \"#46039f\"], [0.2222222222222222, \"#7201a8\"], [0.3333333333333333, \"#9c179e\"], [0.4444444444444444, \"#bd3786\"], [0.5555555555555556, \"#d8576b\"], [0.6666666666666666, \"#ed7953\"], [0.7777777777777778, \"#fb9f3a\"], [0.8888888888888888, \"#fdca26\"], [1.0, \"#f0f921\"]], \"type\": \"heatmap\"}], \"heatmapgl\": [{\"colorbar\": {\"outlinewidth\": 0, \"ticks\": \"\"}, \"colorscale\": [[0.0, \"#0d0887\"], [0.1111111111111111, \"#46039f\"], [0.2222222222222222, \"#7201a8\"], [0.3333333333333333, \"#9c179e\"], [0.4444444444444444, \"#bd3786\"], [0.5555555555555556, \"#d8576b\"], [0.6666666666666666, \"#ed7953\"], [0.7777777777777778, \"#fb9f3a\"], [0.8888888888888888, \"#fdca26\"], [1.0, \"#f0f921\"]], \"type\": \"heatmapgl\"}], \"histogram\": [{\"marker\": {\"colorbar\": {\"outlinewidth\": 0, \"ticks\": \"\"}}, \"type\": \"histogram\"}], \"histogram2d\": [{\"colorbar\": {\"outlinewidth\": 0, \"ticks\": \"\"}, \"colorscale\": [[0.0, \"#0d0887\"], [0.1111111111111111, \"#46039f\"], [0.2222222222222222, \"#7201a8\"], [0.3333333333333333, \"#9c179e\"], [0.4444444444444444, \"#bd3786\"], [0.5555555555555556, \"#d8576b\"], [0.6666666666666666, \"#ed7953\"], [0.7777777777777778, \"#fb9f3a\"], [0.8888888888888888, \"#fdca26\"], [1.0, \"#f0f921\"]], \"type\": \"histogram2d\"}], \"histogram2dcontour\": [{\"colorbar\": {\"outlinewidth\": 0, \"ticks\": \"\"}, \"colorscale\": [[0.0, \"#0d0887\"], [0.1111111111111111, \"#46039f\"], [0.2222222222222222, \"#7201a8\"], [0.3333333333333333, \"#9c179e\"], [0.4444444444444444, \"#bd3786\"], [0.5555555555555556, \"#d8576b\"], [0.6666666666666666, \"#ed7953\"], [0.7777777777777778, \"#fb9f3a\"], [0.8888888888888888, \"#fdca26\"], [1.0, \"#f0f921\"]], \"type\": \"histogram2dcontour\"}], \"mesh3d\": [{\"colorbar\": {\"outlinewidth\": 0, \"ticks\": \"\"}, \"type\": \"mesh3d\"}], \"parcoords\": [{\"line\": {\"colorbar\": {\"outlinewidth\": 0, \"ticks\": \"\"}}, \"type\": \"parcoords\"}], \"pie\": [{\"automargin\": true, \"type\": \"pie\"}], \"scatter\": [{\"marker\": {\"colorbar\": {\"outlinewidth\": 0, \"ticks\": \"\"}}, \"type\": \"scatter\"}], \"scatter3d\": [{\"line\": {\"colorbar\": {\"outlinewidth\": 0, \"ticks\": \"\"}}, \"marker\": {\"colorbar\": {\"outlinewidth\": 0, \"ticks\": \"\"}}, \"type\": \"scatter3d\"}], \"scattercarpet\": [{\"marker\": {\"colorbar\": {\"outlinewidth\": 0, \"ticks\": \"\"}}, \"type\": \"scattercarpet\"}], \"scattergeo\": [{\"marker\": {\"colorbar\": {\"outlinewidth\": 0, \"ticks\": \"\"}}, \"type\": \"scattergeo\"}], \"scattergl\": [{\"marker\": {\"colorbar\": {\"outlinewidth\": 0, \"ticks\": \"\"}}, \"type\": \"scattergl\"}], \"scattermapbox\": [{\"marker\": {\"colorbar\": {\"outlinewidth\": 0, \"ticks\": \"\"}}, \"type\": \"scattermapbox\"}], \"scatterpolar\": [{\"marker\": {\"colorbar\": {\"outlinewidth\": 0, \"ticks\": \"\"}}, \"type\": \"scatterpolar\"}], \"scatterpolargl\": [{\"marker\": {\"colorbar\": {\"outlinewidth\": 0, \"ticks\": \"\"}}, \"type\": \"scatterpolargl\"}], \"scatterternary\": [{\"marker\": {\"colorbar\": {\"outlinewidth\": 0, \"ticks\": \"\"}}, \"type\": \"scatterternary\"}], \"surface\": [{\"colorbar\": {\"outlinewidth\": 0, \"ticks\": \"\"}, \"colorscale\": [[0.0, \"#0d0887\"], [0.1111111111111111, \"#46039f\"], [0.2222222222222222, \"#7201a8\"], [0.3333333333333333, \"#9c179e\"], [0.4444444444444444, \"#bd3786\"], [0.5555555555555556, \"#d8576b\"], [0.6666666666666666, \"#ed7953\"], [0.7777777777777778, \"#fb9f3a\"], [0.8888888888888888, \"#fdca26\"], [1.0, \"#f0f921\"]], \"type\": \"surface\"}], \"table\": [{\"cells\": {\"fill\": {\"color\": \"#EBF0F8\"}, \"line\": {\"color\": \"white\"}}, \"header\": {\"fill\": {\"color\": \"#C8D4E3\"}, \"line\": {\"color\": \"white\"}}, \"type\": \"table\"}]}, \"layout\": {\"annotationdefaults\": {\"arrowcolor\": \"#2a3f5f\", \"arrowhead\": 0, \"arrowwidth\": 1}, \"coloraxis\": {\"colorbar\": {\"outlinewidth\": 0, \"ticks\": \"\"}}, \"colorscale\": {\"diverging\": [[0, \"#8e0152\"], [0.1, \"#c51b7d\"], [0.2, \"#de77ae\"], [0.3, \"#f1b6da\"], [0.4, \"#fde0ef\"], [0.5, \"#f7f7f7\"], [0.6, \"#e6f5d0\"], [0.7, \"#b8e186\"], [0.8, \"#7fbc41\"], [0.9, \"#4d9221\"], [1, \"#276419\"]], \"sequential\": [[0.0, \"#0d0887\"], [0.1111111111111111, \"#46039f\"], [0.2222222222222222, \"#7201a8\"], [0.3333333333333333, \"#9c179e\"], [0.4444444444444444, \"#bd3786\"], [0.5555555555555556, \"#d8576b\"], [0.6666666666666666, \"#ed7953\"], [0.7777777777777778, \"#fb9f3a\"], [0.8888888888888888, \"#fdca26\"], [1.0, \"#f0f921\"]], \"sequentialminus\": [[0.0, \"#0d0887\"], [0.1111111111111111, \"#46039f\"], [0.2222222222222222, \"#7201a8\"], [0.3333333333333333, \"#9c179e\"], [0.4444444444444444, \"#bd3786\"], [0.5555555555555556, \"#d8576b\"], [0.6666666666666666, \"#ed7953\"], [0.7777777777777778, \"#fb9f3a\"], [0.8888888888888888, \"#fdca26\"], [1.0, \"#f0f921\"]]}, \"colorway\": [\"#636efa\", \"#EF553B\", \"#00cc96\", \"#ab63fa\", \"#FFA15A\", \"#19d3f3\", \"#FF6692\", \"#B6E880\", \"#FF97FF\", \"#FECB52\"], \"font\": {\"color\": \"#2a3f5f\"}, \"geo\": {\"bgcolor\": \"white\", \"lakecolor\": \"white\", \"landcolor\": \"#E5ECF6\", \"showlakes\": true, \"showland\": true, \"subunitcolor\": \"white\"}, \"hoverlabel\": {\"align\": \"left\"}, \"hovermode\": \"closest\", \"mapbox\": {\"style\": \"light\"}, \"paper_bgcolor\": \"white\", \"plot_bgcolor\": \"#E5ECF6\", \"polar\": {\"angularaxis\": {\"gridcolor\": \"white\", \"linecolor\": \"white\", \"ticks\": \"\"}, \"bgcolor\": \"#E5ECF6\", \"radialaxis\": {\"gridcolor\": \"white\", \"linecolor\": \"white\", \"ticks\": \"\"}}, \"scene\": {\"xaxis\": {\"backgroundcolor\": \"#E5ECF6\", \"gridcolor\": \"white\", \"gridwidth\": 2, \"linecolor\": \"white\", \"showbackground\": true, \"ticks\": \"\", \"zerolinecolor\": \"white\"}, \"yaxis\": {\"backgroundcolor\": \"#E5ECF6\", \"gridcolor\": \"white\", \"gridwidth\": 2, \"linecolor\": \"white\", \"showbackground\": true, \"ticks\": \"\", \"zerolinecolor\": \"white\"}, \"zaxis\": {\"backgroundcolor\": \"#E5ECF6\", \"gridcolor\": \"white\", \"gridwidth\": 2, \"linecolor\": \"white\", \"showbackground\": true, \"ticks\": \"\", \"zerolinecolor\": \"white\"}}, \"shapedefaults\": {\"line\": {\"color\": \"#2a3f5f\"}}, \"ternary\": {\"aaxis\": {\"gridcolor\": \"white\", \"linecolor\": \"white\", \"ticks\": \"\"}, \"baxis\": {\"gridcolor\": \"white\", \"linecolor\": \"white\", \"ticks\": \"\"}, \"bgcolor\": \"#E5ECF6\", \"caxis\": {\"gridcolor\": \"white\", \"linecolor\": \"white\", \"ticks\": \"\"}}, \"title\": {\"x\": 0.05}, \"xaxis\": {\"automargin\": true, \"gridcolor\": \"white\", \"linecolor\": \"white\", \"ticks\": \"\", \"title\": {\"standoff\": 15}, \"zerolinecolor\": \"white\", \"zerolinewidth\": 2}, \"yaxis\": {\"automargin\": true, \"gridcolor\": \"white\", \"linecolor\": \"white\", \"ticks\": \"\", \"title\": {\"standoff\": 15}, \"zerolinecolor\": \"white\", \"zerolinewidth\": 2}}}, \"title\": {\"text\": \"LONG TERM RETURNS\"}, \"xaxis\": {\"anchor\": \"y\", \"domain\": [0.0, 1.0], \"title\": {\"text\": \"x\"}}, \"yaxis\": {\"anchor\": \"x\", \"domain\": [0.0, 1.0], \"title\": {\"text\": \"y\"}}},\n",
              "                        {\"responsive\": true}\n",
              "                    ).then(function(){\n",
              "                            \n",
              "var gd = document.getElementById('20c1d06c-ffa1-403b-90a7-51636b2a63a0');\n",
              "var x = new MutationObserver(function (mutations, observer) {{\n",
              "        var display = window.getComputedStyle(gd).display;\n",
              "        if (!display || display === 'none') {{\n",
              "            console.log([gd, 'removed!']);\n",
              "            Plotly.purge(gd);\n",
              "            observer.disconnect();\n",
              "        }}\n",
              "}});\n",
              "\n",
              "// Listen for the removal of the full notebook cells\n",
              "var notebookContainer = gd.closest('#notebook-container');\n",
              "if (notebookContainer) {{\n",
              "    x.observe(notebookContainer, {childList: true});\n",
              "}}\n",
              "\n",
              "// Listen for the clearing of the current output cell\n",
              "var outputEl = gd.closest('.output');\n",
              "if (outputEl) {{\n",
              "    x.observe(outputEl, {childList: true});\n",
              "}}\n",
              "\n",
              "                        })\n",
              "                };\n",
              "                \n",
              "            </script>\n",
              "        </div>\n",
              "</body>\n",
              "</html>"
            ]
          },
          "metadata": {
            "tags": []
          }
        }
      ]
    },
    {
      "cell_type": "code",
      "metadata": {
        "id": "2rOY_tmp-Y_g",
        "colab_type": "code",
        "colab": {
          "base_uri": "https://localhost:8080/",
          "height": 90
        },
        "outputId": "a155aaf9-c6fc-4dc6-91f4-685ea09e1d8a"
      },
      "source": [
        "print(\"I am the first print statement of the cell\")\n",
        "\n",
        "# Now we can create a grid, optional header_row and header_column\n",
        "# control whether we want header elements in the grid\n",
        "grid = widgets.Grid(2, 2, header_row=True, header_column=True)\n",
        "with grid.output_to(1, 1):\n",
        "  print(\"Bye grid\")\n",
        "\n",
        "# Note we can output to arbitrary cell, not necessarily in order\n",
        "with grid.output_to(0, 0):\n",
        "  print(\"Hello grid\")\n",
        "\n",
        "print(\"Now we are outside\")\n",
        "\n",
        "with grid.output_to(1, 0):\n",
        "  print(\"Back inside!\")\n",
        "\n",
        "# Any output can be printed to individual cells, not just print statements."
      ],
      "execution_count": 12,
      "outputs": [
        {
          "output_type": "stream",
          "text": [
            "I am the first print statement of the cell\n"
          ],
          "name": "stdout"
        },
        {
          "output_type": "display_data",
          "data": {
            "text/html": [
              "<style>\n",
              "       table#id2, #id2 > tbody > tr > th, #id2 > tbody > tr > td {\n",
              "         border: 1px solid lightgray;\n",
              "         border-collapse:collapse;\n",
              "         \n",
              "        }</style>"
            ],
            "text/plain": [
              "<IPython.core.display.HTML object>"
            ]
          },
          "metadata": {
            "tags": [
              "outputarea_id2"
            ]
          }
        },
        {
          "output_type": "display_data",
          "data": {
            "text/html": [
              "<table id=id2><tr><th id=id2-0-0></th><th id=id2-0-1></th></tr><tr><th id=id2-1-0></th><td id=id2-1-1></td></tr></table>"
            ],
            "text/plain": [
              "<IPython.core.display.HTML object>"
            ]
          },
          "metadata": {
            "tags": [
              "outputarea_id2"
            ]
          }
        },
        {
          "output_type": "display_data",
          "data": {
            "application/javascript": [
              "window[\"a0d51670-c236-11ea-8359-0242ac1c0002\"] = google.colab.output.getActiveOutputArea();\n",
              "//# sourceURL=js_192c48ea7a"
            ],
            "text/plain": [
              "<IPython.core.display.Javascript object>"
            ]
          },
          "metadata": {
            "tags": [
              "id2-1-1",
              "outputarea_id2"
            ]
          }
        },
        {
          "output_type": "display_data",
          "data": {
            "application/javascript": [
              "window[\"a0d5aba8-c236-11ea-8359-0242ac1c0002\"] = document.querySelector(\"#id2-1-1\");\n",
              "//# sourceURL=js_a069c53fd6"
            ],
            "text/plain": [
              "<IPython.core.display.Javascript object>"
            ]
          },
          "metadata": {
            "tags": [
              "id2-1-1",
              "outputarea_id2"
            ]
          }
        },
        {
          "output_type": "display_data",
          "data": {
            "application/javascript": [
              "window[\"a0d5fb1c-c236-11ea-8359-0242ac1c0002\"] = google.colab.output.setActiveOutputArea(window[\"a0d5aba8-c236-11ea-8359-0242ac1c0002\"]);\n",
              "//# sourceURL=js_7a20f1a95d"
            ],
            "text/plain": [
              "<IPython.core.display.Javascript object>"
            ]
          },
          "metadata": {
            "tags": [
              "id2-1-1",
              "outputarea_id2"
            ]
          }
        },
        {
          "output_type": "stream",
          "text": [
            "Bye grid\n"
          ],
          "name": "stdout"
        },
        {
          "output_type": "display_data",
          "data": {
            "application/javascript": [
              "window[\"a0d75444-c236-11ea-8359-0242ac1c0002\"] = google.colab.output.setActiveOutputArea(window[\"a0d51670-c236-11ea-8359-0242ac1c0002\"]);\n",
              "//# sourceURL=js_eee1c2786a"
            ],
            "text/plain": [
              "<IPython.core.display.Javascript object>"
            ]
          },
          "metadata": {
            "tags": [
              "id2-1-1",
              "outputarea_id2"
            ]
          }
        },
        {
          "output_type": "display_data",
          "data": {
            "application/javascript": [
              "window[\"a0d92dc8-c236-11ea-8359-0242ac1c0002\"] = google.colab.output.getActiveOutputArea();\n",
              "//# sourceURL=js_1ec57dba8f"
            ],
            "text/plain": [
              "<IPython.core.display.Javascript object>"
            ]
          },
          "metadata": {
            "tags": [
              "id2-0-0",
              "outputarea_id2"
            ]
          }
        },
        {
          "output_type": "display_data",
          "data": {
            "application/javascript": [
              "window[\"a0d9aa5a-c236-11ea-8359-0242ac1c0002\"] = document.querySelector(\"#id2-0-0\");\n",
              "//# sourceURL=js_4f0b32e0e5"
            ],
            "text/plain": [
              "<IPython.core.display.Javascript object>"
            ]
          },
          "metadata": {
            "tags": [
              "id2-0-0",
              "outputarea_id2"
            ]
          }
        },
        {
          "output_type": "display_data",
          "data": {
            "application/javascript": [
              "window[\"a0da171a-c236-11ea-8359-0242ac1c0002\"] = google.colab.output.setActiveOutputArea(window[\"a0d9aa5a-c236-11ea-8359-0242ac1c0002\"]);\n",
              "//# sourceURL=js_f54ff09a6e"
            ],
            "text/plain": [
              "<IPython.core.display.Javascript object>"
            ]
          },
          "metadata": {
            "tags": [
              "id2-0-0",
              "outputarea_id2"
            ]
          }
        },
        {
          "output_type": "stream",
          "text": [
            "Hello grid\n"
          ],
          "name": "stdout"
        },
        {
          "output_type": "display_data",
          "data": {
            "application/javascript": [
              "window[\"a0db6b56-c236-11ea-8359-0242ac1c0002\"] = google.colab.output.setActiveOutputArea(window[\"a0d92dc8-c236-11ea-8359-0242ac1c0002\"]);\n",
              "//# sourceURL=js_cdc9780cc9"
            ],
            "text/plain": [
              "<IPython.core.display.Javascript object>"
            ]
          },
          "metadata": {
            "tags": [
              "id2-0-0",
              "outputarea_id2"
            ]
          }
        },
        {
          "output_type": "stream",
          "text": [
            "Now we are outside\n"
          ],
          "name": "stdout"
        },
        {
          "output_type": "display_data",
          "data": {
            "application/javascript": [
              "window[\"a0dde408-c236-11ea-8359-0242ac1c0002\"] = google.colab.output.getActiveOutputArea();\n",
              "//# sourceURL=js_ddd1c09afc"
            ],
            "text/plain": [
              "<IPython.core.display.Javascript object>"
            ]
          },
          "metadata": {
            "tags": [
              "id2-1-0",
              "outputarea_id2"
            ]
          }
        },
        {
          "output_type": "display_data",
          "data": {
            "application/javascript": [
              "window[\"a0de2bb6-c236-11ea-8359-0242ac1c0002\"] = document.querySelector(\"#id2-1-0\");\n",
              "//# sourceURL=js_7fbd61d359"
            ],
            "text/plain": [
              "<IPython.core.display.Javascript object>"
            ]
          },
          "metadata": {
            "tags": [
              "id2-1-0",
              "outputarea_id2"
            ]
          }
        },
        {
          "output_type": "display_data",
          "data": {
            "application/javascript": [
              "window[\"a0df2f98-c236-11ea-8359-0242ac1c0002\"] = google.colab.output.setActiveOutputArea(window[\"a0de2bb6-c236-11ea-8359-0242ac1c0002\"]);\n",
              "//# sourceURL=js_8936bea6f0"
            ],
            "text/plain": [
              "<IPython.core.display.Javascript object>"
            ]
          },
          "metadata": {
            "tags": [
              "id2-1-0",
              "outputarea_id2"
            ]
          }
        },
        {
          "output_type": "stream",
          "text": [
            "Back inside!\n"
          ],
          "name": "stdout"
        },
        {
          "output_type": "display_data",
          "data": {
            "application/javascript": [
              "window[\"a0e14a4e-c236-11ea-8359-0242ac1c0002\"] = google.colab.output.setActiveOutputArea(window[\"a0dde408-c236-11ea-8359-0242ac1c0002\"]);\n",
              "//# sourceURL=js_77403c5344"
            ],
            "text/plain": [
              "<IPython.core.display.Javascript object>"
            ]
          },
          "metadata": {
            "tags": [
              "id2-1-0",
              "outputarea_id2"
            ]
          }
        }
      ]
    },
    {
      "cell_type": "code",
      "metadata": {
        "id": "JK8kx67bHZvf",
        "colab_type": "code",
        "colab": {
          "base_uri": "https://localhost:8080/",
          "height": 303
        },
        "outputId": "7ad30c30-ad95-437e-9609-9d4144fc348d"
      },
      "source": [
        "grid = widgets.Grid(2, 2)\n",
        "for i in range(20):\n",
        "  with grid.output_to(random.randint(0, 1), random.randint(0, 1)):\n",
        "    grid.clear_cell()\n",
        "    pylab.figure(figsize=(2, 2))\n",
        "    pylab.plot(np.random.random((10, 1)))\n",
        "  time.sleep(0.5)"
      ],
      "execution_count": 13,
      "outputs": [
        {
          "output_type": "display_data",
          "data": {
            "text/html": [
              "<style>\n",
              "       table#id4, #id4 > tbody > tr > th, #id4 > tbody > tr > td {\n",
              "         border: 1px solid lightgray;\n",
              "         border-collapse:collapse;\n",
              "         \n",
              "        }</style>"
            ],
            "text/plain": [
              "<IPython.core.display.HTML object>"
            ]
          },
          "metadata": {
            "tags": [
              "outputarea_id4"
            ]
          }
        },
        {
          "output_type": "display_data",
          "data": {
            "text/html": [
              "<table id=id4><tr><td id=id4-0-0></td><td id=id4-0-1></td></tr><tr><td id=id4-1-0></td><td id=id4-1-1></td></tr></table>"
            ],
            "text/plain": [
              "<IPython.core.display.HTML object>"
            ]
          },
          "metadata": {
            "tags": [
              "outputarea_id4"
            ]
          }
        },
        {
          "output_type": "display_data",
          "data": {
            "application/javascript": [
              "window[\"a0e9347a-c236-11ea-8359-0242ac1c0002\"] = google.colab.output.getActiveOutputArea();\n",
              "//# sourceURL=js_9b8dff52bf"
            ],
            "text/plain": [
              "<IPython.core.display.Javascript object>"
            ]
          },
          "metadata": {
            "tags": [
              "id4-0-0",
              "outputarea_id4"
            ]
          }
        },
        {
          "output_type": "display_data",
          "data": {
            "application/javascript": [
              "window[\"a0e99f6e-c236-11ea-8359-0242ac1c0002\"] = document.querySelector(\"#id4-0-0\");\n",
              "//# sourceURL=js_91fabf88cc"
            ],
            "text/plain": [
              "<IPython.core.display.Javascript object>"
            ]
          },
          "metadata": {
            "tags": [
              "id4-0-0",
              "outputarea_id4"
            ]
          }
        },
        {
          "output_type": "display_data",
          "data": {
            "application/javascript": [
              "window[\"a0ea00a8-c236-11ea-8359-0242ac1c0002\"] = google.colab.output.setActiveOutputArea(window[\"a0e99f6e-c236-11ea-8359-0242ac1c0002\"]);\n",
              "//# sourceURL=js_7db1aa5f08"
            ],
            "text/plain": [
              "<IPython.core.display.Javascript object>"
            ]
          },
          "metadata": {
            "tags": [
              "id4-0-0",
              "outputarea_id4"
            ]
          }
        },
        {
          "output_type": "display_data",
          "data": {
            "application/javascript": [
              "window[\"a0ff5b92-c236-11ea-8359-0242ac1c0002\"] = google.colab.output.setActiveOutputArea(window[\"a0e9347a-c236-11ea-8359-0242ac1c0002\"]);\n",
              "//# sourceURL=js_379e11afd5"
            ],
            "text/plain": [
              "<IPython.core.display.Javascript object>"
            ]
          },
          "metadata": {
            "tags": [
              "id4-0-0",
              "outputarea_id4"
            ]
          }
        },
        {
          "output_type": "display_data",
          "data": {
            "application/javascript": [
              "window[\"a14dfdce-c236-11ea-8359-0242ac1c0002\"] = google.colab.output.getActiveOutputArea();\n",
              "//# sourceURL=js_64735ac247"
            ],
            "text/plain": [
              "<IPython.core.display.Javascript object>"
            ]
          },
          "metadata": {
            "tags": [
              "id4-0-0",
              "outputarea_id4"
            ]
          }
        },
        {
          "output_type": "display_data",
          "data": {
            "application/javascript": [
              "window[\"a14eb7e6-c236-11ea-8359-0242ac1c0002\"] = document.querySelector(\"#id4-0-0\");\n",
              "//# sourceURL=js_dbad029b45"
            ],
            "text/plain": [
              "<IPython.core.display.Javascript object>"
            ]
          },
          "metadata": {
            "tags": [
              "id4-0-0",
              "outputarea_id4"
            ]
          }
        },
        {
          "output_type": "display_data",
          "data": {
            "application/javascript": [
              "window[\"a14f684e-c236-11ea-8359-0242ac1c0002\"] = google.colab.output.setActiveOutputArea(window[\"a14eb7e6-c236-11ea-8359-0242ac1c0002\"]);\n",
              "//# sourceURL=js_4ba396a769"
            ],
            "text/plain": [
              "<IPython.core.display.Javascript object>"
            ]
          },
          "metadata": {
            "tags": [
              "id4-0-0",
              "outputarea_id4"
            ]
          }
        },
        {
          "output_type": "display_data",
          "data": {
            "application/javascript": [
              "window[\"a16063a6-c236-11ea-8359-0242ac1c0002\"] = google.colab.output.setActiveOutputArea(window[\"a14dfdce-c236-11ea-8359-0242ac1c0002\"]);\n",
              "//# sourceURL=js_81a63129ed"
            ],
            "text/plain": [
              "<IPython.core.display.Javascript object>"
            ]
          },
          "metadata": {
            "tags": [
              "id4-0-0",
              "outputarea_id4"
            ]
          }
        },
        {
          "output_type": "display_data",
          "data": {
            "application/javascript": [
              "window[\"a1ae11f0-c236-11ea-8359-0242ac1c0002\"] = google.colab.output.getActiveOutputArea();\n",
              "//# sourceURL=js_c44a5c7464"
            ],
            "text/plain": [
              "<IPython.core.display.Javascript object>"
            ]
          },
          "metadata": {
            "tags": [
              "id4-1-0",
              "outputarea_id4"
            ]
          }
        },
        {
          "output_type": "display_data",
          "data": {
            "application/javascript": [
              "window[\"a1ae5c8c-c236-11ea-8359-0242ac1c0002\"] = document.querySelector(\"#id4-1-0\");\n",
              "//# sourceURL=js_348c53e57e"
            ],
            "text/plain": [
              "<IPython.core.display.Javascript object>"
            ]
          },
          "metadata": {
            "tags": [
              "id4-1-0",
              "outputarea_id4"
            ]
          }
        },
        {
          "output_type": "display_data",
          "data": {
            "application/javascript": [
              "window[\"a1aeef44-c236-11ea-8359-0242ac1c0002\"] = google.colab.output.setActiveOutputArea(window[\"a1ae5c8c-c236-11ea-8359-0242ac1c0002\"]);\n",
              "//# sourceURL=js_d18452adec"
            ],
            "text/plain": [
              "<IPython.core.display.Javascript object>"
            ]
          },
          "metadata": {
            "tags": [
              "id4-1-0",
              "outputarea_id4"
            ]
          }
        },
        {
          "output_type": "display_data",
          "data": {
            "application/javascript": [
              "window[\"a1c30a38-c236-11ea-8359-0242ac1c0002\"] = google.colab.output.setActiveOutputArea(window[\"a1ae11f0-c236-11ea-8359-0242ac1c0002\"]);\n",
              "//# sourceURL=js_de86c78baa"
            ],
            "text/plain": [
              "<IPython.core.display.Javascript object>"
            ]
          },
          "metadata": {
            "tags": [
              "id4-1-0",
              "outputarea_id4"
            ]
          }
        },
        {
          "output_type": "display_data",
          "data": {
            "application/javascript": [
              "window[\"a211533c-c236-11ea-8359-0242ac1c0002\"] = google.colab.output.getActiveOutputArea();\n",
              "//# sourceURL=js_232ec2deda"
            ],
            "text/plain": [
              "<IPython.core.display.Javascript object>"
            ]
          },
          "metadata": {
            "tags": [
              "id4-1-0",
              "outputarea_id4"
            ]
          }
        },
        {
          "output_type": "display_data",
          "data": {
            "application/javascript": [
              "window[\"a211b6f6-c236-11ea-8359-0242ac1c0002\"] = document.querySelector(\"#id4-1-0\");\n",
              "//# sourceURL=js_b689510bd3"
            ],
            "text/plain": [
              "<IPython.core.display.Javascript object>"
            ]
          },
          "metadata": {
            "tags": [
              "id4-1-0",
              "outputarea_id4"
            ]
          }
        },
        {
          "output_type": "display_data",
          "data": {
            "application/javascript": [
              "window[\"a212c6fe-c236-11ea-8359-0242ac1c0002\"] = google.colab.output.setActiveOutputArea(window[\"a211b6f6-c236-11ea-8359-0242ac1c0002\"]);\n",
              "//# sourceURL=js_38c7c8b93d"
            ],
            "text/plain": [
              "<IPython.core.display.Javascript object>"
            ]
          },
          "metadata": {
            "tags": [
              "id4-1-0",
              "outputarea_id4"
            ]
          }
        },
        {
          "output_type": "display_data",
          "data": {
            "application/javascript": [
              "window[\"a224c714-c236-11ea-8359-0242ac1c0002\"] = google.colab.output.setActiveOutputArea(window[\"a211533c-c236-11ea-8359-0242ac1c0002\"]);\n",
              "//# sourceURL=js_1fc696fa01"
            ],
            "text/plain": [
              "<IPython.core.display.Javascript object>"
            ]
          },
          "metadata": {
            "tags": [
              "id4-1-0",
              "outputarea_id4"
            ]
          }
        },
        {
          "output_type": "display_data",
          "data": {
            "application/javascript": [
              "window[\"a2729b6a-c236-11ea-8359-0242ac1c0002\"] = google.colab.output.getActiveOutputArea();\n",
              "//# sourceURL=js_6e94da27e6"
            ],
            "text/plain": [
              "<IPython.core.display.Javascript object>"
            ]
          },
          "metadata": {
            "tags": [
              "id4-0-0",
              "outputarea_id4"
            ]
          }
        },
        {
          "output_type": "display_data",
          "data": {
            "application/javascript": [
              "window[\"a272ed0e-c236-11ea-8359-0242ac1c0002\"] = document.querySelector(\"#id4-0-0\");\n",
              "//# sourceURL=js_fd5e507e8d"
            ],
            "text/plain": [
              "<IPython.core.display.Javascript object>"
            ]
          },
          "metadata": {
            "tags": [
              "id4-0-0",
              "outputarea_id4"
            ]
          }
        },
        {
          "output_type": "display_data",
          "data": {
            "application/javascript": [
              "window[\"a2733048-c236-11ea-8359-0242ac1c0002\"] = google.colab.output.setActiveOutputArea(window[\"a272ed0e-c236-11ea-8359-0242ac1c0002\"]);\n",
              "//# sourceURL=js_1d90f5ef64"
            ],
            "text/plain": [
              "<IPython.core.display.Javascript object>"
            ]
          },
          "metadata": {
            "tags": [
              "id4-0-0",
              "outputarea_id4"
            ]
          }
        },
        {
          "output_type": "display_data",
          "data": {
            "application/javascript": [
              "window[\"a284cb64-c236-11ea-8359-0242ac1c0002\"] = google.colab.output.setActiveOutputArea(window[\"a2729b6a-c236-11ea-8359-0242ac1c0002\"]);\n",
              "//# sourceURL=js_631d228fe0"
            ],
            "text/plain": [
              "<IPython.core.display.Javascript object>"
            ]
          },
          "metadata": {
            "tags": [
              "id4-0-0",
              "outputarea_id4"
            ]
          }
        },
        {
          "output_type": "display_data",
          "data": {
            "application/javascript": [
              "window[\"a2d29934-c236-11ea-8359-0242ac1c0002\"] = google.colab.output.getActiveOutputArea();\n",
              "//# sourceURL=js_6535257672"
            ],
            "text/plain": [
              "<IPython.core.display.Javascript object>"
            ]
          },
          "metadata": {
            "tags": [
              "id4-0-1",
              "outputarea_id4"
            ]
          }
        },
        {
          "output_type": "display_data",
          "data": {
            "application/javascript": [
              "window[\"a2d2e8e4-c236-11ea-8359-0242ac1c0002\"] = document.querySelector(\"#id4-0-1\");\n",
              "//# sourceURL=js_a6c02c999d"
            ],
            "text/plain": [
              "<IPython.core.display.Javascript object>"
            ]
          },
          "metadata": {
            "tags": [
              "id4-0-1",
              "outputarea_id4"
            ]
          }
        },
        {
          "output_type": "display_data",
          "data": {
            "application/javascript": [
              "window[\"a2d3424e-c236-11ea-8359-0242ac1c0002\"] = google.colab.output.setActiveOutputArea(window[\"a2d2e8e4-c236-11ea-8359-0242ac1c0002\"]);\n",
              "//# sourceURL=js_f95dcbae17"
            ],
            "text/plain": [
              "<IPython.core.display.Javascript object>"
            ]
          },
          "metadata": {
            "tags": [
              "id4-0-1",
              "outputarea_id4"
            ]
          }
        },
        {
          "output_type": "display_data",
          "data": {
            "application/javascript": [
              "window[\"a2e625f8-c236-11ea-8359-0242ac1c0002\"] = google.colab.output.setActiveOutputArea(window[\"a2d29934-c236-11ea-8359-0242ac1c0002\"]);\n",
              "//# sourceURL=js_2117dbb547"
            ],
            "text/plain": [
              "<IPython.core.display.Javascript object>"
            ]
          },
          "metadata": {
            "tags": [
              "id4-0-1",
              "outputarea_id4"
            ]
          }
        },
        {
          "output_type": "display_data",
          "data": {
            "application/javascript": [
              "window[\"a333e4c8-c236-11ea-8359-0242ac1c0002\"] = google.colab.output.getActiveOutputArea();\n",
              "//# sourceURL=js_9d128bfcda"
            ],
            "text/plain": [
              "<IPython.core.display.Javascript object>"
            ]
          },
          "metadata": {
            "tags": [
              "id4-1-1",
              "outputarea_id4"
            ]
          }
        },
        {
          "output_type": "display_data",
          "data": {
            "application/javascript": [
              "window[\"a3343b6c-c236-11ea-8359-0242ac1c0002\"] = document.querySelector(\"#id4-1-1\");\n",
              "//# sourceURL=js_13215968a3"
            ],
            "text/plain": [
              "<IPython.core.display.Javascript object>"
            ]
          },
          "metadata": {
            "tags": [
              "id4-1-1",
              "outputarea_id4"
            ]
          }
        },
        {
          "output_type": "display_data",
          "data": {
            "application/javascript": [
              "window[\"a3348da6-c236-11ea-8359-0242ac1c0002\"] = google.colab.output.setActiveOutputArea(window[\"a3343b6c-c236-11ea-8359-0242ac1c0002\"]);\n",
              "//# sourceURL=js_e2d2571178"
            ],
            "text/plain": [
              "<IPython.core.display.Javascript object>"
            ]
          },
          "metadata": {
            "tags": [
              "id4-1-1",
              "outputarea_id4"
            ]
          }
        },
        {
          "output_type": "display_data",
          "data": {
            "application/javascript": [
              "window[\"a3474e50-c236-11ea-8359-0242ac1c0002\"] = google.colab.output.setActiveOutputArea(window[\"a333e4c8-c236-11ea-8359-0242ac1c0002\"]);\n",
              "//# sourceURL=js_7f5c970a7b"
            ],
            "text/plain": [
              "<IPython.core.display.Javascript object>"
            ]
          },
          "metadata": {
            "tags": [
              "id4-1-1",
              "outputarea_id4"
            ]
          }
        },
        {
          "output_type": "display_data",
          "data": {
            "application/javascript": [
              "window[\"a394dc06-c236-11ea-8359-0242ac1c0002\"] = google.colab.output.getActiveOutputArea();\n",
              "//# sourceURL=js_35978bd4e1"
            ],
            "text/plain": [
              "<IPython.core.display.Javascript object>"
            ]
          },
          "metadata": {
            "tags": [
              "id4-1-1",
              "outputarea_id4"
            ]
          }
        },
        {
          "output_type": "display_data",
          "data": {
            "application/javascript": [
              "window[\"a3953322-c236-11ea-8359-0242ac1c0002\"] = document.querySelector(\"#id4-1-1\");\n",
              "//# sourceURL=js_987145ee81"
            ],
            "text/plain": [
              "<IPython.core.display.Javascript object>"
            ]
          },
          "metadata": {
            "tags": [
              "id4-1-1",
              "outputarea_id4"
            ]
          }
        },
        {
          "output_type": "display_data",
          "data": {
            "application/javascript": [
              "window[\"a395a47e-c236-11ea-8359-0242ac1c0002\"] = google.colab.output.setActiveOutputArea(window[\"a3953322-c236-11ea-8359-0242ac1c0002\"]);\n",
              "//# sourceURL=js_d41c2101a2"
            ],
            "text/plain": [
              "<IPython.core.display.Javascript object>"
            ]
          },
          "metadata": {
            "tags": [
              "id4-1-1",
              "outputarea_id4"
            ]
          }
        },
        {
          "output_type": "display_data",
          "data": {
            "application/javascript": [
              "window[\"a3aa68c8-c236-11ea-8359-0242ac1c0002\"] = google.colab.output.setActiveOutputArea(window[\"a394dc06-c236-11ea-8359-0242ac1c0002\"]);\n",
              "//# sourceURL=js_3cbdde24f3"
            ],
            "text/plain": [
              "<IPython.core.display.Javascript object>"
            ]
          },
          "metadata": {
            "tags": [
              "id4-1-1",
              "outputarea_id4"
            ]
          }
        },
        {
          "output_type": "display_data",
          "data": {
            "application/javascript": [
              "window[\"a3f8a222-c236-11ea-8359-0242ac1c0002\"] = google.colab.output.getActiveOutputArea();\n",
              "//# sourceURL=js_477c5639bd"
            ],
            "text/plain": [
              "<IPython.core.display.Javascript object>"
            ]
          },
          "metadata": {
            "tags": [
              "id4-1-0",
              "outputarea_id4"
            ]
          }
        },
        {
          "output_type": "display_data",
          "data": {
            "application/javascript": [
              "window[\"a3f8f1fa-c236-11ea-8359-0242ac1c0002\"] = document.querySelector(\"#id4-1-0\");\n",
              "//# sourceURL=js_08ea6143f4"
            ],
            "text/plain": [
              "<IPython.core.display.Javascript object>"
            ]
          },
          "metadata": {
            "tags": [
              "id4-1-0",
              "outputarea_id4"
            ]
          }
        },
        {
          "output_type": "display_data",
          "data": {
            "application/javascript": [
              "window[\"a3f9878c-c236-11ea-8359-0242ac1c0002\"] = google.colab.output.setActiveOutputArea(window[\"a3f8f1fa-c236-11ea-8359-0242ac1c0002\"]);\n",
              "//# sourceURL=js_6d32f492f2"
            ],
            "text/plain": [
              "<IPython.core.display.Javascript object>"
            ]
          },
          "metadata": {
            "tags": [
              "id4-1-0",
              "outputarea_id4"
            ]
          }
        },
        {
          "output_type": "display_data",
          "data": {
            "image/png": "[encoded data removed]",
            "text/plain": [
              "<Figure size 144x144 with 1 Axes>"
            ]
          },
          "metadata": {
            "tags": [
              "id4-1-0",
              "outputarea_id4",
              "user_output"
            ],
            "needs_background": "light"
          }
        },
        {
          "output_type": "display_data",
          "data": {
            "application/javascript": [
              "window[\"a40b1c0e-c236-11ea-8359-0242ac1c0002\"] = google.colab.output.setActiveOutputArea(window[\"a3f8a222-c236-11ea-8359-0242ac1c0002\"]);\n",
              "//# sourceURL=js_4d2ec56c23"
            ],
            "text/plain": [
              "<IPython.core.display.Javascript object>"
            ]
          },
          "metadata": {
            "tags": [
              "id4-1-0",
              "outputarea_id4"
            ]
          }
        },
        {
          "output_type": "display_data",
          "data": {
            "application/javascript": [
              "window[\"a4593812-c236-11ea-8359-0242ac1c0002\"] = google.colab.output.getActiveOutputArea();\n",
              "//# sourceURL=js_42c7c32fb6"
            ],
            "text/plain": [
              "<IPython.core.display.Javascript object>"
            ]
          },
          "metadata": {
            "tags": [
              "id4-0-0",
              "outputarea_id4"
            ]
          }
        },
        {
          "output_type": "display_data",
          "data": {
            "application/javascript": [
              "window[\"a459f1d0-c236-11ea-8359-0242ac1c0002\"] = document.querySelector(\"#id4-0-0\");\n",
              "//# sourceURL=js_dec984a106"
            ],
            "text/plain": [
              "<IPython.core.display.Javascript object>"
            ]
          },
          "metadata": {
            "tags": [
              "id4-0-0",
              "outputarea_id4"
            ]
          }
        },
        {
          "output_type": "display_data",
          "data": {
            "application/javascript": [
              "window[\"a45a47de-c236-11ea-8359-0242ac1c0002\"] = google.colab.output.setActiveOutputArea(window[\"a459f1d0-c236-11ea-8359-0242ac1c0002\"]);\n",
              "//# sourceURL=js_c66b9a04a8"
            ],
            "text/plain": [
              "<IPython.core.display.Javascript object>"
            ]
          },
          "metadata": {
            "tags": [
              "id4-0-0",
              "outputarea_id4"
            ]
          }
        },
        {
          "output_type": "display_data",
          "data": {
            "application/javascript": [
              "window[\"a46b86b6-c236-11ea-8359-0242ac1c0002\"] = google.colab.output.setActiveOutputArea(window[\"a4593812-c236-11ea-8359-0242ac1c0002\"]);\n",
              "//# sourceURL=js_9922fb75b3"
            ],
            "text/plain": [
              "<IPython.core.display.Javascript object>"
            ]
          },
          "metadata": {
            "tags": [
              "id4-0-0",
              "outputarea_id4"
            ]
          }
        },
        {
          "output_type": "display_data",
          "data": {
            "application/javascript": [
              "window[\"a4b93406-c236-11ea-8359-0242ac1c0002\"] = google.colab.output.getActiveOutputArea();\n",
              "//# sourceURL=js_f44fcafca5"
            ],
            "text/plain": [
              "<IPython.core.display.Javascript object>"
            ]
          },
          "metadata": {
            "tags": [
              "id4-1-1",
              "outputarea_id4"
            ]
          }
        },
        {
          "output_type": "display_data",
          "data": {
            "application/javascript": [
              "window[\"a4b995d6-c236-11ea-8359-0242ac1c0002\"] = document.querySelector(\"#id4-1-1\");\n",
              "//# sourceURL=js_ac8429f826"
            ],
            "text/plain": [
              "<IPython.core.display.Javascript object>"
            ]
          },
          "metadata": {
            "tags": [
              "id4-1-1",
              "outputarea_id4"
            ]
          }
        },
        {
          "output_type": "display_data",
          "data": {
            "application/javascript": [
              "window[\"a4ba7208-c236-11ea-8359-0242ac1c0002\"] = google.colab.output.setActiveOutputArea(window[\"a4b995d6-c236-11ea-8359-0242ac1c0002\"]);\n",
              "//# sourceURL=js_37bf0e0b95"
            ],
            "text/plain": [
              "<IPython.core.display.Javascript object>"
            ]
          },
          "metadata": {
            "tags": [
              "id4-1-1",
              "outputarea_id4"
            ]
          }
        },
        {
          "output_type": "display_data",
          "data": {
            "application/javascript": [
              "window[\"a4cb0e1a-c236-11ea-8359-0242ac1c0002\"] = google.colab.output.setActiveOutputArea(window[\"a4b93406-c236-11ea-8359-0242ac1c0002\"]);\n",
              "//# sourceURL=js_6849c4b032"
            ],
            "text/plain": [
              "<IPython.core.display.Javascript object>"
            ]
          },
          "metadata": {
            "tags": [
              "id4-1-1",
              "outputarea_id4"
            ]
          }
        },
        {
          "output_type": "display_data",
          "data": {
            "application/javascript": [
              "window[\"a518c5ec-c236-11ea-8359-0242ac1c0002\"] = google.colab.output.getActiveOutputArea();\n",
              "//# sourceURL=js_1210d2906d"
            ],
            "text/plain": [
              "<IPython.core.display.Javascript object>"
            ]
          },
          "metadata": {
            "tags": [
              "id4-0-1",
              "outputarea_id4"
            ]
          }
        },
        {
          "output_type": "display_data",
          "data": {
            "application/javascript": [
              "window[\"a51927d0-c236-11ea-8359-0242ac1c0002\"] = document.querySelector(\"#id4-0-1\");\n",
              "//# sourceURL=js_9985ef0bf2"
            ],
            "text/plain": [
              "<IPython.core.display.Javascript object>"
            ]
          },
          "metadata": {
            "tags": [
              "id4-0-1",
              "outputarea_id4"
            ]
          }
        },
        {
          "output_type": "display_data",
          "data": {
            "application/javascript": [
              "window[\"a5196876-c236-11ea-8359-0242ac1c0002\"] = google.colab.output.setActiveOutputArea(window[\"a51927d0-c236-11ea-8359-0242ac1c0002\"]);\n",
              "//# sourceURL=js_a8c4c0144c"
            ],
            "text/plain": [
              "<IPython.core.display.Javascript object>"
            ]
          },
          "metadata": {
            "tags": [
              "id4-0-1",
              "outputarea_id4"
            ]
          }
        },
        {
          "output_type": "display_data",
          "data": {
            "image/png": "[encoded data removed]",
            "text/plain": [
              "<Figure size 144x144 with 1 Axes>"
            ]
          },
          "metadata": {
            "tags": [
              "id4-0-1",
              "outputarea_id4",
              "user_output"
            ],
            "needs_background": "light"
          }
        },
        {
          "output_type": "display_data",
          "data": {
            "application/javascript": [
              "window[\"a52b0202-c236-11ea-8359-0242ac1c0002\"] = google.colab.output.setActiveOutputArea(window[\"a518c5ec-c236-11ea-8359-0242ac1c0002\"]);\n",
              "//# sourceURL=js_05624d9aa0"
            ],
            "text/plain": [
              "<IPython.core.display.Javascript object>"
            ]
          },
          "metadata": {
            "tags": [
              "id4-0-1",
              "outputarea_id4"
            ]
          }
        },
        {
          "output_type": "display_data",
          "data": {
            "application/javascript": [
              "window[\"a578ce88-c236-11ea-8359-0242ac1c0002\"] = google.colab.output.getActiveOutputArea();\n",
              "//# sourceURL=js_c6d4fdd492"
            ],
            "text/plain": [
              "<IPython.core.display.Javascript object>"
            ]
          },
          "metadata": {
            "tags": [
              "id4-0-0",
              "outputarea_id4"
            ]
          }
        },
        {
          "output_type": "display_data",
          "data": {
            "application/javascript": [
              "window[\"a579169a-c236-11ea-8359-0242ac1c0002\"] = document.querySelector(\"#id4-0-0\");\n",
              "//# sourceURL=js_e6dd17db7c"
            ],
            "text/plain": [
              "<IPython.core.display.Javascript object>"
            ]
          },
          "metadata": {
            "tags": [
              "id4-0-0",
              "outputarea_id4"
            ]
          }
        },
        {
          "output_type": "display_data",
          "data": {
            "application/javascript": [
              "window[\"a5795c86-c236-11ea-8359-0242ac1c0002\"] = google.colab.output.setActiveOutputArea(window[\"a579169a-c236-11ea-8359-0242ac1c0002\"]);\n",
              "//# sourceURL=js_bf7138da5f"
            ],
            "text/plain": [
              "<IPython.core.display.Javascript object>"
            ]
          },
          "metadata": {
            "tags": [
              "id4-0-0",
              "outputarea_id4"
            ]
          }
        },
        {
          "output_type": "display_data",
          "data": {
            "application/javascript": [
              "window[\"a58ce850-c236-11ea-8359-0242ac1c0002\"] = google.colab.output.setActiveOutputArea(window[\"a578ce88-c236-11ea-8359-0242ac1c0002\"]);\n",
              "//# sourceURL=js_d9d420c0f1"
            ],
            "text/plain": [
              "<IPython.core.display.Javascript object>"
            ]
          },
          "metadata": {
            "tags": [
              "id4-0-0",
              "outputarea_id4"
            ]
          }
        },
        {
          "output_type": "display_data",
          "data": {
            "application/javascript": [
              "window[\"a5dcae62-c236-11ea-8359-0242ac1c0002\"] = google.colab.output.getActiveOutputArea();\n",
              "//# sourceURL=js_531be362c6"
            ],
            "text/plain": [
              "<IPython.core.display.Javascript object>"
            ]
          },
          "metadata": {
            "tags": [
              "id4-0-0",
              "outputarea_id4"
            ]
          }
        },
        {
          "output_type": "display_data",
          "data": {
            "application/javascript": [
              "window[\"a5dd6618-c236-11ea-8359-0242ac1c0002\"] = document.querySelector(\"#id4-0-0\");\n",
              "//# sourceURL=js_bae9b8b0e8"
            ],
            "text/plain": [
              "<IPython.core.display.Javascript object>"
            ]
          },
          "metadata": {
            "tags": [
              "id4-0-0",
              "outputarea_id4"
            ]
          }
        },
        {
          "output_type": "display_data",
          "data": {
            "application/javascript": [
              "window[\"a5ddb654-c236-11ea-8359-0242ac1c0002\"] = google.colab.output.setActiveOutputArea(window[\"a5dd6618-c236-11ea-8359-0242ac1c0002\"]);\n",
              "//# sourceURL=js_5682d4d776"
            ],
            "text/plain": [
              "<IPython.core.display.Javascript object>"
            ]
          },
          "metadata": {
            "tags": [
              "id4-0-0",
              "outputarea_id4"
            ]
          }
        },
        {
          "output_type": "display_data",
          "data": {
            "application/javascript": [
              "window[\"a5efe87e-c236-11ea-8359-0242ac1c0002\"] = google.colab.output.setActiveOutputArea(window[\"a5dcae62-c236-11ea-8359-0242ac1c0002\"]);\n",
              "//# sourceURL=js_b79d47ccc1"
            ],
            "text/plain": [
              "<IPython.core.display.Javascript object>"
            ]
          },
          "metadata": {
            "tags": [
              "id4-0-0",
              "outputarea_id4"
            ]
          }
        },
        {
          "output_type": "display_data",
          "data": {
            "application/javascript": [
              "window[\"a63d7ae4-c236-11ea-8359-0242ac1c0002\"] = google.colab.output.getActiveOutputArea();\n",
              "//# sourceURL=js_5eb7195654"
            ],
            "text/plain": [
              "<IPython.core.display.Javascript object>"
            ]
          },
          "metadata": {
            "tags": [
              "id4-0-0",
              "outputarea_id4"
            ]
          }
        },
        {
          "output_type": "display_data",
          "data": {
            "application/javascript": [
              "window[\"a63e0626-c236-11ea-8359-0242ac1c0002\"] = document.querySelector(\"#id4-0-0\");\n",
              "//# sourceURL=js_a18213ece0"
            ],
            "text/plain": [
              "<IPython.core.display.Javascript object>"
            ]
          },
          "metadata": {
            "tags": [
              "id4-0-0",
              "outputarea_id4"
            ]
          }
        },
        {
          "output_type": "display_data",
          "data": {
            "application/javascript": [
              "window[\"a63e6a6c-c236-11ea-8359-0242ac1c0002\"] = google.colab.output.setActiveOutputArea(window[\"a63e0626-c236-11ea-8359-0242ac1c0002\"]);\n",
              "//# sourceURL=js_a72b0b1270"
            ],
            "text/plain": [
              "<IPython.core.display.Javascript object>"
            ]
          },
          "metadata": {
            "tags": [
              "id4-0-0",
              "outputarea_id4"
            ]
          }
        },
        {
          "output_type": "display_data",
          "data": {
            "application/javascript": [
              "window[\"a6512bca-c236-11ea-8359-0242ac1c0002\"] = google.colab.output.setActiveOutputArea(window[\"a63d7ae4-c236-11ea-8359-0242ac1c0002\"]);\n",
              "//# sourceURL=js_cd60f50bf8"
            ],
            "text/plain": [
              "<IPython.core.display.Javascript object>"
            ]
          },
          "metadata": {
            "tags": [
              "id4-0-0",
              "outputarea_id4"
            ]
          }
        },
        {
          "output_type": "display_data",
          "data": {
            "application/javascript": [
              "window[\"a69edd7a-c236-11ea-8359-0242ac1c0002\"] = google.colab.output.getActiveOutputArea();\n",
              "//# sourceURL=js_6b2ec5764f"
            ],
            "text/plain": [
              "<IPython.core.display.Javascript object>"
            ]
          },
          "metadata": {
            "tags": [
              "id4-1-1",
              "outputarea_id4"
            ]
          }
        },
        {
          "output_type": "display_data",
          "data": {
            "application/javascript": [
              "window[\"a69f16f0-c236-11ea-8359-0242ac1c0002\"] = document.querySelector(\"#id4-1-1\");\n",
              "//# sourceURL=js_d92106b5c3"
            ],
            "text/plain": [
              "<IPython.core.display.Javascript object>"
            ]
          },
          "metadata": {
            "tags": [
              "id4-1-1",
              "outputarea_id4"
            ]
          }
        },
        {
          "output_type": "display_data",
          "data": {
            "application/javascript": [
              "window[\"a69f84fa-c236-11ea-8359-0242ac1c0002\"] = google.colab.output.setActiveOutputArea(window[\"a69f16f0-c236-11ea-8359-0242ac1c0002\"]);\n",
              "//# sourceURL=js_bee3648123"
            ],
            "text/plain": [
              "<IPython.core.display.Javascript object>"
            ]
          },
          "metadata": {
            "tags": [
              "id4-1-1",
              "outputarea_id4"
            ]
          }
        },
        {
          "output_type": "display_data",
          "data": {
            "application/javascript": [
              "window[\"a6b276dc-c236-11ea-8359-0242ac1c0002\"] = google.colab.output.setActiveOutputArea(window[\"a69edd7a-c236-11ea-8359-0242ac1c0002\"]);\n",
              "//# sourceURL=js_a52d1351e8"
            ],
            "text/plain": [
              "<IPython.core.display.Javascript object>"
            ]
          },
          "metadata": {
            "tags": [
              "id4-1-1",
              "outputarea_id4"
            ]
          }
        },
        {
          "output_type": "display_data",
          "data": {
            "application/javascript": [
              "window[\"a7002b66-c236-11ea-8359-0242ac1c0002\"] = google.colab.output.getActiveOutputArea();\n",
              "//# sourceURL=js_763ce657b6"
            ],
            "text/plain": [
              "<IPython.core.display.Javascript object>"
            ]
          },
          "metadata": {
            "tags": [
              "id4-0-0",
              "outputarea_id4"
            ]
          }
        },
        {
          "output_type": "display_data",
          "data": {
            "application/javascript": [
              "window[\"a7008c50-c236-11ea-8359-0242ac1c0002\"] = document.querySelector(\"#id4-0-0\");\n",
              "//# sourceURL=js_c2b5bd663d"
            ],
            "text/plain": [
              "<IPython.core.display.Javascript object>"
            ]
          },
          "metadata": {
            "tags": [
              "id4-0-0",
              "outputarea_id4"
            ]
          }
        },
        {
          "output_type": "display_data",
          "data": {
            "application/javascript": [
              "window[\"a701a7de-c236-11ea-8359-0242ac1c0002\"] = google.colab.output.setActiveOutputArea(window[\"a7008c50-c236-11ea-8359-0242ac1c0002\"]);\n",
              "//# sourceURL=js_800a8896f8"
            ],
            "text/plain": [
              "<IPython.core.display.Javascript object>"
            ]
          },
          "metadata": {
            "tags": [
              "id4-0-0",
              "outputarea_id4"
            ]
          }
        },
        {
          "output_type": "display_data",
          "data": {
            "application/javascript": [
              "window[\"a71414e6-c236-11ea-8359-0242ac1c0002\"] = google.colab.output.setActiveOutputArea(window[\"a7002b66-c236-11ea-8359-0242ac1c0002\"]);\n",
              "//# sourceURL=js_1715010953"
            ],
            "text/plain": [
              "<IPython.core.display.Javascript object>"
            ]
          },
          "metadata": {
            "tags": [
              "id4-0-0",
              "outputarea_id4"
            ]
          }
        },
        {
          "output_type": "display_data",
          "data": {
            "application/javascript": [
              "window[\"a761eeaa-c236-11ea-8359-0242ac1c0002\"] = google.colab.output.getActiveOutputArea();\n",
              "//# sourceURL=js_3e5db92117"
            ],
            "text/plain": [
              "<IPython.core.display.Javascript object>"
            ]
          },
          "metadata": {
            "tags": [
              "id4-1-1",
              "outputarea_id4"
            ]
          }
        },
        {
          "output_type": "display_data",
          "data": {
            "application/javascript": [
              "window[\"a7637f22-c236-11ea-8359-0242ac1c0002\"] = document.querySelector(\"#id4-1-1\");\n",
              "//# sourceURL=js_40add427d4"
            ],
            "text/plain": [
              "<IPython.core.display.Javascript object>"
            ]
          },
          "metadata": {
            "tags": [
              "id4-1-1",
              "outputarea_id4"
            ]
          }
        },
        {
          "output_type": "display_data",
          "data": {
            "application/javascript": [
              "window[\"a764181a-c236-11ea-8359-0242ac1c0002\"] = google.colab.output.setActiveOutputArea(window[\"a7637f22-c236-11ea-8359-0242ac1c0002\"]);\n",
              "//# sourceURL=js_7261825f2d"
            ],
            "text/plain": [
              "<IPython.core.display.Javascript object>"
            ]
          },
          "metadata": {
            "tags": [
              "id4-1-1",
              "outputarea_id4"
            ]
          }
        },
        {
          "output_type": "display_data",
          "data": {
            "application/javascript": [
              "window[\"a7761de4-c236-11ea-8359-0242ac1c0002\"] = google.colab.output.setActiveOutputArea(window[\"a761eeaa-c236-11ea-8359-0242ac1c0002\"]);\n",
              "//# sourceURL=js_275f14e43d"
            ],
            "text/plain": [
              "<IPython.core.display.Javascript object>"
            ]
          },
          "metadata": {
            "tags": [
              "id4-1-1",
              "outputarea_id4"
            ]
          }
        },
        {
          "output_type": "display_data",
          "data": {
            "application/javascript": [
              "window[\"a7c49df2-c236-11ea-8359-0242ac1c0002\"] = google.colab.output.getActiveOutputArea();\n",
              "//# sourceURL=js_0d36d7540a"
            ],
            "text/plain": [
              "<IPython.core.display.Javascript object>"
            ]
          },
          "metadata": {
            "tags": [
              "id4-0-0",
              "outputarea_id4"
            ]
          }
        },
        {
          "output_type": "display_data",
          "data": {
            "application/javascript": [
              "window[\"a7c4fc2a-c236-11ea-8359-0242ac1c0002\"] = document.querySelector(\"#id4-0-0\");\n",
              "//# sourceURL=js_9095eebbfc"
            ],
            "text/plain": [
              "<IPython.core.display.Javascript object>"
            ]
          },
          "metadata": {
            "tags": [
              "id4-0-0",
              "outputarea_id4"
            ]
          }
        },
        {
          "output_type": "display_data",
          "data": {
            "application/javascript": [
              "window[\"a7c56994-c236-11ea-8359-0242ac1c0002\"] = google.colab.output.setActiveOutputArea(window[\"a7c4fc2a-c236-11ea-8359-0242ac1c0002\"]);\n",
              "//# sourceURL=js_89755a914e"
            ],
            "text/plain": [
              "<IPython.core.display.Javascript object>"
            ]
          },
          "metadata": {
            "tags": [
              "id4-0-0",
              "outputarea_id4"
            ]
          }
        },
        {
          "output_type": "display_data",
          "data": {
            "image/png": "[encoded data removed]",
            "text/plain": [
              "<Figure size 144x144 with 1 Axes>"
            ]
          },
          "metadata": {
            "tags": [
              "id4-0-0",
              "outputarea_id4",
              "user_output"
            ],
            "needs_background": "light"
          }
        },
        {
          "output_type": "display_data",
          "data": {
            "application/javascript": [
              "window[\"a7eac266-c236-11ea-8359-0242ac1c0002\"] = google.colab.output.setActiveOutputArea(window[\"a7c49df2-c236-11ea-8359-0242ac1c0002\"]);\n",
              "//# sourceURL=js_b403902589"
            ],
            "text/plain": [
              "<IPython.core.display.Javascript object>"
            ]
          },
          "metadata": {
            "tags": [
              "id4-0-0",
              "outputarea_id4"
            ]
          }
        },
        {
          "output_type": "display_data",
          "data": {
            "application/javascript": [
              "window[\"a83864a8-c236-11ea-8359-0242ac1c0002\"] = google.colab.output.getActiveOutputArea();\n",
              "//# sourceURL=js_849d9bf085"
            ],
            "text/plain": [
              "<IPython.core.display.Javascript object>"
            ]
          },
          "metadata": {
            "tags": [
              "id4-1-1",
              "outputarea_id4"
            ]
          }
        },
        {
          "output_type": "display_data",
          "data": {
            "application/javascript": [
              "window[\"a838a4f4-c236-11ea-8359-0242ac1c0002\"] = document.querySelector(\"#id4-1-1\");\n",
              "//# sourceURL=js_8a7266bac9"
            ],
            "text/plain": [
              "<IPython.core.display.Javascript object>"
            ]
          },
          "metadata": {
            "tags": [
              "id4-1-1",
              "outputarea_id4"
            ]
          }
        },
        {
          "output_type": "display_data",
          "data": {
            "application/javascript": [
              "window[\"a838ebe4-c236-11ea-8359-0242ac1c0002\"] = google.colab.output.setActiveOutputArea(window[\"a838a4f4-c236-11ea-8359-0242ac1c0002\"]);\n",
              "//# sourceURL=js_98adc1c412"
            ],
            "text/plain": [
              "<IPython.core.display.Javascript object>"
            ]
          },
          "metadata": {
            "tags": [
              "id4-1-1",
              "outputarea_id4"
            ]
          }
        },
        {
          "output_type": "display_data",
          "data": {
            "image/png": "[encoded data removed]",
            "text/plain": [
              "<Figure size 144x144 with 1 Axes>"
            ]
          },
          "metadata": {
            "tags": [
              "id4-1-1",
              "outputarea_id4",
              "user_output"
            ],
            "needs_background": "light"
          }
        },
        {
          "output_type": "display_data",
          "data": {
            "application/javascript": [
              "window[\"a84c135e-c236-11ea-8359-0242ac1c0002\"] = google.colab.output.setActiveOutputArea(window[\"a83864a8-c236-11ea-8359-0242ac1c0002\"]);\n",
              "//# sourceURL=js_5f1d7e7edc"
            ],
            "text/plain": [
              "<IPython.core.display.Javascript object>"
            ]
          },
          "metadata": {
            "tags": [
              "id4-1-1",
              "outputarea_id4"
            ]
          }
        }
      ]
    },
    {
      "cell_type": "code",
      "metadata": {
        "id": "jRF3jzedJjjj",
        "colab_type": "code",
        "colab": {
          "resources": {
            "http://localhost:8080/nbextensions/google.colab/tabbar.css": {
              "data": "Lmdvb2ctdGFie3Bvc2l0aW9uOnJlbGF0aXZlO3BhZGRpbmc6NHB4IDhweDtjb2xvcjojMDBjO3RleHQtZGVjb3JhdGlvbjp1bmRlcmxpbmU7Y3Vyc29yOmRlZmF1bHR9Lmdvb2ctdGFiLWJhci10b3AgLmdvb2ctdGFie21hcmdpbjoxcHggNHB4IDAgMDtib3JkZXItYm90dG9tOjA7ZmxvYXQ6bGVmdH0uZ29vZy10YWItYmFyLXRvcDphZnRlciwuZ29vZy10YWItYmFyLWJvdHRvbTphZnRlcntjb250ZW50OiIgIjtkaXNwbGF5OmJsb2NrO2hlaWdodDowO2NsZWFyOmJvdGg7dmlzaWJpbGl0eTpoaWRkZW59Lmdvb2ctdGFiLWJhci1ib3R0b20gLmdvb2ctdGFie21hcmdpbjowIDRweCAxcHggMDtib3JkZXItdG9wOjA7ZmxvYXQ6bGVmdH0uZ29vZy10YWItYmFyLXN0YXJ0IC5nb29nLXRhYnttYXJnaW46MCAwIDRweCAxcHg7Ym9yZGVyLXJpZ2h0OjB9Lmdvb2ctdGFiLWJhci1lbmQgLmdvb2ctdGFie21hcmdpbjowIDFweCA0cHggMDtib3JkZXItbGVmdDowfS5nb29nLXRhYi1ob3ZlcntiYWNrZ3JvdW5kOiNlZWV9Lmdvb2ctdGFiLWRpc2FibGVke2NvbG9yOiM2NjZ9Lmdvb2ctdGFiLXNlbGVjdGVke2NvbG9yOiMwMDA7YmFja2dyb3VuZDojZmZmO3RleHQtZGVjb3JhdGlvbjpub25lO2ZvbnQtd2VpZ2h0OmJvbGQ7Ym9yZGVyOjFweCBzb2xpZCAjNmI5MGRhfS5nb29nLXRhYi1iYXItdG9we3BhZGRpbmctdG9wOjVweCFpbXBvcnRhbnQ7cGFkZGluZy1sZWZ0OjVweCFpbXBvcnRhbnQ7Ym9yZGVyLWJvdHRvbToxcHggc29saWQgIzZiOTBkYSFpbXBvcnRhbnR9Lmdvb2ctdGFiLWJhci10b3AgLmdvb2ctdGFiLXNlbGVjdGVke3RvcDoxcHg7bWFyZ2luLXRvcDowO3BhZGRpbmctYm90dG9tOjVweH0uZ29vZy10YWItYmFyLWJvdHRvbSAuZ29vZy10YWItc2VsZWN0ZWR7dG9wOi0xcHg7bWFyZ2luLWJvdHRvbTowO3BhZGRpbmctdG9wOjVweH0uZ29vZy10YWItYmFyLXN0YXJ0IC5nb29nLXRhYi1zZWxlY3RlZHtsZWZ0OjFweDttYXJnaW4tbGVmdDowO3BhZGRpbmctcmlnaHQ6OXB4fS5nb29nLXRhYi1iYXItZW5kIC5nb29nLXRhYi1zZWxlY3RlZHtsZWZ0Oi0xcHg7bWFyZ2luLXJpZ2h0OjA7cGFkZGluZy1sZWZ0OjlweH0uZ29vZy10YWItYmFye21hcmdpbjowO2JvcmRlcjowO3BhZGRpbmc6MDtsaXN0LXN0eWxlOm5vbmU7Y3Vyc29yOmRlZmF1bHQ7b3V0bGluZTpub25lO2JhY2tncm91bmQ6I2ViZWZmOX0uZ29vZy10YWItYmFyLWNsZWFye2NsZWFyOmJvdGg7aGVpZ2h0OjA7b3ZlcmZsb3c6aGlkZGVufS5nb29nLXRhYi1iYXItc3RhcnR7ZmxvYXQ6bGVmdH0uZ29vZy10YWItYmFyLWVuZHtmbG9hdDpyaWdodH0qIGh0bWwgLmdvb2ctdGFiLWJhci1zdGFydHttYXJnaW4tcmlnaHQ6LTNweH0qIGh0bWwgLmdvb2ctdGFiLWJhci1lbmR7bWFyZ2luLWxlZnQ6LTNweH0=",
              "ok": true,
              "headers": [
                [
                  "content-type",
                  "text/css"
                ]
              ],
              "status": 200,
              "status_text": ""
            },
            "http://localhost:8080/nbextensions/google.colab/tabbar_main.min.js": {
              "data": "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",
              "ok": true,
              "headers": [
                [
                  "content-type",
                  "application/javascript"
                ]
              ],
              "status": 200,
              "status_text": ""
            }
          },
          "base_uri": "https://localhost:8080/",
          "height": 288
        },
        "outputId": "5f3fbcb2-9989-4a08-f6b1-f409199342aa"
      },
      "source": [
        "def create_tab(location):\n",
        "  tb = widgets.TabBar(['a', 'b'], location=location)\n",
        "  with tb.output_to('a'):\n",
        "    pylab.figure(figsize=(3, 3))\n",
        "    pylab.plot([1, 2, 3])\n",
        "  # Note you can access tab by its name (if they are unique), or\n",
        "  # by its index.\n",
        "  with tb.output_to(1):\n",
        "    pylab.figure(figsize=(3, 3))\n",
        "    pylab.plot([3, 2, 3])\n",
        "    pylab.show()\n",
        "\n",
        "\n",
        "print('Different orientations for tabs')\n",
        "\n",
        "positions = ['start', 'bottom', 'end', 'top']\n",
        "\n",
        "for p, _ in zip(positions, widgets.Grid(1, 4)):\n",
        "  print('---- %s ---' % p)\n",
        "  create_tab(p)"
      ],
      "execution_count": 14,
      "outputs": [
        {
          "output_type": "stream",
          "text": [
            "Different orientations for tabs\n"
          ],
          "name": "stdout"
        },
        {
          "output_type": "display_data",
          "data": {
            "text/html": [
              "<style>\n",
              "       table#id6, #id6 > tbody > tr > th, #id6 > tbody > tr > td {\n",
              "         border: 1px solid lightgray;\n",
              "         border-collapse:collapse;\n",
              "         \n",
              "        }</style>"
            ],
            "text/plain": [
              "<IPython.core.display.HTML object>"
            ]
          },
          "metadata": {
            "tags": [
              "outputarea_id6"
            ]
          }
        },
        {
          "output_type": "display_data",
          "data": {
            "text/html": [
              "<table id=id6><tr><td id=id6-0-0></td><td id=id6-0-1></td><td id=id6-0-2></td><td id=id6-0-3></td></tr></table>"
            ],
            "text/plain": [
              "<IPython.core.display.HTML object>"
            ]
          },
          "metadata": {
            "tags": [
              "outputarea_id6"
            ]
          }
        },
        {
          "output_type": "display_data",
          "data": {
            "application/javascript": [
              "window[\"a89dde32-c236-11ea-8359-0242ac1c0002\"] = google.colab.output.getActiveOutputArea();\n",
              "//# sourceURL=js_817e510671"
            ],
            "text/plain": [
              "<IPython.core.display.Javascript object>"
            ]
          },
          "metadata": {
            "tags": [
              "id6-0-0",
              "outputarea_id6"
            ]
          }
        },
        {
          "output_type": "display_data",
          "data": {
            "application/javascript": [
              "window[\"a89e24fa-c236-11ea-8359-0242ac1c0002\"] = document.querySelector(\"#id6-0-0\");\n",
              "//# sourceURL=js_519204f66a"
            ],
            "text/plain": [
              "<IPython.core.display.Javascript object>"
            ]
          },
          "metadata": {
            "tags": [
              "id6-0-0",
              "outputarea_id6"
            ]
          }
        },
        {
          "output_type": "display_data",
          "data": {
            "application/javascript": [
              "window[\"a89e6d8e-c236-11ea-8359-0242ac1c0002\"] = google.colab.output.setActiveOutputArea(window[\"a89e24fa-c236-11ea-8359-0242ac1c0002\"]);\n",
              "//# sourceURL=js_1eb223b468"
            ],
            "text/plain": [
              "<IPython.core.display.Javascript object>"
            ]
          },
          "metadata": {
            "tags": [
              "id6-0-0",
              "outputarea_id6"
            ]
          }
        },
        {
          "output_type": "stream",
          "text": [
            "---- start ---\n"
          ],
          "name": "stdout"
        },
        {
          "output_type": "display_data",
          "data": {
            "text/html": [
              "<link rel=stylesheet type=text/css href='/nbextensions/google.colab/tabbar.css'></link>"
            ],
            "text/plain": [
              "<IPython.core.display.HTML object>"
            ]
          },
          "metadata": {
            "tags": [
              "id6-0-0",
              "outputarea_id6",
              "outputarea_id7",
              "user_output"
            ]
          }
        },
        {
          "output_type": "display_data",
          "data": {
            "text/html": [
              "<script src='/nbextensions/google.colab/tabbar_main.min.js'></script>"
            ],
            "text/plain": [
              "<IPython.core.display.HTML object>"
            ]
          },
          "metadata": {
            "tags": [
              "id6-0-0",
              "outputarea_id6",
              "outputarea_id7",
              "user_output"
            ]
          }
        },
        {
          "output_type": "display_data",
          "data": {
            "text/html": [
              "<div id=\"id7\"></div>"
            ],
            "text/plain": [
              "<IPython.core.display.HTML object>"
            ]
          },
          "metadata": {
            "tags": [
              "id6-0-0",
              "outputarea_id6",
              "outputarea_id7",
              "user_output"
            ]
          }
        },
        {
          "output_type": "display_data",
          "data": {
            "application/javascript": [
              "window[\"a8a01c10-c236-11ea-8359-0242ac1c0002\"] = colab_lib.createTabBar({\"location\": \"start\", \"elementId\": \"id7\", \"tabNames\": [\"a\", \"b\"], \"initialSelection\": 0, \"contentBorder\": [\"0px\"], \"contentHeight\": [\"initial\"], \"borderColor\": [\"#a7a7a7\"]});\n",
              "//# sourceURL=js_4d3c1487a4"
            ],
            "text/plain": [
              "<IPython.core.display.Javascript object>"
            ]
          },
          "metadata": {
            "tags": [
              "id6-0-0",
              "outputarea_id6",
              "outputarea_id7",
              "user_output"
            ]
          }
        },
        {
          "output_type": "display_data",
          "data": {
            "application/javascript": [
              "window[\"a8a06012-c236-11ea-8359-0242ac1c0002\"] = window[\"id7\"].setSelectedTabIndex(0);\n",
              "//# sourceURL=js_ea058b4eb8"
            ],
            "text/plain": [
              "<IPython.core.display.Javascript object>"
            ]
          },
          "metadata": {
            "tags": [
              "id6-0-0",
              "outputarea_id6",
              "outputarea_id7",
              "user_output"
            ]
          }
        },
        {
          "output_type": "display_data",
          "data": {
            "application/javascript": [
              "window[\"a8a18cbc-c236-11ea-8359-0242ac1c0002\"] = google.colab.output.getActiveOutputArea();\n",
              "//# sourceURL=js_5b08aa811b"
            ],
            "text/plain": [
              "<IPython.core.display.Javascript object>"
            ]
          },
          "metadata": {
            "tags": [
              "id6-0-0",
              "id7_content_0",
              "outputarea_id6",
              "outputarea_id7",
              "user_output"
            ]
          }
        },
        {
          "output_type": "display_data",
          "data": {
            "application/javascript": [
              "window[\"a8a1d62c-c236-11ea-8359-0242ac1c0002\"] = document.querySelector(\"#id7_content_0\");\n",
              "//# sourceURL=js_3c5005152c"
            ],
            "text/plain": [
              "<IPython.core.display.Javascript object>"
            ]
          },
          "metadata": {
            "tags": [
              "id6-0-0",
              "id7_content_0",
              "outputarea_id6",
              "outputarea_id7",
              "user_output"
            ]
          }
        },
        {
          "output_type": "display_data",
          "data": {
            "application/javascript": [
              "window[\"a8a21b82-c236-11ea-8359-0242ac1c0002\"] = google.colab.output.setActiveOutputArea(window[\"a8a1d62c-c236-11ea-8359-0242ac1c0002\"]);\n",
              "//# sourceURL=js_4b017d01e8"
            ],
            "text/plain": [
              "<IPython.core.display.Javascript object>"
            ]
          },
          "metadata": {
            "tags": [
              "id6-0-0",
              "id7_content_0",
              "outputarea_id6",
              "outputarea_id7",
              "user_output"
            ]
          }
        },
        {
          "output_type": "display_data",
          "data": {
            "application/javascript": [
              "window[\"a8a25fc0-c236-11ea-8359-0242ac1c0002\"] = window[\"id7\"].setSelectedTabIndex(0);\n",
              "//# sourceURL=js_0cc3826839"
            ],
            "text/plain": [
              "<IPython.core.display.Javascript object>"
            ]
          },
          "metadata": {
            "tags": [
              "id6-0-0",
              "id7_content_0",
              "outputarea_id6",
              "outputarea_id7",
              "user_output"
            ]
          }
        },
        {
          "output_type": "display_data",
          "data": {
            "image/png": "[encoded data removed]",
            "text/plain": [
              "<Figure size 216x216 with 1 Axes>"
            ]
          },
          "metadata": {
            "tags": [
              "id6-0-0",
              "id7_content_0",
              "outputarea_id6",
              "outputarea_id7",
              "user_output"
            ],
            "needs_background": "light"
          }
        },
        {
          "output_type": "display_data",
          "data": {
            "application/javascript": [
              "window[\"a8b9a1f8-c236-11ea-8359-0242ac1c0002\"] = google.colab.output.setActiveOutputArea(window[\"a8a18cbc-c236-11ea-8359-0242ac1c0002\"]);\n",
              "//# sourceURL=js_a27e015971"
            ],
            "text/plain": [
              "<IPython.core.display.Javascript object>"
            ]
          },
          "metadata": {
            "tags": [
              "id6-0-0",
              "id7_content_0",
              "outputarea_id6",
              "outputarea_id7",
              "user_output"
            ]
          }
        },
        {
          "output_type": "display_data",
          "data": {
            "application/javascript": [
              "window[\"a8bb42ec-c236-11ea-8359-0242ac1c0002\"] = google.colab.output.getActiveOutputArea();\n",
              "//# sourceURL=js_5f47c718c5"
            ],
            "text/plain": [
              "<IPython.core.display.Javascript object>"
            ]
          },
          "metadata": {
            "tags": [
              "id6-0-0",
              "id7_content_1",
              "outputarea_id6",
              "outputarea_id7",
              "user_output"
            ]
          }
        },
        {
          "output_type": "display_data",
          "data": {
            "application/javascript": [
              "window[\"a8bb8d10-c236-11ea-8359-0242ac1c0002\"] = document.querySelector(\"#id7_content_1\");\n",
              "//# sourceURL=js_477bf08269"
            ],
            "text/plain": [
              "<IPython.core.display.Javascript object>"
            ]
          },
          "metadata": {
            "tags": [
              "id6-0-0",
              "id7_content_1",
              "outputarea_id6",
              "outputarea_id7",
              "user_output"
            ]
          }
        },
        {
          "output_type": "display_data",
          "data": {
            "application/javascript": [
              "window[\"a8bbd810-c236-11ea-8359-0242ac1c0002\"] = google.colab.output.setActiveOutputArea(window[\"a8bb8d10-c236-11ea-8359-0242ac1c0002\"]);\n",
              "//# sourceURL=js_74690e253c"
            ],
            "text/plain": [
              "<IPython.core.display.Javascript object>"
            ]
          },
          "metadata": {
            "tags": [
              "id6-0-0",
              "id7_content_1",
              "outputarea_id6",
              "outputarea_id7",
              "user_output"
            ]
          }
        },
        {
          "output_type": "display_data",
          "data": {
            "application/javascript": [
              "window[\"a8bc1d48-c236-11ea-8359-0242ac1c0002\"] = window[\"id7\"].setSelectedTabIndex(1);\n",
              "//# sourceURL=js_d54933720d"
            ],
            "text/plain": [
              "<IPython.core.display.Javascript object>"
            ]
          },
          "metadata": {
            "tags": [
              "id6-0-0",
              "id7_content_1",
              "outputarea_id6",
              "outputarea_id7",
              "user_output"
            ]
          }
        },
        {
          "output_type": "display_data",
          "data": {
            "image/png": "[encoded data removed]",
            "text/plain": [
              "<Figure size 216x216 with 1 Axes>"
            ]
          },
          "metadata": {
            "tags": [
              "id6-0-0",
              "id7_content_1",
              "outputarea_id6",
              "outputarea_id7",
              "user_output"
            ],
            "needs_background": "light"
          }
        },
        {
          "output_type": "display_data",
          "data": {
            "application/javascript": [
              "window[\"a8d0caf4-c236-11ea-8359-0242ac1c0002\"] = google.colab.output.setActiveOutputArea(window[\"a8bb42ec-c236-11ea-8359-0242ac1c0002\"]);\n",
              "//# sourceURL=js_3b9c63f3a4"
            ],
            "text/plain": [
              "<IPython.core.display.Javascript object>"
            ]
          },
          "metadata": {
            "tags": [
              "id6-0-0",
              "id7_content_1",
              "outputarea_id6",
              "outputarea_id7",
              "user_output"
            ]
          }
        },
        {
          "output_type": "display_data",
          "data": {
            "application/javascript": [
              "window[\"a8d2351a-c236-11ea-8359-0242ac1c0002\"] = google.colab.output.setActiveOutputArea(window[\"a89dde32-c236-11ea-8359-0242ac1c0002\"]);\n",
              "//# sourceURL=js_64a18c81e8"
            ],
            "text/plain": [
              "<IPython.core.display.Javascript object>"
            ]
          },
          "metadata": {
            "tags": [
              "id6-0-0",
              "outputarea_id6"
            ]
          }
        },
        {
          "output_type": "display_data",
          "data": {
            "application/javascript": [
              "window[\"a8d36674-c236-11ea-8359-0242ac1c0002\"] = google.colab.output.getActiveOutputArea();\n",
              "//# sourceURL=js_70ecaf7fc6"
            ],
            "text/plain": [
              "<IPython.core.display.Javascript object>"
            ]
          },
          "metadata": {
            "tags": [
              "id6-0-1",
              "outputarea_id6"
            ]
          }
        },
        {
          "output_type": "display_data",
          "data": {
            "application/javascript": [
              "window[\"a8d3b854-c236-11ea-8359-0242ac1c0002\"] = document.querySelector(\"#id6-0-1\");\n",
              "//# sourceURL=js_2e3772ea29"
            ],
            "text/plain": [
              "<IPython.core.display.Javascript object>"
            ]
          },
          "metadata": {
            "tags": [
              "id6-0-1",
              "outputarea_id6"
            ]
          }
        },
        {
          "output_type": "display_data",
          "data": {
            "application/javascript": [
              "window[\"a8d407e6-c236-11ea-8359-0242ac1c0002\"] = google.colab.output.setActiveOutputArea(window[\"a8d3b854-c236-11ea-8359-0242ac1c0002\"]);\n",
              "//# sourceURL=js_4a552085cf"
            ],
            "text/plain": [
              "<IPython.core.display.Javascript object>"
            ]
          },
          "metadata": {
            "tags": [
              "id6-0-1",
              "outputarea_id6"
            ]
          }
        },
        {
          "output_type": "stream",
          "text": [
            "---- bottom ---\n"
          ],
          "name": "stdout"
        },
        {
          "output_type": "display_data",
          "data": {
            "text/html": [
              "<link rel=stylesheet type=text/css href='/nbextensions/google.colab/tabbar.css'></link>"
            ],
            "text/plain": [
              "<IPython.core.display.HTML object>"
            ]
          },
          "metadata": {
            "tags": [
              "id6-0-1",
              "outputarea_id6",
              "outputarea_id8",
              "user_output"
            ]
          }
        },
        {
          "output_type": "display_data",
          "data": {
            "text/html": [
              "<script src='/nbextensions/google.colab/tabbar_main.min.js'></script>"
            ],
            "text/plain": [
              "<IPython.core.display.HTML object>"
            ]
          },
          "metadata": {
            "tags": [
              "id6-0-1",
              "outputarea_id6",
              "outputarea_id8",
              "user_output"
            ]
          }
        },
        {
          "output_type": "display_data",
          "data": {
            "text/html": [
              "<div id=\"id8\"></div>"
            ],
            "text/plain": [
              "<IPython.core.display.HTML object>"
            ]
          },
          "metadata": {
            "tags": [
              "id6-0-1",
              "outputarea_id6",
              "outputarea_id8",
              "user_output"
            ]
          }
        },
        {
          "output_type": "display_data",
          "data": {
            "application/javascript": [
              "window[\"a8d5dd32-c236-11ea-8359-0242ac1c0002\"] = colab_lib.createTabBar({\"location\": \"bottom\", \"elementId\": \"id8\", \"tabNames\": [\"a\", \"b\"], \"initialSelection\": 0, \"contentBorder\": [\"0px\"], \"contentHeight\": [\"initial\"], \"borderColor\": [\"#a7a7a7\"]});\n",
              "//# sourceURL=js_78a2b1314e"
            ],
            "text/plain": [
              "<IPython.core.display.Javascript object>"
            ]
          },
          "metadata": {
            "tags": [
              "id6-0-1",
              "outputarea_id6",
              "outputarea_id8",
              "user_output"
            ]
          }
        },
        {
          "output_type": "display_data",
          "data": {
            "application/javascript": [
              "window[\"a8d6319c-c236-11ea-8359-0242ac1c0002\"] = window[\"id8\"].setSelectedTabIndex(0);\n",
              "//# sourceURL=js_1574356373"
            ],
            "text/plain": [
              "<IPython.core.display.Javascript object>"
            ]
          },
          "metadata": {
            "tags": [
              "id6-0-1",
              "outputarea_id6",
              "outputarea_id8",
              "user_output"
            ]
          }
        },
        {
          "output_type": "display_data",
          "data": {
            "application/javascript": [
              "window[\"a8d7550e-c236-11ea-8359-0242ac1c0002\"] = google.colab.output.getActiveOutputArea();\n",
              "//# sourceURL=js_0e34553dba"
            ],
            "text/plain": [
              "<IPython.core.display.Javascript object>"
            ]
          },
          "metadata": {
            "tags": [
              "id6-0-1",
              "id8_content_0",
              "outputarea_id6",
              "outputarea_id8",
              "user_output"
            ]
          }
        },
        {
          "output_type": "display_data",
          "data": {
            "application/javascript": [
              "window[\"a8d7aa5e-c236-11ea-8359-0242ac1c0002\"] = document.querySelector(\"#id8_content_0\");\n",
              "//# sourceURL=js_8aa2f26760"
            ],
            "text/plain": [
              "<IPython.core.display.Javascript object>"
            ]
          },
          "metadata": {
            "tags": [
              "id6-0-1",
              "id8_content_0",
              "outputarea_id6",
              "outputarea_id8",
              "user_output"
            ]
          }
        },
        {
          "output_type": "display_data",
          "data": {
            "application/javascript": [
              "window[\"a8d7fe1e-c236-11ea-8359-0242ac1c0002\"] = google.colab.output.setActiveOutputArea(window[\"a8d7aa5e-c236-11ea-8359-0242ac1c0002\"]);\n",
              "//# sourceURL=js_0456765114"
            ],
            "text/plain": [
              "<IPython.core.display.Javascript object>"
            ]
          },
          "metadata": {
            "tags": [
              "id6-0-1",
              "id8_content_0",
              "outputarea_id6",
              "outputarea_id8",
              "user_output"
            ]
          }
        },
        {
          "output_type": "display_data",
          "data": {
            "application/javascript": [
              "window[\"a8d86f20-c236-11ea-8359-0242ac1c0002\"] = window[\"id8\"].setSelectedTabIndex(0);\n",
              "//# sourceURL=js_0da79aa95d"
            ],
            "text/plain": [
              "<IPython.core.display.Javascript object>"
            ]
          },
          "metadata": {
            "tags": [
              "id6-0-1",
              "id8_content_0",
              "outputarea_id6",
              "outputarea_id8",
              "user_output"
            ]
          }
        },
        {
          "output_type": "display_data",
          "data": {
            "image/png": "[encoded data removed]",
            "text/plain": [
              "<Figure size 216x216 with 1 Axes>"
            ]
          },
          "metadata": {
            "tags": [
              "id6-0-1",
              "id8_content_0",
              "outputarea_id6",
              "outputarea_id8",
              "user_output"
            ],
            "needs_background": "light"
          }
        },
        {
          "output_type": "display_data",
          "data": {
            "application/javascript": [
              "window[\"a8efb720-c236-11ea-8359-0242ac1c0002\"] = google.colab.output.setActiveOutputArea(window[\"a8d7550e-c236-11ea-8359-0242ac1c0002\"]);\n",
              "//# sourceURL=js_c7d6f26f3e"
            ],
            "text/plain": [
              "<IPython.core.display.Javascript object>"
            ]
          },
          "metadata": {
            "tags": [
              "id6-0-1",
              "id8_content_0",
              "outputarea_id6",
              "outputarea_id8",
              "user_output"
            ]
          }
        },
        {
          "output_type": "display_data",
          "data": {
            "application/javascript": [
              "window[\"a8f158aa-c236-11ea-8359-0242ac1c0002\"] = google.colab.output.getActiveOutputArea();\n",
              "//# sourceURL=js_cddfae11fa"
            ],
            "text/plain": [
              "<IPython.core.display.Javascript object>"
            ]
          },
          "metadata": {
            "tags": [
              "id6-0-1",
              "id8_content_1",
              "outputarea_id6",
              "outputarea_id8",
              "user_output"
            ]
          }
        },
        {
          "output_type": "display_data",
          "data": {
            "application/javascript": [
              "window[\"a8f1bce6-c236-11ea-8359-0242ac1c0002\"] = document.querySelector(\"#id8_content_1\");\n",
              "//# sourceURL=js_ce10d34865"
            ],
            "text/plain": [
              "<IPython.core.display.Javascript object>"
            ]
          },
          "metadata": {
            "tags": [
              "id6-0-1",
              "id8_content_1",
              "outputarea_id6",
              "outputarea_id8",
              "user_output"
            ]
          }
        },
        {
          "output_type": "display_data",
          "data": {
            "application/javascript": [
              "window[\"a8f21452-c236-11ea-8359-0242ac1c0002\"] = google.colab.output.setActiveOutputArea(window[\"a8f1bce6-c236-11ea-8359-0242ac1c0002\"]);\n",
              "//# sourceURL=js_13cdad65b1"
            ],
            "text/plain": [
              "<IPython.core.display.Javascript object>"
            ]
          },
          "metadata": {
            "tags": [
              "id6-0-1",
              "id8_content_1",
              "outputarea_id6",
              "outputarea_id8",
              "user_output"
            ]
          }
        },
        {
          "output_type": "display_data",
          "data": {
            "application/javascript": [
              "window[\"a8f24f44-c236-11ea-8359-0242ac1c0002\"] = window[\"id8\"].setSelectedTabIndex(1);\n",
              "//# sourceURL=js_3c073bd59d"
            ],
            "text/plain": [
              "<IPython.core.display.Javascript object>"
            ]
          },
          "metadata": {
            "tags": [
              "id6-0-1",
              "id8_content_1",
              "outputarea_id6",
              "outputarea_id8",
              "user_output"
            ]
          }
        },
        {
          "output_type": "display_data",
          "data": {
            "image/png": "[encoded data removed]",
            "text/plain": [
              "<Figure size 216x216 with 1 Axes>"
            ]
          },
          "metadata": {
            "tags": [
              "id6-0-1",
              "id8_content_1",
              "outputarea_id6",
              "outputarea_id8",
              "user_output"
            ],
            "needs_background": "light"
          }
        },
        {
          "output_type": "display_data",
          "data": {
            "application/javascript": [
              "window[\"a906c4d8-c236-11ea-8359-0242ac1c0002\"] = google.colab.output.setActiveOutputArea(window[\"a8f158aa-c236-11ea-8359-0242ac1c0002\"]);\n",
              "//# sourceURL=js_f3a28d6fc9"
            ],
            "text/plain": [
              "<IPython.core.display.Javascript object>"
            ]
          },
          "metadata": {
            "tags": [
              "id6-0-1",
              "id8_content_1",
              "outputarea_id6",
              "outputarea_id8",
              "user_output"
            ]
          }
        },
        {
          "output_type": "display_data",
          "data": {
            "application/javascript": [
              "window[\"a9083ad4-c236-11ea-8359-0242ac1c0002\"] = google.colab.output.setActiveOutputArea(window[\"a8d36674-c236-11ea-8359-0242ac1c0002\"]);\n",
              "//# sourceURL=js_cec340223d"
            ],
            "text/plain": [
              "<IPython.core.display.Javascript object>"
            ]
          },
          "metadata": {
            "tags": [
              "id6-0-1",
              "outputarea_id6"
            ]
          }
        },
        {
          "output_type": "display_data",
          "data": {
            "application/javascript": [
              "window[\"a909d56a-c236-11ea-8359-0242ac1c0002\"] = google.colab.output.getActiveOutputArea();\n",
              "//# sourceURL=js_95af01b0f0"
            ],
            "text/plain": [
              "<IPython.core.display.Javascript object>"
            ]
          },
          "metadata": {
            "tags": [
              "id6-0-2",
              "outputarea_id6"
            ]
          }
        },
        {
          "output_type": "display_data",
          "data": {
            "application/javascript": [
              "window[\"a90a2eb6-c236-11ea-8359-0242ac1c0002\"] = document.querySelector(\"#id6-0-2\");\n",
              "//# sourceURL=js_b559b8c22c"
            ],
            "text/plain": [
              "<IPython.core.display.Javascript object>"
            ]
          },
          "metadata": {
            "tags": [
              "id6-0-2",
              "outputarea_id6"
            ]
          }
        },
        {
          "output_type": "display_data",
          "data": {
            "application/javascript": [
              "window[\"a90a830c-c236-11ea-8359-0242ac1c0002\"] = google.colab.output.setActiveOutputArea(window[\"a90a2eb6-c236-11ea-8359-0242ac1c0002\"]);\n",
              "//# sourceURL=js_6f00f07d03"
            ],
            "text/plain": [
              "<IPython.core.display.Javascript object>"
            ]
          },
          "metadata": {
            "tags": [
              "id6-0-2",
              "outputarea_id6"
            ]
          }
        },
        {
          "output_type": "stream",
          "text": [
            "---- end ---\n"
          ],
          "name": "stdout"
        },
        {
          "output_type": "display_data",
          "data": {
            "text/html": [
              "<link rel=stylesheet type=text/css href='/nbextensions/google.colab/tabbar.css'></link>"
            ],
            "text/plain": [
              "<IPython.core.display.HTML object>"
            ]
          },
          "metadata": {
            "tags": [
              "id6-0-2",
              "outputarea_id6",
              "outputarea_id9",
              "user_output"
            ]
          }
        },
        {
          "output_type": "display_data",
          "data": {
            "text/html": [
              "<script src='/nbextensions/google.colab/tabbar_main.min.js'></script>"
            ],
            "text/plain": [
              "<IPython.core.display.HTML object>"
            ]
          },
          "metadata": {
            "tags": [
              "id6-0-2",
              "outputarea_id6",
              "outputarea_id9",
              "user_output"
            ]
          }
        },
        {
          "output_type": "display_data",
          "data": {
            "text/html": [
              "<div id=\"id9\"></div>"
            ],
            "text/plain": [
              "<IPython.core.display.HTML object>"
            ]
          },
          "metadata": {
            "tags": [
              "id6-0-2",
              "outputarea_id6",
              "outputarea_id9",
              "user_output"
            ]
          }
        },
        {
          "output_type": "display_data",
          "data": {
            "application/javascript": [
              "window[\"a90c989a-c236-11ea-8359-0242ac1c0002\"] = colab_lib.createTabBar({\"location\": \"end\", \"elementId\": \"id9\", \"tabNames\": [\"a\", \"b\"], \"initialSelection\": 0, \"contentBorder\": [\"0px\"], \"contentHeight\": [\"initial\"], \"borderColor\": [\"#a7a7a7\"]});\n",
              "//# sourceURL=js_c1e4a81ac8"
            ],
            "text/plain": [
              "<IPython.core.display.Javascript object>"
            ]
          },
          "metadata": {
            "tags": [
              "id6-0-2",
              "outputarea_id6",
              "outputarea_id9",
              "user_output"
            ]
          }
        },
        {
          "output_type": "display_data",
          "data": {
            "application/javascript": [
              "window[\"a90d47fe-c236-11ea-8359-0242ac1c0002\"] = window[\"id9\"].setSelectedTabIndex(0);\n",
              "//# sourceURL=js_394cba2b87"
            ],
            "text/plain": [
              "<IPython.core.display.Javascript object>"
            ]
          },
          "metadata": {
            "tags": [
              "id6-0-2",
              "outputarea_id6",
              "outputarea_id9",
              "user_output"
            ]
          }
        },
        {
          "output_type": "display_data",
          "data": {
            "application/javascript": [
              "window[\"a90f2664-c236-11ea-8359-0242ac1c0002\"] = google.colab.output.getActiveOutputArea();\n",
              "//# sourceURL=js_160fc9476b"
            ],
            "text/plain": [
              "<IPython.core.display.Javascript object>"
            ]
          },
          "metadata": {
            "tags": [
              "id6-0-2",
              "id9_content_0",
              "outputarea_id6",
              "outputarea_id9",
              "user_output"
            ]
          }
        },
        {
          "output_type": "display_data",
          "data": {
            "application/javascript": [
              "window[\"a90f689a-c236-11ea-8359-0242ac1c0002\"] = document.querySelector(\"#id9_content_0\");\n",
              "//# sourceURL=js_6f27494015"
            ],
            "text/plain": [
              "<IPython.core.display.Javascript object>"
            ]
          },
          "metadata": {
            "tags": [
              "id6-0-2",
              "id9_content_0",
              "outputarea_id6",
              "outputarea_id9",
              "user_output"
            ]
          }
        },
        {
          "output_type": "display_data",
          "data": {
            "application/javascript": [
              "window[\"a90fcb00-c236-11ea-8359-0242ac1c0002\"] = google.colab.output.setActiveOutputArea(window[\"a90f689a-c236-11ea-8359-0242ac1c0002\"]);\n",
              "//# sourceURL=js_5b3644cbeb"
            ],
            "text/plain": [
              "<IPython.core.display.Javascript object>"
            ]
          },
          "metadata": {
            "tags": [
              "id6-0-2",
              "id9_content_0",
              "outputarea_id6",
              "outputarea_id9",
              "user_output"
            ]
          }
        },
        {
          "output_type": "display_data",
          "data": {
            "application/javascript": [
              "window[\"a9101a2e-c236-11ea-8359-0242ac1c0002\"] = window[\"id9\"].setSelectedTabIndex(0);\n",
              "//# sourceURL=js_bfcb8ecc97"
            ],
            "text/plain": [
              "<IPython.core.display.Javascript object>"
            ]
          },
          "metadata": {
            "tags": [
              "id6-0-2",
              "id9_content_0",
              "outputarea_id6",
              "outputarea_id9",
              "user_output"
            ]
          }
        },
        {
          "output_type": "display_data",
          "data": {
            "image/png": "[encoded data removed]",
            "text/plain": [
              "<Figure size 216x216 with 1 Axes>"
            ]
          },
          "metadata": {
            "tags": [
              "id6-0-2",
              "id9_content_0",
              "outputarea_id6",
              "outputarea_id9",
              "user_output"
            ],
            "needs_background": "light"
          }
        },
        {
          "output_type": "display_data",
          "data": {
            "application/javascript": [
              "window[\"a927cee4-c236-11ea-8359-0242ac1c0002\"] = google.colab.output.setActiveOutputArea(window[\"a90f2664-c236-11ea-8359-0242ac1c0002\"]);\n",
              "//# sourceURL=js_160290de7b"
            ],
            "text/plain": [
              "<IPython.core.display.Javascript object>"
            ]
          },
          "metadata": {
            "tags": [
              "id6-0-2",
              "id9_content_0",
              "outputarea_id6",
              "outputarea_id9",
              "user_output"
            ]
          }
        },
        {
          "output_type": "display_data",
          "data": {
            "application/javascript": [
              "window[\"a9295408-c236-11ea-8359-0242ac1c0002\"] = google.colab.output.getActiveOutputArea();\n",
              "//# sourceURL=js_68d59a7a45"
            ],
            "text/plain": [
              "<IPython.core.display.Javascript object>"
            ]
          },
          "metadata": {
            "tags": [
              "id6-0-2",
              "id9_content_1",
              "outputarea_id6",
              "outputarea_id9",
              "user_output"
            ]
          }
        },
        {
          "output_type": "display_data",
          "data": {
            "application/javascript": [
              "window[\"a9299b0c-c236-11ea-8359-0242ac1c0002\"] = document.querySelector(\"#id9_content_1\");\n",
              "//# sourceURL=js_74959b4773"
            ],
            "text/plain": [
              "<IPython.core.display.Javascript object>"
            ]
          },
          "metadata": {
            "tags": [
              "id6-0-2",
              "id9_content_1",
              "outputarea_id6",
              "outputarea_id9",
              "user_output"
            ]
          }
        },
        {
          "output_type": "display_data",
          "data": {
            "application/javascript": [
              "window[\"a92a2ab8-c236-11ea-8359-0242ac1c0002\"] = google.colab.output.setActiveOutputArea(window[\"a9299b0c-c236-11ea-8359-0242ac1c0002\"]);\n",
              "//# sourceURL=js_93a0db5be5"
            ],
            "text/plain": [
              "<IPython.core.display.Javascript object>"
            ]
          },
          "metadata": {
            "tags": [
              "id6-0-2",
              "id9_content_1",
              "outputarea_id6",
              "outputarea_id9",
              "user_output"
            ]
          }
        },
        {
          "output_type": "display_data",
          "data": {
            "application/javascript": [
              "window[\"a92aba64-c236-11ea-8359-0242ac1c0002\"] = window[\"id9\"].setSelectedTabIndex(1);\n",
              "//# sourceURL=js_57237aaf3b"
            ],
            "text/plain": [
              "<IPython.core.display.Javascript object>"
            ]
          },
          "metadata": {
            "tags": [
              "id6-0-2",
              "id9_content_1",
              "outputarea_id6",
              "outputarea_id9",
              "user_output"
            ]
          }
        },
        {
          "output_type": "display_data",
          "data": {
            "image/png": "[encoded data removed]",
            "text/plain": [
              "<Figure size 216x216 with 1 Axes>"
            ]
          },
          "metadata": {
            "tags": [
              "id6-0-2",
              "id9_content_1",
              "outputarea_id6",
              "outputarea_id9",
              "user_output"
            ],
            "needs_background": "light"
          }
        },
        {
          "output_type": "display_data",
          "data": {
            "application/javascript": [
              "window[\"a941a6d4-c236-11ea-8359-0242ac1c0002\"] = google.colab.output.setActiveOutputArea(window[\"a9295408-c236-11ea-8359-0242ac1c0002\"]);\n",
              "//# sourceURL=js_2ad3f1499a"
            ],
            "text/plain": [
              "<IPython.core.display.Javascript object>"
            ]
          },
          "metadata": {
            "tags": [
              "id6-0-2",
              "id9_content_1",
              "outputarea_id6",
              "outputarea_id9",
              "user_output"
            ]
          }
        },
        {
          "output_type": "display_data",
          "data": {
            "application/javascript": [
              "window[\"a942c9ce-c236-11ea-8359-0242ac1c0002\"] = google.colab.output.setActiveOutputArea(window[\"a909d56a-c236-11ea-8359-0242ac1c0002\"]);\n",
              "//# sourceURL=js_f848822376"
            ],
            "text/plain": [
              "<IPython.core.display.Javascript object>"
            ]
          },
          "metadata": {
            "tags": [
              "id6-0-2",
              "outputarea_id6"
            ]
          }
        },
        {
          "output_type": "display_data",
          "data": {
            "application/javascript": [
              "window[\"a9442c06-c236-11ea-8359-0242ac1c0002\"] = google.colab.output.getActiveOutputArea();\n",
              "//# sourceURL=js_8f7e84490d"
            ],
            "text/plain": [
              "<IPython.core.display.Javascript object>"
            ]
          },
          "metadata": {
            "tags": [
              "id6-0-3",
              "outputarea_id6"
            ]
          }
        },
        {
          "output_type": "display_data",
          "data": {
            "application/javascript": [
              "window[\"a9448c14-c236-11ea-8359-0242ac1c0002\"] = document.querySelector(\"#id6-0-3\");\n",
              "//# sourceURL=js_4357c5906d"
            ],
            "text/plain": [
              "<IPython.core.display.Javascript object>"
            ]
          },
          "metadata": {
            "tags": [
              "id6-0-3",
              "outputarea_id6"
            ]
          }
        },
        {
          "output_type": "display_data",
          "data": {
            "application/javascript": [
              "window[\"a944e07e-c236-11ea-8359-0242ac1c0002\"] = google.colab.output.setActiveOutputArea(window[\"a9448c14-c236-11ea-8359-0242ac1c0002\"]);\n",
              "//# sourceURL=js_ab0a549b37"
            ],
            "text/plain": [
              "<IPython.core.display.Javascript object>"
            ]
          },
          "metadata": {
            "tags": [
              "id6-0-3",
              "outputarea_id6"
            ]
          }
        },
        {
          "output_type": "stream",
          "text": [
            "---- top ---\n"
          ],
          "name": "stdout"
        },
        {
          "output_type": "display_data",
          "data": {
            "text/html": [
              "<link rel=stylesheet type=text/css href='/nbextensions/google.colab/tabbar.css'></link>"
            ],
            "text/plain": [
              "<IPython.core.display.HTML object>"
            ]
          },
          "metadata": {
            "tags": [
              "id6-0-3",
              "outputarea_id10",
              "outputarea_id6",
              "user_output"
            ]
          }
        },
        {
          "output_type": "display_data",
          "data": {
            "text/html": [
              "<script src='/nbextensions/google.colab/tabbar_main.min.js'></script>"
            ],
            "text/plain": [
              "<IPython.core.display.HTML object>"
            ]
          },
          "metadata": {
            "tags": [
              "id6-0-3",
              "outputarea_id10",
              "outputarea_id6",
              "user_output"
            ]
          }
        },
        {
          "output_type": "display_data",
          "data": {
            "text/html": [
              "<div id=\"id10\"></div>"
            ],
            "text/plain": [
              "<IPython.core.display.HTML object>"
            ]
          },
          "metadata": {
            "tags": [
              "id6-0-3",
              "outputarea_id10",
              "outputarea_id6",
              "user_output"
            ]
          }
        },
        {
          "output_type": "display_data",
          "data": {
            "application/javascript": [
              "window[\"a94691f8-c236-11ea-8359-0242ac1c0002\"] = colab_lib.createTabBar({\"location\": \"top\", \"elementId\": \"id10\", \"tabNames\": [\"a\", \"b\"], \"initialSelection\": 0, \"contentBorder\": [\"0px\"], \"contentHeight\": [\"initial\"], \"borderColor\": [\"#a7a7a7\"]});\n",
              "//# sourceURL=js_24b3269187"
            ],
            "text/plain": [
              "<IPython.core.display.Javascript object>"
            ]
          },
          "metadata": {
            "tags": [
              "id6-0-3",
              "outputarea_id10",
              "outputarea_id6",
              "user_output"
            ]
          }
        },
        {
          "output_type": "display_data",
          "data": {
            "application/javascript": [
              "window[\"a946e504-c236-11ea-8359-0242ac1c0002\"] = window[\"id10\"].setSelectedTabIndex(0);\n",
              "//# sourceURL=js_a2eaa4e506"
            ],
            "text/plain": [
              "<IPython.core.display.Javascript object>"
            ]
          },
          "metadata": {
            "tags": [
              "id6-0-3",
              "outputarea_id10",
              "outputarea_id6",
              "user_output"
            ]
          }
        },
        {
          "output_type": "display_data",
          "data": {
            "application/javascript": [
              "window[\"a9480bfa-c236-11ea-8359-0242ac1c0002\"] = google.colab.output.getActiveOutputArea();\n",
              "//# sourceURL=js_22db0c772d"
            ],
            "text/plain": [
              "<IPython.core.display.Javascript object>"
            ]
          },
          "metadata": {
            "tags": [
              "id10_content_0",
              "id6-0-3",
              "outputarea_id10",
              "outputarea_id6",
              "user_output"
            ]
          }
        },
        {
          "output_type": "display_data",
          "data": {
            "application/javascript": [
              "window[\"a9484ff2-c236-11ea-8359-0242ac1c0002\"] = document.querySelector(\"#id10_content_0\");\n",
              "//# sourceURL=js_1112e2c4c7"
            ],
            "text/plain": [
              "<IPython.core.display.Javascript object>"
            ]
          },
          "metadata": {
            "tags": [
              "id10_content_0",
              "id6-0-3",
              "outputarea_id10",
              "outputarea_id6",
              "user_output"
            ]
          }
        },
        {
          "output_type": "display_data",
          "data": {
            "application/javascript": [
              "window[\"a948a0c4-c236-11ea-8359-0242ac1c0002\"] = google.colab.output.setActiveOutputArea(window[\"a9484ff2-c236-11ea-8359-0242ac1c0002\"]);\n",
              "//# sourceURL=js_1ed03d35de"
            ],
            "text/plain": [
              "<IPython.core.display.Javascript object>"
            ]
          },
          "metadata": {
            "tags": [
              "id10_content_0",
              "id6-0-3",
              "outputarea_id10",
              "outputarea_id6",
              "user_output"
            ]
          }
        },
        {
          "output_type": "display_data",
          "data": {
            "application/javascript": [
              "window[\"a948fd3a-c236-11ea-8359-0242ac1c0002\"] = window[\"id10\"].setSelectedTabIndex(0);\n",
              "//# sourceURL=js_f7fb77a403"
            ],
            "text/plain": [
              "<IPython.core.display.Javascript object>"
            ]
          },
          "metadata": {
            "tags": [
              "id10_content_0",
              "id6-0-3",
              "outputarea_id10",
              "outputarea_id6",
              "user_output"
            ]
          }
        },
        {
          "output_type": "display_data",
          "data": {
            "image/png": "[encoded data removed]",
            "text/plain": [
              "<Figure size 216x216 with 1 Axes>"
            ]
          },
          "metadata": {
            "tags": [
              "id10_content_0",
              "id6-0-3",
              "outputarea_id10",
              "outputarea_id6",
              "user_output"
            ],
            "needs_background": "light"
          }
        },
        {
          "output_type": "display_data",
          "data": {
            "application/javascript": [
              "window[\"a9609530-c236-11ea-8359-0242ac1c0002\"] = google.colab.output.setActiveOutputArea(window[\"a9480bfa-c236-11ea-8359-0242ac1c0002\"]);\n",
              "//# sourceURL=js_32cf7912b7"
            ],
            "text/plain": [
              "<IPython.core.display.Javascript object>"
            ]
          },
          "metadata": {
            "tags": [
              "id10_content_0",
              "id6-0-3",
              "outputarea_id10",
              "outputarea_id6",
              "user_output"
            ]
          }
        },
        {
          "output_type": "display_data",
          "data": {
            "application/javascript": [
              "window[\"a96303a6-c236-11ea-8359-0242ac1c0002\"] = google.colab.output.getActiveOutputArea();\n",
              "//# sourceURL=js_c30303658b"
            ],
            "text/plain": [
              "<IPython.core.display.Javascript object>"
            ]
          },
          "metadata": {
            "tags": [
              "id10_content_1",
              "id6-0-3",
              "outputarea_id10",
              "outputarea_id6",
              "user_output"
            ]
          }
        },
        {
          "output_type": "display_data",
          "data": {
            "application/javascript": [
              "window[\"a96366ac-c236-11ea-8359-0242ac1c0002\"] = document.querySelector(\"#id10_content_1\");\n",
              "//# sourceURL=js_0b6490f98a"
            ],
            "text/plain": [
              "<IPython.core.display.Javascript object>"
            ]
          },
          "metadata": {
            "tags": [
              "id10_content_1",
              "id6-0-3",
              "outputarea_id10",
              "outputarea_id6",
              "user_output"
            ]
          }
        },
        {
          "output_type": "display_data",
          "data": {
            "application/javascript": [
              "window[\"a963b1e8-c236-11ea-8359-0242ac1c0002\"] = google.colab.output.setActiveOutputArea(window[\"a96366ac-c236-11ea-8359-0242ac1c0002\"]);\n",
              "//# sourceURL=js_b1cefec86b"
            ],
            "text/plain": [
              "<IPython.core.display.Javascript object>"
            ]
          },
          "metadata": {
            "tags": [
              "id10_content_1",
              "id6-0-3",
              "outputarea_id10",
              "outputarea_id6",
              "user_output"
            ]
          }
        },
        {
          "output_type": "display_data",
          "data": {
            "application/javascript": [
              "window[\"a9640c38-c236-11ea-8359-0242ac1c0002\"] = window[\"id10\"].setSelectedTabIndex(1);\n",
              "//# sourceURL=js_cf785a1313"
            ],
            "text/plain": [
              "<IPython.core.display.Javascript object>"
            ]
          },
          "metadata": {
            "tags": [
              "id10_content_1",
              "id6-0-3",
              "outputarea_id10",
              "outputarea_id6",
              "user_output"
            ]
          }
        },
        {
          "output_type": "display_data",
          "data": {
            "image/png": "[encoded data removed]",
            "text/plain": [
              "<Figure size 216x216 with 1 Axes>"
            ]
          },
          "metadata": {
            "tags": [
              "id10_content_1",
              "id6-0-3",
              "outputarea_id10",
              "outputarea_id6",
              "user_output"
            ],
            "needs_background": "light"
          }
        },
        {
          "output_type": "display_data",
          "data": {
            "application/javascript": [
              "window[\"a9787f4c-c236-11ea-8359-0242ac1c0002\"] = google.colab.output.setActiveOutputArea(window[\"a96303a6-c236-11ea-8359-0242ac1c0002\"]);\n",
              "//# sourceURL=js_10227308bd"
            ],
            "text/plain": [
              "<IPython.core.display.Javascript object>"
            ]
          },
          "metadata": {
            "tags": [
              "id10_content_1",
              "id6-0-3",
              "outputarea_id10",
              "outputarea_id6",
              "user_output"
            ]
          }
        },
        {
          "output_type": "display_data",
          "data": {
            "application/javascript": [
              "window[\"a97a9d68-c236-11ea-8359-0242ac1c0002\"] = google.colab.output.setActiveOutputArea(window[\"a9442c06-c236-11ea-8359-0242ac1c0002\"]);\n",
              "//# sourceURL=js_5214f198cf"
            ],
            "text/plain": [
              "<IPython.core.display.Javascript object>"
            ]
          },
          "metadata": {
            "tags": [
              "id6-0-3",
              "outputarea_id6"
            ]
          }
        }
      ]
    }
  ]
}