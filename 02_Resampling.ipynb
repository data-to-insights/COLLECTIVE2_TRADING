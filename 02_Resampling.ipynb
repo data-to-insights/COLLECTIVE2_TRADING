{
  "nbformat": 4,
  "nbformat_minor": 0,
  "metadata": {
    "kernelspec": {
      "display_name": "Python 3",
      "language": "python",
      "name": "python3"
    },
    "language_info": {
      "codemirror_mode": {
        "name": "ipython",
        "version": 3
      },
      "file_extension": ".py",
      "mimetype": "text/x-python",
      "name": "python",
      "nbconvert_exporter": "python",
      "pygments_lexer": "ipython3",
      "version": "3.6.8"
    },
    "colab": {
      "name": "02_Resampling.ipynb",
      "provenance": [],
      "collapsed_sections": [
        "M_fvHoZXmQWl",
        "zXf9no1hmQWu",
        "kUrzO73JmQXA",
        "u3b5G8kGmQYi",
        "DBEqLcEDmQY0",
        "mXjs5800mQZH"
      ],
      "include_colab_link": true
    }
  },
  "cells": [
    {
      "cell_type": "markdown",
      "metadata": {
        "id": "view-in-github",
        "colab_type": "text"
      },
      "source": [
        "<a href=\"https://colab.research.google.com/github/data-to-insights/COLLECTIVE2_TRADING/blob/master/02_Resampling.ipynb\" target=\"_parent\"><img src=\"https://colab.research.google.com/assets/colab-badge.svg\" alt=\"Open In Colab\"/></a>"
      ]
    },
    {
      "cell_type": "markdown",
      "metadata": {
        "id": "aUWHjYI0mQVv",
        "colab_type": "text"
      },
      "source": [
        "# SimFin Tutorial 02 - Resampling\n",
        "\n",
        "[Original repository on GitHub](https://github.com/simfin/simfin-tutorials)\n",
        "\n",
        "This tutorial was originally written by [Hvass Labs](https://github.com/Hvass-Labs)\n",
        "\n",
        "----\n",
        "\n",
        "\"I believe this is going to be a very difficult *croning* job. *Cloning* you idiot, not *croning!*\" &ndash; [The Sleeper](https://www.youtube.com/watch?v=27PGmG0k2Kk)"
      ]
    },
    {
      "cell_type": "markdown",
      "metadata": {
        "id": "tcjjp58tmQVx",
        "colab_type": "text"
      },
      "source": [
        "## Introduction\n",
        "\n",
        "Resampling is a very common operation on financial data. The fundamental data in Balance Sheets, Income Statements and Cash-Flow Statements is only provided at quarterly or annual intervals, corresponding to the financial reports of the companies. If we want to use this data to calculate daily valuation ratios such as P/E or P/Sales then we first need to upsample the fundamental data.\n",
        "\n",
        "Broadly speaking, Pandas provides three methods for resampling data. They can all up- and downsample the data, but their features are slightly different:\n",
        "\n",
        "- **AsFreq** is the simplest resampling method, which only allows filling in the missing values backwards or forwards.\n",
        "\n",
        "- **Resample** is a more flexible resampling method, which allows more advanced interpolation when filling in missing values for upsampling, and also allows more advanced summarization methods for downsampling.\n",
        "\n",
        "- **Reindex** conforms a DataFrame to the index of another DataFrame, which will be explained in more detail below.\n",
        "\n",
        "The syntax for these resampling methods is complex and confusing, so after explaining how to use the Pandas methods on SimFin data, we also show some helper-functions from the simfin package, that you may want to use instead of Pandas' native methods.\n",
        "\n",
        "It is assumed you are already familiar with Tutorial 01 on the basics of SimFin before you read this tutorial."
      ]
    },
    {
      "cell_type": "code",
      "metadata": {
        "id": "DZSTWhISm7B9",
        "colab_type": "code",
        "colab": {
          "base_uri": "https://localhost:8080/",
          "height": 279
        },
        "outputId": "18773c11-9b3f-47bc-c5cd-e5d9ca53a89a"
      },
      "source": [
        "# !pip install simfin"
      ],
      "execution_count": null,
      "outputs": [
        {
          "output_type": "stream",
          "text": [
            "Collecting simfin\n",
            "\u001b[?25l  Downloading https://files.pythonhosted.org/packages/bb/75/33d1779bdb3ccc078af4fbd89eb354d39faa172630a1a485d471cfd39d23/simfin-0.7.0-py3-none-any.whl (59kB)\n",
            "\r\u001b[K     |█████▌                          | 10kB 17.9MB/s eta 0:00:01\r\u001b[K     |███████████                     | 20kB 2.2MB/s eta 0:00:01\r\u001b[K     |████████████████▌               | 30kB 2.8MB/s eta 0:00:01\r\u001b[K     |██████████████████████          | 40kB 3.1MB/s eta 0:00:01\r\u001b[K     |███████████████████████████▍    | 51kB 2.5MB/s eta 0:00:01\r\u001b[K     |████████████████████████████████| 61kB 2.1MB/s \n",
            "\u001b[?25hRequirement already satisfied: pandas in /usr/local/lib/python3.6/dist-packages (from simfin) (1.0.5)\n",
            "Requirement already satisfied: numpy in /usr/local/lib/python3.6/dist-packages (from simfin) (1.18.5)\n",
            "Requirement already satisfied: requests in /usr/local/lib/python3.6/dist-packages (from simfin) (2.23.0)\n",
            "Requirement already satisfied: python-dateutil>=2.6.1 in /usr/local/lib/python3.6/dist-packages (from pandas->simfin) (2.8.1)\n",
            "Requirement already satisfied: pytz>=2017.2 in /usr/local/lib/python3.6/dist-packages (from pandas->simfin) (2018.9)\n",
            "Requirement already satisfied: certifi>=2017.4.17 in /usr/local/lib/python3.6/dist-packages (from requests->simfin) (2020.6.20)\n",
            "Requirement already satisfied: urllib3!=1.25.0,!=1.25.1,<1.26,>=1.21.1 in /usr/local/lib/python3.6/dist-packages (from requests->simfin) (1.24.3)\n",
            "Requirement already satisfied: chardet<4,>=3.0.2 in /usr/local/lib/python3.6/dist-packages (from requests->simfin) (3.0.4)\n",
            "Requirement already satisfied: idna<3,>=2.5 in /usr/local/lib/python3.6/dist-packages (from requests->simfin) (2.9)\n",
            "Requirement already satisfied: six>=1.5 in /usr/local/lib/python3.6/dist-packages (from python-dateutil>=2.6.1->pandas->simfin) (1.12.0)\n",
            "Installing collected packages: simfin\n",
            "Successfully installed simfin-0.7.0\n"
          ],
          "name": "stdout"
        }
      ]
    },
    {
      "cell_type": "markdown",
      "metadata": {
        "id": "nqMDcZ6jmQVy",
        "colab_type": "text"
      },
      "source": [
        "## Imports"
      ]
    },
    {
      "cell_type": "code",
      "metadata": {
        "id": "tIi7v5LqmQVy",
        "colab_type": "code",
        "colab": {}
      },
      "source": [
        "%matplotlib inline\n",
        "import pandas as pd\n",
        "import seaborn as sns\n",
        "\n",
        "# Import the main functionality from the SimFin Python API.\n",
        "import simfin as sf\n",
        "\n",
        "# Import names used for easy access to SimFin's data-columns.\n",
        "from simfin.names import *"
      ],
      "execution_count": null,
      "outputs": []
    },
    {
      "cell_type": "code",
      "metadata": {
        "id": "EInLORFtmQV5",
        "colab_type": "code",
        "colab": {
          "base_uri": "https://localhost:8080/",
          "height": 35
        },
        "outputId": "000959cb-f210-4953-c0e6-3c2046dc2f79"
      },
      "source": [
        "# Version of the SimFin Python API.\n",
        "sf.__version__"
      ],
      "execution_count": null,
      "outputs": [
        {
          "output_type": "execute_result",
          "data": {
            "application/vnd.google.colaboratory.intrinsic": {
              "type": "string"
            },
            "text/plain": [
              "'0.7.0'"
            ]
          },
          "metadata": {
            "tags": []
          },
          "execution_count": 52
        }
      ]
    },
    {
      "cell_type": "markdown",
      "metadata": {
        "id": "LwSU2SWkmQV9",
        "colab_type": "text"
      },
      "source": [
        "## Config"
      ]
    },
    {
      "cell_type": "code",
      "metadata": {
        "id": "v1BDdW6lmQV-",
        "colab_type": "code",
        "colab": {}
      },
      "source": [
        "# SimFin data-directory.\n",
        "sf.set_data_dir('~/simfin_data/')"
      ],
      "execution_count": null,
      "outputs": []
    },
    {
      "cell_type": "code",
      "metadata": {
        "id": "k2x2qLM2mQWB",
        "colab_type": "code",
        "colab": {}
      },
      "source": [
        "# SimFin load API key or use free data.\n",
        "sf.load_api_key(path='~/simfin_api_key.txt', default_key='free')"
      ],
      "execution_count": null,
      "outputs": []
    },
    {
      "cell_type": "code",
      "metadata": {
        "id": "Gwe402oymQWE",
        "colab_type": "code",
        "colab": {}
      },
      "source": [
        "# Seaborn set plotting style.\n",
        "sns.set_style(\"whitegrid\")"
      ],
      "execution_count": null,
      "outputs": []
    },
    {
      "cell_type": "markdown",
      "metadata": {
        "id": "IkqyHH6hmQWJ",
        "colab_type": "text"
      },
      "source": [
        "## Load Datasets\n",
        "\n",
        "We will use the datasets for annual Income Statements and daily Share-Prices in these examples. In reality you would typically want to use the TTM-data instead, to get 4 yearly data-points instead of just 1 yearly data-point when using annual reports."
      ]
    },
    {
      "cell_type": "code",
      "metadata": {
        "id": "7B_MDejsmQWJ",
        "colab_type": "code",
        "colab": {
          "base_uri": "https://localhost:8080/",
          "height": 262
        },
        "outputId": "7fc56d70-5407-4b2d-ae50-db9c80a1425c"
      },
      "source": [
        "%%time\n",
        "market = 'us'\n",
        "df_income = sf.load_income(variant='annual', market=market)\n",
        "df_prices = sf.load_shareprices(variant='daily', market=market)\n",
        "df_prices_latest = sf.load_shareprices(variant='latest', market=market)"
      ],
      "execution_count": null,
      "outputs": [
        {
          "output_type": "stream",
          "text": [
            "Dataset \"us-income-annual\" not on disk.\n",
            "- Downloading ... 100.0%\n",
            "- Extracting zip-file ... Done!\n",
            "- Loading from disk ... Done!\n",
            "Dataset \"us-shareprices-daily\" not on disk.\n",
            "- Downloading ... 100.0%\n",
            "- Extracting zip-file ... Done!\n",
            "- Loading from disk ... Done!\n",
            "Dataset \"us-shareprices-latest\" not on disk.\n",
            "- Downloading ... 100.0%\n",
            "- Extracting zip-file ... Done!\n",
            "- Loading from disk ... Done!\n",
            "CPU times: user 22.6 s, sys: 3.4 s, total: 26 s\n",
            "Wall time: 34.8 s\n"
          ],
          "name": "stdout"
        }
      ]
    },
    {
      "cell_type": "markdown",
      "metadata": {
        "id": "hIMwRt18mQWQ",
        "colab_type": "text"
      },
      "source": [
        "We will only use a sub-set of the datasets for tickers AAPL, AMZN and MSFT."
      ]
    },
    {
      "cell_type": "code",
      "metadata": {
        "id": "tXmg6BVqmQWQ",
        "colab_type": "code",
        "colab": {}
      },
      "source": [
        "tickers = ['AAPL', 'AMZN', 'MSFT']\n",
        "df_income = df_income.loc[tickers, [REVENUE, NET_INCOME]].copy()\n",
        "df_prices = df_prices.loc[tickers, [CLOSE, ADJ_CLOSE]].copy()\n",
        "df_prices_latest = df_prices_latest.loc[tickers, [CLOSE, ADJ_CLOSE]].copy()"
      ],
      "execution_count": null,
      "outputs": []
    },
    {
      "cell_type": "code",
      "metadata": {
        "id": "ldSlttOtmQWU",
        "colab_type": "code",
        "colab": {
          "base_uri": "https://localhost:8080/",
          "height": 1000
        },
        "outputId": "2c99ef1a-6dc7-4836-a2ce-3f2c530282a0"
      },
      "source": [
        "df_income"
      ],
      "execution_count": null,
      "outputs": [
        {
          "output_type": "execute_result",
          "data": {
            "text/html": [
              "<div>\n",
              "<style scoped>\n",
              "    .dataframe tbody tr th:only-of-type {\n",
              "        vertical-align: middle;\n",
              "    }\n",
              "\n",
              "    .dataframe tbody tr th {\n",
              "        vertical-align: top;\n",
              "    }\n",
              "\n",
              "    .dataframe thead th {\n",
              "        text-align: right;\n",
              "    }\n",
              "</style>\n",
              "<table border=\"1\" class=\"dataframe\">\n",
              "  <thead>\n",
              "    <tr style=\"text-align: right;\">\n",
              "      <th></th>\n",
              "      <th></th>\n",
              "      <th>Revenue</th>\n",
              "      <th>Net Income</th>\n",
              "    </tr>\n",
              "    <tr>\n",
              "      <th>Ticker</th>\n",
              "      <th>Report Date</th>\n",
              "      <th></th>\n",
              "      <th></th>\n",
              "    </tr>\n",
              "  </thead>\n",
              "  <tbody>\n",
              "    <tr>\n",
              "      <th rowspan=\"11\" valign=\"top\">AAPL</th>\n",
              "      <th>2008-09-30</th>\n",
              "      <td>3.749100e+10</td>\n",
              "      <td>6119000000</td>\n",
              "    </tr>\n",
              "    <tr>\n",
              "      <th>2009-09-30</th>\n",
              "      <td>4.290500e+10</td>\n",
              "      <td>8235000000</td>\n",
              "    </tr>\n",
              "    <tr>\n",
              "      <th>2010-09-30</th>\n",
              "      <td>6.522500e+10</td>\n",
              "      <td>14013000000</td>\n",
              "    </tr>\n",
              "    <tr>\n",
              "      <th>2011-09-30</th>\n",
              "      <td>1.082490e+11</td>\n",
              "      <td>25922000000</td>\n",
              "    </tr>\n",
              "    <tr>\n",
              "      <th>2012-09-30</th>\n",
              "      <td>1.565080e+11</td>\n",
              "      <td>41733000000</td>\n",
              "    </tr>\n",
              "    <tr>\n",
              "      <th>2013-09-30</th>\n",
              "      <td>1.709100e+11</td>\n",
              "      <td>37037000000</td>\n",
              "    </tr>\n",
              "    <tr>\n",
              "      <th>2014-09-30</th>\n",
              "      <td>1.827950e+11</td>\n",
              "      <td>39510000000</td>\n",
              "    </tr>\n",
              "    <tr>\n",
              "      <th>2015-09-30</th>\n",
              "      <td>2.337150e+11</td>\n",
              "      <td>53394000000</td>\n",
              "    </tr>\n",
              "    <tr>\n",
              "      <th>2016-09-30</th>\n",
              "      <td>2.156390e+11</td>\n",
              "      <td>45687000000</td>\n",
              "    </tr>\n",
              "    <tr>\n",
              "      <th>2017-09-30</th>\n",
              "      <td>2.292340e+11</td>\n",
              "      <td>48351000000</td>\n",
              "    </tr>\n",
              "    <tr>\n",
              "      <th>2018-09-30</th>\n",
              "      <td>2.655950e+11</td>\n",
              "      <td>59531000000</td>\n",
              "    </tr>\n",
              "    <tr>\n",
              "      <th rowspan=\"11\" valign=\"top\">AMZN</th>\n",
              "      <th>2008-12-31</th>\n",
              "      <td>1.916600e+10</td>\n",
              "      <td>645000000</td>\n",
              "    </tr>\n",
              "    <tr>\n",
              "      <th>2009-12-31</th>\n",
              "      <td>2.450900e+10</td>\n",
              "      <td>902000000</td>\n",
              "    </tr>\n",
              "    <tr>\n",
              "      <th>2010-12-31</th>\n",
              "      <td>3.420400e+10</td>\n",
              "      <td>1152000000</td>\n",
              "    </tr>\n",
              "    <tr>\n",
              "      <th>2011-12-31</th>\n",
              "      <td>4.807700e+10</td>\n",
              "      <td>631000000</td>\n",
              "    </tr>\n",
              "    <tr>\n",
              "      <th>2012-12-31</th>\n",
              "      <td>6.109300e+10</td>\n",
              "      <td>-39000000</td>\n",
              "    </tr>\n",
              "    <tr>\n",
              "      <th>2013-12-31</th>\n",
              "      <td>7.445200e+10</td>\n",
              "      <td>274000000</td>\n",
              "    </tr>\n",
              "    <tr>\n",
              "      <th>2014-12-31</th>\n",
              "      <td>8.898800e+10</td>\n",
              "      <td>-241000000</td>\n",
              "    </tr>\n",
              "    <tr>\n",
              "      <th>2015-12-31</th>\n",
              "      <td>1.070060e+11</td>\n",
              "      <td>596000000</td>\n",
              "    </tr>\n",
              "    <tr>\n",
              "      <th>2016-12-31</th>\n",
              "      <td>1.359870e+11</td>\n",
              "      <td>2371000000</td>\n",
              "    </tr>\n",
              "    <tr>\n",
              "      <th>2017-12-31</th>\n",
              "      <td>1.778660e+11</td>\n",
              "      <td>3033000000</td>\n",
              "    </tr>\n",
              "    <tr>\n",
              "      <th>2018-12-31</th>\n",
              "      <td>2.328870e+11</td>\n",
              "      <td>10073000000</td>\n",
              "    </tr>\n",
              "    <tr>\n",
              "      <th rowspan=\"11\" valign=\"top\">MSFT</th>\n",
              "      <th>2009-06-30</th>\n",
              "      <td>5.843700e+10</td>\n",
              "      <td>14569000000</td>\n",
              "    </tr>\n",
              "    <tr>\n",
              "      <th>2010-06-30</th>\n",
              "      <td>6.248400e+10</td>\n",
              "      <td>18760000000</td>\n",
              "    </tr>\n",
              "    <tr>\n",
              "      <th>2011-06-30</th>\n",
              "      <td>6.994300e+10</td>\n",
              "      <td>23150000000</td>\n",
              "    </tr>\n",
              "    <tr>\n",
              "      <th>2012-06-30</th>\n",
              "      <td>7.372300e+10</td>\n",
              "      <td>16978000000</td>\n",
              "    </tr>\n",
              "    <tr>\n",
              "      <th>2013-06-30</th>\n",
              "      <td>7.784900e+10</td>\n",
              "      <td>21863000000</td>\n",
              "    </tr>\n",
              "    <tr>\n",
              "      <th>2014-06-30</th>\n",
              "      <td>8.683300e+10</td>\n",
              "      <td>22074000000</td>\n",
              "    </tr>\n",
              "    <tr>\n",
              "      <th>2015-06-30</th>\n",
              "      <td>9.358000e+10</td>\n",
              "      <td>12193000000</td>\n",
              "    </tr>\n",
              "    <tr>\n",
              "      <th>2016-06-30</th>\n",
              "      <td>9.115400e+10</td>\n",
              "      <td>20539000000</td>\n",
              "    </tr>\n",
              "    <tr>\n",
              "      <th>2017-06-30</th>\n",
              "      <td>9.657100e+10</td>\n",
              "      <td>25489000000</td>\n",
              "    </tr>\n",
              "    <tr>\n",
              "      <th>2018-06-30</th>\n",
              "      <td>1.103600e+11</td>\n",
              "      <td>16571000000</td>\n",
              "    </tr>\n",
              "    <tr>\n",
              "      <th>2019-06-30</th>\n",
              "      <td>1.258430e+11</td>\n",
              "      <td>39240000000</td>\n",
              "    </tr>\n",
              "  </tbody>\n",
              "</table>\n",
              "</div>"
            ],
            "text/plain": [
              "                         Revenue   Net Income\n",
              "Ticker Report Date                           \n",
              "AAPL   2008-09-30   3.749100e+10   6119000000\n",
              "       2009-09-30   4.290500e+10   8235000000\n",
              "       2010-09-30   6.522500e+10  14013000000\n",
              "       2011-09-30   1.082490e+11  25922000000\n",
              "       2012-09-30   1.565080e+11  41733000000\n",
              "       2013-09-30   1.709100e+11  37037000000\n",
              "       2014-09-30   1.827950e+11  39510000000\n",
              "       2015-09-30   2.337150e+11  53394000000\n",
              "       2016-09-30   2.156390e+11  45687000000\n",
              "       2017-09-30   2.292340e+11  48351000000\n",
              "       2018-09-30   2.655950e+11  59531000000\n",
              "AMZN   2008-12-31   1.916600e+10    645000000\n",
              "       2009-12-31   2.450900e+10    902000000\n",
              "       2010-12-31   3.420400e+10   1152000000\n",
              "       2011-12-31   4.807700e+10    631000000\n",
              "       2012-12-31   6.109300e+10    -39000000\n",
              "       2013-12-31   7.445200e+10    274000000\n",
              "       2014-12-31   8.898800e+10   -241000000\n",
              "       2015-12-31   1.070060e+11    596000000\n",
              "       2016-12-31   1.359870e+11   2371000000\n",
              "       2017-12-31   1.778660e+11   3033000000\n",
              "       2018-12-31   2.328870e+11  10073000000\n",
              "MSFT   2009-06-30   5.843700e+10  14569000000\n",
              "       2010-06-30   6.248400e+10  18760000000\n",
              "       2011-06-30   6.994300e+10  23150000000\n",
              "       2012-06-30   7.372300e+10  16978000000\n",
              "       2013-06-30   7.784900e+10  21863000000\n",
              "       2014-06-30   8.683300e+10  22074000000\n",
              "       2015-06-30   9.358000e+10  12193000000\n",
              "       2016-06-30   9.115400e+10  20539000000\n",
              "       2017-06-30   9.657100e+10  25489000000\n",
              "       2018-06-30   1.103600e+11  16571000000\n",
              "       2019-06-30   1.258430e+11  39240000000"
            ]
          },
          "metadata": {
            "tags": []
          },
          "execution_count": 10
        }
      ]
    },
    {
      "cell_type": "code",
      "metadata": {
        "scrolled": true,
        "id": "0x-ZoZopmQWX",
        "colab_type": "code",
        "colab": {
          "base_uri": "https://localhost:8080/",
          "height": 235
        },
        "outputId": "f47d4fdd-360e-4fa9-dbc7-d5e7b334a6be"
      },
      "source": [
        "df_prices.head()"
      ],
      "execution_count": null,
      "outputs": [
        {
          "output_type": "execute_result",
          "data": {
            "text/html": [
              "<div>\n",
              "<style scoped>\n",
              "    .dataframe tbody tr th:only-of-type {\n",
              "        vertical-align: middle;\n",
              "    }\n",
              "\n",
              "    .dataframe tbody tr th {\n",
              "        vertical-align: top;\n",
              "    }\n",
              "\n",
              "    .dataframe thead th {\n",
              "        text-align: right;\n",
              "    }\n",
              "</style>\n",
              "<table border=\"1\" class=\"dataframe\">\n",
              "  <thead>\n",
              "    <tr style=\"text-align: right;\">\n",
              "      <th></th>\n",
              "      <th></th>\n",
              "      <th>Close</th>\n",
              "      <th>Adj. Close</th>\n",
              "    </tr>\n",
              "    <tr>\n",
              "      <th>Ticker</th>\n",
              "      <th>Date</th>\n",
              "      <th></th>\n",
              "      <th></th>\n",
              "    </tr>\n",
              "  </thead>\n",
              "  <tbody>\n",
              "    <tr>\n",
              "      <th rowspan=\"5\" valign=\"top\">AAPL</th>\n",
              "      <th>2007-01-03</th>\n",
              "      <td>11.9714</td>\n",
              "      <td>10.36</td>\n",
              "    </tr>\n",
              "    <tr>\n",
              "      <th>2007-01-04</th>\n",
              "      <td>12.2371</td>\n",
              "      <td>10.59</td>\n",
              "    </tr>\n",
              "    <tr>\n",
              "      <th>2007-01-05</th>\n",
              "      <td>12.1500</td>\n",
              "      <td>10.52</td>\n",
              "    </tr>\n",
              "    <tr>\n",
              "      <th>2007-01-08</th>\n",
              "      <td>12.2100</td>\n",
              "      <td>10.57</td>\n",
              "    </tr>\n",
              "    <tr>\n",
              "      <th>2007-01-09</th>\n",
              "      <td>13.2243</td>\n",
              "      <td>11.45</td>\n",
              "    </tr>\n",
              "  </tbody>\n",
              "</table>\n",
              "</div>"
            ],
            "text/plain": [
              "                     Close  Adj. Close\n",
              "Ticker Date                           \n",
              "AAPL   2007-01-03  11.9714       10.36\n",
              "       2007-01-04  12.2371       10.59\n",
              "       2007-01-05  12.1500       10.52\n",
              "       2007-01-08  12.2100       10.57\n",
              "       2007-01-09  13.2243       11.45"
            ]
          },
          "metadata": {
            "tags": []
          },
          "execution_count": 11
        }
      ]
    },
    {
      "cell_type": "code",
      "metadata": {
        "id": "iPA3jx5rmQWa",
        "colab_type": "code",
        "colab": {
          "base_uri": "https://localhost:8080/",
          "height": 173
        },
        "outputId": "608c2ca2-0075-4343-d24e-2295461d949d"
      },
      "source": [
        "df_prices_latest.head()"
      ],
      "execution_count": null,
      "outputs": [
        {
          "output_type": "execute_result",
          "data": {
            "text/html": [
              "<div>\n",
              "<style scoped>\n",
              "    .dataframe tbody tr th:only-of-type {\n",
              "        vertical-align: middle;\n",
              "    }\n",
              "\n",
              "    .dataframe tbody tr th {\n",
              "        vertical-align: top;\n",
              "    }\n",
              "\n",
              "    .dataframe thead th {\n",
              "        text-align: right;\n",
              "    }\n",
              "</style>\n",
              "<table border=\"1\" class=\"dataframe\">\n",
              "  <thead>\n",
              "    <tr style=\"text-align: right;\">\n",
              "      <th></th>\n",
              "      <th></th>\n",
              "      <th>Close</th>\n",
              "      <th>Adj. Close</th>\n",
              "    </tr>\n",
              "    <tr>\n",
              "      <th>Ticker</th>\n",
              "      <th>Date</th>\n",
              "      <th></th>\n",
              "      <th></th>\n",
              "    </tr>\n",
              "  </thead>\n",
              "  <tbody>\n",
              "    <tr>\n",
              "      <th>AAPL</th>\n",
              "      <th>2020-06-29</th>\n",
              "      <td>361.78</td>\n",
              "      <td>361.78</td>\n",
              "    </tr>\n",
              "    <tr>\n",
              "      <th>AMZN</th>\n",
              "      <th>2020-06-29</th>\n",
              "      <td>2680.38</td>\n",
              "      <td>2680.38</td>\n",
              "    </tr>\n",
              "    <tr>\n",
              "      <th>MSFT</th>\n",
              "      <th>2020-06-29</th>\n",
              "      <td>198.44</td>\n",
              "      <td>198.44</td>\n",
              "    </tr>\n",
              "  </tbody>\n",
              "</table>\n",
              "</div>"
            ],
            "text/plain": [
              "                     Close  Adj. Close\n",
              "Ticker Date                           \n",
              "AAPL   2020-06-29   361.78      361.78\n",
              "AMZN   2020-06-29  2680.38     2680.38\n",
              "MSFT   2020-06-29   198.44      198.44"
            ]
          },
          "metadata": {
            "tags": []
          },
          "execution_count": 12
        }
      ]
    },
    {
      "cell_type": "markdown",
      "metadata": {
        "id": "dt0Xc8bImQWd",
        "colab_type": "text"
      },
      "source": [
        "## AsFreq\n",
        "\n",
        "The simplest form of resampling in Pandas is called `asfreq` (presumably short for 'as frequency'). It can fill in the missing-values using either 'ffill' (forward fill) or 'bfill' (backward fill).\n",
        "\n",
        "For example, we can upsample the annual Income Statements to daily data for the ticker MSFT, by forward-filling the missing values from the last-known values:"
      ]
    },
    {
      "cell_type": "code",
      "metadata": {
        "id": "WGxPZ5_3mQWe",
        "colab_type": "code",
        "colab": {
          "base_uri": "https://localhost:8080/",
          "height": 450
        },
        "outputId": "94c094b1-a16f-4e7a-fcf4-0bcfc25a2279"
      },
      "source": [
        "df_income.loc['MSFT'].asfreq(freq='D', method='ffill')"
      ],
      "execution_count": null,
      "outputs": [
        {
          "output_type": "execute_result",
          "data": {
            "text/html": [
              "<div>\n",
              "<style scoped>\n",
              "    .dataframe tbody tr th:only-of-type {\n",
              "        vertical-align: middle;\n",
              "    }\n",
              "\n",
              "    .dataframe tbody tr th {\n",
              "        vertical-align: top;\n",
              "    }\n",
              "\n",
              "    .dataframe thead th {\n",
              "        text-align: right;\n",
              "    }\n",
              "</style>\n",
              "<table border=\"1\" class=\"dataframe\">\n",
              "  <thead>\n",
              "    <tr style=\"text-align: right;\">\n",
              "      <th></th>\n",
              "      <th>Revenue</th>\n",
              "      <th>Net Income</th>\n",
              "    </tr>\n",
              "    <tr>\n",
              "      <th>Report Date</th>\n",
              "      <th></th>\n",
              "      <th></th>\n",
              "    </tr>\n",
              "  </thead>\n",
              "  <tbody>\n",
              "    <tr>\n",
              "      <th>2009-06-30</th>\n",
              "      <td>5.843700e+10</td>\n",
              "      <td>14569000000</td>\n",
              "    </tr>\n",
              "    <tr>\n",
              "      <th>2009-07-01</th>\n",
              "      <td>5.843700e+10</td>\n",
              "      <td>14569000000</td>\n",
              "    </tr>\n",
              "    <tr>\n",
              "      <th>2009-07-02</th>\n",
              "      <td>5.843700e+10</td>\n",
              "      <td>14569000000</td>\n",
              "    </tr>\n",
              "    <tr>\n",
              "      <th>2009-07-03</th>\n",
              "      <td>5.843700e+10</td>\n",
              "      <td>14569000000</td>\n",
              "    </tr>\n",
              "    <tr>\n",
              "      <th>2009-07-04</th>\n",
              "      <td>5.843700e+10</td>\n",
              "      <td>14569000000</td>\n",
              "    </tr>\n",
              "    <tr>\n",
              "      <th>...</th>\n",
              "      <td>...</td>\n",
              "      <td>...</td>\n",
              "    </tr>\n",
              "    <tr>\n",
              "      <th>2019-06-26</th>\n",
              "      <td>1.103600e+11</td>\n",
              "      <td>16571000000</td>\n",
              "    </tr>\n",
              "    <tr>\n",
              "      <th>2019-06-27</th>\n",
              "      <td>1.103600e+11</td>\n",
              "      <td>16571000000</td>\n",
              "    </tr>\n",
              "    <tr>\n",
              "      <th>2019-06-28</th>\n",
              "      <td>1.103600e+11</td>\n",
              "      <td>16571000000</td>\n",
              "    </tr>\n",
              "    <tr>\n",
              "      <th>2019-06-29</th>\n",
              "      <td>1.103600e+11</td>\n",
              "      <td>16571000000</td>\n",
              "    </tr>\n",
              "    <tr>\n",
              "      <th>2019-06-30</th>\n",
              "      <td>1.258430e+11</td>\n",
              "      <td>39240000000</td>\n",
              "    </tr>\n",
              "  </tbody>\n",
              "</table>\n",
              "<p>3653 rows × 2 columns</p>\n",
              "</div>"
            ],
            "text/plain": [
              "                  Revenue   Net Income\n",
              "Report Date                           \n",
              "2009-06-30   5.843700e+10  14569000000\n",
              "2009-07-01   5.843700e+10  14569000000\n",
              "2009-07-02   5.843700e+10  14569000000\n",
              "2009-07-03   5.843700e+10  14569000000\n",
              "2009-07-04   5.843700e+10  14569000000\n",
              "...                   ...          ...\n",
              "2019-06-26   1.103600e+11  16571000000\n",
              "2019-06-27   1.103600e+11  16571000000\n",
              "2019-06-28   1.103600e+11  16571000000\n",
              "2019-06-29   1.103600e+11  16571000000\n",
              "2019-06-30   1.258430e+11  39240000000\n",
              "\n",
              "[3653 rows x 2 columns]"
            ]
          },
          "metadata": {
            "tags": []
          },
          "execution_count": 13
        }
      ]
    },
    {
      "cell_type": "markdown",
      "metadata": {
        "id": "T0NRJ075mQWi",
        "colab_type": "text"
      },
      "source": [
        "If we plot the upsampled data, it will show as \"staircase\" patterns because the forward-filling simply copies the last-known values:"
      ]
    },
    {
      "cell_type": "code",
      "metadata": {
        "id": "3C9egi0lmQWj",
        "colab_type": "code",
        "colab": {
          "base_uri": "https://localhost:8080/",
          "height": 307
        },
        "outputId": "a6935ef4-8962-41f3-ec7b-dd6777e0b586"
      },
      "source": [
        "df_income.loc['MSFT'].asfreq(freq='D', method='ffill').plot()"
      ],
      "execution_count": null,
      "outputs": [
        {
          "output_type": "execute_result",
          "data": {
            "text/plain": [
              "<matplotlib.axes._subplots.AxesSubplot at 0x7fafdc804b70>"
            ]
          },
          "metadata": {
            "tags": []
          },
          "execution_count": 14
        },
        {
          "output_type": "display_data",
          "data": {
            "image/png": "[encoded data removed]",
            "text/plain": [
              "<Figure size 432x288 with 1 Axes>"
            ]
          },
          "metadata": {
            "tags": []
          }
        }
      ]
    },
    {
      "cell_type": "markdown",
      "metadata": {
        "id": "M_fvHoZXmQWl",
        "colab_type": "text"
      },
      "source": [
        "### AsFreq on MultiIndex\n",
        "\n",
        "If we try to do `asfreq` resampling on a DataFrame with multiple tickers, then it raises an exception because `asfreq` does not support DataFrames with MultiIndex:"
      ]
    },
    {
      "cell_type": "code",
      "metadata": {
        "id": "sg2SbA20mQWm",
        "colab_type": "code",
        "colab": {
          "base_uri": "https://localhost:8080/",
          "height": 34
        },
        "outputId": "a78bffbb-1e1a-4e40-bb16-64016c7354d2"
      },
      "source": [
        "try:\n",
        "    df_income.asfreq('D', method='ffill')\n",
        "except Exception as e:\n",
        "    print(e)"
      ],
      "execution_count": null,
      "outputs": [
        {
          "output_type": "stream",
          "text": [
            "Cannot convert input [('AAPL', Timestamp('2008-09-30 00:00:00'))] of type <class 'tuple'> to Timestamp\n"
          ],
          "name": "stdout"
        }
      ]
    },
    {
      "cell_type": "markdown",
      "metadata": {
        "id": "54yD1yi-mQWp",
        "colab_type": "text"
      },
      "source": [
        "We need to split the DataFrame into sub-groups for each of the tickers, and perform the `asfreq` operation on each of those sub-groups, and then glue the results back together into a single DataFrame. Remember from Tutorial 01 that the `groupby` operation does exactly this.\n",
        "\n",
        "There are many ways of using `groupby` but the simplest I have been able to come up with so far, is the following. You can make the notation a little more compact (but probably also harder to read and understand), by using a lambda-function and chained calls instead."
      ]
    },
    {
      "cell_type": "code",
      "metadata": {
        "id": "dwSstV3QmQWp",
        "colab_type": "code",
        "colab": {},
        "outputId": "b30c1cfd-5c3e-4f65-e2d7-ff53f933d1c4"
      },
      "source": [
        "def _asfreq(df_grp):\n",
        "    # Remove TICKER from the MultiIndex.\n",
        "    df_grp = df_grp.reset_index(TICKER, drop=True)\n",
        "    \n",
        "    # Perform the operation on this group.\n",
        "    df_result = df_grp.asfreq(freq='D', method='ffill')\n",
        "\n",
        "    return df_result\n",
        "\n",
        "# Split the DataFrame into sub-groups and apply the _asfreq()\n",
        "# function on each of those sub-groups, and then glue the\n",
        "# results back together into a single DataFrame.\n",
        "df_income.groupby(TICKER).apply(_asfreq)"
      ],
      "execution_count": null,
      "outputs": [
        {
          "output_type": "execute_result",
          "data": {
            "text/html": [
              "<div>\n",
              "<style scoped>\n",
              "    .dataframe tbody tr th:only-of-type {\n",
              "        vertical-align: middle;\n",
              "    }\n",
              "\n",
              "    .dataframe tbody tr th {\n",
              "        vertical-align: top;\n",
              "    }\n",
              "\n",
              "    .dataframe thead th {\n",
              "        text-align: right;\n",
              "    }\n",
              "</style>\n",
              "<table border=\"1\" class=\"dataframe\">\n",
              "  <thead>\n",
              "    <tr style=\"text-align: right;\">\n",
              "      <th></th>\n",
              "      <th></th>\n",
              "      <th>Revenue</th>\n",
              "      <th>Net Income</th>\n",
              "    </tr>\n",
              "    <tr>\n",
              "      <th>Ticker</th>\n",
              "      <th>Report Date</th>\n",
              "      <th></th>\n",
              "      <th></th>\n",
              "    </tr>\n",
              "  </thead>\n",
              "  <tbody>\n",
              "    <tr>\n",
              "      <td rowspan=\"5\" valign=\"top\">AAPL</td>\n",
              "      <td>2007-09-30</td>\n",
              "      <td>2.457800e+10</td>\n",
              "      <td>3495000000</td>\n",
              "    </tr>\n",
              "    <tr>\n",
              "      <td>2007-10-01</td>\n",
              "      <td>2.457800e+10</td>\n",
              "      <td>3495000000</td>\n",
              "    </tr>\n",
              "    <tr>\n",
              "      <td>2007-10-02</td>\n",
              "      <td>2.457800e+10</td>\n",
              "      <td>3495000000</td>\n",
              "    </tr>\n",
              "    <tr>\n",
              "      <td>2007-10-03</td>\n",
              "      <td>2.457800e+10</td>\n",
              "      <td>3495000000</td>\n",
              "    </tr>\n",
              "    <tr>\n",
              "      <td>2007-10-04</td>\n",
              "      <td>2.457800e+10</td>\n",
              "      <td>3495000000</td>\n",
              "    </tr>\n",
              "    <tr>\n",
              "      <td>...</td>\n",
              "      <td>...</td>\n",
              "      <td>...</td>\n",
              "      <td>...</td>\n",
              "    </tr>\n",
              "    <tr>\n",
              "      <td rowspan=\"5\" valign=\"top\">MSFT</td>\n",
              "      <td>2019-06-26</td>\n",
              "      <td>1.103600e+11</td>\n",
              "      <td>16571000000</td>\n",
              "    </tr>\n",
              "    <tr>\n",
              "      <td>2019-06-27</td>\n",
              "      <td>1.103600e+11</td>\n",
              "      <td>16571000000</td>\n",
              "    </tr>\n",
              "    <tr>\n",
              "      <td>2019-06-28</td>\n",
              "      <td>1.103600e+11</td>\n",
              "      <td>16571000000</td>\n",
              "    </tr>\n",
              "    <tr>\n",
              "      <td>2019-06-29</td>\n",
              "      <td>1.103600e+11</td>\n",
              "      <td>16571000000</td>\n",
              "    </tr>\n",
              "    <tr>\n",
              "      <td>2019-06-30</td>\n",
              "      <td>1.258430e+11</td>\n",
              "      <td>39240000000</td>\n",
              "    </tr>\n",
              "  </tbody>\n",
              "</table>\n",
              "<p>12421 rows × 2 columns</p>\n",
              "</div>"
            ],
            "text/plain": [
              "                         Revenue   Net Income\n",
              "Ticker Report Date                           \n",
              "AAPL   2007-09-30   2.457800e+10   3495000000\n",
              "       2007-10-01   2.457800e+10   3495000000\n",
              "       2007-10-02   2.457800e+10   3495000000\n",
              "       2007-10-03   2.457800e+10   3495000000\n",
              "       2007-10-04   2.457800e+10   3495000000\n",
              "...                          ...          ...\n",
              "MSFT   2019-06-26   1.103600e+11  16571000000\n",
              "       2019-06-27   1.103600e+11  16571000000\n",
              "       2019-06-28   1.103600e+11  16571000000\n",
              "       2019-06-29   1.103600e+11  16571000000\n",
              "       2019-06-30   1.258430e+11  39240000000\n",
              "\n",
              "[12421 rows x 2 columns]"
            ]
          },
          "metadata": {
            "tags": []
          },
          "execution_count": 14
        }
      ]
    },
    {
      "cell_type": "markdown",
      "metadata": {
        "id": "zXf9no1hmQWu",
        "colab_type": "text"
      },
      "source": [
        "### AsFreq Helper-Function\n",
        "\n",
        "It is hard to remember the above syntax for doing `asfreq` on a DataFrame with a MultiIndex, so the simfin package provides a helper-function that can take both Pandas DataFrames and Series, either having a single DatatimeIndex, or a MultiIndex with two indices, one of which is a DatetimeIndex and the other is e.g. the Ticker or SimFin_Id.\n",
        "\n",
        "For example, this is how you would do `asfreq` on a DataFrame for a single stock:"
      ]
    },
    {
      "cell_type": "code",
      "metadata": {
        "id": "T2Leard-mQWv",
        "colab_type": "code",
        "colab": {
          "base_uri": "https://localhost:8080/",
          "height": 450
        },
        "outputId": "9262f2ef-2c9b-47bf-e3b1-c6490f5461dc"
      },
      "source": [
        "sf.asfreq(df=df_income.loc['MSFT'], freq='D', method='ffill')"
      ],
      "execution_count": null,
      "outputs": [
        {
          "output_type": "execute_result",
          "data": {
            "text/html": [
              "<div>\n",
              "<style scoped>\n",
              "    .dataframe tbody tr th:only-of-type {\n",
              "        vertical-align: middle;\n",
              "    }\n",
              "\n",
              "    .dataframe tbody tr th {\n",
              "        vertical-align: top;\n",
              "    }\n",
              "\n",
              "    .dataframe thead th {\n",
              "        text-align: right;\n",
              "    }\n",
              "</style>\n",
              "<table border=\"1\" class=\"dataframe\">\n",
              "  <thead>\n",
              "    <tr style=\"text-align: right;\">\n",
              "      <th></th>\n",
              "      <th>Revenue</th>\n",
              "      <th>Net Income</th>\n",
              "    </tr>\n",
              "    <tr>\n",
              "      <th>Report Date</th>\n",
              "      <th></th>\n",
              "      <th></th>\n",
              "    </tr>\n",
              "  </thead>\n",
              "  <tbody>\n",
              "    <tr>\n",
              "      <th>2009-06-30</th>\n",
              "      <td>5.843700e+10</td>\n",
              "      <td>14569000000</td>\n",
              "    </tr>\n",
              "    <tr>\n",
              "      <th>2009-07-01</th>\n",
              "      <td>5.843700e+10</td>\n",
              "      <td>14569000000</td>\n",
              "    </tr>\n",
              "    <tr>\n",
              "      <th>2009-07-02</th>\n",
              "      <td>5.843700e+10</td>\n",
              "      <td>14569000000</td>\n",
              "    </tr>\n",
              "    <tr>\n",
              "      <th>2009-07-03</th>\n",
              "      <td>5.843700e+10</td>\n",
              "      <td>14569000000</td>\n",
              "    </tr>\n",
              "    <tr>\n",
              "      <th>2009-07-04</th>\n",
              "      <td>5.843700e+10</td>\n",
              "      <td>14569000000</td>\n",
              "    </tr>\n",
              "    <tr>\n",
              "      <th>...</th>\n",
              "      <td>...</td>\n",
              "      <td>...</td>\n",
              "    </tr>\n",
              "    <tr>\n",
              "      <th>2019-06-26</th>\n",
              "      <td>1.103600e+11</td>\n",
              "      <td>16571000000</td>\n",
              "    </tr>\n",
              "    <tr>\n",
              "      <th>2019-06-27</th>\n",
              "      <td>1.103600e+11</td>\n",
              "      <td>16571000000</td>\n",
              "    </tr>\n",
              "    <tr>\n",
              "      <th>2019-06-28</th>\n",
              "      <td>1.103600e+11</td>\n",
              "      <td>16571000000</td>\n",
              "    </tr>\n",
              "    <tr>\n",
              "      <th>2019-06-29</th>\n",
              "      <td>1.103600e+11</td>\n",
              "      <td>16571000000</td>\n",
              "    </tr>\n",
              "    <tr>\n",
              "      <th>2019-06-30</th>\n",
              "      <td>1.258430e+11</td>\n",
              "      <td>39240000000</td>\n",
              "    </tr>\n",
              "  </tbody>\n",
              "</table>\n",
              "<p>3653 rows × 2 columns</p>\n",
              "</div>"
            ],
            "text/plain": [
              "                  Revenue   Net Income\n",
              "Report Date                           \n",
              "2009-06-30   5.843700e+10  14569000000\n",
              "2009-07-01   5.843700e+10  14569000000\n",
              "2009-07-02   5.843700e+10  14569000000\n",
              "2009-07-03   5.843700e+10  14569000000\n",
              "2009-07-04   5.843700e+10  14569000000\n",
              "...                   ...          ...\n",
              "2019-06-26   1.103600e+11  16571000000\n",
              "2019-06-27   1.103600e+11  16571000000\n",
              "2019-06-28   1.103600e+11  16571000000\n",
              "2019-06-29   1.103600e+11  16571000000\n",
              "2019-06-30   1.258430e+11  39240000000\n",
              "\n",
              "[3653 rows x 2 columns]"
            ]
          },
          "metadata": {
            "tags": []
          },
          "execution_count": 16
        }
      ]
    },
    {
      "cell_type": "markdown",
      "metadata": {
        "id": "PZC9b4PhmQWz",
        "colab_type": "text"
      },
      "source": [
        "This is how you would do `asfreq` on a DataFrame with multiple stocks:"
      ]
    },
    {
      "cell_type": "code",
      "metadata": {
        "id": "kKvYeNv-mQW0",
        "colab_type": "code",
        "colab": {
          "base_uri": "https://localhost:8080/",
          "height": 450
        },
        "outputId": "3eb9fd35-49a8-4044-e5da-26d3a4d9df22"
      },
      "source": [
        "sf.asfreq(df=df_income, freq='D', method='ffill')"
      ],
      "execution_count": null,
      "outputs": [
        {
          "output_type": "execute_result",
          "data": {
            "text/html": [
              "<div>\n",
              "<style scoped>\n",
              "    .dataframe tbody tr th:only-of-type {\n",
              "        vertical-align: middle;\n",
              "    }\n",
              "\n",
              "    .dataframe tbody tr th {\n",
              "        vertical-align: top;\n",
              "    }\n",
              "\n",
              "    .dataframe thead th {\n",
              "        text-align: right;\n",
              "    }\n",
              "</style>\n",
              "<table border=\"1\" class=\"dataframe\">\n",
              "  <thead>\n",
              "    <tr style=\"text-align: right;\">\n",
              "      <th></th>\n",
              "      <th></th>\n",
              "      <th>Revenue</th>\n",
              "      <th>Net Income</th>\n",
              "    </tr>\n",
              "    <tr>\n",
              "      <th>Ticker</th>\n",
              "      <th>Report Date</th>\n",
              "      <th></th>\n",
              "      <th></th>\n",
              "    </tr>\n",
              "  </thead>\n",
              "  <tbody>\n",
              "    <tr>\n",
              "      <th rowspan=\"5\" valign=\"top\">AAPL</th>\n",
              "      <th>2008-09-30</th>\n",
              "      <td>3.749100e+10</td>\n",
              "      <td>6119000000</td>\n",
              "    </tr>\n",
              "    <tr>\n",
              "      <th>2008-10-01</th>\n",
              "      <td>3.749100e+10</td>\n",
              "      <td>6119000000</td>\n",
              "    </tr>\n",
              "    <tr>\n",
              "      <th>2008-10-02</th>\n",
              "      <td>3.749100e+10</td>\n",
              "      <td>6119000000</td>\n",
              "    </tr>\n",
              "    <tr>\n",
              "      <th>2008-10-03</th>\n",
              "      <td>3.749100e+10</td>\n",
              "      <td>6119000000</td>\n",
              "    </tr>\n",
              "    <tr>\n",
              "      <th>2008-10-04</th>\n",
              "      <td>3.749100e+10</td>\n",
              "      <td>6119000000</td>\n",
              "    </tr>\n",
              "    <tr>\n",
              "      <th>...</th>\n",
              "      <th>...</th>\n",
              "      <td>...</td>\n",
              "      <td>...</td>\n",
              "    </tr>\n",
              "    <tr>\n",
              "      <th rowspan=\"5\" valign=\"top\">MSFT</th>\n",
              "      <th>2019-06-26</th>\n",
              "      <td>1.103600e+11</td>\n",
              "      <td>16571000000</td>\n",
              "    </tr>\n",
              "    <tr>\n",
              "      <th>2019-06-27</th>\n",
              "      <td>1.103600e+11</td>\n",
              "      <td>16571000000</td>\n",
              "    </tr>\n",
              "    <tr>\n",
              "      <th>2019-06-28</th>\n",
              "      <td>1.103600e+11</td>\n",
              "      <td>16571000000</td>\n",
              "    </tr>\n",
              "    <tr>\n",
              "      <th>2019-06-29</th>\n",
              "      <td>1.103600e+11</td>\n",
              "      <td>16571000000</td>\n",
              "    </tr>\n",
              "    <tr>\n",
              "      <th>2019-06-30</th>\n",
              "      <td>1.258430e+11</td>\n",
              "      <td>39240000000</td>\n",
              "    </tr>\n",
              "  </tbody>\n",
              "</table>\n",
              "<p>10959 rows × 2 columns</p>\n",
              "</div>"
            ],
            "text/plain": [
              "                         Revenue   Net Income\n",
              "Ticker Report Date                           \n",
              "AAPL   2008-09-30   3.749100e+10   6119000000\n",
              "       2008-10-01   3.749100e+10   6119000000\n",
              "       2008-10-02   3.749100e+10   6119000000\n",
              "       2008-10-03   3.749100e+10   6119000000\n",
              "       2008-10-04   3.749100e+10   6119000000\n",
              "...                          ...          ...\n",
              "MSFT   2019-06-26   1.103600e+11  16571000000\n",
              "       2019-06-27   1.103600e+11  16571000000\n",
              "       2019-06-28   1.103600e+11  16571000000\n",
              "       2019-06-29   1.103600e+11  16571000000\n",
              "       2019-06-30   1.258430e+11  39240000000\n",
              "\n",
              "[10959 rows x 2 columns]"
            ]
          },
          "metadata": {
            "tags": []
          },
          "execution_count": 17
        }
      ]
    },
    {
      "cell_type": "markdown",
      "metadata": {
        "id": "LG5J_JSimQW4",
        "colab_type": "text"
      },
      "source": [
        "For convenience, a function is provided for `asfreq` with daily frequency:"
      ]
    },
    {
      "cell_type": "code",
      "metadata": {
        "id": "naFP4q6-mQW5",
        "colab_type": "code",
        "colab": {
          "base_uri": "https://localhost:8080/",
          "height": 450
        },
        "outputId": "ade2e468-feda-42cd-8aa8-794fba345751"
      },
      "source": [
        "sf.asfreq_daily(df=df_income, method='ffill')"
      ],
      "execution_count": null,
      "outputs": [
        {
          "output_type": "execute_result",
          "data": {
            "text/html": [
              "<div>\n",
              "<style scoped>\n",
              "    .dataframe tbody tr th:only-of-type {\n",
              "        vertical-align: middle;\n",
              "    }\n",
              "\n",
              "    .dataframe tbody tr th {\n",
              "        vertical-align: top;\n",
              "    }\n",
              "\n",
              "    .dataframe thead th {\n",
              "        text-align: right;\n",
              "    }\n",
              "</style>\n",
              "<table border=\"1\" class=\"dataframe\">\n",
              "  <thead>\n",
              "    <tr style=\"text-align: right;\">\n",
              "      <th></th>\n",
              "      <th></th>\n",
              "      <th>Revenue</th>\n",
              "      <th>Net Income</th>\n",
              "    </tr>\n",
              "    <tr>\n",
              "      <th>Ticker</th>\n",
              "      <th>Report Date</th>\n",
              "      <th></th>\n",
              "      <th></th>\n",
              "    </tr>\n",
              "  </thead>\n",
              "  <tbody>\n",
              "    <tr>\n",
              "      <th rowspan=\"5\" valign=\"top\">AAPL</th>\n",
              "      <th>2008-09-30</th>\n",
              "      <td>3.749100e+10</td>\n",
              "      <td>6119000000</td>\n",
              "    </tr>\n",
              "    <tr>\n",
              "      <th>2008-10-01</th>\n",
              "      <td>3.749100e+10</td>\n",
              "      <td>6119000000</td>\n",
              "    </tr>\n",
              "    <tr>\n",
              "      <th>2008-10-02</th>\n",
              "      <td>3.749100e+10</td>\n",
              "      <td>6119000000</td>\n",
              "    </tr>\n",
              "    <tr>\n",
              "      <th>2008-10-03</th>\n",
              "      <td>3.749100e+10</td>\n",
              "      <td>6119000000</td>\n",
              "    </tr>\n",
              "    <tr>\n",
              "      <th>2008-10-04</th>\n",
              "      <td>3.749100e+10</td>\n",
              "      <td>6119000000</td>\n",
              "    </tr>\n",
              "    <tr>\n",
              "      <th>...</th>\n",
              "      <th>...</th>\n",
              "      <td>...</td>\n",
              "      <td>...</td>\n",
              "    </tr>\n",
              "    <tr>\n",
              "      <th rowspan=\"5\" valign=\"top\">MSFT</th>\n",
              "      <th>2019-06-26</th>\n",
              "      <td>1.103600e+11</td>\n",
              "      <td>16571000000</td>\n",
              "    </tr>\n",
              "    <tr>\n",
              "      <th>2019-06-27</th>\n",
              "      <td>1.103600e+11</td>\n",
              "      <td>16571000000</td>\n",
              "    </tr>\n",
              "    <tr>\n",
              "      <th>2019-06-28</th>\n",
              "      <td>1.103600e+11</td>\n",
              "      <td>16571000000</td>\n",
              "    </tr>\n",
              "    <tr>\n",
              "      <th>2019-06-29</th>\n",
              "      <td>1.103600e+11</td>\n",
              "      <td>16571000000</td>\n",
              "    </tr>\n",
              "    <tr>\n",
              "      <th>2019-06-30</th>\n",
              "      <td>1.258430e+11</td>\n",
              "      <td>39240000000</td>\n",
              "    </tr>\n",
              "  </tbody>\n",
              "</table>\n",
              "<p>10959 rows × 2 columns</p>\n",
              "</div>"
            ],
            "text/plain": [
              "                         Revenue   Net Income\n",
              "Ticker Report Date                           \n",
              "AAPL   2008-09-30   3.749100e+10   6119000000\n",
              "       2008-10-01   3.749100e+10   6119000000\n",
              "       2008-10-02   3.749100e+10   6119000000\n",
              "       2008-10-03   3.749100e+10   6119000000\n",
              "       2008-10-04   3.749100e+10   6119000000\n",
              "...                          ...          ...\n",
              "MSFT   2019-06-26   1.103600e+11  16571000000\n",
              "       2019-06-27   1.103600e+11  16571000000\n",
              "       2019-06-28   1.103600e+11  16571000000\n",
              "       2019-06-29   1.103600e+11  16571000000\n",
              "       2019-06-30   1.258430e+11  39240000000\n",
              "\n",
              "[10959 rows x 2 columns]"
            ]
          },
          "metadata": {
            "tags": []
          },
          "execution_count": 18
        }
      ]
    },
    {
      "cell_type": "markdown",
      "metadata": {
        "id": "YSCAsCsamQW9",
        "colab_type": "text"
      },
      "source": [
        "We can easily plot the resampled data using the Seaborn plotting package. Note that the index is first reset on the DataFrame, because that is how Seaborn wants the DataFrame."
      ]
    },
    {
      "cell_type": "code",
      "metadata": {
        "id": "dN6rULOdmQW9",
        "colab_type": "code",
        "colab": {},
        "outputId": "ed614786-d315-42d9-c9d2-81519f163d3f"
      },
      "source": [
        "# Upsample annual Income Statements for several tickers.\n",
        "df_daily = sf.asfreq_daily(df_income, method='ffill')\n",
        "\n",
        "# Plot.\n",
        "sns.lineplot(x=REPORT_DATE, y=REVENUE, hue=TICKER,\n",
        "             data=df_daily.reset_index())"
      ],
      "execution_count": null,
      "outputs": [
        {
          "output_type": "execute_result",
          "data": {
            "text/plain": [
              "<matplotlib.axes._subplots.AxesSubplot at 0x7f79273ce400>"
            ]
          },
          "metadata": {
            "tags": []
          },
          "execution_count": 18
        },
        {
          "output_type": "display_data",
          "data": {
            "image/png": "[encoded data removed]",
            "text/plain": [
              "<Figure size 432x288 with 1 Axes>"
            ]
          },
          "metadata": {
            "tags": []
          }
        }
      ]
    },
    {
      "cell_type": "markdown",
      "metadata": {
        "id": "kUrzO73JmQXA",
        "colab_type": "text"
      },
      "source": [
        "## Resample\n",
        "\n",
        "If a simple forward/backward-fill is not sufficient for you, or if you want to downsample data e.g. by taking the average of many data-points, then Pandas provides the `resample` function.\n",
        "\n",
        "For example, we can use the `resample` function to upsample a DataFrame for a single company which only has a DatetimeIndex. If we use forward-fill again, then it gives the same \"staircase\" plot as we saw for `asfreq` above:"
      ]
    },
    {
      "cell_type": "code",
      "metadata": {
        "id": "GsARw87gmQXB",
        "colab_type": "code",
        "colab": {
          "base_uri": "https://localhost:8080/",
          "height": 307
        },
        "outputId": "21cbec99-c2b2-4673-9f5c-172233e9122c"
      },
      "source": [
        "df_income.loc['MSFT'].resample('D').ffill().plot()"
      ],
      "execution_count": null,
      "outputs": [
        {
          "output_type": "execute_result",
          "data": {
            "text/plain": [
              "<matplotlib.axes._subplots.AxesSubplot at 0x7fafdc5a0e10>"
            ]
          },
          "metadata": {
            "tags": []
          },
          "execution_count": 19
        },
        {
          "output_type": "display_data",
          "data": {
            "image/png": "[encoded data removed]",
            "text/plain": [
              "<Figure size 432x288 with 1 Axes>"
            ]
          },
          "metadata": {
            "tags": []
          }
        }
      ]
    },
    {
      "cell_type": "markdown",
      "metadata": {
        "id": "Qlp7F7i5mQXD",
        "colab_type": "text"
      },
      "source": [
        "The `resample` function can also use more advanced methods for filling in the empty data-points. For example, linear interpolation fills in the empty data-points with straight lines between the known points.\n",
        "\n",
        "This is a form of cheating called \"look-ahead bias\" because we are using future data when filling in the empty data-points. This should be avoided when developing and testing trading-strategies, but it is still useful in some forms of data-analysis."
      ]
    },
    {
      "cell_type": "code",
      "metadata": {
        "id": "rVNGmP94mQXE",
        "colab_type": "code",
        "colab": {
          "base_uri": "https://localhost:8080/",
          "height": 307
        },
        "outputId": "ef17681d-b42c-4cdc-cb05-6408cdae0a30"
      },
      "source": [
        "df_income.loc['MSFT'].resample('D').interpolate(method='linear').plot()"
      ],
      "execution_count": null,
      "outputs": [
        {
          "output_type": "execute_result",
          "data": {
            "text/plain": [
              "<matplotlib.axes._subplots.AxesSubplot at 0x7fafdcaec2b0>"
            ]
          },
          "metadata": {
            "tags": []
          },
          "execution_count": 20
        },
        {
          "output_type": "display_data",
          "data": {
            "image/png": "[encoded data removed]",
            "text/plain": [
              "<Figure size 432x288 with 1 Axes>"
            ]
          },
          "metadata": {
            "tags": []
          }
        }
      ]
    },
    {
      "cell_type": "markdown",
      "metadata": {
        "id": "aOrWMW_kmQXH",
        "colab_type": "text"
      },
      "source": [
        "The `resample` function can also be used to downsample data. For example, we can downsample by taking the average of every month's share-price data:"
      ]
    },
    {
      "cell_type": "code",
      "metadata": {
        "id": "9MJ9nEg3mQXH",
        "colab_type": "code",
        "colab": {
          "base_uri": "https://localhost:8080/",
          "height": 235
        },
        "outputId": "0db5b57e-4973-4ff1-b0b6-0fd2766e7309"
      },
      "source": [
        "df_prices.loc['MSFT'].resample('M').mean().head()"
      ],
      "execution_count": null,
      "outputs": [
        {
          "output_type": "execute_result",
          "data": {
            "text/html": [
              "<div>\n",
              "<style scoped>\n",
              "    .dataframe tbody tr th:only-of-type {\n",
              "        vertical-align: middle;\n",
              "    }\n",
              "\n",
              "    .dataframe tbody tr th {\n",
              "        vertical-align: top;\n",
              "    }\n",
              "\n",
              "    .dataframe thead th {\n",
              "        text-align: right;\n",
              "    }\n",
              "</style>\n",
              "<table border=\"1\" class=\"dataframe\">\n",
              "  <thead>\n",
              "    <tr style=\"text-align: right;\">\n",
              "      <th></th>\n",
              "      <th>Close</th>\n",
              "      <th>Adj. Close</th>\n",
              "    </tr>\n",
              "    <tr>\n",
              "      <th>Date</th>\n",
              "      <th></th>\n",
              "      <th></th>\n",
              "    </tr>\n",
              "  </thead>\n",
              "  <tbody>\n",
              "    <tr>\n",
              "      <th>2007-01-31</th>\n",
              "      <td>30.530500</td>\n",
              "      <td>22.623500</td>\n",
              "    </tr>\n",
              "    <tr>\n",
              "      <th>2007-02-28</th>\n",
              "      <td>29.190000</td>\n",
              "      <td>21.672632</td>\n",
              "    </tr>\n",
              "    <tr>\n",
              "      <th>2007-03-31</th>\n",
              "      <td>27.694995</td>\n",
              "      <td>20.590909</td>\n",
              "    </tr>\n",
              "    <tr>\n",
              "      <th>2007-04-30</th>\n",
              "      <td>28.725000</td>\n",
              "      <td>21.359000</td>\n",
              "    </tr>\n",
              "    <tr>\n",
              "      <th>2007-05-31</th>\n",
              "      <td>30.743295</td>\n",
              "      <td>22.900000</td>\n",
              "    </tr>\n",
              "  </tbody>\n",
              "</table>\n",
              "</div>"
            ],
            "text/plain": [
              "                Close  Adj. Close\n",
              "Date                             \n",
              "2007-01-31  30.530500   22.623500\n",
              "2007-02-28  29.190000   21.672632\n",
              "2007-03-31  27.694995   20.590909\n",
              "2007-04-30  28.725000   21.359000\n",
              "2007-05-31  30.743295   22.900000"
            ]
          },
          "metadata": {
            "tags": []
          },
          "execution_count": 21
        }
      ]
    },
    {
      "cell_type": "markdown",
      "metadata": {
        "id": "IkNgfKPYmQXM",
        "colab_type": "text"
      },
      "source": [
        "We can also plot the downsampled monthly share-price data:"
      ]
    },
    {
      "cell_type": "code",
      "metadata": {
        "id": "vKrQ2Jp6mQXN",
        "colab_type": "code",
        "colab": {
          "base_uri": "https://localhost:8080/",
          "height": 296
        },
        "outputId": "9e3d84a6-a75a-41ae-96c5-aa505cee47b6"
      },
      "source": [
        "df_prices.loc['MSFT'].resample('M').mean().plot()"
      ],
      "execution_count": null,
      "outputs": [
        {
          "output_type": "execute_result",
          "data": {
            "text/plain": [
              "<matplotlib.axes._subplots.AxesSubplot at 0x7fafdc7095c0>"
            ]
          },
          "metadata": {
            "tags": []
          },
          "execution_count": 22
        },
        {
          "output_type": "display_data",
          "data": {
            "image/png": "[encoded data removed]",
            "text/plain": [
              "<Figure size 432x288 with 1 Axes>"
            ]
          },
          "metadata": {
            "tags": []
          }
        }
      ]
    },
    {
      "cell_type": "markdown",
      "metadata": {
        "id": "OPxF9TqmmQXT",
        "colab_type": "text"
      },
      "source": [
        "### Resample on MultiIndex\n",
        "\n",
        "If we try to resample a DataFrame with multiple tickers, then it raises an exception because Pandas' `resample` function does not support DataFrames with MultiIndex:"
      ]
    },
    {
      "cell_type": "code",
      "metadata": {
        "id": "XsMTdw3xmQXT",
        "colab_type": "code",
        "colab": {
          "base_uri": "https://localhost:8080/",
          "height": 34
        },
        "outputId": "9b8adc89-b3af-4cf6-bbdb-69e6efa50ed4"
      },
      "source": [
        "try:\n",
        "    df_income.resample('D').ffill()\n",
        "except Exception as e:\n",
        "    print(e)"
      ],
      "execution_count": null,
      "outputs": [
        {
          "output_type": "stream",
          "text": [
            "Only valid with DatetimeIndex, TimedeltaIndex or PeriodIndex, but got an instance of 'MultiIndex'\n"
          ],
          "name": "stdout"
        }
      ]
    },
    {
      "cell_type": "markdown",
      "metadata": {
        "id": "r0ZZC4H4mQXW",
        "colab_type": "text"
      },
      "source": [
        "Pandas' `resample` function provides an argument `level=` which can be used to select a specific column in a MultiIndex, but its semantics are unclear from the documentation, and it does not work when upsampling anyway."
      ]
    },
    {
      "cell_type": "code",
      "metadata": {
        "id": "cakoAMiymQXW",
        "colab_type": "code",
        "colab": {
          "base_uri": "https://localhost:8080/",
          "height": 34
        },
        "outputId": "e637c5f6-90b6-459c-ed5b-d22eaf1285c4"
      },
      "source": [
        "try:\n",
        "    df_income.resample('D', level=REPORT_DATE).ffill()\n",
        "except Exception as e:\n",
        "    print(e)"
      ],
      "execution_count": null,
      "outputs": [
        {
          "output_type": "stream",
          "text": [
            "Upsampling from level= or on= selection is not supported, use .set_index(...) to explicitly set index to datetime-like\n"
          ],
          "name": "stdout"
        }
      ]
    },
    {
      "cell_type": "markdown",
      "metadata": {
        "id": "vPJp-FohmQXa",
        "colab_type": "text"
      },
      "source": [
        "As we did for the `asfreq` function above, we need to split the DataFrame into sub-groups for each of the Tickers, and perform the `resample` operation on each of those sub-groups, and then glue the results back together into a single DataFrame.\n",
        "\n",
        "The following could be made more compact (but maybe also harder to understand) by instead using a lambda-function with chained calls:"
      ]
    },
    {
      "cell_type": "code",
      "metadata": {
        "id": "Uhy_qMzGmQXb",
        "colab_type": "code",
        "colab": {
          "base_uri": "https://localhost:8080/",
          "height": 450
        },
        "outputId": "3fbe1766-c3b8-4880-e093-c00c1d255d99"
      },
      "source": [
        "def _resample(df_grp):\n",
        "    # Remove TICKER from the MultiIndex.\n",
        "    df_grp = df_grp.reset_index(TICKER, drop=True)\n",
        "    \n",
        "    # Resample and forward-fill NA values.\n",
        "    df_result = df_grp.resample('D').ffill()\n",
        "\n",
        "    return df_result\n",
        "\n",
        "# Split the DataFrame into sub-groups and apply the _resample()\n",
        "# function on each of those sub-groups, and then glue the\n",
        "# results back together into a single DataFrame.\n",
        "df_income.groupby(TICKER).apply(_resample)"
      ],
      "execution_count": null,
      "outputs": [
        {
          "output_type": "execute_result",
          "data": {
            "text/html": [
              "<div>\n",
              "<style scoped>\n",
              "    .dataframe tbody tr th:only-of-type {\n",
              "        vertical-align: middle;\n",
              "    }\n",
              "\n",
              "    .dataframe tbody tr th {\n",
              "        vertical-align: top;\n",
              "    }\n",
              "\n",
              "    .dataframe thead th {\n",
              "        text-align: right;\n",
              "    }\n",
              "</style>\n",
              "<table border=\"1\" class=\"dataframe\">\n",
              "  <thead>\n",
              "    <tr style=\"text-align: right;\">\n",
              "      <th></th>\n",
              "      <th></th>\n",
              "      <th>Revenue</th>\n",
              "      <th>Net Income</th>\n",
              "    </tr>\n",
              "    <tr>\n",
              "      <th>Ticker</th>\n",
              "      <th>Report Date</th>\n",
              "      <th></th>\n",
              "      <th></th>\n",
              "    </tr>\n",
              "  </thead>\n",
              "  <tbody>\n",
              "    <tr>\n",
              "      <th rowspan=\"5\" valign=\"top\">AAPL</th>\n",
              "      <th>2008-09-30</th>\n",
              "      <td>3.749100e+10</td>\n",
              "      <td>6119000000</td>\n",
              "    </tr>\n",
              "    <tr>\n",
              "      <th>2008-10-01</th>\n",
              "      <td>3.749100e+10</td>\n",
              "      <td>6119000000</td>\n",
              "    </tr>\n",
              "    <tr>\n",
              "      <th>2008-10-02</th>\n",
              "      <td>3.749100e+10</td>\n",
              "      <td>6119000000</td>\n",
              "    </tr>\n",
              "    <tr>\n",
              "      <th>2008-10-03</th>\n",
              "      <td>3.749100e+10</td>\n",
              "      <td>6119000000</td>\n",
              "    </tr>\n",
              "    <tr>\n",
              "      <th>2008-10-04</th>\n",
              "      <td>3.749100e+10</td>\n",
              "      <td>6119000000</td>\n",
              "    </tr>\n",
              "    <tr>\n",
              "      <th>...</th>\n",
              "      <th>...</th>\n",
              "      <td>...</td>\n",
              "      <td>...</td>\n",
              "    </tr>\n",
              "    <tr>\n",
              "      <th rowspan=\"5\" valign=\"top\">MSFT</th>\n",
              "      <th>2019-06-26</th>\n",
              "      <td>1.103600e+11</td>\n",
              "      <td>16571000000</td>\n",
              "    </tr>\n",
              "    <tr>\n",
              "      <th>2019-06-27</th>\n",
              "      <td>1.103600e+11</td>\n",
              "      <td>16571000000</td>\n",
              "    </tr>\n",
              "    <tr>\n",
              "      <th>2019-06-28</th>\n",
              "      <td>1.103600e+11</td>\n",
              "      <td>16571000000</td>\n",
              "    </tr>\n",
              "    <tr>\n",
              "      <th>2019-06-29</th>\n",
              "      <td>1.103600e+11</td>\n",
              "      <td>16571000000</td>\n",
              "    </tr>\n",
              "    <tr>\n",
              "      <th>2019-06-30</th>\n",
              "      <td>1.258430e+11</td>\n",
              "      <td>39240000000</td>\n",
              "    </tr>\n",
              "  </tbody>\n",
              "</table>\n",
              "<p>10959 rows × 2 columns</p>\n",
              "</div>"
            ],
            "text/plain": [
              "                         Revenue   Net Income\n",
              "Ticker Report Date                           \n",
              "AAPL   2008-09-30   3.749100e+10   6119000000\n",
              "       2008-10-01   3.749100e+10   6119000000\n",
              "       2008-10-02   3.749100e+10   6119000000\n",
              "       2008-10-03   3.749100e+10   6119000000\n",
              "       2008-10-04   3.749100e+10   6119000000\n",
              "...                          ...          ...\n",
              "MSFT   2019-06-26   1.103600e+11  16571000000\n",
              "       2019-06-27   1.103600e+11  16571000000\n",
              "       2019-06-28   1.103600e+11  16571000000\n",
              "       2019-06-29   1.103600e+11  16571000000\n",
              "       2019-06-30   1.258430e+11  39240000000\n",
              "\n",
              "[10959 rows x 2 columns]"
            ]
          },
          "metadata": {
            "tags": []
          },
          "execution_count": 25
        }
      ]
    },
    {
      "cell_type": "markdown",
      "metadata": {
        "id": "WR2VibBHmQXf",
        "colab_type": "text"
      },
      "source": [
        "### Resample Helper-Function\n",
        "\n",
        "Because Pandas' syntax is complicated for resampling a DataFrame with a MultiIndex, the simfin package also provides a helper-function for `resample`, that can take both Pandas DataFrames and Series, either having a single DatatimeIndex, or a MultiIndex with two indices, one of which is a DatetimeIndex and the other is e.g. the Ticker or SimFin_Id.\n",
        "\n",
        "Note that the helper-function uses the keyword argument `rule` instead of `freq` that was used in the `asfreq()` functions above. This inconsistency is simply inherited from Pandas, which uses the keyword `rule` in the `resample` function and the keyword `freq` in the `asfreq` function.\n",
        "\n",
        "For example, this is how you would upsample a DataFrame with annual data for a single stock into daily data-points using the forward-fill method:"
      ]
    },
    {
      "cell_type": "code",
      "metadata": {
        "id": "AwwFB5CLmQXg",
        "colab_type": "code",
        "colab": {
          "base_uri": "https://localhost:8080/",
          "height": 235
        },
        "outputId": "9b729747-2857-4fe2-dea4-0ff957c1c584"
      },
      "source": [
        "sf.resample(df=df_income.loc['MSFT'], rule='D', method='ffill').head()"
      ],
      "execution_count": null,
      "outputs": [
        {
          "output_type": "execute_result",
          "data": {
            "text/html": [
              "<div>\n",
              "<style scoped>\n",
              "    .dataframe tbody tr th:only-of-type {\n",
              "        vertical-align: middle;\n",
              "    }\n",
              "\n",
              "    .dataframe tbody tr th {\n",
              "        vertical-align: top;\n",
              "    }\n",
              "\n",
              "    .dataframe thead th {\n",
              "        text-align: right;\n",
              "    }\n",
              "</style>\n",
              "<table border=\"1\" class=\"dataframe\">\n",
              "  <thead>\n",
              "    <tr style=\"text-align: right;\">\n",
              "      <th></th>\n",
              "      <th>Revenue</th>\n",
              "      <th>Net Income</th>\n",
              "    </tr>\n",
              "    <tr>\n",
              "      <th>Report Date</th>\n",
              "      <th></th>\n",
              "      <th></th>\n",
              "    </tr>\n",
              "  </thead>\n",
              "  <tbody>\n",
              "    <tr>\n",
              "      <th>2009-06-30</th>\n",
              "      <td>5.843700e+10</td>\n",
              "      <td>14569000000</td>\n",
              "    </tr>\n",
              "    <tr>\n",
              "      <th>2009-07-01</th>\n",
              "      <td>5.843700e+10</td>\n",
              "      <td>14569000000</td>\n",
              "    </tr>\n",
              "    <tr>\n",
              "      <th>2009-07-02</th>\n",
              "      <td>5.843700e+10</td>\n",
              "      <td>14569000000</td>\n",
              "    </tr>\n",
              "    <tr>\n",
              "      <th>2009-07-03</th>\n",
              "      <td>5.843700e+10</td>\n",
              "      <td>14569000000</td>\n",
              "    </tr>\n",
              "    <tr>\n",
              "      <th>2009-07-04</th>\n",
              "      <td>5.843700e+10</td>\n",
              "      <td>14569000000</td>\n",
              "    </tr>\n",
              "  </tbody>\n",
              "</table>\n",
              "</div>"
            ],
            "text/plain": [
              "                  Revenue   Net Income\n",
              "Report Date                           \n",
              "2009-06-30   5.843700e+10  14569000000\n",
              "2009-07-01   5.843700e+10  14569000000\n",
              "2009-07-02   5.843700e+10  14569000000\n",
              "2009-07-03   5.843700e+10  14569000000\n",
              "2009-07-04   5.843700e+10  14569000000"
            ]
          },
          "metadata": {
            "tags": []
          },
          "execution_count": 26
        }
      ]
    },
    {
      "cell_type": "markdown",
      "metadata": {
        "id": "L_1xpKTHmQXj",
        "colab_type": "text"
      },
      "source": [
        "We can also plot the upsampled data. Because we are using the forward-fill method, the last-known values are merely copied forward to the unknown data-points, which shows up as a \"staircase\" pattern in the plot:"
      ]
    },
    {
      "cell_type": "code",
      "metadata": {
        "id": "GlnWDMdxmQXk",
        "colab_type": "code",
        "colab": {
          "base_uri": "https://localhost:8080/",
          "height": 307
        },
        "outputId": "9a6666f8-23d0-469e-b8ca-50807c4efa9b"
      },
      "source": [
        "sf.resample(df=df_income.loc['MSFT'], rule='D', method='ffill').plot()"
      ],
      "execution_count": null,
      "outputs": [
        {
          "output_type": "execute_result",
          "data": {
            "text/plain": [
              "<matplotlib.axes._subplots.AxesSubplot at 0x7fafdcd34278>"
            ]
          },
          "metadata": {
            "tags": []
          },
          "execution_count": 27
        },
        {
          "output_type": "display_data",
          "data": {
            "image/png": "[encoded data removed]",
            "text/plain": [
              "<Figure size 432x288 with 1 Axes>"
            ]
          },
          "metadata": {
            "tags": []
          }
        }
      ]
    },
    {
      "cell_type": "markdown",
      "metadata": {
        "id": "GyR8S4-ymQXn",
        "colab_type": "text"
      },
      "source": [
        "We can also interpolate between known values when doing the upsampling by setting the argument `method='linear'` instead of `'ffill'`. As noted above, this is a form of cheating, because we are using data before it was actually known. This should not be done in trading strategies, although it is still useful in some data-analysis."
      ]
    },
    {
      "cell_type": "code",
      "metadata": {
        "id": "o8RAGk58mQXn",
        "colab_type": "code",
        "colab": {
          "base_uri": "https://localhost:8080/",
          "height": 307
        },
        "outputId": "21d5e082-a75a-4cc3-ce31-92fa1ace2bdb"
      },
      "source": [
        "sf.resample(df=df_income.loc['MSFT'], rule='D', method='linear').plot()"
      ],
      "execution_count": null,
      "outputs": [
        {
          "output_type": "execute_result",
          "data": {
            "text/plain": [
              "<matplotlib.axes._subplots.AxesSubplot at 0x7fafdcd34550>"
            ]
          },
          "metadata": {
            "tags": []
          },
          "execution_count": 28
        },
        {
          "output_type": "display_data",
          "data": {
            "image/png": "[encoded data removed]",
            "text/plain": [
              "<Figure size 432x288 with 1 Axes>"
            ]
          },
          "metadata": {
            "tags": []
          }
        }
      ]
    },
    {
      "cell_type": "markdown",
      "metadata": {
        "id": "vmeweHBCmQXq",
        "colab_type": "text"
      },
      "source": [
        "Because resampling to daily data is a very common operation, a convenience function is provided for doing that, so we don't have to write the argument `rule='D'`:"
      ]
    },
    {
      "cell_type": "code",
      "metadata": {
        "id": "N96PoBQumQXr",
        "colab_type": "code",
        "colab": {
          "base_uri": "https://localhost:8080/",
          "height": 307
        },
        "outputId": "3b1aa966-61d6-4fab-eded-2e17792847f9"
      },
      "source": [
        "sf.resample_daily(df=df_income.loc['MSFT'], method='linear').plot()"
      ],
      "execution_count": null,
      "outputs": [
        {
          "output_type": "execute_result",
          "data": {
            "text/plain": [
              "<matplotlib.axes._subplots.AxesSubplot at 0x7fafdcfff8d0>"
            ]
          },
          "metadata": {
            "tags": []
          },
          "execution_count": 29
        },
        {
          "output_type": "display_data",
          "data": {
            "image/png": "[encoded data removed]",
            "text/plain": [
              "<Figure size 432x288 with 1 Axes>"
            ]
          },
          "metadata": {
            "tags": []
          }
        }
      ]
    },
    {
      "cell_type": "markdown",
      "metadata": {
        "id": "ngQFzHjSmQXt",
        "colab_type": "text"
      },
      "source": [
        "We can also use the helper-function for resampling a DataFrame with multiple tickers:"
      ]
    },
    {
      "cell_type": "code",
      "metadata": {
        "id": "TvC868XAmQXu",
        "colab_type": "code",
        "colab": {
          "base_uri": "https://localhost:8080/",
          "height": 307
        },
        "outputId": "2612deed-6042-4e39-aee1-f74664685ac3"
      },
      "source": [
        "# Resample annual Income Statements for multiple tickers.\n",
        "df_daily = sf.resample(df=df_income, rule='D', method='linear')\n",
        "\n",
        "# Plot.\n",
        "sns.lineplot(x=REPORT_DATE, y=REVENUE, hue=TICKER,\n",
        "             data=df_daily.reset_index())"
      ],
      "execution_count": null,
      "outputs": [
        {
          "output_type": "execute_result",
          "data": {
            "text/plain": [
              "<matplotlib.axes._subplots.AxesSubplot at 0x7fafdd3396a0>"
            ]
          },
          "metadata": {
            "tags": []
          },
          "execution_count": 30
        },
        {
          "output_type": "display_data",
          "data": {
            "image/png": "[encoded data removed]",
            "text/plain": [
              "<Figure size 432x288 with 1 Axes>"
            ]
          },
          "metadata": {
            "tags": []
          }
        }
      ]
    },
    {
      "cell_type": "markdown",
      "metadata": {
        "id": "tFpQ_i2dmQXz",
        "colab_type": "text"
      },
      "source": [
        "We can also provide a custom method for the resampling function. For example, this method fills in the unknown values with quadratic interpolation between the known values:"
      ]
    },
    {
      "cell_type": "code",
      "metadata": {
        "id": "fDW6bit6mQXz",
        "colab_type": "code",
        "colab": {
          "base_uri": "https://localhost:8080/",
          "height": 307
        },
        "outputId": "e68cd032-30e2-4e22-b4ba-857c65ccb73c"
      },
      "source": [
        "# Custom method for the resampling.\n",
        "method = lambda x: x.interpolate(method='quadratic')\n",
        "\n",
        "# Do the resampling using the custom method.\n",
        "df_daily = sf.resample(df=df_income, rule='D', method=method)\n",
        "\n",
        "# Plot.\n",
        "sns.lineplot(x=REPORT_DATE, y=REVENUE, hue=TICKER,\n",
        "             data=df_daily.reset_index())"
      ],
      "execution_count": null,
      "outputs": [
        {
          "output_type": "execute_result",
          "data": {
            "text/plain": [
              "<matplotlib.axes._subplots.AxesSubplot at 0x7fafdcffc550>"
            ]
          },
          "metadata": {
            "tags": []
          },
          "execution_count": 31
        },
        {
          "output_type": "display_data",
          "data": {
            "image/png": "[encoded data removed]",
            "text/plain": [
              "<Figure size 432x288 with 1 Axes>"
            ]
          },
          "metadata": {
            "tags": []
          }
        }
      ]
    },
    {
      "cell_type": "markdown",
      "metadata": {
        "id": "uJXM_tZdmQX2",
        "colab_type": "text"
      },
      "source": [
        "We can also use the helper-function to downsample data. For example, we can downsample the share-prices from daily to 3-month data using averaging. We resample all columns in the DataFrame but only plot the ADJ_CLOSE which is the close-price adjusted for both stock-splits and dividends (aka. Total Return). We also normalize the time-series so they all start at 1.0."
      ]
    },
    {
      "cell_type": "code",
      "metadata": {
        "id": "SpNZ2p9EmQX2",
        "colab_type": "code",
        "colab": {
          "base_uri": "https://localhost:8080/",
          "height": 296
        },
        "outputId": "89c41ea9-a632-4137-a281-e68054207696"
      },
      "source": [
        "# Downsample to 3-month data-points using averaging.\n",
        "df_monthly = sf.resample(df=df_prices, rule='3M', method='mean')\n",
        "\n",
        "# Drop rows with any empty data.\n",
        "df_monthly = df_monthly.dropna(how='any')\n",
        "\n",
        "# Normalize so the time-series for each stock begins at 1.0\n",
        "_normalize = lambda df_grp: df_grp.div(df_grp.iloc[0])\n",
        "df_norm = df_monthly.groupby(TICKER).apply(_normalize)\n",
        "\n",
        "# Plot.\n",
        "sns.lineplot(x=DATE, y=ADJ_CLOSE, hue=TICKER,\n",
        "             data=df_norm.reset_index())"
      ],
      "execution_count": null,
      "outputs": [
        {
          "output_type": "execute_result",
          "data": {
            "text/plain": [
              "<matplotlib.axes._subplots.AxesSubplot at 0x7fafdcf02668>"
            ]
          },
          "metadata": {
            "tags": []
          },
          "execution_count": 32
        },
        {
          "output_type": "display_data",
          "data": {
            "image/png": "[encoded data removed]",
            "text/plain": [
              "<Figure size 432x288 with 1 Axes>"
            ]
          },
          "metadata": {
            "tags": []
          }
        }
      ]
    },
    {
      "cell_type": "markdown",
      "metadata": {
        "id": "k-ftXsp8mQX6",
        "colab_type": "text"
      },
      "source": [
        "## Reindex\n",
        "\n",
        "Both of the above methods `resample` and `asfreq` only change the data *between* the start- and end-dates of the original data. For example, the annual Income Statements for ticker MSFT range between 2008-06-30 and 2019-06-30, so if we upsample to daily data, we still only get data-points between these two dates. At the time of this writing, we are already in 2019-11-xx (November), so there's more than 4 months of data-points we do not get when upsampling the Income Statements using `resample` and `asfreq`.\n",
        "\n",
        "We can instead use the `reindex` function to resample a DataFrame onto another index. This allows us to get new data-points beyond the original date-range of the data. For example, we can use this to calculate valuation ratios such as P/E or P/Sales for all dates where we have share-prices, using the last-known values from the Income Statements.\n",
        "\n",
        "However, there are several difficulties when using `reindex` for resampling, which we will demonstrate below.\n",
        "\n",
        "First let us show the annual Income Statements for ticker MSFT that we want to upsample to daily data-points until the most recent share-price date 2019-11-05. Note that we have all annual reports between 2008-06-30 and 2019-06-30, none of them are missing."
      ]
    },
    {
      "cell_type": "code",
      "metadata": {
        "id": "Sb86tS7vmQX6",
        "colab_type": "code",
        "colab": {
          "base_uri": "https://localhost:8080/",
          "height": 421
        },
        "outputId": "0dffbb43-f520-453c-9402-b217787141f1"
      },
      "source": [
        "df_income.loc['MSFT']"
      ],
      "execution_count": null,
      "outputs": [
        {
          "output_type": "execute_result",
          "data": {
            "text/html": [
              "<div>\n",
              "<style scoped>\n",
              "    .dataframe tbody tr th:only-of-type {\n",
              "        vertical-align: middle;\n",
              "    }\n",
              "\n",
              "    .dataframe tbody tr th {\n",
              "        vertical-align: top;\n",
              "    }\n",
              "\n",
              "    .dataframe thead th {\n",
              "        text-align: right;\n",
              "    }\n",
              "</style>\n",
              "<table border=\"1\" class=\"dataframe\">\n",
              "  <thead>\n",
              "    <tr style=\"text-align: right;\">\n",
              "      <th></th>\n",
              "      <th>Revenue</th>\n",
              "      <th>Net Income</th>\n",
              "    </tr>\n",
              "    <tr>\n",
              "      <th>Report Date</th>\n",
              "      <th></th>\n",
              "      <th></th>\n",
              "    </tr>\n",
              "  </thead>\n",
              "  <tbody>\n",
              "    <tr>\n",
              "      <th>2009-06-30</th>\n",
              "      <td>5.843700e+10</td>\n",
              "      <td>14569000000</td>\n",
              "    </tr>\n",
              "    <tr>\n",
              "      <th>2010-06-30</th>\n",
              "      <td>6.248400e+10</td>\n",
              "      <td>18760000000</td>\n",
              "    </tr>\n",
              "    <tr>\n",
              "      <th>2011-06-30</th>\n",
              "      <td>6.994300e+10</td>\n",
              "      <td>23150000000</td>\n",
              "    </tr>\n",
              "    <tr>\n",
              "      <th>2012-06-30</th>\n",
              "      <td>7.372300e+10</td>\n",
              "      <td>16978000000</td>\n",
              "    </tr>\n",
              "    <tr>\n",
              "      <th>2013-06-30</th>\n",
              "      <td>7.784900e+10</td>\n",
              "      <td>21863000000</td>\n",
              "    </tr>\n",
              "    <tr>\n",
              "      <th>2014-06-30</th>\n",
              "      <td>8.683300e+10</td>\n",
              "      <td>22074000000</td>\n",
              "    </tr>\n",
              "    <tr>\n",
              "      <th>2015-06-30</th>\n",
              "      <td>9.358000e+10</td>\n",
              "      <td>12193000000</td>\n",
              "    </tr>\n",
              "    <tr>\n",
              "      <th>2016-06-30</th>\n",
              "      <td>9.115400e+10</td>\n",
              "      <td>20539000000</td>\n",
              "    </tr>\n",
              "    <tr>\n",
              "      <th>2017-06-30</th>\n",
              "      <td>9.657100e+10</td>\n",
              "      <td>25489000000</td>\n",
              "    </tr>\n",
              "    <tr>\n",
              "      <th>2018-06-30</th>\n",
              "      <td>1.103600e+11</td>\n",
              "      <td>16571000000</td>\n",
              "    </tr>\n",
              "    <tr>\n",
              "      <th>2019-06-30</th>\n",
              "      <td>1.258430e+11</td>\n",
              "      <td>39240000000</td>\n",
              "    </tr>\n",
              "  </tbody>\n",
              "</table>\n",
              "</div>"
            ],
            "text/plain": [
              "                  Revenue   Net Income\n",
              "Report Date                           \n",
              "2009-06-30   5.843700e+10  14569000000\n",
              "2010-06-30   6.248400e+10  18760000000\n",
              "2011-06-30   6.994300e+10  23150000000\n",
              "2012-06-30   7.372300e+10  16978000000\n",
              "2013-06-30   7.784900e+10  21863000000\n",
              "2014-06-30   8.683300e+10  22074000000\n",
              "2015-06-30   9.358000e+10  12193000000\n",
              "2016-06-30   9.115400e+10  20539000000\n",
              "2017-06-30   9.657100e+10  25489000000\n",
              "2018-06-30   1.103600e+11  16571000000\n",
              "2019-06-30   1.258430e+11  39240000000"
            ]
          },
          "metadata": {
            "tags": []
          },
          "execution_count": 33
        }
      ]
    },
    {
      "cell_type": "markdown",
      "metadata": {
        "id": "rFfwrJfXmQX9",
        "colab_type": "text"
      },
      "source": [
        "This is the index from the daily share-prices for ticker MSFT, which contains data-points for all trading-days (excluding weekends and holidays) between 2007-01-03 and 2019-11-05."
      ]
    },
    {
      "cell_type": "code",
      "metadata": {
        "id": "sbpGQQhImQX9",
        "colab_type": "code",
        "colab": {
          "base_uri": "https://localhost:8080/",
          "height": 157
        },
        "outputId": "5f3fe5af-0e5e-4ff2-cc4d-a684e1c0951c"
      },
      "source": [
        "new_index = df_prices.loc['MSFT'].index\n",
        "new_index"
      ],
      "execution_count": null,
      "outputs": [
        {
          "output_type": "execute_result",
          "data": {
            "text/plain": [
              "DatetimeIndex(['2007-01-03', '2007-01-04', '2007-01-05', '2007-01-08',\n",
              "               '2007-01-09', '2007-01-10', '2007-01-11', '2007-01-12',\n",
              "               '2007-01-16', '2007-01-17',\n",
              "               ...\n",
              "               '2019-06-17', '2019-06-18', '2019-06-19', '2019-06-20',\n",
              "               '2019-06-21', '2019-06-24', '2019-06-25', '2019-06-26',\n",
              "               '2019-06-27', '2019-06-28'],\n",
              "              dtype='datetime64[ns]', name='Date', length=3144, freq=None)"
            ]
          },
          "metadata": {
            "tags": []
          },
          "execution_count": 34
        }
      ]
    },
    {
      "cell_type": "markdown",
      "metadata": {
        "id": "5o0LgFgomQYA",
        "colab_type": "text"
      },
      "source": [
        "We can then reindex the data for the annual Income Statements using the index of the daily share-prices. Because we haven't specified any filling-logic, the missing values are set to NaN for unknown."
      ]
    },
    {
      "cell_type": "code",
      "metadata": {
        "scrolled": true,
        "id": "LdNLhPSbmQYA",
        "colab_type": "code",
        "colab": {
          "base_uri": "https://localhost:8080/",
          "height": 235
        },
        "outputId": "048f1a5b-a125-42d2-bbd5-db4c09761722"
      },
      "source": [
        "df_income2 = df_income.loc['MSFT'].reindex(index=new_index)\n",
        "df_income2.head()"
      ],
      "execution_count": null,
      "outputs": [
        {
          "output_type": "execute_result",
          "data": {
            "text/html": [
              "<div>\n",
              "<style scoped>\n",
              "    .dataframe tbody tr th:only-of-type {\n",
              "        vertical-align: middle;\n",
              "    }\n",
              "\n",
              "    .dataframe tbody tr th {\n",
              "        vertical-align: top;\n",
              "    }\n",
              "\n",
              "    .dataframe thead th {\n",
              "        text-align: right;\n",
              "    }\n",
              "</style>\n",
              "<table border=\"1\" class=\"dataframe\">\n",
              "  <thead>\n",
              "    <tr style=\"text-align: right;\">\n",
              "      <th></th>\n",
              "      <th>Revenue</th>\n",
              "      <th>Net Income</th>\n",
              "    </tr>\n",
              "    <tr>\n",
              "      <th>Date</th>\n",
              "      <th></th>\n",
              "      <th></th>\n",
              "    </tr>\n",
              "  </thead>\n",
              "  <tbody>\n",
              "    <tr>\n",
              "      <th>2007-01-03</th>\n",
              "      <td>NaN</td>\n",
              "      <td>NaN</td>\n",
              "    </tr>\n",
              "    <tr>\n",
              "      <th>2007-01-04</th>\n",
              "      <td>NaN</td>\n",
              "      <td>NaN</td>\n",
              "    </tr>\n",
              "    <tr>\n",
              "      <th>2007-01-05</th>\n",
              "      <td>NaN</td>\n",
              "      <td>NaN</td>\n",
              "    </tr>\n",
              "    <tr>\n",
              "      <th>2007-01-08</th>\n",
              "      <td>NaN</td>\n",
              "      <td>NaN</td>\n",
              "    </tr>\n",
              "    <tr>\n",
              "      <th>2007-01-09</th>\n",
              "      <td>NaN</td>\n",
              "      <td>NaN</td>\n",
              "    </tr>\n",
              "  </tbody>\n",
              "</table>\n",
              "</div>"
            ],
            "text/plain": [
              "            Revenue  Net Income\n",
              "Date                           \n",
              "2007-01-03      NaN         NaN\n",
              "2007-01-04      NaN         NaN\n",
              "2007-01-05      NaN         NaN\n",
              "2007-01-08      NaN         NaN\n",
              "2007-01-09      NaN         NaN"
            ]
          },
          "metadata": {
            "tags": []
          },
          "execution_count": 35
        }
      ]
    },
    {
      "cell_type": "markdown",
      "metadata": {
        "id": "_fVCNJvpmQYF",
        "colab_type": "text"
      },
      "source": [
        "Let us try and drop all rows with NaN from the reindexed DataFrame. This shows us the dates that actually contain valid data. We might expect this to equal the original data from `df_income.loc['MSFT']` above, but if you look closely you can see that several rows are missing for the dates: 2012-06-30, 2013-06-30, 2018-06-30, and 2019-06-30."
      ]
    },
    {
      "cell_type": "code",
      "metadata": {
        "id": "WEvldsw-mQYF",
        "colab_type": "code",
        "colab": {
          "base_uri": "https://localhost:8080/",
          "height": 297
        },
        "outputId": "23443a9e-d8b7-4e5c-b6b1-cb1955264def"
      },
      "source": [
        "df_income2.dropna()"
      ],
      "execution_count": null,
      "outputs": [
        {
          "output_type": "execute_result",
          "data": {
            "text/html": [
              "<div>\n",
              "<style scoped>\n",
              "    .dataframe tbody tr th:only-of-type {\n",
              "        vertical-align: middle;\n",
              "    }\n",
              "\n",
              "    .dataframe tbody tr th {\n",
              "        vertical-align: top;\n",
              "    }\n",
              "\n",
              "    .dataframe thead th {\n",
              "        text-align: right;\n",
              "    }\n",
              "</style>\n",
              "<table border=\"1\" class=\"dataframe\">\n",
              "  <thead>\n",
              "    <tr style=\"text-align: right;\">\n",
              "      <th></th>\n",
              "      <th>Revenue</th>\n",
              "      <th>Net Income</th>\n",
              "    </tr>\n",
              "    <tr>\n",
              "      <th>Date</th>\n",
              "      <th></th>\n",
              "      <th></th>\n",
              "    </tr>\n",
              "  </thead>\n",
              "  <tbody>\n",
              "    <tr>\n",
              "      <th>2009-06-30</th>\n",
              "      <td>5.843700e+10</td>\n",
              "      <td>1.456900e+10</td>\n",
              "    </tr>\n",
              "    <tr>\n",
              "      <th>2010-06-30</th>\n",
              "      <td>6.248400e+10</td>\n",
              "      <td>1.876000e+10</td>\n",
              "    </tr>\n",
              "    <tr>\n",
              "      <th>2011-06-30</th>\n",
              "      <td>6.994300e+10</td>\n",
              "      <td>2.315000e+10</td>\n",
              "    </tr>\n",
              "    <tr>\n",
              "      <th>2014-06-30</th>\n",
              "      <td>8.683300e+10</td>\n",
              "      <td>2.207400e+10</td>\n",
              "    </tr>\n",
              "    <tr>\n",
              "      <th>2015-06-30</th>\n",
              "      <td>9.358000e+10</td>\n",
              "      <td>1.219300e+10</td>\n",
              "    </tr>\n",
              "    <tr>\n",
              "      <th>2016-06-30</th>\n",
              "      <td>9.115400e+10</td>\n",
              "      <td>2.053900e+10</td>\n",
              "    </tr>\n",
              "    <tr>\n",
              "      <th>2017-06-30</th>\n",
              "      <td>9.657100e+10</td>\n",
              "      <td>2.548900e+10</td>\n",
              "    </tr>\n",
              "  </tbody>\n",
              "</table>\n",
              "</div>"
            ],
            "text/plain": [
              "                 Revenue    Net Income\n",
              "Date                                  \n",
              "2009-06-30  5.843700e+10  1.456900e+10\n",
              "2010-06-30  6.248400e+10  1.876000e+10\n",
              "2011-06-30  6.994300e+10  2.315000e+10\n",
              "2014-06-30  8.683300e+10  2.207400e+10\n",
              "2015-06-30  9.358000e+10  1.219300e+10\n",
              "2016-06-30  9.115400e+10  2.053900e+10\n",
              "2017-06-30  9.657100e+10  2.548900e+10"
            ]
          },
          "metadata": {
            "tags": []
          },
          "execution_count": 36
        }
      ]
    },
    {
      "cell_type": "markdown",
      "metadata": {
        "id": "bhLgiRbjmQYM",
        "colab_type": "text"
      },
      "source": [
        "The missing dates are all in the weekends:"
      ]
    },
    {
      "cell_type": "code",
      "metadata": {
        "id": "6jccekHlmQYN",
        "colab_type": "code",
        "colab": {
          "base_uri": "https://localhost:8080/",
          "height": 34
        },
        "outputId": "4b5127fb-468a-4b75-efd9-91db89f7ef2a"
      },
      "source": [
        "# List of missing dates.\n",
        "dates_missing = ['2012-06-30', '2013-06-30', '2018-06-30']\n",
        "\n",
        "# Convert list of dates to Pandas index.\n",
        "index_missing = pd.DatetimeIndex(dates_missing)\n",
        "\n",
        "# Show the names of the days.\n",
        "index_missing.day_name()"
      ],
      "execution_count": null,
      "outputs": [
        {
          "output_type": "execute_result",
          "data": {
            "text/plain": [
              "Index(['Saturday', 'Sunday', 'Saturday'], dtype='object')"
            ]
          },
          "metadata": {
            "tags": []
          },
          "execution_count": 37
        }
      ]
    },
    {
      "cell_type": "markdown",
      "metadata": {
        "id": "LC3ld0_SmQYU",
        "colab_type": "text"
      },
      "source": [
        "The financial reports can easily have dates that fall in weekends, because their dates are usually just chosen as the last day in a given month, such as these:"
      ]
    },
    {
      "cell_type": "code",
      "metadata": {
        "id": "bzU1YDTMmQYU",
        "colab_type": "code",
        "colab": {
          "base_uri": "https://localhost:8080/",
          "height": 142
        },
        "outputId": "a2a9e382-5135-4e63-a683-0bfc2fde9b7a"
      },
      "source": [
        "df_income.loc['MSFT'].loc[index_missing]"
      ],
      "execution_count": null,
      "outputs": [
        {
          "output_type": "execute_result",
          "data": {
            "text/html": [
              "<div>\n",
              "<style scoped>\n",
              "    .dataframe tbody tr th:only-of-type {\n",
              "        vertical-align: middle;\n",
              "    }\n",
              "\n",
              "    .dataframe tbody tr th {\n",
              "        vertical-align: top;\n",
              "    }\n",
              "\n",
              "    .dataframe thead th {\n",
              "        text-align: right;\n",
              "    }\n",
              "</style>\n",
              "<table border=\"1\" class=\"dataframe\">\n",
              "  <thead>\n",
              "    <tr style=\"text-align: right;\">\n",
              "      <th></th>\n",
              "      <th>Revenue</th>\n",
              "      <th>Net Income</th>\n",
              "    </tr>\n",
              "  </thead>\n",
              "  <tbody>\n",
              "    <tr>\n",
              "      <th>2012-06-30</th>\n",
              "      <td>7.372300e+10</td>\n",
              "      <td>16978000000</td>\n",
              "    </tr>\n",
              "    <tr>\n",
              "      <th>2013-06-30</th>\n",
              "      <td>7.784900e+10</td>\n",
              "      <td>21863000000</td>\n",
              "    </tr>\n",
              "    <tr>\n",
              "      <th>2018-06-30</th>\n",
              "      <td>1.103600e+11</td>\n",
              "      <td>16571000000</td>\n",
              "    </tr>\n",
              "  </tbody>\n",
              "</table>\n",
              "</div>"
            ],
            "text/plain": [
              "                 Revenue   Net Income\n",
              "2012-06-30  7.372300e+10  16978000000\n",
              "2013-06-30  7.784900e+10  21863000000\n",
              "2018-06-30  1.103600e+11  16571000000"
            ]
          },
          "metadata": {
            "tags": []
          },
          "execution_count": 38
        }
      ]
    },
    {
      "cell_type": "markdown",
      "metadata": {
        "id": "tTGL7IDTmQYX",
        "colab_type": "text"
      },
      "source": [
        "But the share-prices only have dates for valid trading-days, not weekends and holidays:"
      ]
    },
    {
      "cell_type": "code",
      "metadata": {
        "id": "QWBzxx1kmQYY",
        "colab_type": "code",
        "colab": {
          "base_uri": "https://localhost:8080/",
          "height": 34
        },
        "outputId": "677ce145-5f45-4b1d-9ab7-8240e6720e75"
      },
      "source": [
        "try:\n",
        "    df_prices.loc['MSFT'].loc[index_missing]\n",
        "except Exception as e:\n",
        "    print(e)"
      ],
      "execution_count": null,
      "outputs": [
        {
          "output_type": "stream",
          "text": [
            "\"None of [DatetimeIndex(['2012-06-30', '2013-06-30', '2018-06-30'], dtype='datetime64[ns]', freq=None)] are in the [index]\"\n"
          ],
          "name": "stdout"
        }
      ]
    },
    {
      "cell_type": "markdown",
      "metadata": {
        "id": "okJ6kYA_mQYb",
        "colab_type": "text"
      },
      "source": [
        "The solution is to reindex with the union of the indices from the annual Income Statements and the Share-Prices, which retains all the original data-points from the Income Statements, even though their dates may not be present in the Share-Prices data:"
      ]
    },
    {
      "cell_type": "code",
      "metadata": {
        "id": "PAFrwFfsmQYb",
        "colab_type": "code",
        "colab": {
          "base_uri": "https://localhost:8080/",
          "height": 390
        },
        "outputId": "d362ace8-0d3a-4078-f265-ece566ffa7ef"
      },
      "source": [
        "# Index for the annual Income Statements.\n",
        "index_src = df_income.loc['MSFT'].index\n",
        "\n",
        "# Index for the valid trading-days of the Share-Prices.\n",
        "index_target = df_prices.loc['MSFT'].index\n",
        "\n",
        "# Union of the two indices.\n",
        "new_union_index = index_src.union(index_target)\n",
        "\n",
        "# Reindex the annual Income Statements using the union-index.\n",
        "# The new data-points are not filled so they are NaN.\n",
        "df_income2 = df_income.loc['MSFT'].reindex(index=new_union_index)\n",
        "\n",
        "# Remove NaN to show that the original data is preserved.\n",
        "df_income2.dropna()"
      ],
      "execution_count": null,
      "outputs": [
        {
          "output_type": "execute_result",
          "data": {
            "text/html": [
              "<div>\n",
              "<style scoped>\n",
              "    .dataframe tbody tr th:only-of-type {\n",
              "        vertical-align: middle;\n",
              "    }\n",
              "\n",
              "    .dataframe tbody tr th {\n",
              "        vertical-align: top;\n",
              "    }\n",
              "\n",
              "    .dataframe thead th {\n",
              "        text-align: right;\n",
              "    }\n",
              "</style>\n",
              "<table border=\"1\" class=\"dataframe\">\n",
              "  <thead>\n",
              "    <tr style=\"text-align: right;\">\n",
              "      <th></th>\n",
              "      <th>Revenue</th>\n",
              "      <th>Net Income</th>\n",
              "    </tr>\n",
              "  </thead>\n",
              "  <tbody>\n",
              "    <tr>\n",
              "      <th>2009-06-30</th>\n",
              "      <td>5.843700e+10</td>\n",
              "      <td>1.456900e+10</td>\n",
              "    </tr>\n",
              "    <tr>\n",
              "      <th>2010-06-30</th>\n",
              "      <td>6.248400e+10</td>\n",
              "      <td>1.876000e+10</td>\n",
              "    </tr>\n",
              "    <tr>\n",
              "      <th>2011-06-30</th>\n",
              "      <td>6.994300e+10</td>\n",
              "      <td>2.315000e+10</td>\n",
              "    </tr>\n",
              "    <tr>\n",
              "      <th>2012-06-30</th>\n",
              "      <td>7.372300e+10</td>\n",
              "      <td>1.697800e+10</td>\n",
              "    </tr>\n",
              "    <tr>\n",
              "      <th>2013-06-30</th>\n",
              "      <td>7.784900e+10</td>\n",
              "      <td>2.186300e+10</td>\n",
              "    </tr>\n",
              "    <tr>\n",
              "      <th>2014-06-30</th>\n",
              "      <td>8.683300e+10</td>\n",
              "      <td>2.207400e+10</td>\n",
              "    </tr>\n",
              "    <tr>\n",
              "      <th>2015-06-30</th>\n",
              "      <td>9.358000e+10</td>\n",
              "      <td>1.219300e+10</td>\n",
              "    </tr>\n",
              "    <tr>\n",
              "      <th>2016-06-30</th>\n",
              "      <td>9.115400e+10</td>\n",
              "      <td>2.053900e+10</td>\n",
              "    </tr>\n",
              "    <tr>\n",
              "      <th>2017-06-30</th>\n",
              "      <td>9.657100e+10</td>\n",
              "      <td>2.548900e+10</td>\n",
              "    </tr>\n",
              "    <tr>\n",
              "      <th>2018-06-30</th>\n",
              "      <td>1.103600e+11</td>\n",
              "      <td>1.657100e+10</td>\n",
              "    </tr>\n",
              "    <tr>\n",
              "      <th>2019-06-30</th>\n",
              "      <td>1.258430e+11</td>\n",
              "      <td>3.924000e+10</td>\n",
              "    </tr>\n",
              "  </tbody>\n",
              "</table>\n",
              "</div>"
            ],
            "text/plain": [
              "                 Revenue    Net Income\n",
              "2009-06-30  5.843700e+10  1.456900e+10\n",
              "2010-06-30  6.248400e+10  1.876000e+10\n",
              "2011-06-30  6.994300e+10  2.315000e+10\n",
              "2012-06-30  7.372300e+10  1.697800e+10\n",
              "2013-06-30  7.784900e+10  2.186300e+10\n",
              "2014-06-30  8.683300e+10  2.207400e+10\n",
              "2015-06-30  9.358000e+10  1.219300e+10\n",
              "2016-06-30  9.115400e+10  2.053900e+10\n",
              "2017-06-30  9.657100e+10  2.548900e+10\n",
              "2018-06-30  1.103600e+11  1.657100e+10\n",
              "2019-06-30  1.258430e+11  3.924000e+10"
            ]
          },
          "metadata": {
            "tags": []
          },
          "execution_count": 40
        }
      ]
    },
    {
      "cell_type": "markdown",
      "metadata": {
        "id": "V4ck_RHrmQYe",
        "colab_type": "text"
      },
      "source": [
        "The reindexing function also allows us to specify the filling-logic for the missing data-points. For example, we can use 'ffill' (forward-fill) to use the last-known values. Note that the annual data-points have been upsampled beyond their original end-point on 2019-06-30, all the way up to the end of the share-price data on 2019-11-05, exactly as we wanted."
      ]
    },
    {
      "cell_type": "code",
      "metadata": {
        "id": "IdwVM7hbmQYf",
        "colab_type": "code",
        "colab": {
          "base_uri": "https://localhost:8080/",
          "height": 419
        },
        "outputId": "0f1d95a3-4efc-4cf7-de49-10ba9b948233"
      },
      "source": [
        "df_income.loc['MSFT'].reindex(index=new_union_index,\n",
        "                              method='ffill').dropna()"
      ],
      "execution_count": null,
      "outputs": [
        {
          "output_type": "execute_result",
          "data": {
            "text/html": [
              "<div>\n",
              "<style scoped>\n",
              "    .dataframe tbody tr th:only-of-type {\n",
              "        vertical-align: middle;\n",
              "    }\n",
              "\n",
              "    .dataframe tbody tr th {\n",
              "        vertical-align: top;\n",
              "    }\n",
              "\n",
              "    .dataframe thead th {\n",
              "        text-align: right;\n",
              "    }\n",
              "</style>\n",
              "<table border=\"1\" class=\"dataframe\">\n",
              "  <thead>\n",
              "    <tr style=\"text-align: right;\">\n",
              "      <th></th>\n",
              "      <th>Revenue</th>\n",
              "      <th>Net Income</th>\n",
              "    </tr>\n",
              "  </thead>\n",
              "  <tbody>\n",
              "    <tr>\n",
              "      <th>2009-06-30</th>\n",
              "      <td>5.843700e+10</td>\n",
              "      <td>1.456900e+10</td>\n",
              "    </tr>\n",
              "    <tr>\n",
              "      <th>2009-07-01</th>\n",
              "      <td>5.843700e+10</td>\n",
              "      <td>1.456900e+10</td>\n",
              "    </tr>\n",
              "    <tr>\n",
              "      <th>2009-07-02</th>\n",
              "      <td>5.843700e+10</td>\n",
              "      <td>1.456900e+10</td>\n",
              "    </tr>\n",
              "    <tr>\n",
              "      <th>2009-07-06</th>\n",
              "      <td>5.843700e+10</td>\n",
              "      <td>1.456900e+10</td>\n",
              "    </tr>\n",
              "    <tr>\n",
              "      <th>2009-07-07</th>\n",
              "      <td>5.843700e+10</td>\n",
              "      <td>1.456900e+10</td>\n",
              "    </tr>\n",
              "    <tr>\n",
              "      <th>...</th>\n",
              "      <td>...</td>\n",
              "      <td>...</td>\n",
              "    </tr>\n",
              "    <tr>\n",
              "      <th>2019-06-25</th>\n",
              "      <td>1.103600e+11</td>\n",
              "      <td>1.657100e+10</td>\n",
              "    </tr>\n",
              "    <tr>\n",
              "      <th>2019-06-26</th>\n",
              "      <td>1.103600e+11</td>\n",
              "      <td>1.657100e+10</td>\n",
              "    </tr>\n",
              "    <tr>\n",
              "      <th>2019-06-27</th>\n",
              "      <td>1.103600e+11</td>\n",
              "      <td>1.657100e+10</td>\n",
              "    </tr>\n",
              "    <tr>\n",
              "      <th>2019-06-28</th>\n",
              "      <td>1.103600e+11</td>\n",
              "      <td>1.657100e+10</td>\n",
              "    </tr>\n",
              "    <tr>\n",
              "      <th>2019-06-30</th>\n",
              "      <td>1.258430e+11</td>\n",
              "      <td>3.924000e+10</td>\n",
              "    </tr>\n",
              "  </tbody>\n",
              "</table>\n",
              "<p>2521 rows × 2 columns</p>\n",
              "</div>"
            ],
            "text/plain": [
              "                 Revenue    Net Income\n",
              "2009-06-30  5.843700e+10  1.456900e+10\n",
              "2009-07-01  5.843700e+10  1.456900e+10\n",
              "2009-07-02  5.843700e+10  1.456900e+10\n",
              "2009-07-06  5.843700e+10  1.456900e+10\n",
              "2009-07-07  5.843700e+10  1.456900e+10\n",
              "...                  ...           ...\n",
              "2019-06-25  1.103600e+11  1.657100e+10\n",
              "2019-06-26  1.103600e+11  1.657100e+10\n",
              "2019-06-27  1.103600e+11  1.657100e+10\n",
              "2019-06-28  1.103600e+11  1.657100e+10\n",
              "2019-06-30  1.258430e+11  3.924000e+10\n",
              "\n",
              "[2521 rows x 2 columns]"
            ]
          },
          "metadata": {
            "tags": []
          },
          "execution_count": 41
        }
      ]
    },
    {
      "cell_type": "markdown",
      "metadata": {
        "id": "u3b5G8kGmQYi",
        "colab_type": "text"
      },
      "source": [
        "### Reindex on MultiIndex\n",
        "\n",
        "Unlike the `asfreq` and `resample` functions, we can actually perform a `reindex` operation directly on a DataFrame with MultiIndex. Here we use the union of the indices from the DataFrames with Income Statements and Share-Prices:"
      ]
    },
    {
      "cell_type": "code",
      "metadata": {
        "id": "t9Q-ODd1mQYj",
        "colab_type": "code",
        "colab": {
          "base_uri": "https://localhost:8080/",
          "height": 1000
        },
        "outputId": "6dd0abe7-c016-4396-fc8d-d9197e3b1e17"
      },
      "source": [
        "# Index for the annual Income Statements.\n",
        "index_src = df_income.index\n",
        "\n",
        "# Index for the valid trading-days of the share-prices.\n",
        "index_target = df_prices.index\n",
        "\n",
        "# Union of the two indices.\n",
        "new_union_index = index_src.union(index_target)\n",
        "\n",
        "# Set the names of the new index, this is not set by union().\n",
        "new_union_index.names = index_target.names\n",
        "\n",
        "# Reindex the annual Income Statements using the union-index.\n",
        "# The new data-points are not filled so they are NaN.\n",
        "df_income2 = df_income.reindex(index=new_union_index)\n",
        "\n",
        "# Remove NaN to show that the original data is preserved.\n",
        "df_income2.dropna()"
      ],
      "execution_count": null,
      "outputs": [
        {
          "output_type": "execute_result",
          "data": {
            "text/html": [
              "<div>\n",
              "<style scoped>\n",
              "    .dataframe tbody tr th:only-of-type {\n",
              "        vertical-align: middle;\n",
              "    }\n",
              "\n",
              "    .dataframe tbody tr th {\n",
              "        vertical-align: top;\n",
              "    }\n",
              "\n",
              "    .dataframe thead th {\n",
              "        text-align: right;\n",
              "    }\n",
              "</style>\n",
              "<table border=\"1\" class=\"dataframe\">\n",
              "  <thead>\n",
              "    <tr style=\"text-align: right;\">\n",
              "      <th></th>\n",
              "      <th></th>\n",
              "      <th>Revenue</th>\n",
              "      <th>Net Income</th>\n",
              "    </tr>\n",
              "    <tr>\n",
              "      <th>Ticker</th>\n",
              "      <th>Date</th>\n",
              "      <th></th>\n",
              "      <th></th>\n",
              "    </tr>\n",
              "  </thead>\n",
              "  <tbody>\n",
              "    <tr>\n",
              "      <th rowspan=\"11\" valign=\"top\">AAPL</th>\n",
              "      <th>2008-09-30</th>\n",
              "      <td>3.749100e+10</td>\n",
              "      <td>6.119000e+09</td>\n",
              "    </tr>\n",
              "    <tr>\n",
              "      <th>2009-09-30</th>\n",
              "      <td>4.290500e+10</td>\n",
              "      <td>8.235000e+09</td>\n",
              "    </tr>\n",
              "    <tr>\n",
              "      <th>2010-09-30</th>\n",
              "      <td>6.522500e+10</td>\n",
              "      <td>1.401300e+10</td>\n",
              "    </tr>\n",
              "    <tr>\n",
              "      <th>2011-09-30</th>\n",
              "      <td>1.082490e+11</td>\n",
              "      <td>2.592200e+10</td>\n",
              "    </tr>\n",
              "    <tr>\n",
              "      <th>2012-09-30</th>\n",
              "      <td>1.565080e+11</td>\n",
              "      <td>4.173300e+10</td>\n",
              "    </tr>\n",
              "    <tr>\n",
              "      <th>2013-09-30</th>\n",
              "      <td>1.709100e+11</td>\n",
              "      <td>3.703700e+10</td>\n",
              "    </tr>\n",
              "    <tr>\n",
              "      <th>2014-09-30</th>\n",
              "      <td>1.827950e+11</td>\n",
              "      <td>3.951000e+10</td>\n",
              "    </tr>\n",
              "    <tr>\n",
              "      <th>2015-09-30</th>\n",
              "      <td>2.337150e+11</td>\n",
              "      <td>5.339400e+10</td>\n",
              "    </tr>\n",
              "    <tr>\n",
              "      <th>2016-09-30</th>\n",
              "      <td>2.156390e+11</td>\n",
              "      <td>4.568700e+10</td>\n",
              "    </tr>\n",
              "    <tr>\n",
              "      <th>2017-09-30</th>\n",
              "      <td>2.292340e+11</td>\n",
              "      <td>4.835100e+10</td>\n",
              "    </tr>\n",
              "    <tr>\n",
              "      <th>2018-09-30</th>\n",
              "      <td>2.655950e+11</td>\n",
              "      <td>5.953100e+10</td>\n",
              "    </tr>\n",
              "    <tr>\n",
              "      <th rowspan=\"11\" valign=\"top\">AMZN</th>\n",
              "      <th>2008-12-31</th>\n",
              "      <td>1.916600e+10</td>\n",
              "      <td>6.450000e+08</td>\n",
              "    </tr>\n",
              "    <tr>\n",
              "      <th>2009-12-31</th>\n",
              "      <td>2.450900e+10</td>\n",
              "      <td>9.020000e+08</td>\n",
              "    </tr>\n",
              "    <tr>\n",
              "      <th>2010-12-31</th>\n",
              "      <td>3.420400e+10</td>\n",
              "      <td>1.152000e+09</td>\n",
              "    </tr>\n",
              "    <tr>\n",
              "      <th>2011-12-31</th>\n",
              "      <td>4.807700e+10</td>\n",
              "      <td>6.310000e+08</td>\n",
              "    </tr>\n",
              "    <tr>\n",
              "      <th>2012-12-31</th>\n",
              "      <td>6.109300e+10</td>\n",
              "      <td>-3.900000e+07</td>\n",
              "    </tr>\n",
              "    <tr>\n",
              "      <th>2013-12-31</th>\n",
              "      <td>7.445200e+10</td>\n",
              "      <td>2.740000e+08</td>\n",
              "    </tr>\n",
              "    <tr>\n",
              "      <th>2014-12-31</th>\n",
              "      <td>8.898800e+10</td>\n",
              "      <td>-2.410000e+08</td>\n",
              "    </tr>\n",
              "    <tr>\n",
              "      <th>2015-12-31</th>\n",
              "      <td>1.070060e+11</td>\n",
              "      <td>5.960000e+08</td>\n",
              "    </tr>\n",
              "    <tr>\n",
              "      <th>2016-12-31</th>\n",
              "      <td>1.359870e+11</td>\n",
              "      <td>2.371000e+09</td>\n",
              "    </tr>\n",
              "    <tr>\n",
              "      <th>2017-12-31</th>\n",
              "      <td>1.778660e+11</td>\n",
              "      <td>3.033000e+09</td>\n",
              "    </tr>\n",
              "    <tr>\n",
              "      <th>2018-12-31</th>\n",
              "      <td>2.328870e+11</td>\n",
              "      <td>1.007300e+10</td>\n",
              "    </tr>\n",
              "    <tr>\n",
              "      <th rowspan=\"11\" valign=\"top\">MSFT</th>\n",
              "      <th>2009-06-30</th>\n",
              "      <td>5.843700e+10</td>\n",
              "      <td>1.456900e+10</td>\n",
              "    </tr>\n",
              "    <tr>\n",
              "      <th>2010-06-30</th>\n",
              "      <td>6.248400e+10</td>\n",
              "      <td>1.876000e+10</td>\n",
              "    </tr>\n",
              "    <tr>\n",
              "      <th>2011-06-30</th>\n",
              "      <td>6.994300e+10</td>\n",
              "      <td>2.315000e+10</td>\n",
              "    </tr>\n",
              "    <tr>\n",
              "      <th>2012-06-30</th>\n",
              "      <td>7.372300e+10</td>\n",
              "      <td>1.697800e+10</td>\n",
              "    </tr>\n",
              "    <tr>\n",
              "      <th>2013-06-30</th>\n",
              "      <td>7.784900e+10</td>\n",
              "      <td>2.186300e+10</td>\n",
              "    </tr>\n",
              "    <tr>\n",
              "      <th>2014-06-30</th>\n",
              "      <td>8.683300e+10</td>\n",
              "      <td>2.207400e+10</td>\n",
              "    </tr>\n",
              "    <tr>\n",
              "      <th>2015-06-30</th>\n",
              "      <td>9.358000e+10</td>\n",
              "      <td>1.219300e+10</td>\n",
              "    </tr>\n",
              "    <tr>\n",
              "      <th>2016-06-30</th>\n",
              "      <td>9.115400e+10</td>\n",
              "      <td>2.053900e+10</td>\n",
              "    </tr>\n",
              "    <tr>\n",
              "      <th>2017-06-30</th>\n",
              "      <td>9.657100e+10</td>\n",
              "      <td>2.548900e+10</td>\n",
              "    </tr>\n",
              "    <tr>\n",
              "      <th>2018-06-30</th>\n",
              "      <td>1.103600e+11</td>\n",
              "      <td>1.657100e+10</td>\n",
              "    </tr>\n",
              "    <tr>\n",
              "      <th>2019-06-30</th>\n",
              "      <td>1.258430e+11</td>\n",
              "      <td>3.924000e+10</td>\n",
              "    </tr>\n",
              "  </tbody>\n",
              "</table>\n",
              "</div>"
            ],
            "text/plain": [
              "                        Revenue    Net Income\n",
              "Ticker Date                                  \n",
              "AAPL   2008-09-30  3.749100e+10  6.119000e+09\n",
              "       2009-09-30  4.290500e+10  8.235000e+09\n",
              "       2010-09-30  6.522500e+10  1.401300e+10\n",
              "       2011-09-30  1.082490e+11  2.592200e+10\n",
              "       2012-09-30  1.565080e+11  4.173300e+10\n",
              "       2013-09-30  1.709100e+11  3.703700e+10\n",
              "       2014-09-30  1.827950e+11  3.951000e+10\n",
              "       2015-09-30  2.337150e+11  5.339400e+10\n",
              "       2016-09-30  2.156390e+11  4.568700e+10\n",
              "       2017-09-30  2.292340e+11  4.835100e+10\n",
              "       2018-09-30  2.655950e+11  5.953100e+10\n",
              "AMZN   2008-12-31  1.916600e+10  6.450000e+08\n",
              "       2009-12-31  2.450900e+10  9.020000e+08\n",
              "       2010-12-31  3.420400e+10  1.152000e+09\n",
              "       2011-12-31  4.807700e+10  6.310000e+08\n",
              "       2012-12-31  6.109300e+10 -3.900000e+07\n",
              "       2013-12-31  7.445200e+10  2.740000e+08\n",
              "       2014-12-31  8.898800e+10 -2.410000e+08\n",
              "       2015-12-31  1.070060e+11  5.960000e+08\n",
              "       2016-12-31  1.359870e+11  2.371000e+09\n",
              "       2017-12-31  1.778660e+11  3.033000e+09\n",
              "       2018-12-31  2.328870e+11  1.007300e+10\n",
              "MSFT   2009-06-30  5.843700e+10  1.456900e+10\n",
              "       2010-06-30  6.248400e+10  1.876000e+10\n",
              "       2011-06-30  6.994300e+10  2.315000e+10\n",
              "       2012-06-30  7.372300e+10  1.697800e+10\n",
              "       2013-06-30  7.784900e+10  2.186300e+10\n",
              "       2014-06-30  8.683300e+10  2.207400e+10\n",
              "       2015-06-30  9.358000e+10  1.219300e+10\n",
              "       2016-06-30  9.115400e+10  2.053900e+10\n",
              "       2017-06-30  9.657100e+10  2.548900e+10\n",
              "       2018-06-30  1.103600e+11  1.657100e+10\n",
              "       2019-06-30  1.258430e+11  3.924000e+10"
            ]
          },
          "metadata": {
            "tags": []
          },
          "execution_count": 42
        }
      ]
    },
    {
      "cell_type": "markdown",
      "metadata": {
        "id": "oJ_zSxt8mQYl",
        "colab_type": "text"
      },
      "source": [
        "But if we use forward-fill on the missing data-points and plot the result, something has gone very wrong, because the operation does not respect the grouping between tickers:"
      ]
    },
    {
      "cell_type": "code",
      "metadata": {
        "id": "Hx0kHBXlmQYm",
        "colab_type": "code",
        "colab": {
          "base_uri": "https://localhost:8080/",
          "height": 307
        },
        "outputId": "4ee40f61-0c99-49cb-de8e-11b0ffbbcf8e"
      },
      "source": [
        "# Reindex and forward-fill the annual Income Statements.\n",
        "df_income2 = df_income.reindex(index=new_union_index,\n",
        "                               method='ffill').dropna()\n",
        "\n",
        "# Plot.\n",
        "sns.lineplot(x=DATE, y=REVENUE, hue=TICKER,\n",
        "             data=df_income2.reset_index())"
      ],
      "execution_count": null,
      "outputs": [
        {
          "output_type": "execute_result",
          "data": {
            "text/plain": [
              "<matplotlib.axes._subplots.AxesSubplot at 0x7fafdce13d30>"
            ]
          },
          "metadata": {
            "tags": []
          },
          "execution_count": 43
        },
        {
          "output_type": "display_data",
          "data": {
            "image/png": "[encoded data removed]",
            "text/plain": [
              "<Figure size 432x288 with 1 Axes>"
            ]
          },
          "metadata": {
            "tags": []
          }
        }
      ]
    },
    {
      "cell_type": "markdown",
      "metadata": {
        "id": "xpkArskimQYp",
        "colab_type": "text"
      },
      "source": [
        "Pandas' `reindex` function provides an argument `level` which supports DataFrames with a MultiIndex, but it is unclear from the brief documentation how it is supposed to work, and regardless of whether we use `level=TICKER` or `level=DATE` it raises the same exception:"
      ]
    },
    {
      "cell_type": "code",
      "metadata": {
        "id": "_u86ayHHmQYq",
        "colab_type": "code",
        "colab": {
          "base_uri": "https://localhost:8080/",
          "height": 34
        },
        "outputId": "ee682d22-5ab7-44b2-da2c-81a7e2a710dd"
      },
      "source": [
        "try:\n",
        "    df_income2 = df_income.reindex(index=new_union_index,\n",
        "                                   method='ffill', level=TICKER)\n",
        "except Exception as e:\n",
        "    print(e)"
      ],
      "execution_count": null,
      "outputs": [
        {
          "output_type": "stream",
          "text": [
            "Fill method not supported if level passed\n"
          ],
          "name": "stdout"
        }
      ]
    },
    {
      "cell_type": "markdown",
      "metadata": {
        "id": "kT0rVj5PmQYt",
        "colab_type": "text"
      },
      "source": [
        "We have to manually use the `groupby` function on the reindexed DataFrame to group them by Tickers, and then fill the missing NaN values on each of those sub-groups:"
      ]
    },
    {
      "cell_type": "code",
      "metadata": {
        "id": "HNjkdA3DmQYu",
        "colab_type": "code",
        "colab": {
          "base_uri": "https://localhost:8080/",
          "height": 307
        },
        "outputId": "2981a6db-a145-4550-efff-20dd73cfc1fa"
      },
      "source": [
        "# Reindex the annual Income Statements using the union-index.\n",
        "# The new data-points are not filled so they are NaN.\n",
        "df_income2 = df_income.reindex(index=new_union_index)\n",
        "\n",
        "# Split the DataFrame into sub-groups and apply the ffill()\n",
        "# function on each of those sub-groups, and then glue the\n",
        "# results back together into a single DataFrame.\n",
        "df_income3 = df_income2.groupby(TICKER).ffill()\n",
        "\n",
        "# Remove empty rows.\n",
        "df_income3.dropna(inplace=True)\n",
        "\n",
        "# Plot.\n",
        "sns.lineplot(x=DATE, y=REVENUE, hue=TICKER,\n",
        "             data=df_income3.reset_index())"
      ],
      "execution_count": null,
      "outputs": [
        {
          "output_type": "execute_result",
          "data": {
            "text/plain": [
              "<matplotlib.axes._subplots.AxesSubplot at 0x7fafdce18cf8>"
            ]
          },
          "metadata": {
            "tags": []
          },
          "execution_count": 45
        },
        {
          "output_type": "display_data",
          "data": {
            "image/png": "[encoded data removed]",
            "text/plain": [
              "<Figure size 432x288 with 1 Axes>"
            ]
          },
          "metadata": {
            "tags": []
          }
        }
      ]
    },
    {
      "cell_type": "markdown",
      "metadata": {
        "id": "DBEqLcEDmQY0",
        "colab_type": "text"
      },
      "source": [
        "### Reindex Helper-Function\n",
        "\n",
        "The above procedure for reindexing DataFrames using Pandas' native functions, is quite complicated and confusing. We have therefore provided a helper-function in the simfin package.\n",
        "\n",
        "For example, we can reindex the annual Income Statements to match the index of the daily share-prices using forward-fill of missing values. Note how the resulting DataFrame has values for the last dates of the target DataFrame with share-prices, exactly as we want."
      ]
    },
    {
      "cell_type": "code",
      "metadata": {
        "id": "w1hcbfhsmQY0",
        "colab_type": "code",
        "colab": {
          "base_uri": "https://localhost:8080/",
          "height": 450
        },
        "outputId": "df7b6a1f-3c6b-430a-c943-eccd6bb8d074"
      },
      "source": [
        "df_daily = sf.reindex(df_src=df_income, df_target=df_prices,\n",
        "                      group_index=TICKER, method='ffill').dropna()\n",
        "df_daily"
      ],
      "execution_count": null,
      "outputs": [
        {
          "output_type": "execute_result",
          "data": {
            "text/html": [
              "<div>\n",
              "<style scoped>\n",
              "    .dataframe tbody tr th:only-of-type {\n",
              "        vertical-align: middle;\n",
              "    }\n",
              "\n",
              "    .dataframe tbody tr th {\n",
              "        vertical-align: top;\n",
              "    }\n",
              "\n",
              "    .dataframe thead th {\n",
              "        text-align: right;\n",
              "    }\n",
              "</style>\n",
              "<table border=\"1\" class=\"dataframe\">\n",
              "  <thead>\n",
              "    <tr style=\"text-align: right;\">\n",
              "      <th></th>\n",
              "      <th></th>\n",
              "      <th>Revenue</th>\n",
              "      <th>Net Income</th>\n",
              "    </tr>\n",
              "    <tr>\n",
              "      <th>Ticker</th>\n",
              "      <th>Date</th>\n",
              "      <th></th>\n",
              "      <th></th>\n",
              "    </tr>\n",
              "  </thead>\n",
              "  <tbody>\n",
              "    <tr>\n",
              "      <th rowspan=\"5\" valign=\"top\">AAPL</th>\n",
              "      <th>2008-09-30</th>\n",
              "      <td>3.749100e+10</td>\n",
              "      <td>6.119000e+09</td>\n",
              "    </tr>\n",
              "    <tr>\n",
              "      <th>2008-10-01</th>\n",
              "      <td>3.749100e+10</td>\n",
              "      <td>6.119000e+09</td>\n",
              "    </tr>\n",
              "    <tr>\n",
              "      <th>2008-10-02</th>\n",
              "      <td>3.749100e+10</td>\n",
              "      <td>6.119000e+09</td>\n",
              "    </tr>\n",
              "    <tr>\n",
              "      <th>2008-10-03</th>\n",
              "      <td>3.749100e+10</td>\n",
              "      <td>6.119000e+09</td>\n",
              "    </tr>\n",
              "    <tr>\n",
              "      <th>2008-10-06</th>\n",
              "      <td>3.749100e+10</td>\n",
              "      <td>6.119000e+09</td>\n",
              "    </tr>\n",
              "    <tr>\n",
              "      <th>...</th>\n",
              "      <th>...</th>\n",
              "      <td>...</td>\n",
              "      <td>...</td>\n",
              "    </tr>\n",
              "    <tr>\n",
              "      <th rowspan=\"5\" valign=\"top\">MSFT</th>\n",
              "      <th>2019-06-24</th>\n",
              "      <td>1.103600e+11</td>\n",
              "      <td>1.657100e+10</td>\n",
              "    </tr>\n",
              "    <tr>\n",
              "      <th>2019-06-25</th>\n",
              "      <td>1.103600e+11</td>\n",
              "      <td>1.657100e+10</td>\n",
              "    </tr>\n",
              "    <tr>\n",
              "      <th>2019-06-26</th>\n",
              "      <td>1.103600e+11</td>\n",
              "      <td>1.657100e+10</td>\n",
              "    </tr>\n",
              "    <tr>\n",
              "      <th>2019-06-27</th>\n",
              "      <td>1.103600e+11</td>\n",
              "      <td>1.657100e+10</td>\n",
              "    </tr>\n",
              "    <tr>\n",
              "      <th>2019-06-28</th>\n",
              "      <td>1.103600e+11</td>\n",
              "      <td>1.657100e+10</td>\n",
              "    </tr>\n",
              "  </tbody>\n",
              "</table>\n",
              "<p>7863 rows × 2 columns</p>\n",
              "</div>"
            ],
            "text/plain": [
              "                        Revenue    Net Income\n",
              "Ticker Date                                  \n",
              "AAPL   2008-09-30  3.749100e+10  6.119000e+09\n",
              "       2008-10-01  3.749100e+10  6.119000e+09\n",
              "       2008-10-02  3.749100e+10  6.119000e+09\n",
              "       2008-10-03  3.749100e+10  6.119000e+09\n",
              "       2008-10-06  3.749100e+10  6.119000e+09\n",
              "...                         ...           ...\n",
              "MSFT   2019-06-24  1.103600e+11  1.657100e+10\n",
              "       2019-06-25  1.103600e+11  1.657100e+10\n",
              "       2019-06-26  1.103600e+11  1.657100e+10\n",
              "       2019-06-27  1.103600e+11  1.657100e+10\n",
              "       2019-06-28  1.103600e+11  1.657100e+10\n",
              "\n",
              "[7863 rows x 2 columns]"
            ]
          },
          "metadata": {
            "tags": []
          },
          "execution_count": 46
        }
      ]
    },
    {
      "cell_type": "markdown",
      "metadata": {
        "id": "g-Ca_ZlumQY4",
        "colab_type": "text"
      },
      "source": [
        "We can also plot the reindexed DataFrame. Because we have used 'forward-fill' of the missing values, it looks like \"staircase\" patterns:"
      ]
    },
    {
      "cell_type": "code",
      "metadata": {
        "id": "rsyX_QwJmQY6",
        "colab_type": "code",
        "colab": {
          "base_uri": "https://localhost:8080/",
          "height": 307
        },
        "outputId": "387ebe22-6d71-40d4-8896-8417323e0d23"
      },
      "source": [
        "sns.lineplot(x=DATE, y=REVENUE, hue=TICKER,\n",
        "             data=df_daily.reset_index())"
      ],
      "execution_count": null,
      "outputs": [
        {
          "output_type": "execute_result",
          "data": {
            "text/plain": [
              "<matplotlib.axes._subplots.AxesSubplot at 0x7fafdc5ed6d8>"
            ]
          },
          "metadata": {
            "tags": []
          },
          "execution_count": 47
        },
        {
          "output_type": "display_data",
          "data": {
            "image/png": "[encoded data removed]",
            "text/plain": [
              "<Figure size 432x288 with 1 Axes>"
            ]
          },
          "metadata": {
            "tags": []
          }
        }
      ]
    },
    {
      "cell_type": "markdown",
      "metadata": {
        "id": "-tF4qwiCmQY_",
        "colab_type": "text"
      },
      "source": [
        "Here is an example of reindexing with linear interpolation. As noted further above, this is a form of cheating called \"look-ahead bias\" because we are interpolating between last-known and future values to fill in the missing values. This should be avoided when making trading-strategies, but may still be useful for some forms of analysis.\n",
        "\n",
        "Note that the final segment after the last-known values just uses forward-fill."
      ]
    },
    {
      "cell_type": "code",
      "metadata": {
        "id": "nxL-e6VymQY_",
        "colab_type": "code",
        "colab": {
          "base_uri": "https://localhost:8080/",
          "height": 307
        },
        "outputId": "cc16278b-48f7-4f92-f02a-0b20355a9837"
      },
      "source": [
        "# Reindex using linear interpolation.\n",
        "df_daily = sf.reindex(df_src=df_income, df_target=df_prices,\n",
        "                      group_index=TICKER, method='linear').dropna()\n",
        "\n",
        "# Plot.\n",
        "sns.lineplot(x=DATE, y=REVENUE, hue=TICKER,\n",
        "             data=df_daily.reset_index())"
      ],
      "execution_count": null,
      "outputs": [
        {
          "output_type": "execute_result",
          "data": {
            "text/plain": [
              "<matplotlib.axes._subplots.AxesSubplot at 0x7fafdac122e8>"
            ]
          },
          "metadata": {
            "tags": []
          },
          "execution_count": 48
        },
        {
          "output_type": "display_data",
          "data": {
            "image/png": "[encoded data removed]",
            "text/plain": [
              "<Figure size 432x288 with 1 Axes>"
            ]
          },
          "metadata": {
            "tags": []
          }
        }
      ]
    },
    {
      "cell_type": "markdown",
      "metadata": {
        "id": "sFlyfMW0mQZE",
        "colab_type": "text"
      },
      "source": [
        "We can also use a custom filling-method with the reindexing, e.g. quadratic interpolation.\n",
        "\n",
        "Note that the final segment beyond the last-known values is missing when using this filling-method, unlike the linear interpolation above, which just used forward-fill for the final segment."
      ]
    },
    {
      "cell_type": "code",
      "metadata": {
        "id": "2J-kC-b3mQZF",
        "colab_type": "code",
        "colab": {
          "base_uri": "https://localhost:8080/",
          "height": 307
        },
        "outputId": "e19adae9-ec50-4845-97c4-f2bdb42c60d6"
      },
      "source": [
        "# Custom method for the reindexing.\n",
        "method = lambda x: x.interpolate(method='quadratic')\n",
        "\n",
        "# Do the resampling using the custom method.\n",
        "df_daily = sf.reindex(df_src=df_income, df_target=df_prices,\n",
        "                      group_index=TICKER, method=method).dropna()\n",
        "\n",
        "# Plot.\n",
        "sns.lineplot(x=DATE, y=REVENUE, hue=TICKER,\n",
        "             data=df_daily.reset_index())"
      ],
      "execution_count": null,
      "outputs": [
        {
          "output_type": "execute_result",
          "data": {
            "text/plain": [
              "<matplotlib.axes._subplots.AxesSubplot at 0x7fafdac07c50>"
            ]
          },
          "metadata": {
            "tags": []
          },
          "execution_count": 49
        },
        {
          "output_type": "display_data",
          "data": {
            "image/png": "[encoded data removed]",
            "text/plain": [
              "<Figure size 432x288 with 1 Axes>"
            ]
          },
          "metadata": {
            "tags": []
          }
        }
      ]
    },
    {
      "cell_type": "markdown",
      "metadata": {
        "id": "mXjs5800mQZH",
        "colab_type": "text"
      },
      "source": [
        "### Reindex Helper-Function Arguments\n",
        "\n",
        "By default the helper-function `sf.resample` has two arguments that are set to `union=True` and `only_target_index=True`. For upsampling quarterly or annual financial data so it can be used with daily share-prices, you would normally just leave them to their default `True` values. But sometimes you will need to change them, so they require some explanation.\n",
        "\n",
        "The first argument `union` is a boolean that determines whether the reindexing should use the union of the indices from `df_src` and `df_target`, or only use the index for `df_target`. As discussed further above, reindexing drops the data-points from `df_src` when their dates do not exist in `df_target`, which can create \"holes\" in the data, and that is why it is sometimes necessary to reindex with the union of the two indices.\n",
        "\n",
        "The second argument `only_target_index` is a boolean that determines whether to perform a second reindexing operation. This is only relevant if we have used the union of the indices from `df_src` and `df_target`, because the resulting DataFrame might have rows that do not exist in `df_target`. By setting `only_target_index=True` we ensure the resulting DataFrame matches the index of `df_target`.\n",
        "\n",
        "Normally you would leave these arguments to their default values, so you can ignore them altogether. But sometimes you need different behaviour.\n",
        "\n",
        "For example, let us say that we want to reindex the annual Income Statements, so that we have both the original data and a new data-point for the same date as the latest share-prices. This can be achieved by performing the reindexing with `union=True` so we use the indices of both the DataFrames, and `only_target_index=False` so we keep the rows from `df_income` whose dates were not in `df_prices_latest`."
      ]
    },
    {
      "cell_type": "code",
      "metadata": {
        "id": "ygVniYVgmQZI",
        "colab_type": "code",
        "colab": {
          "base_uri": "https://localhost:8080/",
          "height": 359
        },
        "outputId": "f3ab9ffb-93f1-4523-a9f2-e7878415424a"
      },
      "source": [
        "# Reindex the annual Income Statements with latest Share-Prices.\n",
        "# Keep all the rows from the original DataFrame as well.\n",
        "df_latest = sf.reindex(df_src=df_income,\n",
        "                       df_target=df_prices_latest,\n",
        "                       union=True, only_target_index=False,\n",
        "                       method='ffill')\n",
        "\n",
        "# Show the last 3 rows for each Ticker.\n",
        "df_latest.groupby(TICKER).tail(3)"
      ],
      "execution_count": null,
      "outputs": [
        {
          "output_type": "execute_result",
          "data": {
            "text/html": [
              "<div>\n",
              "<style scoped>\n",
              "    .dataframe tbody tr th:only-of-type {\n",
              "        vertical-align: middle;\n",
              "    }\n",
              "\n",
              "    .dataframe tbody tr th {\n",
              "        vertical-align: top;\n",
              "    }\n",
              "\n",
              "    .dataframe thead th {\n",
              "        text-align: right;\n",
              "    }\n",
              "</style>\n",
              "<table border=\"1\" class=\"dataframe\">\n",
              "  <thead>\n",
              "    <tr style=\"text-align: right;\">\n",
              "      <th></th>\n",
              "      <th></th>\n",
              "      <th>Revenue</th>\n",
              "      <th>Net Income</th>\n",
              "    </tr>\n",
              "    <tr>\n",
              "      <th>Ticker</th>\n",
              "      <th>Date</th>\n",
              "      <th></th>\n",
              "      <th></th>\n",
              "    </tr>\n",
              "  </thead>\n",
              "  <tbody>\n",
              "    <tr>\n",
              "      <th rowspan=\"3\" valign=\"top\">AAPL</th>\n",
              "      <th>2017-09-30</th>\n",
              "      <td>2.292340e+11</td>\n",
              "      <td>4.835100e+10</td>\n",
              "    </tr>\n",
              "    <tr>\n",
              "      <th>2018-09-30</th>\n",
              "      <td>2.655950e+11</td>\n",
              "      <td>5.953100e+10</td>\n",
              "    </tr>\n",
              "    <tr>\n",
              "      <th>2020-06-29</th>\n",
              "      <td>2.655950e+11</td>\n",
              "      <td>5.953100e+10</td>\n",
              "    </tr>\n",
              "    <tr>\n",
              "      <th rowspan=\"3\" valign=\"top\">AMZN</th>\n",
              "      <th>2017-12-31</th>\n",
              "      <td>1.778660e+11</td>\n",
              "      <td>3.033000e+09</td>\n",
              "    </tr>\n",
              "    <tr>\n",
              "      <th>2018-12-31</th>\n",
              "      <td>2.328870e+11</td>\n",
              "      <td>1.007300e+10</td>\n",
              "    </tr>\n",
              "    <tr>\n",
              "      <th>2020-06-29</th>\n",
              "      <td>2.328870e+11</td>\n",
              "      <td>1.007300e+10</td>\n",
              "    </tr>\n",
              "    <tr>\n",
              "      <th rowspan=\"3\" valign=\"top\">MSFT</th>\n",
              "      <th>2018-06-30</th>\n",
              "      <td>1.103600e+11</td>\n",
              "      <td>1.657100e+10</td>\n",
              "    </tr>\n",
              "    <tr>\n",
              "      <th>2019-06-30</th>\n",
              "      <td>1.258430e+11</td>\n",
              "      <td>3.924000e+10</td>\n",
              "    </tr>\n",
              "    <tr>\n",
              "      <th>2020-06-29</th>\n",
              "      <td>1.258430e+11</td>\n",
              "      <td>3.924000e+10</td>\n",
              "    </tr>\n",
              "  </tbody>\n",
              "</table>\n",
              "</div>"
            ],
            "text/plain": [
              "                        Revenue    Net Income\n",
              "Ticker Date                                  \n",
              "AAPL   2017-09-30  2.292340e+11  4.835100e+10\n",
              "       2018-09-30  2.655950e+11  5.953100e+10\n",
              "       2020-06-29  2.655950e+11  5.953100e+10\n",
              "AMZN   2017-12-31  1.778660e+11  3.033000e+09\n",
              "       2018-12-31  2.328870e+11  1.007300e+10\n",
              "       2020-06-29  2.328870e+11  1.007300e+10\n",
              "MSFT   2018-06-30  1.103600e+11  1.657100e+10\n",
              "       2019-06-30  1.258430e+11  3.924000e+10\n",
              "       2020-06-29  1.258430e+11  3.924000e+10"
            ]
          },
          "metadata": {
            "tags": []
          },
          "execution_count": 50
        }
      ]
    },
    {
      "cell_type": "markdown",
      "metadata": {
        "id": "CDRYChL1mQZK",
        "colab_type": "text"
      },
      "source": [
        "## License (MIT)\n",
        "\n",
        "This is published under the\n",
        "[MIT License](https://github.com/simfin/simfin-tutorials/blob/master/LICENSE.txt)\n",
        "which allows very broad use for both academic and commercial purposes.\n",
        "\n",
        "You are very welcome to modify and use this source-code in your own project. Please keep a link to the [original repository](https://github.com/simfin/simfin-tutorials).\n"
      ]
    }
  ]
}